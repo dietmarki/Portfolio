{
 "cells": [
  {
   "cell_type": "code",
   "execution_count": 20,
   "id": "4f566dc5",
   "metadata": {},
   "outputs": [],
   "source": [
    "\n",
    "# laden/bereinigen der daten\n",
    "import numpy as np\n",
    "import pandas as pd\n"
   ]
  },
  {
   "cell_type": "code",
   "execution_count": 21,
   "id": "46afe717",
   "metadata": {},
   "outputs": [],
   "source": [
    "\n",
    "trump = pd.read_csv(\"realdonaldtrump.csv\")\n",
    "elon = pd.read_csv(\"elonmusk_tweets.csv\")\n"
   ]
  },
  {
   "cell_type": "code",
   "execution_count": 22,
   "id": "61282506",
   "metadata": {},
   "outputs": [
    {
     "data": {
      "text/html": [
       "<div>\n",
       "<style scoped>\n",
       "    .dataframe tbody tr th:only-of-type {\n",
       "        vertical-align: middle;\n",
       "    }\n",
       "\n",
       "    .dataframe tbody tr th {\n",
       "        vertical-align: top;\n",
       "    }\n",
       "\n",
       "    .dataframe thead th {\n",
       "        text-align: right;\n",
       "    }\n",
       "</style>\n",
       "<table border=\"1\" class=\"dataframe\">\n",
       "  <thead>\n",
       "    <tr style=\"text-align: right;\">\n",
       "      <th></th>\n",
       "      <th>id</th>\n",
       "      <th>link</th>\n",
       "      <th>content</th>\n",
       "      <th>date</th>\n",
       "      <th>retweets</th>\n",
       "      <th>favorites</th>\n",
       "      <th>mentions</th>\n",
       "      <th>hashtags</th>\n",
       "    </tr>\n",
       "  </thead>\n",
       "  <tbody>\n",
       "    <tr>\n",
       "      <th>0</th>\n",
       "      <td>1698308935</td>\n",
       "      <td>https://twitter.com/realDonaldTrump/status/169...</td>\n",
       "      <td>Be sure to tune in and watch Donald Trump on L...</td>\n",
       "      <td>2009-05-04 13:54:25</td>\n",
       "      <td>510</td>\n",
       "      <td>917</td>\n",
       "      <td>NaN</td>\n",
       "      <td>NaN</td>\n",
       "    </tr>\n",
       "    <tr>\n",
       "      <th>1</th>\n",
       "      <td>1701461182</td>\n",
       "      <td>https://twitter.com/realDonaldTrump/status/170...</td>\n",
       "      <td>Donald Trump will be appearing on The View tom...</td>\n",
       "      <td>2009-05-04 20:00:10</td>\n",
       "      <td>34</td>\n",
       "      <td>267</td>\n",
       "      <td>NaN</td>\n",
       "      <td>NaN</td>\n",
       "    </tr>\n",
       "    <tr>\n",
       "      <th>2</th>\n",
       "      <td>1737479987</td>\n",
       "      <td>https://twitter.com/realDonaldTrump/status/173...</td>\n",
       "      <td>Donald Trump reads Top Ten Financial Tips on L...</td>\n",
       "      <td>2009-05-08 08:38:08</td>\n",
       "      <td>13</td>\n",
       "      <td>19</td>\n",
       "      <td>NaN</td>\n",
       "      <td>NaN</td>\n",
       "    </tr>\n",
       "    <tr>\n",
       "      <th>3</th>\n",
       "      <td>1741160716</td>\n",
       "      <td>https://twitter.com/realDonaldTrump/status/174...</td>\n",
       "      <td>New Blog Post: Celebrity Apprentice Finale and...</td>\n",
       "      <td>2009-05-08 15:40:15</td>\n",
       "      <td>11</td>\n",
       "      <td>26</td>\n",
       "      <td>NaN</td>\n",
       "      <td>NaN</td>\n",
       "    </tr>\n",
       "    <tr>\n",
       "      <th>4</th>\n",
       "      <td>1773561338</td>\n",
       "      <td>https://twitter.com/realDonaldTrump/status/177...</td>\n",
       "      <td>\"My persona will never be that of a wallflower...</td>\n",
       "      <td>2009-05-12 09:07:28</td>\n",
       "      <td>1375</td>\n",
       "      <td>1945</td>\n",
       "      <td>NaN</td>\n",
       "      <td>NaN</td>\n",
       "    </tr>\n",
       "  </tbody>\n",
       "</table>\n",
       "</div>"
      ],
      "text/plain": [
       "           id                                               link  \\\n",
       "0  1698308935  https://twitter.com/realDonaldTrump/status/169...   \n",
       "1  1701461182  https://twitter.com/realDonaldTrump/status/170...   \n",
       "2  1737479987  https://twitter.com/realDonaldTrump/status/173...   \n",
       "3  1741160716  https://twitter.com/realDonaldTrump/status/174...   \n",
       "4  1773561338  https://twitter.com/realDonaldTrump/status/177...   \n",
       "\n",
       "                                             content                 date  \\\n",
       "0  Be sure to tune in and watch Donald Trump on L...  2009-05-04 13:54:25   \n",
       "1  Donald Trump will be appearing on The View tom...  2009-05-04 20:00:10   \n",
       "2  Donald Trump reads Top Ten Financial Tips on L...  2009-05-08 08:38:08   \n",
       "3  New Blog Post: Celebrity Apprentice Finale and...  2009-05-08 15:40:15   \n",
       "4  \"My persona will never be that of a wallflower...  2009-05-12 09:07:28   \n",
       "\n",
       "   retweets  favorites mentions hashtags  \n",
       "0       510        917      NaN      NaN  \n",
       "1        34        267      NaN      NaN  \n",
       "2        13         19      NaN      NaN  \n",
       "3        11         26      NaN      NaN  \n",
       "4      1375       1945      NaN      NaN  "
      ]
     },
     "execution_count": 22,
     "metadata": {},
     "output_type": "execute_result"
    }
   ],
   "source": [
    "trump.head()"
   ]
  },
  {
   "cell_type": "code",
   "execution_count": 23,
   "id": "46243be2",
   "metadata": {},
   "outputs": [
    {
     "data": {
      "text/html": [
       "<div>\n",
       "<style scoped>\n",
       "    .dataframe tbody tr th:only-of-type {\n",
       "        vertical-align: middle;\n",
       "    }\n",
       "\n",
       "    .dataframe tbody tr th {\n",
       "        vertical-align: top;\n",
       "    }\n",
       "\n",
       "    .dataframe thead th {\n",
       "        text-align: right;\n",
       "    }\n",
       "</style>\n",
       "<table border=\"1\" class=\"dataframe\">\n",
       "  <thead>\n",
       "    <tr style=\"text-align: right;\">\n",
       "      <th></th>\n",
       "      <th>id</th>\n",
       "      <th>created_at</th>\n",
       "      <th>text</th>\n",
       "    </tr>\n",
       "  </thead>\n",
       "  <tbody>\n",
       "    <tr>\n",
       "      <th>0</th>\n",
       "      <td>849636868052275200</td>\n",
       "      <td>2017-04-05 14:56:29</td>\n",
       "      <td>b'And so the robots spared humanity ... https:...</td>\n",
       "    </tr>\n",
       "    <tr>\n",
       "      <th>1</th>\n",
       "      <td>848988730585096192</td>\n",
       "      <td>2017-04-03 20:01:01</td>\n",
       "      <td>b\"@ForIn2020 @waltmossberg @mims @defcon_5 Exa...</td>\n",
       "    </tr>\n",
       "    <tr>\n",
       "      <th>2</th>\n",
       "      <td>848943072423497728</td>\n",
       "      <td>2017-04-03 16:59:35</td>\n",
       "      <td>b'@waltmossberg @mims @defcon_5 Et tu, Walt?'</td>\n",
       "    </tr>\n",
       "    <tr>\n",
       "      <th>3</th>\n",
       "      <td>848935705057280001</td>\n",
       "      <td>2017-04-03 16:30:19</td>\n",
       "      <td>b'Stormy weather in Shortville ...'</td>\n",
       "    </tr>\n",
       "    <tr>\n",
       "      <th>4</th>\n",
       "      <td>848416049573658624</td>\n",
       "      <td>2017-04-02 06:05:23</td>\n",
       "      <td>b\"@DaveLeeBBC @verge Coal is dying due to nat ...</td>\n",
       "    </tr>\n",
       "  </tbody>\n",
       "</table>\n",
       "</div>"
      ],
      "text/plain": [
       "                   id           created_at  \\\n",
       "0  849636868052275200  2017-04-05 14:56:29   \n",
       "1  848988730585096192  2017-04-03 20:01:01   \n",
       "2  848943072423497728  2017-04-03 16:59:35   \n",
       "3  848935705057280001  2017-04-03 16:30:19   \n",
       "4  848416049573658624  2017-04-02 06:05:23   \n",
       "\n",
       "                                                text  \n",
       "0  b'And so the robots spared humanity ... https:...  \n",
       "1  b\"@ForIn2020 @waltmossberg @mims @defcon_5 Exa...  \n",
       "2      b'@waltmossberg @mims @defcon_5 Et tu, Walt?'  \n",
       "3                b'Stormy weather in Shortville ...'  \n",
       "4  b\"@DaveLeeBBC @verge Coal is dying due to nat ...  "
      ]
     },
     "execution_count": 23,
     "metadata": {},
     "output_type": "execute_result"
    }
   ],
   "source": [
    "elon.head()"
   ]
  },
  {
   "cell_type": "code",
   "execution_count": 24,
   "id": "2ecae7a5",
   "metadata": {},
   "outputs": [
    {
     "data": {
      "text/plain": [
       "(43352, 8)"
      ]
     },
     "execution_count": 24,
     "metadata": {},
     "output_type": "execute_result"
    }
   ],
   "source": [
    "trump.shape"
   ]
  },
  {
   "cell_type": "code",
   "execution_count": 25,
   "id": "af77aa70",
   "metadata": {},
   "outputs": [
    {
     "data": {
      "text/plain": [
       "(2819, 3)"
      ]
     },
     "execution_count": 25,
     "metadata": {},
     "output_type": "execute_result"
    }
   ],
   "source": [
    "elon.shape"
   ]
  },
  {
   "cell_type": "code",
   "execution_count": 26,
   "id": "a994af25",
   "metadata": {},
   "outputs": [],
   "source": [
    "\n",
    "# trump-datensatz angleichen:\n",
    "trump = trump.sample(n=2819)\n"
   ]
  },
  {
   "cell_type": "code",
   "execution_count": 27,
   "id": "1a42a415",
   "metadata": {},
   "outputs": [
    {
     "data": {
      "text/plain": [
       "(2819, 8)"
      ]
     },
     "execution_count": 27,
     "metadata": {},
     "output_type": "execute_result"
    }
   ],
   "source": [
    "trump.shape"
   ]
  },
  {
   "cell_type": "code",
   "execution_count": 28,
   "id": "95471ce4",
   "metadata": {},
   "outputs": [],
   "source": [
    "\n",
    "# spalte neu benennen:\n",
    "trump = trump.rename(columns={\"content\":\"text\"})\n"
   ]
  },
  {
   "cell_type": "code",
   "execution_count": 29,
   "id": "f67aa95e",
   "metadata": {},
   "outputs": [
    {
     "data": {
      "text/html": [
       "<div>\n",
       "<style scoped>\n",
       "    .dataframe tbody tr th:only-of-type {\n",
       "        vertical-align: middle;\n",
       "    }\n",
       "\n",
       "    .dataframe tbody tr th {\n",
       "        vertical-align: top;\n",
       "    }\n",
       "\n",
       "    .dataframe thead th {\n",
       "        text-align: right;\n",
       "    }\n",
       "</style>\n",
       "<table border=\"1\" class=\"dataframe\">\n",
       "  <thead>\n",
       "    <tr style=\"text-align: right;\">\n",
       "      <th></th>\n",
       "      <th>id</th>\n",
       "      <th>link</th>\n",
       "      <th>text</th>\n",
       "      <th>date</th>\n",
       "      <th>retweets</th>\n",
       "      <th>favorites</th>\n",
       "      <th>mentions</th>\n",
       "      <th>hashtags</th>\n",
       "    </tr>\n",
       "  </thead>\n",
       "  <tbody>\n",
       "    <tr>\n",
       "      <th>33290</th>\n",
       "      <td>943819430735372289</td>\n",
       "      <td>https://twitter.com/realDonaldTrump/status/943...</td>\n",
       "      <td>The Massive Tax Cuts, which the Fake News Medi...</td>\n",
       "      <td>2017-12-21 06:24:22</td>\n",
       "      <td>20844</td>\n",
       "      <td>97355</td>\n",
       "      <td>NaN</td>\n",
       "      <td>NaN</td>\n",
       "    </tr>\n",
       "    <tr>\n",
       "      <th>40650</th>\n",
       "      <td>1205121293282099201</td>\n",
       "      <td>https://twitter.com/realDonaldTrump/status/120...</td>\n",
       "      <td>True!https://twitter.com/Jim_Jordan/status/120...</td>\n",
       "      <td>2019-12-12 07:44:41</td>\n",
       "      <td>5117</td>\n",
       "      <td>19281</td>\n",
       "      <td>NaN</td>\n",
       "      <td>NaN</td>\n",
       "    </tr>\n",
       "    <tr>\n",
       "      <th>20505</th>\n",
       "      <td>559915250888486912</td>\n",
       "      <td>https://twitter.com/realDonaldTrump/status/559...</td>\n",
       "      <td>\" @ BuckyBirt: @13ascot81 @ realDonaldTrump # ...</td>\n",
       "      <td>2015-01-26 21:26:13</td>\n",
       "      <td>22</td>\n",
       "      <td>87</td>\n",
       "      <td>@BuckyBirt,@13ascot81,@realDonaldTrump</td>\n",
       "      <td>#CelebrityApprentice</td>\n",
       "    </tr>\n",
       "    <tr>\n",
       "      <th>1355</th>\n",
       "      <td>168076779037274112</td>\n",
       "      <td>https://twitter.com/realDonaldTrump/status/168...</td>\n",
       "      <td>“As someone once put it, ‘Marriage is the grea...</td>\n",
       "      <td>2012-02-10 15:00:01</td>\n",
       "      <td>215</td>\n",
       "      <td>102</td>\n",
       "      <td>NaN</td>\n",
       "      <td>#TimeToGetTough</td>\n",
       "    </tr>\n",
       "    <tr>\n",
       "      <th>14061</th>\n",
       "      <td>437778166720253952</td>\n",
       "      <td>https://twitter.com/realDonaldTrump/status/437...</td>\n",
       "      <td>\"@_xx_justme: “ @ realDonaldTrump: @ realDonal...</td>\n",
       "      <td>2014-02-23 20:37:03</td>\n",
       "      <td>19</td>\n",
       "      <td>38</td>\n",
       "      <td>@realDonaldTrump,@realDonaldTrump</td>\n",
       "      <td>NaN</td>\n",
       "    </tr>\n",
       "  </tbody>\n",
       "</table>\n",
       "</div>"
      ],
      "text/plain": [
       "                        id                                               link  \\\n",
       "33290   943819430735372289  https://twitter.com/realDonaldTrump/status/943...   \n",
       "40650  1205121293282099201  https://twitter.com/realDonaldTrump/status/120...   \n",
       "20505   559915250888486912  https://twitter.com/realDonaldTrump/status/559...   \n",
       "1355    168076779037274112  https://twitter.com/realDonaldTrump/status/168...   \n",
       "14061   437778166720253952  https://twitter.com/realDonaldTrump/status/437...   \n",
       "\n",
       "                                                    text                 date  \\\n",
       "33290  The Massive Tax Cuts, which the Fake News Medi...  2017-12-21 06:24:22   \n",
       "40650  True!https://twitter.com/Jim_Jordan/status/120...  2019-12-12 07:44:41   \n",
       "20505  \" @ BuckyBirt: @13ascot81 @ realDonaldTrump # ...  2015-01-26 21:26:13   \n",
       "1355   “As someone once put it, ‘Marriage is the grea...  2012-02-10 15:00:01   \n",
       "14061  \"@_xx_justme: “ @ realDonaldTrump: @ realDonal...  2014-02-23 20:37:03   \n",
       "\n",
       "       retweets  favorites                                mentions  \\\n",
       "33290     20844      97355                                     NaN   \n",
       "40650      5117      19281                                     NaN   \n",
       "20505        22         87  @BuckyBirt,@13ascot81,@realDonaldTrump   \n",
       "1355        215        102                                     NaN   \n",
       "14061        19         38       @realDonaldTrump,@realDonaldTrump   \n",
       "\n",
       "                   hashtags  \n",
       "33290                   NaN  \n",
       "40650                   NaN  \n",
       "20505  #CelebrityApprentice  \n",
       "1355        #TimeToGetTough  \n",
       "14061                   NaN  "
      ]
     },
     "execution_count": 29,
     "metadata": {},
     "output_type": "execute_result"
    }
   ],
   "source": [
    "trump.head()"
   ]
  },
  {
   "cell_type": "code",
   "execution_count": 34,
   "id": "2bc15e76",
   "metadata": {},
   "outputs": [],
   "source": [
    "\n",
    "# zusätzliche label-spalte:\n",
    "trump[\"label\"] = 1\n",
    "elon[\"label\"] = 0\n"
   ]
  },
  {
   "cell_type": "code",
   "execution_count": 46,
   "id": "2ab351ab",
   "metadata": {},
   "outputs": [],
   "source": [
    "\n",
    "# daten zusammenführen:\n",
    "data = pd.merge(elon[[\"text\",\"label\"]],trump[[\"text\",\"label\"]],how=\"outer\",on=[\"text\",\"label\"])\n"
   ]
  },
  {
   "cell_type": "code",
   "execution_count": 48,
   "id": "61b2f16b",
   "metadata": {},
   "outputs": [
    {
     "data": {
      "text/plain": [
       "(5638, 2)"
      ]
     },
     "execution_count": 48,
     "metadata": {},
     "output_type": "execute_result"
    }
   ],
   "source": [
    "data.shape"
   ]
  },
  {
   "cell_type": "code",
   "execution_count": 54,
   "id": "7f649b88",
   "metadata": {},
   "outputs": [
    {
     "data": {
      "text/html": [
       "<div>\n",
       "<style scoped>\n",
       "    .dataframe tbody tr th:only-of-type {\n",
       "        vertical-align: middle;\n",
       "    }\n",
       "\n",
       "    .dataframe tbody tr th {\n",
       "        vertical-align: top;\n",
       "    }\n",
       "\n",
       "    .dataframe thead th {\n",
       "        text-align: right;\n",
       "    }\n",
       "</style>\n",
       "<table border=\"1\" class=\"dataframe\">\n",
       "  <thead>\n",
       "    <tr style=\"text-align: right;\">\n",
       "      <th></th>\n",
       "      <th>text</th>\n",
       "      <th>label</th>\n",
       "    </tr>\n",
       "  </thead>\n",
       "  <tbody>\n",
       "    <tr>\n",
       "      <th>0</th>\n",
       "      <td>b'And so the robots spared humanity ... https:...</td>\n",
       "      <td>0</td>\n",
       "    </tr>\n",
       "    <tr>\n",
       "      <th>1</th>\n",
       "      <td>b\"@ForIn2020 @waltmossberg @mims @defcon_5 Exa...</td>\n",
       "      <td>0</td>\n",
       "    </tr>\n",
       "    <tr>\n",
       "      <th>2</th>\n",
       "      <td>b'@waltmossberg @mims @defcon_5 Et tu, Walt?'</td>\n",
       "      <td>0</td>\n",
       "    </tr>\n",
       "    <tr>\n",
       "      <th>3</th>\n",
       "      <td>b'Stormy weather in Shortville ...'</td>\n",
       "      <td>0</td>\n",
       "    </tr>\n",
       "    <tr>\n",
       "      <th>4</th>\n",
       "      <td>b\"@DaveLeeBBC @verge Coal is dying due to nat ...</td>\n",
       "      <td>0</td>\n",
       "    </tr>\n",
       "  </tbody>\n",
       "</table>\n",
       "</div>"
      ],
      "text/plain": [
       "                                                text  label\n",
       "0  b'And so the robots spared humanity ... https:...      0\n",
       "1  b\"@ForIn2020 @waltmossberg @mims @defcon_5 Exa...      0\n",
       "2      b'@waltmossberg @mims @defcon_5 Et tu, Walt?'      0\n",
       "3                b'Stormy weather in Shortville ...'      0\n",
       "4  b\"@DaveLeeBBC @verge Coal is dying due to nat ...      0"
      ]
     },
     "execution_count": 54,
     "metadata": {},
     "output_type": "execute_result"
    }
   ],
   "source": [
    "\n",
    "# falls indices durcheinander, dann neu ordnen --> \"data = data.reset_index(drop=True)\"\n",
    "data.head()"
   ]
  },
  {
   "cell_type": "code",
   "execution_count": 116,
   "id": "9e7a0b61",
   "metadata": {},
   "outputs": [],
   "source": [
    "\n",
    "# zufälliger wert aus einem sample aus der spalte \"text\":\n",
    "def random_tweet():\n",
    "    sample = data.sample()\n",
    "    if sample[\"label\"].values[0] == 1:\n",
    "        print(\"verfaßt von Donald Trump\")\n",
    "    else:\n",
    "        print(\"verfaßt von Elon Musk\")\n"
   ]
  },
  {
   "cell_type": "code",
   "execution_count": 117,
   "id": "2e570af0",
   "metadata": {},
   "outputs": [
    {
     "name": "stdout",
     "output_type": "stream",
     "text": [
      "verfaßt von Donald Trump\n"
     ]
    }
   ],
   "source": [
    "random_tweet()"
   ]
  },
  {
   "cell_type": "markdown",
   "id": "75ba1bce",
   "metadata": {},
   "source": [
    "\n",
    "# vektorisierung des textes\n"
   ]
  },
  {
   "cell_type": "code",
   "execution_count": 118,
   "id": "07b5d30e",
   "metadata": {},
   "outputs": [],
   "source": [
    "\n",
    "from sklearn.feature_extraction.text import CountVectorizer\n"
   ]
  },
  {
   "cell_type": "code",
   "execution_count": 119,
   "id": "4c069cac",
   "metadata": {},
   "outputs": [],
   "source": [
    "\n",
    "# vector-variable initialisieren --> jedes einzelne wort an bestimmter stelle\n",
    "vect = CountVectorizer()\n"
   ]
  },
  {
   "cell_type": "code",
   "execution_count": 120,
   "id": "d61ad2c3",
   "metadata": {},
   "outputs": [],
   "source": [
    "\n",
    "# textvariable anlegen:\n",
    "text = [\"Das ist ein beliebiger Text. Aus diesem Text wird ein Vokabular angelegt.\"]\n"
   ]
  },
  {
   "cell_type": "code",
   "execution_count": 122,
   "id": "f9a2c52c",
   "metadata": {},
   "outputs": [
    {
     "data": {
      "text/html": [
       "<style>#sk-container-id-1 {color: black;}#sk-container-id-1 pre{padding: 0;}#sk-container-id-1 div.sk-toggleable {background-color: white;}#sk-container-id-1 label.sk-toggleable__label {cursor: pointer;display: block;width: 100%;margin-bottom: 0;padding: 0.3em;box-sizing: border-box;text-align: center;}#sk-container-id-1 label.sk-toggleable__label-arrow:before {content: \"▸\";float: left;margin-right: 0.25em;color: #696969;}#sk-container-id-1 label.sk-toggleable__label-arrow:hover:before {color: black;}#sk-container-id-1 div.sk-estimator:hover label.sk-toggleable__label-arrow:before {color: black;}#sk-container-id-1 div.sk-toggleable__content {max-height: 0;max-width: 0;overflow: hidden;text-align: left;background-color: #f0f8ff;}#sk-container-id-1 div.sk-toggleable__content pre {margin: 0.2em;color: black;border-radius: 0.25em;background-color: #f0f8ff;}#sk-container-id-1 input.sk-toggleable__control:checked~div.sk-toggleable__content {max-height: 200px;max-width: 100%;overflow: auto;}#sk-container-id-1 input.sk-toggleable__control:checked~label.sk-toggleable__label-arrow:before {content: \"▾\";}#sk-container-id-1 div.sk-estimator input.sk-toggleable__control:checked~label.sk-toggleable__label {background-color: #d4ebff;}#sk-container-id-1 div.sk-label input.sk-toggleable__control:checked~label.sk-toggleable__label {background-color: #d4ebff;}#sk-container-id-1 input.sk-hidden--visually {border: 0;clip: rect(1px 1px 1px 1px);clip: rect(1px, 1px, 1px, 1px);height: 1px;margin: -1px;overflow: hidden;padding: 0;position: absolute;width: 1px;}#sk-container-id-1 div.sk-estimator {font-family: monospace;background-color: #f0f8ff;border: 1px dotted black;border-radius: 0.25em;box-sizing: border-box;margin-bottom: 0.5em;}#sk-container-id-1 div.sk-estimator:hover {background-color: #d4ebff;}#sk-container-id-1 div.sk-parallel-item::after {content: \"\";width: 100%;border-bottom: 1px solid gray;flex-grow: 1;}#sk-container-id-1 div.sk-label:hover label.sk-toggleable__label {background-color: #d4ebff;}#sk-container-id-1 div.sk-serial::before {content: \"\";position: absolute;border-left: 1px solid gray;box-sizing: border-box;top: 0;bottom: 0;left: 50%;z-index: 0;}#sk-container-id-1 div.sk-serial {display: flex;flex-direction: column;align-items: center;background-color: white;padding-right: 0.2em;padding-left: 0.2em;position: relative;}#sk-container-id-1 div.sk-item {position: relative;z-index: 1;}#sk-container-id-1 div.sk-parallel {display: flex;align-items: stretch;justify-content: center;background-color: white;position: relative;}#sk-container-id-1 div.sk-item::before, #sk-container-id-1 div.sk-parallel-item::before {content: \"\";position: absolute;border-left: 1px solid gray;box-sizing: border-box;top: 0;bottom: 0;left: 50%;z-index: -1;}#sk-container-id-1 div.sk-parallel-item {display: flex;flex-direction: column;z-index: 1;position: relative;background-color: white;}#sk-container-id-1 div.sk-parallel-item:first-child::after {align-self: flex-end;width: 50%;}#sk-container-id-1 div.sk-parallel-item:last-child::after {align-self: flex-start;width: 50%;}#sk-container-id-1 div.sk-parallel-item:only-child::after {width: 0;}#sk-container-id-1 div.sk-dashed-wrapped {border: 1px dashed gray;margin: 0 0.4em 0.5em 0.4em;box-sizing: border-box;padding-bottom: 0.4em;background-color: white;}#sk-container-id-1 div.sk-label label {font-family: monospace;font-weight: bold;display: inline-block;line-height: 1.2em;}#sk-container-id-1 div.sk-label-container {text-align: center;}#sk-container-id-1 div.sk-container {/* jupyter's `normalize.less` sets `[hidden] { display: none; }` but bootstrap.min.css set `[hidden] { display: none !important; }` so we also need the `!important` here to be able to override the default hidden behavior on the sphinx rendered scikit-learn.org. See: https://github.com/scikit-learn/scikit-learn/issues/21755 */display: inline-block !important;position: relative;}#sk-container-id-1 div.sk-text-repr-fallback {display: none;}</style><div id=\"sk-container-id-1\" class=\"sk-top-container\"><div class=\"sk-text-repr-fallback\"><pre>CountVectorizer()</pre><b>In a Jupyter environment, please rerun this cell to show the HTML representation or trust the notebook. <br />On GitHub, the HTML representation is unable to render, please try loading this page with nbviewer.org.</b></div><div class=\"sk-container\" hidden><div class=\"sk-item\"><div class=\"sk-estimator sk-toggleable\"><input class=\"sk-toggleable__control sk-hidden--visually\" id=\"sk-estimator-id-1\" type=\"checkbox\" checked><label for=\"sk-estimator-id-1\" class=\"sk-toggleable__label sk-toggleable__label-arrow\">CountVectorizer</label><div class=\"sk-toggleable__content\"><pre>CountVectorizer()</pre></div></div></div></div></div>"
      ],
      "text/plain": [
       "CountVectorizer()"
      ]
     },
     "execution_count": 122,
     "metadata": {},
     "output_type": "execute_result"
    }
   ],
   "source": [
    "\n",
    "# dan den text trainieren:\n",
    "vect.fit(text)\n"
   ]
  },
  {
   "cell_type": "code",
   "execution_count": 123,
   "id": "3434ac44",
   "metadata": {},
   "outputs": [
    {
     "name": "stdout",
     "output_type": "stream",
     "text": [
      "{'das': 3, 'ist': 6, 'ein': 5, 'beliebiger': 2, 'text': 7, 'aus': 1, 'diesem': 4, 'wird': 9, 'vokabular': 8, 'angelegt': 0}\n"
     ]
    }
   ],
   "source": [
    "\n",
    "# vokabular --> alphabetisch sortiert:\n",
    "print(vect.vocabulary_)\n"
   ]
  },
  {
   "cell_type": "code",
   "execution_count": 125,
   "id": "543cfb31",
   "metadata": {},
   "outputs": [
    {
     "data": {
      "text/plain": [
       "array([[0, 0, 0, 0, 0, 0, 1, 0, 0, 0]], dtype=int64)"
      ]
     },
     "execution_count": 125,
     "metadata": {},
     "output_type": "execute_result"
    }
   ],
   "source": [
    "\n",
    "# zu einem array umwandeln:\n",
    "vect.transform([\"Diese Anekdote ist von mir verfaßt und nicht von den Woislbuam.\"]).toarray()\n"
   ]
  },
  {
   "cell_type": "code",
   "execution_count": 126,
   "id": "fc66f53e",
   "metadata": {},
   "outputs": [],
   "source": [
    "\n",
    "# alle tweets vektorisiert: --> \"fit\" und \"transform\" in einem schritt\n",
    "vect02 = CountVectorizer()\n"
   ]
  },
  {
   "cell_type": "code",
   "execution_count": 128,
   "id": "fe3a4b3c",
   "metadata": {},
   "outputs": [],
   "source": [
    "\n",
    "# eigene variable für vektorisierte daten als matrix: --> die richtige form für X\n",
    "wordsCountArray = vect02.fit_transform(data[\"text\"].values)\n"
   ]
  },
  {
   "cell_type": "code",
   "execution_count": 130,
   "id": "23a302a8",
   "metadata": {},
   "outputs": [
    {
     "data": {
      "text/plain": [
       "<5638x14840 sparse matrix of type '<class 'numpy.int64'>'\n",
       "\twith 93783 stored elements in Compressed Sparse Row format>"
      ]
     },
     "execution_count": 130,
     "metadata": {},
     "output_type": "execute_result"
    }
   ],
   "source": [
    "wordsCountArray"
   ]
  },
  {
   "cell_type": "code",
   "execution_count": 129,
   "id": "2cf34805",
   "metadata": {},
   "outputs": [],
   "source": [
    "\n",
    "# y:\n",
    "labels = data[\"label\"].values\n"
   ]
  },
  {
   "cell_type": "code",
   "execution_count": 131,
   "id": "883c1d3e",
   "metadata": {},
   "outputs": [
    {
     "data": {
      "text/plain": [
       "array([0, 0, 0, ..., 1, 1, 1], dtype=int64)"
      ]
     },
     "execution_count": 131,
     "metadata": {},
     "output_type": "execute_result"
    }
   ],
   "source": [
    "labels"
   ]
  },
  {
   "cell_type": "markdown",
   "id": "b3fb16fa",
   "metadata": {},
   "source": [
    "\n",
    "# trainieren\n"
   ]
  },
  {
   "cell_type": "code",
   "execution_count": 132,
   "id": "af7fb46f",
   "metadata": {},
   "outputs": [],
   "source": [
    "\n",
    "from sklearn.model_selection import train_test_split\n"
   ]
  },
  {
   "cell_type": "code",
   "execution_count": 133,
   "id": "1700b1a8",
   "metadata": {},
   "outputs": [],
   "source": [
    "\n",
    "X_train, X_test, y_train, y_test = train_test_split(wordsCountArray, labels, test_size=0.2, random_state=0)\n"
   ]
  },
  {
   "cell_type": "markdown",
   "id": "5c3937e8",
   "metadata": {},
   "source": [
    "\n",
    "# algorithmus\n"
   ]
  },
  {
   "cell_type": "code",
   "execution_count": 134,
   "id": "926a8930",
   "metadata": {},
   "outputs": [],
   "source": [
    "\n",
    "from sklearn.naive_bayes import MultinomialNB\n"
   ]
  },
  {
   "cell_type": "code",
   "execution_count": 135,
   "id": "47697818",
   "metadata": {},
   "outputs": [],
   "source": [
    "\n",
    "mnb = MultinomialNB()\n"
   ]
  },
  {
   "cell_type": "code",
   "execution_count": 136,
   "id": "e54f5484",
   "metadata": {},
   "outputs": [
    {
     "data": {
      "text/html": [
       "<style>#sk-container-id-2 {color: black;}#sk-container-id-2 pre{padding: 0;}#sk-container-id-2 div.sk-toggleable {background-color: white;}#sk-container-id-2 label.sk-toggleable__label {cursor: pointer;display: block;width: 100%;margin-bottom: 0;padding: 0.3em;box-sizing: border-box;text-align: center;}#sk-container-id-2 label.sk-toggleable__label-arrow:before {content: \"▸\";float: left;margin-right: 0.25em;color: #696969;}#sk-container-id-2 label.sk-toggleable__label-arrow:hover:before {color: black;}#sk-container-id-2 div.sk-estimator:hover label.sk-toggleable__label-arrow:before {color: black;}#sk-container-id-2 div.sk-toggleable__content {max-height: 0;max-width: 0;overflow: hidden;text-align: left;background-color: #f0f8ff;}#sk-container-id-2 div.sk-toggleable__content pre {margin: 0.2em;color: black;border-radius: 0.25em;background-color: #f0f8ff;}#sk-container-id-2 input.sk-toggleable__control:checked~div.sk-toggleable__content {max-height: 200px;max-width: 100%;overflow: auto;}#sk-container-id-2 input.sk-toggleable__control:checked~label.sk-toggleable__label-arrow:before {content: \"▾\";}#sk-container-id-2 div.sk-estimator input.sk-toggleable__control:checked~label.sk-toggleable__label {background-color: #d4ebff;}#sk-container-id-2 div.sk-label input.sk-toggleable__control:checked~label.sk-toggleable__label {background-color: #d4ebff;}#sk-container-id-2 input.sk-hidden--visually {border: 0;clip: rect(1px 1px 1px 1px);clip: rect(1px, 1px, 1px, 1px);height: 1px;margin: -1px;overflow: hidden;padding: 0;position: absolute;width: 1px;}#sk-container-id-2 div.sk-estimator {font-family: monospace;background-color: #f0f8ff;border: 1px dotted black;border-radius: 0.25em;box-sizing: border-box;margin-bottom: 0.5em;}#sk-container-id-2 div.sk-estimator:hover {background-color: #d4ebff;}#sk-container-id-2 div.sk-parallel-item::after {content: \"\";width: 100%;border-bottom: 1px solid gray;flex-grow: 1;}#sk-container-id-2 div.sk-label:hover label.sk-toggleable__label {background-color: #d4ebff;}#sk-container-id-2 div.sk-serial::before {content: \"\";position: absolute;border-left: 1px solid gray;box-sizing: border-box;top: 0;bottom: 0;left: 50%;z-index: 0;}#sk-container-id-2 div.sk-serial {display: flex;flex-direction: column;align-items: center;background-color: white;padding-right: 0.2em;padding-left: 0.2em;position: relative;}#sk-container-id-2 div.sk-item {position: relative;z-index: 1;}#sk-container-id-2 div.sk-parallel {display: flex;align-items: stretch;justify-content: center;background-color: white;position: relative;}#sk-container-id-2 div.sk-item::before, #sk-container-id-2 div.sk-parallel-item::before {content: \"\";position: absolute;border-left: 1px solid gray;box-sizing: border-box;top: 0;bottom: 0;left: 50%;z-index: -1;}#sk-container-id-2 div.sk-parallel-item {display: flex;flex-direction: column;z-index: 1;position: relative;background-color: white;}#sk-container-id-2 div.sk-parallel-item:first-child::after {align-self: flex-end;width: 50%;}#sk-container-id-2 div.sk-parallel-item:last-child::after {align-self: flex-start;width: 50%;}#sk-container-id-2 div.sk-parallel-item:only-child::after {width: 0;}#sk-container-id-2 div.sk-dashed-wrapped {border: 1px dashed gray;margin: 0 0.4em 0.5em 0.4em;box-sizing: border-box;padding-bottom: 0.4em;background-color: white;}#sk-container-id-2 div.sk-label label {font-family: monospace;font-weight: bold;display: inline-block;line-height: 1.2em;}#sk-container-id-2 div.sk-label-container {text-align: center;}#sk-container-id-2 div.sk-container {/* jupyter's `normalize.less` sets `[hidden] { display: none; }` but bootstrap.min.css set `[hidden] { display: none !important; }` so we also need the `!important` here to be able to override the default hidden behavior on the sphinx rendered scikit-learn.org. See: https://github.com/scikit-learn/scikit-learn/issues/21755 */display: inline-block !important;position: relative;}#sk-container-id-2 div.sk-text-repr-fallback {display: none;}</style><div id=\"sk-container-id-2\" class=\"sk-top-container\"><div class=\"sk-text-repr-fallback\"><pre>MultinomialNB()</pre><b>In a Jupyter environment, please rerun this cell to show the HTML representation or trust the notebook. <br />On GitHub, the HTML representation is unable to render, please try loading this page with nbviewer.org.</b></div><div class=\"sk-container\" hidden><div class=\"sk-item\"><div class=\"sk-estimator sk-toggleable\"><input class=\"sk-toggleable__control sk-hidden--visually\" id=\"sk-estimator-id-2\" type=\"checkbox\" checked><label for=\"sk-estimator-id-2\" class=\"sk-toggleable__label sk-toggleable__label-arrow\">MultinomialNB</label><div class=\"sk-toggleable__content\"><pre>MultinomialNB()</pre></div></div></div></div></div>"
      ],
      "text/plain": [
       "MultinomialNB()"
      ]
     },
     "execution_count": 136,
     "metadata": {},
     "output_type": "execute_result"
    }
   ],
   "source": [
    "\n",
    "mnb.fit(X_train,y_train)\n"
   ]
  },
  {
   "cell_type": "code",
   "execution_count": 137,
   "id": "25fd0c9d",
   "metadata": {},
   "outputs": [],
   "source": [
    "\n",
    "pred01 = mnb.predict(X_test)\n"
   ]
  },
  {
   "cell_type": "markdown",
   "id": "1f1bceb7",
   "metadata": {},
   "source": [
    "\n",
    "# accuracy, etc.\n"
   ]
  },
  {
   "cell_type": "code",
   "execution_count": 138,
   "id": "e5415fe3",
   "metadata": {},
   "outputs": [],
   "source": [
    "\n",
    "from sklearn.metrics import accuracy_score\n"
   ]
  },
  {
   "cell_type": "code",
   "execution_count": 149,
   "id": "b5e79cc6",
   "metadata": {},
   "outputs": [
    {
     "name": "stdout",
     "output_type": "stream",
     "text": [
      "Genauigkeit:   94.504 %\n"
     ]
    }
   ],
   "source": [
    "\n",
    "print(\"Genauigkeit:   {:>.3f} %\".format(accuracy_score(y_test,pred01)*100))\n"
   ]
  },
  {
   "cell_type": "markdown",
   "id": "db0b5093",
   "metadata": {},
   "source": [
    "\n",
    "# vorhersagen\n"
   ]
  },
  {
   "cell_type": "code",
   "execution_count": 173,
   "id": "5abea94f",
   "metadata": {},
   "outputs": [],
   "source": [
    "\n",
    "# tweet muss eine liste sein:\n",
    "def predictTweet(tweet,mnb):\n",
    "    # vect02 --> vektorisiert den tweet:\n",
    "    pred = mnb.predict(vect02.transform(tweet))\n",
    "    return pred[0]\n"
   ]
  },
  {
   "cell_type": "code",
   "execution_count": 183,
   "id": "371f1b37",
   "metadata": {},
   "outputs": [
    {
     "data": {
      "text/plain": [
       "1"
      ]
     },
     "execution_count": 183,
     "metadata": {},
     "output_type": "execute_result"
    }
   ],
   "source": [
    "\n",
    "predictTweet([\"election campaign\"],mnb)\n"
   ]
  },
  {
   "cell_type": "code",
   "execution_count": 184,
   "id": "090cee1b",
   "metadata": {},
   "outputs": [],
   "source": [
    "\n",
    "# funktion wahrscheinlichkeiten der treffer auf 0(elon) oder 1(trump):\n",
    "def predictProbabilityForTweet(tweet,mnb):\n",
    "    return mnb.predict_proba(vect02.transform(tweet))\n"
   ]
  },
  {
   "cell_type": "code",
   "execution_count": 187,
   "id": "1d033f67",
   "metadata": {},
   "outputs": [
    {
     "data": {
      "text/plain": [
       "array([[0.00154239, 0.99845761]])"
      ]
     },
     "execution_count": 187,
     "metadata": {},
     "output_type": "execute_result"
    }
   ],
   "source": [
    "\n",
    "predictProbabilityForTweet([\"to make america great again\"],mnb)\n"
   ]
  },
  {
   "cell_type": "markdown",
   "id": "00c875b4",
   "metadata": {},
   "source": [
    "\n",
    "# confusion-matrix\n"
   ]
  },
  {
   "cell_type": "code",
   "execution_count": 188,
   "id": "aead45e0",
   "metadata": {},
   "outputs": [],
   "source": [
    "\n",
    "from sklearn.metrics import confusion_matrix\n",
    "import matplotlib.pyplot as plt\n",
    "import seaborn as sns\n"
   ]
  },
  {
   "cell_type": "code",
   "execution_count": 189,
   "id": "1a36b98a",
   "metadata": {},
   "outputs": [],
   "source": [
    "\n",
    "matrix = confusion_matrix(y_test,pred01)\n"
   ]
  },
  {
   "cell_type": "code",
   "execution_count": 190,
   "id": "4b180b27",
   "metadata": {},
   "outputs": [
    {
     "data": {
      "text/plain": [
       "array([[511,  51],\n",
       "       [ 11, 555]], dtype=int64)"
      ]
     },
     "execution_count": 190,
     "metadata": {},
     "output_type": "execute_result"
    }
   ],
   "source": [
    "\n",
    "matrix\n"
   ]
  },
  {
   "cell_type": "code",
   "execution_count": 197,
   "id": "55a5aa69",
   "metadata": {},
   "outputs": [
    {
     "data": {
      "text/plain": [
       "<Axes: >"
      ]
     },
     "execution_count": 197,
     "metadata": {},
     "output_type": "execute_result"
    },
    {
     "data": {
      "image/png": "[encoded data removed]",
      "text/plain": [
       "<Figure size 640x480 with 2 Axes>"
      ]
     },
     "metadata": {},
     "output_type": "display_data"
    }
   ],
   "source": [
    "\n",
    "sns.heatmap(matrix,square=True,annot=True,xticklabels=('Elon','Trump'),yticklabels=('Elon','Trump'),fmt=\"d\",cmap=\"crest\")\n"
   ]
  },
  {
   "cell_type": "code",
   "execution_count": null,
   "id": "0a46ca6f",
   "metadata": {},
   "outputs": [],
   "source": []
  },
  {
   "cell_type": "code",
   "execution_count": null,
   "id": "19151103",
   "metadata": {},
   "outputs": [],
   "source": []
  },
  {
   "cell_type": "code",
   "execution_count": null,
   "id": "d1187bb3",
   "metadata": {},
   "outputs": [],
   "source": []
  }
 ],
 "metadata": {
  "kernelspec": {
   "display_name": "Python 3 (ipykernel)",
   "language": "python",
   "name": "python3"
  },
  "language_info": {
   "codemirror_mode": {
    "name": "ipython",
    "version": 3
   },
   "file_extension": ".py",
   "mimetype": "text/x-python",
   "name": "python",
   "nbconvert_exporter": "python",
   "pygments_lexer": "ipython3",
   "version": "3.10.9"
  }
 },
 "nbformat": 4,
 "nbformat_minor": 5
}
