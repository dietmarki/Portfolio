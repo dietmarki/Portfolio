{
 "cells": [
  {
   "cell_type": "code",
   "execution_count": 1,
   "id": "2f50fc98",
   "metadata": {},
   "outputs": [],
   "source": [
    "# Ausführen, für den Fall, dass  Warnungen ignoriert werden sollen\n",
    "import warnings\n",
    "warnings.filterwarnings('ignore')"
   ]
  },
  {
   "cell_type": "code",
   "execution_count": 2,
   "id": "7e764306",
   "metadata": {},
   "outputs": [],
   "source": [
    "\n",
    "# bibliotheken importieren:\n",
    "import matplotlib.pyplot as plt\n",
    "import seaborn as sns\n",
    "import numpy as np\n",
    "import pandas as pd\n",
    "%matplotlib inline\n"
   ]
  },
  {
   "cell_type": "code",
   "execution_count": 3,
   "id": "254e8a3a",
   "metadata": {},
   "outputs": [],
   "source": [
    "\n",
    "# datensatz holen\n",
    "from sklearn.datasets import load_breast_cancer\n"
   ]
  },
  {
   "cell_type": "code",
   "execution_count": 4,
   "id": "e764229a",
   "metadata": {},
   "outputs": [],
   "source": [
    "\n",
    "cancer = load_breast_cancer()\n"
   ]
  },
  {
   "cell_type": "code",
   "execution_count": 5,
   "id": "3706d0be",
   "metadata": {},
   "outputs": [
    {
     "data": {
      "text/plain": [
       "array(['mean radius', 'mean texture', 'mean perimeter', 'mean area',\n",
       "       'mean smoothness', 'mean compactness', 'mean concavity',\n",
       "       'mean concave points', 'mean symmetry', 'mean fractal dimension',\n",
       "       'radius error', 'texture error', 'perimeter error', 'area error',\n",
       "       'smoothness error', 'compactness error', 'concavity error',\n",
       "       'concave points error', 'symmetry error',\n",
       "       'fractal dimension error', 'worst radius', 'worst texture',\n",
       "       'worst perimeter', 'worst area', 'worst smoothness',\n",
       "       'worst compactness', 'worst concavity', 'worst concave points',\n",
       "       'worst symmetry', 'worst fractal dimension'], dtype='<U23')"
      ]
     },
     "execution_count": 5,
     "metadata": {},
     "output_type": "execute_result"
    }
   ],
   "source": [
    "cancer.feature_names"
   ]
  },
  {
   "cell_type": "code",
   "execution_count": 6,
   "id": "0ce1cf9f",
   "metadata": {},
   "outputs": [
    {
     "data": {
      "text/plain": [
       "array([[1.799e+01, 1.038e+01, 1.228e+02, ..., 2.654e-01, 4.601e-01,\n",
       "        1.189e-01],\n",
       "       [2.057e+01, 1.777e+01, 1.329e+02, ..., 1.860e-01, 2.750e-01,\n",
       "        8.902e-02],\n",
       "       [1.969e+01, 2.125e+01, 1.300e+02, ..., 2.430e-01, 3.613e-01,\n",
       "        8.758e-02],\n",
       "       ...,\n",
       "       [1.660e+01, 2.808e+01, 1.083e+02, ..., 1.418e-01, 2.218e-01,\n",
       "        7.820e-02],\n",
       "       [2.060e+01, 2.933e+01, 1.401e+02, ..., 2.650e-01, 4.087e-01,\n",
       "        1.240e-01],\n",
       "       [7.760e+00, 2.454e+01, 4.792e+01, ..., 0.000e+00, 2.871e-01,\n",
       "        7.039e-02]])"
      ]
     },
     "execution_count": 6,
     "metadata": {},
     "output_type": "execute_result"
    }
   ],
   "source": [
    "cancer[\"data\"]"
   ]
  },
  {
   "cell_type": "code",
   "execution_count": 7,
   "id": "dc345ecc",
   "metadata": {},
   "outputs": [],
   "source": [
    "\n",
    "# dataframe erstellen:\n",
    "df = pd.DataFrame(cancer[\"data\"],columns=cancer.feature_names)\n"
   ]
  },
  {
   "cell_type": "code",
   "execution_count": 8,
   "id": "7d414457",
   "metadata": {},
   "outputs": [
    {
     "data": {
      "text/html": [
       "<div>\n",
       "<style scoped>\n",
       "    .dataframe tbody tr th:only-of-type {\n",
       "        vertical-align: middle;\n",
       "    }\n",
       "\n",
       "    .dataframe tbody tr th {\n",
       "        vertical-align: top;\n",
       "    }\n",
       "\n",
       "    .dataframe thead th {\n",
       "        text-align: right;\n",
       "    }\n",
       "</style>\n",
       "<table border=\"1\" class=\"dataframe\">\n",
       "  <thead>\n",
       "    <tr style=\"text-align: right;\">\n",
       "      <th></th>\n",
       "      <th>mean radius</th>\n",
       "      <th>mean texture</th>\n",
       "      <th>mean perimeter</th>\n",
       "      <th>mean area</th>\n",
       "      <th>mean smoothness</th>\n",
       "      <th>mean compactness</th>\n",
       "      <th>mean concavity</th>\n",
       "      <th>mean concave points</th>\n",
       "      <th>mean symmetry</th>\n",
       "      <th>mean fractal dimension</th>\n",
       "      <th>...</th>\n",
       "      <th>worst radius</th>\n",
       "      <th>worst texture</th>\n",
       "      <th>worst perimeter</th>\n",
       "      <th>worst area</th>\n",
       "      <th>worst smoothness</th>\n",
       "      <th>worst compactness</th>\n",
       "      <th>worst concavity</th>\n",
       "      <th>worst concave points</th>\n",
       "      <th>worst symmetry</th>\n",
       "      <th>worst fractal dimension</th>\n",
       "    </tr>\n",
       "  </thead>\n",
       "  <tbody>\n",
       "    <tr>\n",
       "      <th>0</th>\n",
       "      <td>17.99</td>\n",
       "      <td>10.38</td>\n",
       "      <td>122.80</td>\n",
       "      <td>1001.0</td>\n",
       "      <td>0.11840</td>\n",
       "      <td>0.27760</td>\n",
       "      <td>0.3001</td>\n",
       "      <td>0.14710</td>\n",
       "      <td>0.2419</td>\n",
       "      <td>0.07871</td>\n",
       "      <td>...</td>\n",
       "      <td>25.38</td>\n",
       "      <td>17.33</td>\n",
       "      <td>184.60</td>\n",
       "      <td>2019.0</td>\n",
       "      <td>0.1622</td>\n",
       "      <td>0.6656</td>\n",
       "      <td>0.7119</td>\n",
       "      <td>0.2654</td>\n",
       "      <td>0.4601</td>\n",
       "      <td>0.11890</td>\n",
       "    </tr>\n",
       "    <tr>\n",
       "      <th>1</th>\n",
       "      <td>20.57</td>\n",
       "      <td>17.77</td>\n",
       "      <td>132.90</td>\n",
       "      <td>1326.0</td>\n",
       "      <td>0.08474</td>\n",
       "      <td>0.07864</td>\n",
       "      <td>0.0869</td>\n",
       "      <td>0.07017</td>\n",
       "      <td>0.1812</td>\n",
       "      <td>0.05667</td>\n",
       "      <td>...</td>\n",
       "      <td>24.99</td>\n",
       "      <td>23.41</td>\n",
       "      <td>158.80</td>\n",
       "      <td>1956.0</td>\n",
       "      <td>0.1238</td>\n",
       "      <td>0.1866</td>\n",
       "      <td>0.2416</td>\n",
       "      <td>0.1860</td>\n",
       "      <td>0.2750</td>\n",
       "      <td>0.08902</td>\n",
       "    </tr>\n",
       "    <tr>\n",
       "      <th>2</th>\n",
       "      <td>19.69</td>\n",
       "      <td>21.25</td>\n",
       "      <td>130.00</td>\n",
       "      <td>1203.0</td>\n",
       "      <td>0.10960</td>\n",
       "      <td>0.15990</td>\n",
       "      <td>0.1974</td>\n",
       "      <td>0.12790</td>\n",
       "      <td>0.2069</td>\n",
       "      <td>0.05999</td>\n",
       "      <td>...</td>\n",
       "      <td>23.57</td>\n",
       "      <td>25.53</td>\n",
       "      <td>152.50</td>\n",
       "      <td>1709.0</td>\n",
       "      <td>0.1444</td>\n",
       "      <td>0.4245</td>\n",
       "      <td>0.4504</td>\n",
       "      <td>0.2430</td>\n",
       "      <td>0.3613</td>\n",
       "      <td>0.08758</td>\n",
       "    </tr>\n",
       "    <tr>\n",
       "      <th>3</th>\n",
       "      <td>11.42</td>\n",
       "      <td>20.38</td>\n",
       "      <td>77.58</td>\n",
       "      <td>386.1</td>\n",
       "      <td>0.14250</td>\n",
       "      <td>0.28390</td>\n",
       "      <td>0.2414</td>\n",
       "      <td>0.10520</td>\n",
       "      <td>0.2597</td>\n",
       "      <td>0.09744</td>\n",
       "      <td>...</td>\n",
       "      <td>14.91</td>\n",
       "      <td>26.50</td>\n",
       "      <td>98.87</td>\n",
       "      <td>567.7</td>\n",
       "      <td>0.2098</td>\n",
       "      <td>0.8663</td>\n",
       "      <td>0.6869</td>\n",
       "      <td>0.2575</td>\n",
       "      <td>0.6638</td>\n",
       "      <td>0.17300</td>\n",
       "    </tr>\n",
       "    <tr>\n",
       "      <th>4</th>\n",
       "      <td>20.29</td>\n",
       "      <td>14.34</td>\n",
       "      <td>135.10</td>\n",
       "      <td>1297.0</td>\n",
       "      <td>0.10030</td>\n",
       "      <td>0.13280</td>\n",
       "      <td>0.1980</td>\n",
       "      <td>0.10430</td>\n",
       "      <td>0.1809</td>\n",
       "      <td>0.05883</td>\n",
       "      <td>...</td>\n",
       "      <td>22.54</td>\n",
       "      <td>16.67</td>\n",
       "      <td>152.20</td>\n",
       "      <td>1575.0</td>\n",
       "      <td>0.1374</td>\n",
       "      <td>0.2050</td>\n",
       "      <td>0.4000</td>\n",
       "      <td>0.1625</td>\n",
       "      <td>0.2364</td>\n",
       "      <td>0.07678</td>\n",
       "    </tr>\n",
       "  </tbody>\n",
       "</table>\n",
       "<p>5 rows × 30 columns</p>\n",
       "</div>"
      ],
      "text/plain": [
       "   mean radius  mean texture  mean perimeter  mean area  mean smoothness  \\\n",
       "0        17.99         10.38          122.80     1001.0          0.11840   \n",
       "1        20.57         17.77          132.90     1326.0          0.08474   \n",
       "2        19.69         21.25          130.00     1203.0          0.10960   \n",
       "3        11.42         20.38           77.58      386.1          0.14250   \n",
       "4        20.29         14.34          135.10     1297.0          0.10030   \n",
       "\n",
       "   mean compactness  mean concavity  mean concave points  mean symmetry  \\\n",
       "0           0.27760          0.3001              0.14710         0.2419   \n",
       "1           0.07864          0.0869              0.07017         0.1812   \n",
       "2           0.15990          0.1974              0.12790         0.2069   \n",
       "3           0.28390          0.2414              0.10520         0.2597   \n",
       "4           0.13280          0.1980              0.10430         0.1809   \n",
       "\n",
       "   mean fractal dimension  ...  worst radius  worst texture  worst perimeter  \\\n",
       "0                 0.07871  ...         25.38          17.33           184.60   \n",
       "1                 0.05667  ...         24.99          23.41           158.80   \n",
       "2                 0.05999  ...         23.57          25.53           152.50   \n",
       "3                 0.09744  ...         14.91          26.50            98.87   \n",
       "4                 0.05883  ...         22.54          16.67           152.20   \n",
       "\n",
       "   worst area  worst smoothness  worst compactness  worst concavity  \\\n",
       "0      2019.0            0.1622             0.6656           0.7119   \n",
       "1      1956.0            0.1238             0.1866           0.2416   \n",
       "2      1709.0            0.1444             0.4245           0.4504   \n",
       "3       567.7            0.2098             0.8663           0.6869   \n",
       "4      1575.0            0.1374             0.2050           0.4000   \n",
       "\n",
       "   worst concave points  worst symmetry  worst fractal dimension  \n",
       "0                0.2654          0.4601                  0.11890  \n",
       "1                0.1860          0.2750                  0.08902  \n",
       "2                0.2430          0.3613                  0.08758  \n",
       "3                0.2575          0.6638                  0.17300  \n",
       "4                0.1625          0.2364                  0.07678  \n",
       "\n",
       "[5 rows x 30 columns]"
      ]
     },
     "execution_count": 8,
     "metadata": {},
     "output_type": "execute_result"
    }
   ],
   "source": [
    "df.head()"
   ]
  },
  {
   "cell_type": "code",
   "execution_count": 9,
   "id": "7838ad0e",
   "metadata": {},
   "outputs": [
    {
     "data": {
      "text/plain": [
       "array([0, 0, 0, 0, 0, 0, 0, 0, 0, 0, 0, 0, 0, 0, 0, 0, 0, 0, 0, 1, 1, 1,\n",
       "       0, 0, 0, 0, 0, 0, 0, 0, 0, 0, 0, 0, 0, 0, 0, 1, 0, 0, 0, 0, 0, 0,\n",
       "       0, 0, 1, 0, 1, 1, 1, 1, 1, 0, 0, 1, 0, 0, 1, 1, 1, 1, 0, 1, 0, 0,\n",
       "       1, 1, 1, 1, 0, 1, 0, 0, 1, 0, 1, 0, 0, 1, 1, 1, 0, 0, 1, 0, 0, 0,\n",
       "       1, 1, 1, 0, 1, 1, 0, 0, 1, 1, 1, 0, 0, 1, 1, 1, 1, 0, 1, 1, 0, 1,\n",
       "       1, 1, 1, 1, 1, 1, 1, 0, 0, 0, 1, 0, 0, 1, 1, 1, 0, 0, 1, 0, 1, 0,\n",
       "       0, 1, 0, 0, 1, 1, 0, 1, 1, 0, 1, 1, 1, 1, 0, 1, 1, 1, 1, 1, 1, 1,\n",
       "       1, 1, 0, 1, 1, 1, 1, 0, 0, 1, 0, 1, 1, 0, 0, 1, 1, 0, 0, 1, 1, 1,\n",
       "       1, 0, 1, 1, 0, 0, 0, 1, 0, 1, 0, 1, 1, 1, 0, 1, 1, 0, 0, 1, 0, 0,\n",
       "       0, 0, 1, 0, 0, 0, 1, 0, 1, 0, 1, 1, 0, 1, 0, 0, 0, 0, 1, 1, 0, 0,\n",
       "       1, 1, 1, 0, 1, 1, 1, 1, 1, 0, 0, 1, 1, 0, 1, 1, 0, 0, 1, 0, 1, 1,\n",
       "       1, 1, 0, 1, 1, 1, 1, 1, 0, 1, 0, 0, 0, 0, 0, 0, 0, 0, 0, 0, 0, 0,\n",
       "       0, 0, 1, 1, 1, 1, 1, 1, 0, 1, 0, 1, 1, 0, 1, 1, 0, 1, 0, 0, 1, 1,\n",
       "       1, 1, 1, 1, 1, 1, 1, 1, 1, 1, 1, 0, 1, 1, 0, 1, 0, 1, 1, 1, 1, 1,\n",
       "       1, 1, 1, 1, 1, 1, 1, 1, 1, 0, 1, 1, 1, 0, 1, 0, 1, 1, 1, 1, 0, 0,\n",
       "       0, 1, 1, 1, 1, 0, 1, 0, 1, 0, 1, 1, 1, 0, 1, 1, 1, 1, 1, 1, 1, 0,\n",
       "       0, 0, 1, 1, 1, 1, 1, 1, 1, 1, 1, 1, 1, 0, 0, 1, 0, 0, 0, 1, 0, 0,\n",
       "       1, 1, 1, 1, 1, 0, 1, 1, 1, 1, 1, 0, 1, 1, 1, 0, 1, 1, 0, 0, 1, 1,\n",
       "       1, 1, 1, 1, 0, 1, 1, 1, 1, 1, 1, 1, 0, 1, 1, 1, 1, 1, 0, 1, 1, 0,\n",
       "       1, 1, 1, 1, 1, 1, 1, 1, 1, 1, 1, 1, 0, 1, 0, 0, 1, 0, 1, 1, 1, 1,\n",
       "       1, 0, 1, 1, 0, 1, 0, 1, 1, 0, 1, 0, 1, 1, 1, 1, 1, 1, 1, 1, 0, 0,\n",
       "       1, 1, 1, 1, 1, 1, 0, 1, 1, 1, 1, 1, 1, 1, 1, 1, 1, 0, 1, 1, 1, 1,\n",
       "       1, 1, 1, 0, 1, 0, 1, 1, 0, 1, 1, 1, 1, 1, 0, 0, 1, 0, 1, 0, 1, 1,\n",
       "       1, 1, 1, 0, 1, 1, 0, 1, 0, 1, 0, 0, 1, 1, 1, 0, 1, 1, 1, 1, 1, 1,\n",
       "       1, 1, 1, 1, 1, 0, 1, 0, 0, 1, 1, 1, 1, 1, 1, 1, 1, 1, 1, 1, 1, 1,\n",
       "       1, 1, 1, 1, 1, 1, 1, 1, 1, 1, 1, 1, 0, 0, 0, 0, 0, 0, 1])"
      ]
     },
     "execution_count": 9,
     "metadata": {},
     "output_type": "execute_result"
    }
   ],
   "source": [
    "cancer.target"
   ]
  },
  {
   "cell_type": "code",
   "execution_count": 10,
   "id": "d25c78f5",
   "metadata": {},
   "outputs": [],
   "source": [
    "\n",
    "# daten standardisieren, bevor die features reduziert werden soll:\n",
    "from sklearn.preprocessing import StandardScaler\n",
    "scaler = StandardScaler()\n",
    "scaler.fit(df)\n",
    "scaled_df = scaler.transform(df)\n"
   ]
  },
  {
   "cell_type": "code",
   "execution_count": 11,
   "id": "fe2cb593",
   "metadata": {},
   "outputs": [
    {
     "data": {
      "text/plain": [
       "array([[ 1.09706398, -2.07333501,  1.26993369, ...,  2.29607613,\n",
       "         2.75062224,  1.93701461],\n",
       "       [ 1.82982061, -0.35363241,  1.68595471, ...,  1.0870843 ,\n",
       "        -0.24388967,  0.28118999],\n",
       "       [ 1.57988811,  0.45618695,  1.56650313, ...,  1.95500035,\n",
       "         1.152255  ,  0.20139121],\n",
       "       ...,\n",
       "       [ 0.70228425,  2.0455738 ,  0.67267578, ...,  0.41406869,\n",
       "        -1.10454895, -0.31840916],\n",
       "       [ 1.83834103,  2.33645719,  1.98252415, ...,  2.28998549,\n",
       "         1.91908301,  2.21963528],\n",
       "       [-1.80840125,  1.22179204, -1.81438851, ..., -1.74506282,\n",
       "        -0.04813821, -0.75120669]])"
      ]
     },
     "execution_count": 11,
     "metadata": {},
     "output_type": "execute_result"
    }
   ],
   "source": [
    "\n",
    "scaled_df\n"
   ]
  },
  {
   "cell_type": "code",
   "execution_count": 12,
   "id": "b78fe88e",
   "metadata": {},
   "outputs": [],
   "source": [
    "\n",
    "# reduzieren der daten mit PCA:\n",
    "from sklearn.decomposition import PCA\n"
   ]
  },
  {
   "cell_type": "markdown",
   "id": "ffd4f1fa",
   "metadata": {},
   "source": [
    "\n",
    "# anwendung PCA mit 1 component:\n"
   ]
  },
  {
   "cell_type": "code",
   "execution_count": 13,
   "id": "ecd84ca9",
   "metadata": {},
   "outputs": [],
   "source": [
    "\n",
    "# 1 principal component:\n",
    "pca = PCA(n_components=1)\n"
   ]
  },
  {
   "cell_type": "code",
   "execution_count": 14,
   "id": "552f841a",
   "metadata": {},
   "outputs": [
    {
     "data": {
      "text/html": [
       "<style>#sk-container-id-1 {color: black;}#sk-container-id-1 pre{padding: 0;}#sk-container-id-1 div.sk-toggleable {background-color: white;}#sk-container-id-1 label.sk-toggleable__label {cursor: pointer;display: block;width: 100%;margin-bottom: 0;padding: 0.3em;box-sizing: border-box;text-align: center;}#sk-container-id-1 label.sk-toggleable__label-arrow:before {content: \"▸\";float: left;margin-right: 0.25em;color: #696969;}#sk-container-id-1 label.sk-toggleable__label-arrow:hover:before {color: black;}#sk-container-id-1 div.sk-estimator:hover label.sk-toggleable__label-arrow:before {color: black;}#sk-container-id-1 div.sk-toggleable__content {max-height: 0;max-width: 0;overflow: hidden;text-align: left;background-color: #f0f8ff;}#sk-container-id-1 div.sk-toggleable__content pre {margin: 0.2em;color: black;border-radius: 0.25em;background-color: #f0f8ff;}#sk-container-id-1 input.sk-toggleable__control:checked~div.sk-toggleable__content {max-height: 200px;max-width: 100%;overflow: auto;}#sk-container-id-1 input.sk-toggleable__control:checked~label.sk-toggleable__label-arrow:before {content: \"▾\";}#sk-container-id-1 div.sk-estimator input.sk-toggleable__control:checked~label.sk-toggleable__label {background-color: #d4ebff;}#sk-container-id-1 div.sk-label input.sk-toggleable__control:checked~label.sk-toggleable__label {background-color: #d4ebff;}#sk-container-id-1 input.sk-hidden--visually {border: 0;clip: rect(1px 1px 1px 1px);clip: rect(1px, 1px, 1px, 1px);height: 1px;margin: -1px;overflow: hidden;padding: 0;position: absolute;width: 1px;}#sk-container-id-1 div.sk-estimator {font-family: monospace;background-color: #f0f8ff;border: 1px dotted black;border-radius: 0.25em;box-sizing: border-box;margin-bottom: 0.5em;}#sk-container-id-1 div.sk-estimator:hover {background-color: #d4ebff;}#sk-container-id-1 div.sk-parallel-item::after {content: \"\";width: 100%;border-bottom: 1px solid gray;flex-grow: 1;}#sk-container-id-1 div.sk-label:hover label.sk-toggleable__label {background-color: #d4ebff;}#sk-container-id-1 div.sk-serial::before {content: \"\";position: absolute;border-left: 1px solid gray;box-sizing: border-box;top: 0;bottom: 0;left: 50%;z-index: 0;}#sk-container-id-1 div.sk-serial {display: flex;flex-direction: column;align-items: center;background-color: white;padding-right: 0.2em;padding-left: 0.2em;position: relative;}#sk-container-id-1 div.sk-item {position: relative;z-index: 1;}#sk-container-id-1 div.sk-parallel {display: flex;align-items: stretch;justify-content: center;background-color: white;position: relative;}#sk-container-id-1 div.sk-item::before, #sk-container-id-1 div.sk-parallel-item::before {content: \"\";position: absolute;border-left: 1px solid gray;box-sizing: border-box;top: 0;bottom: 0;left: 50%;z-index: -1;}#sk-container-id-1 div.sk-parallel-item {display: flex;flex-direction: column;z-index: 1;position: relative;background-color: white;}#sk-container-id-1 div.sk-parallel-item:first-child::after {align-self: flex-end;width: 50%;}#sk-container-id-1 div.sk-parallel-item:last-child::after {align-self: flex-start;width: 50%;}#sk-container-id-1 div.sk-parallel-item:only-child::after {width: 0;}#sk-container-id-1 div.sk-dashed-wrapped {border: 1px dashed gray;margin: 0 0.4em 0.5em 0.4em;box-sizing: border-box;padding-bottom: 0.4em;background-color: white;}#sk-container-id-1 div.sk-label label {font-family: monospace;font-weight: bold;display: inline-block;line-height: 1.2em;}#sk-container-id-1 div.sk-label-container {text-align: center;}#sk-container-id-1 div.sk-container {/* jupyter's `normalize.less` sets `[hidden] { display: none; }` but bootstrap.min.css set `[hidden] { display: none !important; }` so we also need the `!important` here to be able to override the default hidden behavior on the sphinx rendered scikit-learn.org. See: https://github.com/scikit-learn/scikit-learn/issues/21755 */display: inline-block !important;position: relative;}#sk-container-id-1 div.sk-text-repr-fallback {display: none;}</style><div id=\"sk-container-id-1\" class=\"sk-top-container\"><div class=\"sk-text-repr-fallback\"><pre>PCA(n_components=1)</pre><b>In a Jupyter environment, please rerun this cell to show the HTML representation or trust the notebook. <br />On GitHub, the HTML representation is unable to render, please try loading this page with nbviewer.org.</b></div><div class=\"sk-container\" hidden><div class=\"sk-item\"><div class=\"sk-estimator sk-toggleable\"><input class=\"sk-toggleable__control sk-hidden--visually\" id=\"sk-estimator-id-1\" type=\"checkbox\" checked><label for=\"sk-estimator-id-1\" class=\"sk-toggleable__label sk-toggleable__label-arrow\">PCA</label><div class=\"sk-toggleable__content\"><pre>PCA(n_components=1)</pre></div></div></div></div></div>"
      ],
      "text/plain": [
       "PCA(n_components=1)"
      ]
     },
     "execution_count": 14,
     "metadata": {},
     "output_type": "execute_result"
    }
   ],
   "source": [
    "\n",
    "# trainieren:\n",
    "pca.fit(scaled_df)\n"
   ]
  },
  {
   "cell_type": "code",
   "execution_count": 15,
   "id": "4eb52dbd",
   "metadata": {},
   "outputs": [],
   "source": [
    "\n",
    "# daten transformieren:\n",
    "x_pca = pca.transform(scaled_df)\n"
   ]
  },
  {
   "cell_type": "code",
   "execution_count": 16,
   "id": "5dcb4616",
   "metadata": {},
   "outputs": [
    {
     "data": {
      "text/plain": [
       "array([[ 9.19283683],\n",
       "       [ 2.3878018 ],\n",
       "       [ 5.73389628],\n",
       "       [ 7.1229532 ],\n",
       "       [ 3.93530207],\n",
       "       [ 2.38024715],\n",
       "       [ 2.23888331],\n",
       "       [ 2.1432985 ],\n",
       "       [ 3.17492429],\n",
       "       [ 6.35174679],\n",
       "       [-0.81041377],\n",
       "       [ 2.65110048],\n",
       "       [ 8.18503446],\n",
       "       [ 0.34212591],\n",
       "       [ 4.34237919],\n",
       "       [ 4.07565618],\n",
       "       [ 0.23005502],\n",
       "       [ 4.41801092],\n",
       "       [ 4.94870355],\n",
       "       [-1.23706336],\n",
       "       [-1.57816123],\n",
       "       [-3.55733637],\n",
       "       [ 4.73321079],\n",
       "       [ 4.20852421],\n",
       "       [ 4.94963207],\n",
       "       [ 7.09856285],\n",
       "       [ 3.5102626 ],\n",
       "       [ 3.06405389],\n",
       "       [ 4.00726414],\n",
       "       [ 1.71530973],\n",
       "       [ 6.05944551],\n",
       "       [ 2.9022361 ],\n",
       "       [ 4.55478269],\n",
       "       [ 4.99060272],\n",
       "       [ 2.98534079],\n",
       "       [ 2.76636916],\n",
       "       [ 1.29619877],\n",
       "       [-3.7493134 ],\n",
       "       [-0.9980689 ],\n",
       "       [ 0.76526412],\n",
       "       [-2.15095347],\n",
       "       [-0.09333139],\n",
       "       [ 9.08799968],\n",
       "       [ 0.99045377],\n",
       "       [-0.29354655],\n",
       "       [ 5.38094041],\n",
       "       [-4.58193667],\n",
       "       [ 1.70000689],\n",
       "       [-2.13644528],\n",
       "       [-1.567479  ],\n",
       "       [-3.54290556],\n",
       "       [-3.15781405],\n",
       "       [-3.45048854],\n",
       "       [ 3.30255095],\n",
       "       [-0.67461929],\n",
       "       [-2.85815844],\n",
       "       [ 4.64873887],\n",
       "       [ 2.17686288],\n",
       "       [-3.72145899],\n",
       "       [-4.13596294],\n",
       "       [-2.38583566],\n",
       "       [-2.57888325],\n",
       "       [ 4.75911215],\n",
       "       [-2.31413225],\n",
       "       [ 1.69160792],\n",
       "       [ 1.81230541],\n",
       "       [-2.78592476],\n",
       "       [-3.51864834],\n",
       "       [ 4.33000265],\n",
       "       [-3.26127947],\n",
       "       [ 2.70459617],\n",
       "       [-0.30785577],\n",
       "       [ 5.50370532],\n",
       "       [-0.36170919],\n",
       "       [-2.62997664],\n",
       "       [ 1.42816759],\n",
       "       [-0.83451788],\n",
       "       [ 6.23089651],\n",
       "       [11.66871465],\n",
       "       [-2.02157766],\n",
       "       [-1.63838494],\n",
       "       [ 1.16746161],\n",
       "       [10.76924282],\n",
       "       [ 5.03481109],\n",
       "       [-2.17446431],\n",
       "       [ 3.28823538],\n",
       "       [ 0.60760795],\n",
       "       [ 3.58356363],\n",
       "       [-0.9341581 ],\n",
       "       [ 1.25960465],\n",
       "       [-1.58826397],\n",
       "       [ 0.25249757],\n",
       "       [-2.84743159],\n",
       "       [-1.96495011],\n",
       "       [ 2.77586557],\n",
       "       [ 4.39622795],\n",
       "       [-2.59208283],\n",
       "       [-3.90433815],\n",
       "       [-2.81823121],\n",
       "       [ 0.61628087],\n",
       "       [-0.43286022],\n",
       "       [-4.55502884],\n",
       "       [-3.44818354],\n",
       "       [-2.11596026],\n",
       "       [-2.6913522 ],\n",
       "       [ 3.21391677],\n",
       "       [-0.74927136],\n",
       "       [-3.15900604],\n",
       "       [13.05612186],\n",
       "       [-2.22867981],\n",
       "       [-2.49283104],\n",
       "       [-0.10335043],\n",
       "       [ 3.59129412],\n",
       "       [-1.34894868],\n",
       "       [-2.51011768],\n",
       "       [-2.04602957],\n",
       "       [-2.09706917],\n",
       "       [ 3.11052769],\n",
       "       [ 4.95672557],\n",
       "       [ 0.85101426],\n",
       "       [-2.96599921],\n",
       "       [ 3.3341332 ],\n",
       "       [12.89461213],\n",
       "       [-0.77074368],\n",
       "       [-2.20251552],\n",
       "       [-3.14341225],\n",
       "       [-0.6388805 ],\n",
       "       [ 1.91913342],\n",
       "       [ 1.40886836],\n",
       "       [ 4.64369132],\n",
       "       [-1.87746736],\n",
       "       [ 1.43206943],\n",
       "       [ 1.35262703],\n",
       "       [-0.70911483],\n",
       "       [ 2.17141602],\n",
       "       [-1.97684036],\n",
       "       [-2.6007895 ],\n",
       "       [-3.25800736],\n",
       "       [ 3.78202646],\n",
       "       [-1.99203472],\n",
       "       [-5.01500869],\n",
       "       [ 1.34502044],\n",
       "       [-2.45596881],\n",
       "       [-1.83728167],\n",
       "       [-4.34648971],\n",
       "       [-0.73281292],\n",
       "       [ 2.39999784],\n",
       "       [ 0.39309866],\n",
       "       [-0.41232781],\n",
       "       [-3.04992494],\n",
       "       [-1.44256373],\n",
       "       [ 0.0831861 ],\n",
       "       [ 7.09330671],\n",
       "       [-3.74340454],\n",
       "       [-0.96917281],\n",
       "       [-2.41871991],\n",
       "       [ 4.10078773],\n",
       "       [-0.75160301],\n",
       "       [-3.65464653],\n",
       "       [-4.68021158],\n",
       "       [-0.59778177],\n",
       "       [ 3.38733076],\n",
       "       [ 6.14988619],\n",
       "       [-1.32503135],\n",
       "       [ 5.4941528 ],\n",
       "       [-2.99740321],\n",
       "       [-4.38673272],\n",
       "       [ 1.21363461],\n",
       "       [ 5.06966108],\n",
       "       [-1.97770144],\n",
       "       [-2.51487642],\n",
       "       [-0.94748789],\n",
       "       [ 2.81936834],\n",
       "       [-3.4839863 ],\n",
       "       [-4.65872958],\n",
       "       [-5.35161811],\n",
       "       [ 1.17089778],\n",
       "       [ 2.95630187],\n",
       "       [-4.97570206],\n",
       "       [-4.06402566],\n",
       "       [ 9.51266984],\n",
       "       [ 9.00716553],\n",
       "       [ 0.75887848],\n",
       "       [-2.65935962],\n",
       "       [-0.39001898],\n",
       "       [-3.88906553],\n",
       "       [ 0.36487615],\n",
       "       [-2.83589092],\n",
       "       [-3.31028362],\n",
       "       [-3.3573044 ],\n",
       "       [ 6.52311662],\n",
       "       [-1.71773518],\n",
       "       [-5.5657359 ],\n",
       "       [ 1.77966149],\n",
       "       [ 2.61148489],\n",
       "       [-2.81903851],\n",
       "       [ 2.49843888],\n",
       "       [ 1.27702718],\n",
       "       [ 3.47319734],\n",
       "       [ 1.25667511],\n",
       "       [-1.47343137],\n",
       "       [ 1.6494607 ],\n",
       "       [ 9.03658948],\n",
       "       [ 4.55459006],\n",
       "       [-0.78118997],\n",
       "       [-0.22309261],\n",
       "       [-3.45489539],\n",
       "       [ 0.4465444 ],\n",
       "       [ 0.31443823],\n",
       "       [-2.05919194],\n",
       "       [ 4.80896924],\n",
       "       [-2.99871053],\n",
       "       [12.28501976],\n",
       "       [ 3.37219659],\n",
       "       [ 2.50876631],\n",
       "       [ 1.31806848],\n",
       "       [-0.3887563 ],\n",
       "       [-2.75693299],\n",
       "       [ 4.94358101],\n",
       "       [ 4.29807733],\n",
       "       [-2.3735018 ],\n",
       "       [-0.96719031],\n",
       "       [-2.97579879],\n",
       "       [ 1.80324702],\n",
       "       [-2.47835951],\n",
       "       [-0.82603929],\n",
       "       [-3.89469733],\n",
       "       [-0.38957809],\n",
       "       [-1.45732136],\n",
       "       [ 2.755568  ],\n",
       "       [ 3.25725467],\n",
       "       [-4.01914024],\n",
       "       [-3.67641329],\n",
       "       [ 3.31632411],\n",
       "       [-4.03660736],\n",
       "       [-2.33423335],\n",
       "       [ 8.40384711],\n",
       "       [ 2.64756863],\n",
       "       [-0.68176887],\n",
       "       [ 3.35029579],\n",
       "       [-2.22772052],\n",
       "       [-4.47758466],\n",
       "       [ 1.32262142],\n",
       "       [-1.85008986],\n",
       "       [ 3.79556564],\n",
       "       [-2.2813181 ],\n",
       "       [-3.22877012],\n",
       "       [ 1.02590079],\n",
       "       [-2.58255584],\n",
       "       [-2.48588323],\n",
       "       [ 7.14384204],\n",
       "       [-3.03248114],\n",
       "       [ 7.08501065],\n",
       "       [ 1.314099  ],\n",
       "       [ 3.71164951],\n",
       "       [ 0.46047909],\n",
       "       [ 6.39264992],\n",
       "       [ 5.25554495],\n",
       "       [ 8.7338615 ],\n",
       "       [ 3.69131788],\n",
       "       [ 3.37825087],\n",
       "       [-0.84020965],\n",
       "       [ 3.28437262],\n",
       "       [-1.90876893],\n",
       "       [ 1.61478193],\n",
       "       [ 6.61972635],\n",
       "       [-1.46467593],\n",
       "       [-2.01215243],\n",
       "       [-2.28434025],\n",
       "       [-0.73974309],\n",
       "       [-4.50656251],\n",
       "       [-3.1587543 ],\n",
       "       [ 7.67614947],\n",
       "       [-3.63913597],\n",
       "       [ 0.33734549],\n",
       "       [-1.27658338],\n",
       "       [-4.34601405],\n",
       "       [ 0.01743079],\n",
       "       [-3.49242604],\n",
       "       [-1.86654885],\n",
       "       [ 4.96026812],\n",
       "       [-2.47072269],\n",
       "       [ 3.7850601 ],\n",
       "       [ 2.63725578],\n",
       "       [-1.37268502],\n",
       "       [-4.13888257],\n",
       "       [-0.68694029],\n",
       "       [-4.31212958],\n",
       "       [ 0.40330942],\n",
       "       [-3.0036058 ],\n",
       "       [ 3.13400821],\n",
       "       [-0.41783687],\n",
       "       [-1.42022314],\n",
       "       [-2.87058835],\n",
       "       [-3.3658457 ],\n",
       "       [-3.31500015],\n",
       "       [-4.76971016],\n",
       "       [-2.38588276],\n",
       "       [-2.78709601],\n",
       "       [-3.39384177],\n",
       "       [ 6.59023594],\n",
       "       [-1.45533052],\n",
       "       [ 7.1829331 ],\n",
       "       [-3.5788354 ],\n",
       "       [-3.05703264],\n",
       "       [-3.07443583],\n",
       "       [-3.85353973],\n",
       "       [-5.39025639],\n",
       "       [-4.65768233],\n",
       "       [-4.02754239],\n",
       "       [-3.34782194],\n",
       "       [-3.29984201],\n",
       "       [-2.13640414],\n",
       "       [-4.03801714],\n",
       "       [-3.76541455],\n",
       "       [-4.87123938],\n",
       "       [-4.74724852],\n",
       "       [ 1.89531628],\n",
       "       [ 1.57293114],\n",
       "       [-4.02662025],\n",
       "       [-1.29486617],\n",
       "       [ 1.83484047],\n",
       "       [-1.81038056],\n",
       "       [ 7.23648531],\n",
       "       [-3.14565019],\n",
       "       [-2.88726806],\n",
       "       [-3.14965398],\n",
       "       [-4.62837948],\n",
       "       [ 2.25051037],\n",
       "       [ 2.10780123],\n",
       "       [ 1.78594998],\n",
       "       [-0.52769662],\n",
       "       [-3.21350098],\n",
       "       [-4.38642297],\n",
       "       [-3.81001787],\n",
       "       [ 3.31967397],\n",
       "       [-2.39327596],\n",
       "       [ 4.68016626],\n",
       "       [-3.06769514],\n",
       "       [ 7.35321858],\n",
       "       [ 0.29531318],\n",
       "       [-1.9389695 ],\n",
       "       [-2.07717892],\n",
       "       [ 4.97516236],\n",
       "       [-2.17691688],\n",
       "       [-2.43155146],\n",
       "       [-3.36796578],\n",
       "       [-1.20659779],\n",
       "       [-3.32607925],\n",
       "       [-1.9287954 ],\n",
       "       [-4.04183509],\n",
       "       [ 6.18228374],\n",
       "       [10.93429816],\n",
       "       [ 2.11849693],\n",
       "       [-3.01219497],\n",
       "       [-0.98264858],\n",
       "       [ 0.35789386],\n",
       "       [-3.19391787],\n",
       "       [-2.9932333 ],\n",
       "       [-3.19391415],\n",
       "       [-4.59196185],\n",
       "       [-2.48591615],\n",
       "       [-2.39866535],\n",
       "       [-0.7796152 ],\n",
       "       [-3.13998843],\n",
       "       [ 2.73501177],\n",
       "       [ 6.22702599],\n",
       "       [-2.22377575],\n",
       "       [ 5.30714002],\n",
       "       [ 7.24800106],\n",
       "       [ 4.20722062],\n",
       "       [-2.49963637],\n",
       "       [ 3.63501495],\n",
       "       [ 3.51924828],\n",
       "       [-2.61494831],\n",
       "       [-0.09610812],\n",
       "       [ 2.04485693],\n",
       "       [-3.06674953],\n",
       "       [-1.60358644],\n",
       "       [ 3.76593215],\n",
       "       [-0.9255666 ],\n",
       "       [-3.28834959],\n",
       "       [-1.55485215],\n",
       "       [-0.39877992],\n",
       "       [-2.30056782],\n",
       "       [-0.54290136],\n",
       "       [-2.05881946],\n",
       "       [-3.42451806],\n",
       "       [-0.47240655],\n",
       "       [ 4.70350073],\n",
       "       [-3.64338024],\n",
       "       [-3.59468934],\n",
       "       [ 4.14909734],\n",
       "       [ 7.67214155],\n",
       "       [-2.01037941],\n",
       "       [-2.92083349],\n",
       "       [-0.5007378 ],\n",
       "       [-1.91149857],\n",
       "       [-3.78509923],\n",
       "       [-2.70839397],\n",
       "       [ 6.28967347],\n",
       "       [-3.43077069],\n",
       "       [-2.00138847],\n",
       "       [-2.47329309],\n",
       "       [-3.64725775],\n",
       "       [-2.34618685],\n",
       "       [-1.14299693],\n",
       "       [-1.3508573 ],\n",
       "       [ 2.76337079],\n",
       "       [-1.96932361],\n",
       "       [-2.93118706],\n",
       "       [-2.92637439],\n",
       "       [-3.99618828],\n",
       "       [ 0.15513806],\n",
       "       [-0.93409081],\n",
       "       [-1.92962173],\n",
       "       [-2.6223386 ],\n",
       "       [ 6.00361659],\n",
       "       [-2.9218778 ],\n",
       "       [-3.3419448 ],\n",
       "       [-2.01491503],\n",
       "       [ 1.98846211],\n",
       "       [-1.66960393],\n",
       "       [-0.37117811],\n",
       "       [-1.84895993],\n",
       "       [-4.7030422 ],\n",
       "       [-1.28318715],\n",
       "       [-2.31424682],\n",
       "       [-4.65908518],\n",
       "       [-3.94347338],\n",
       "       [ 4.94985846],\n",
       "       [-0.91580352],\n",
       "       [ 4.54911115],\n",
       "       [ 4.44234282],\n",
       "       [-2.1949843 ],\n",
       "       [ 0.66444091],\n",
       "       [-2.24087605],\n",
       "       [-2.12518044],\n",
       "       [-2.61531741],\n",
       "       [-3.21096798],\n",
       "       [-0.3067504 ],\n",
       "       [ 2.47235692],\n",
       "       [-3.45471837],\n",
       "       [-3.90052685],\n",
       "       [ 0.98172754],\n",
       "       [-1.25725157],\n",
       "       [ 3.24541365],\n",
       "       [-1.55721941],\n",
       "       [-1.2492581 ],\n",
       "       [ 4.33165334],\n",
       "       [-1.07745133],\n",
       "       [ 2.5117531 ],\n",
       "       [-2.21709231],\n",
       "       [-1.17383065],\n",
       "       [-2.83630144],\n",
       "       [-1.8570859 ],\n",
       "       [-1.32861437],\n",
       "       [-2.80277136],\n",
       "       [-3.1745688 ],\n",
       "       [-4.08707736],\n",
       "       [ 3.47549375],\n",
       "       [16.31923323],\n",
       "       [-2.56011502],\n",
       "       [-2.9688888 ],\n",
       "       [-2.75743045],\n",
       "       [ 1.37033988],\n",
       "       [-0.41766449],\n",
       "       [-3.83839862],\n",
       "       [ 5.93096486],\n",
       "       [ 0.64547865],\n",
       "       [-2.6838464 ],\n",
       "       [-2.04166405],\n",
       "       [-1.39929635],\n",
       "       [-3.5364153 ],\n",
       "       [-1.99052945],\n",
       "       [-1.99818537],\n",
       "       [-0.52065811],\n",
       "       [-3.17237049],\n",
       "       [-2.20271019],\n",
       "       [ 3.82443304],\n",
       "       [-2.98548469],\n",
       "       [-2.48105511],\n",
       "       [-1.27211146],\n",
       "       [-2.23515689],\n",
       "       [-0.0561831 ],\n",
       "       [ 2.31739061],\n",
       "       [-2.28433126],\n",
       "       [ 4.75461487],\n",
       "       [-1.72631092],\n",
       "       [-0.74178177],\n",
       "       [-2.89431066],\n",
       "       [-1.65452185],\n",
       "       [ 3.1035197 ],\n",
       "       [-4.0642706 ],\n",
       "       [-2.79333066],\n",
       "       [-1.47491994],\n",
       "       [-0.22939464],\n",
       "       [-2.55325841],\n",
       "       [ 3.7157051 ],\n",
       "       [ 5.09484184],\n",
       "       [-0.60061611],\n",
       "       [ 2.79039983],\n",
       "       [-1.40877121],\n",
       "       [ 7.25917884],\n",
       "       [ 1.29886655],\n",
       "       [ 1.07669328],\n",
       "       [-1.24976052],\n",
       "       [-1.25692841],\n",
       "       [-1.16653521],\n",
       "       [ 4.09414256],\n",
       "       [-1.88763924],\n",
       "       [-2.7674357 ],\n",
       "       [ 2.22699449],\n",
       "       [-1.13157689],\n",
       "       [-0.73377245],\n",
       "       [-2.33367074],\n",
       "       [ 2.69722375],\n",
       "       [ 3.37901467],\n",
       "       [-0.19987058],\n",
       "       [-1.17602591],\n",
       "       [-1.29263654],\n",
       "       [ 8.63075586],\n",
       "       [-4.42945637],\n",
       "       [-0.61983874],\n",
       "       [-3.25231577],\n",
       "       [-3.35292705],\n",
       "       [-0.85980299],\n",
       "       [-3.15662197],\n",
       "       [ 0.34652811],\n",
       "       [-2.46140665],\n",
       "       [-1.53010072],\n",
       "       [-1.77358507],\n",
       "       [-2.68044162],\n",
       "       [ 4.02843526],\n",
       "       [-2.13635123],\n",
       "       [ 5.16541095],\n",
       "       [ 0.53593195],\n",
       "       [ 0.34312338],\n",
       "       [-4.19707999],\n",
       "       [-1.14283186],\n",
       "       [-1.66547515],\n",
       "       [ 1.0117125 ],\n",
       "       [-1.30092971],\n",
       "       [-2.37342873],\n",
       "       [-1.66587101],\n",
       "       [-1.92767819],\n",
       "       [-4.23721662],\n",
       "       [-2.67787072],\n",
       "       [-3.83649785],\n",
       "       [-2.5514403 ],\n",
       "       [-4.69492345],\n",
       "       [-2.02503716],\n",
       "       [-2.89594821],\n",
       "       [-3.50220104],\n",
       "       [-2.15390367],\n",
       "       [-2.05508407],\n",
       "       [-3.87728958],\n",
       "       [-4.06386211],\n",
       "       [-0.09866733],\n",
       "       [-1.08937619],\n",
       "       [-0.48177096],\n",
       "       [-4.87030952],\n",
       "       [ 5.91761259],\n",
       "       [ 8.74133808],\n",
       "       [ 6.43931548],\n",
       "       [ 3.79338237],\n",
       "       [ 1.25617928],\n",
       "       [10.37479406],\n",
       "       [-5.4752433 ]])"
      ]
     },
     "execution_count": 16,
     "metadata": {},
     "output_type": "execute_result"
    }
   ],
   "source": [
    "\n",
    "x_pca\n"
   ]
  },
  {
   "cell_type": "code",
   "execution_count": 17,
   "id": "b1312870",
   "metadata": {},
   "outputs": [
    {
     "name": "stdout",
     "output_type": "stream",
     "text": [
      "(569, 30)\n",
      "(569, 1)\n",
      "<class 'numpy.ndarray'>\n"
     ]
    }
   ],
   "source": [
    "print(scaled_df.shape)\n",
    "print(x_pca.shape)\n",
    "print(type(x_pca))"
   ]
  },
  {
   "cell_type": "code",
   "execution_count": 18,
   "id": "5bbf1551",
   "metadata": {},
   "outputs": [
    {
     "data": {
      "text/plain": [
       "array([[0.21890244, 0.10372458, 0.22753729, 0.22099499, 0.14258969,\n",
       "        0.23928535, 0.25840048, 0.26085376, 0.13816696, 0.06436335,\n",
       "        0.20597878, 0.01742803, 0.21132592, 0.20286964, 0.01453145,\n",
       "        0.17039345, 0.15358979, 0.1834174 , 0.04249842, 0.10256832,\n",
       "        0.22799663, 0.10446933, 0.23663968, 0.22487053, 0.12795256,\n",
       "        0.21009588, 0.22876753, 0.25088597, 0.12290456, 0.13178394]])"
      ]
     },
     "execution_count": 18,
     "metadata": {},
     "output_type": "execute_result"
    }
   ],
   "source": [
    "\n",
    "# 5 * 6 werte ersetzen die features --> 1 component\n",
    "pca.components_\n"
   ]
  },
  {
   "cell_type": "code",
   "execution_count": 19,
   "id": "48646e32",
   "metadata": {},
   "outputs": [],
   "source": [
    "\n",
    "# dataframe aus den components:\n",
    "df_pastpca = pd.DataFrame(pca.components_,columns=cancer[\"feature_names\"])\n"
   ]
  },
  {
   "cell_type": "code",
   "execution_count": 20,
   "id": "d3972e5c",
   "metadata": {},
   "outputs": [
    {
     "data": {
      "text/html": [
       "<div>\n",
       "<style scoped>\n",
       "    .dataframe tbody tr th:only-of-type {\n",
       "        vertical-align: middle;\n",
       "    }\n",
       "\n",
       "    .dataframe tbody tr th {\n",
       "        vertical-align: top;\n",
       "    }\n",
       "\n",
       "    .dataframe thead th {\n",
       "        text-align: right;\n",
       "    }\n",
       "</style>\n",
       "<table border=\"1\" class=\"dataframe\">\n",
       "  <thead>\n",
       "    <tr style=\"text-align: right;\">\n",
       "      <th></th>\n",
       "      <th>mean radius</th>\n",
       "      <th>mean texture</th>\n",
       "      <th>mean perimeter</th>\n",
       "      <th>mean area</th>\n",
       "      <th>mean smoothness</th>\n",
       "      <th>mean compactness</th>\n",
       "      <th>mean concavity</th>\n",
       "      <th>mean concave points</th>\n",
       "      <th>mean symmetry</th>\n",
       "      <th>mean fractal dimension</th>\n",
       "      <th>...</th>\n",
       "      <th>worst radius</th>\n",
       "      <th>worst texture</th>\n",
       "      <th>worst perimeter</th>\n",
       "      <th>worst area</th>\n",
       "      <th>worst smoothness</th>\n",
       "      <th>worst compactness</th>\n",
       "      <th>worst concavity</th>\n",
       "      <th>worst concave points</th>\n",
       "      <th>worst symmetry</th>\n",
       "      <th>worst fractal dimension</th>\n",
       "    </tr>\n",
       "  </thead>\n",
       "  <tbody>\n",
       "    <tr>\n",
       "      <th>0</th>\n",
       "      <td>0.218902</td>\n",
       "      <td>0.103725</td>\n",
       "      <td>0.227537</td>\n",
       "      <td>0.220995</td>\n",
       "      <td>0.14259</td>\n",
       "      <td>0.239285</td>\n",
       "      <td>0.2584</td>\n",
       "      <td>0.260854</td>\n",
       "      <td>0.138167</td>\n",
       "      <td>0.064363</td>\n",
       "      <td>...</td>\n",
       "      <td>0.227997</td>\n",
       "      <td>0.104469</td>\n",
       "      <td>0.23664</td>\n",
       "      <td>0.224871</td>\n",
       "      <td>0.127953</td>\n",
       "      <td>0.210096</td>\n",
       "      <td>0.228768</td>\n",
       "      <td>0.250886</td>\n",
       "      <td>0.122905</td>\n",
       "      <td>0.131784</td>\n",
       "    </tr>\n",
       "  </tbody>\n",
       "</table>\n",
       "<p>1 rows × 30 columns</p>\n",
       "</div>"
      ],
      "text/plain": [
       "   mean radius  mean texture  mean perimeter  mean area  mean smoothness  \\\n",
       "0     0.218902      0.103725        0.227537   0.220995          0.14259   \n",
       "\n",
       "   mean compactness  mean concavity  mean concave points  mean symmetry  \\\n",
       "0          0.239285          0.2584             0.260854       0.138167   \n",
       "\n",
       "   mean fractal dimension  ...  worst radius  worst texture  worst perimeter  \\\n",
       "0                0.064363  ...      0.227997       0.104469          0.23664   \n",
       "\n",
       "   worst area  worst smoothness  worst compactness  worst concavity  \\\n",
       "0    0.224871          0.127953           0.210096         0.228768   \n",
       "\n",
       "   worst concave points  worst symmetry  worst fractal dimension  \n",
       "0              0.250886        0.122905                 0.131784  \n",
       "\n",
       "[1 rows x 30 columns]"
      ]
     },
     "execution_count": 20,
     "metadata": {},
     "output_type": "execute_result"
    }
   ],
   "source": [
    "df_pastpca"
   ]
  },
  {
   "cell_type": "code",
   "execution_count": 22,
   "id": "155f8d98",
   "metadata": {},
   "outputs": [
    {
     "data": {
      "text/plain": [
       "<Axes: >"
      ]
     },
     "execution_count": 22,
     "metadata": {},
     "output_type": "execute_result"
    },
    {
     "data": {
      "image/png": "[encoded data removed]",
      "text/plain": [
       "<Figure size 1200x400 with 2 Axes>"
      ]
     },
     "metadata": {},
     "output_type": "display_data"
    }
   ],
   "source": [
    "plt.figure(figsize=(12,4))\n",
    "sns.heatmap(df_pastpca)"
   ]
  },
  {
   "cell_type": "code",
   "execution_count": 29,
   "id": "8a979dbf",
   "metadata": {},
   "outputs": [
    {
     "data": {
      "text/plain": [
       "Text(0.5, 1.0, 'malignant = 0\\nbenign = 1')"
      ]
     },
     "execution_count": 29,
     "metadata": {},
     "output_type": "execute_result"
    },
    {
     "data": {
      "image/png": "[encoded data removed]",
      "text/plain": [
       "<Figure size 640x480 with 2 Axes>"
      ]
     },
     "metadata": {},
     "output_type": "display_data"
    }
   ],
   "source": [
    "\n",
    "# die reduzierten 2 features als x und y:\n",
    "sns.heatmap(data=x_pca)\n",
    "#plt.legend(leg)\n",
    "plt.title(\"malignant = 0\\nbenign = 1\")\n"
   ]
  },
  {
   "cell_type": "code",
   "execution_count": 30,
   "id": "7ae9d27b",
   "metadata": {},
   "outputs": [],
   "source": [
    "\n",
    "# nach PCA: datensatz mit viel kleinerer größe (ohne informationsverlust)\n",
    "# --> nun kann man den algorithmus anwenden\n"
   ]
  },
  {
   "cell_type": "markdown",
   "id": "7eb3ee39",
   "metadata": {},
   "source": [
    "\n",
    "# k-means algorithmus\n"
   ]
  },
  {
   "cell_type": "code",
   "execution_count": 31,
   "id": "34652a2e",
   "metadata": {},
   "outputs": [],
   "source": [
    "\n",
    "# bibliothek importieren\n",
    "from sklearn.cluster import KMeans\n"
   ]
  },
  {
   "cell_type": "code",
   "execution_count": 32,
   "id": "e5735d26",
   "metadata": {},
   "outputs": [],
   "source": [
    "\n",
    "# elbow-methode:\n",
    "kmeans_k = [KMeans(n_clusters=k, random_state=42).fit(x_pca) for k in range(1, 11)]\n",
    "inertias = [model.inertia_ for model in kmeans_k]\n"
   ]
  },
  {
   "cell_type": "code",
   "execution_count": 33,
   "id": "0201a61d",
   "metadata": {},
   "outputs": [
    {
     "data": {
      "text/plain": [
       "[<matplotlib.lines.Line2D at 0x29515e27ca0>]"
      ]
     },
     "execution_count": 33,
     "metadata": {},
     "output_type": "execute_result"
    },
    {
     "data": {
      "image/png": "[encoded data removed]",
      "text/plain": [
       "<Figure size 640x480 with 1 Axes>"
      ]
     },
     "metadata": {},
     "output_type": "display_data"
    }
   ],
   "source": [
    "\n",
    "# größter knick bei k = 2!!\n",
    "plt.grid()\n",
    "plt.plot(range(1, 11),inertias,marker=\"o\")\n"
   ]
  },
  {
   "cell_type": "code",
   "execution_count": 41,
   "id": "a6c6fdc8",
   "metadata": {},
   "outputs": [],
   "source": [
    "\n",
    "# man wählt am besten k = 2:\n",
    "km = KMeans(n_clusters=2,random_state=42)\n",
    "cluster_pred = km.fit_predict(x_pca)\n"
   ]
  },
  {
   "cell_type": "code",
   "execution_count": 42,
   "id": "9fa5a940",
   "metadata": {},
   "outputs": [
    {
     "data": {
      "text/plain": [
       "array([0, 0, 0, 0, 0, 0, 0, 0, 0, 0, 1, 0, 0, 1, 0, 0, 1, 0, 0, 1, 1, 1,\n",
       "       0, 0, 0, 0, 0, 0, 0, 0, 0, 0, 0, 0, 0, 0, 0, 1, 1, 1, 1, 1, 0, 1,\n",
       "       1, 0, 1, 0, 1, 1, 1, 1, 1, 0, 1, 1, 0, 0, 1, 1, 1, 1, 0, 1, 0, 0,\n",
       "       1, 1, 0, 1, 0, 1, 0, 1, 1, 0, 1, 0, 0, 1, 1, 0, 0, 0, 1, 0, 1, 0,\n",
       "       1, 0, 1, 1, 1, 1, 0, 0, 1, 1, 1, 1, 1, 1, 1, 1, 1, 0, 1, 1, 0, 1,\n",
       "       1, 1, 0, 1, 1, 1, 1, 0, 0, 1, 1, 0, 0, 1, 1, 1, 1, 0, 0, 0, 1, 0,\n",
       "       0, 1, 0, 1, 1, 1, 0, 1, 1, 0, 1, 1, 1, 1, 0, 1, 1, 1, 1, 1, 0, 1,\n",
       "       1, 1, 0, 1, 1, 1, 1, 0, 0, 1, 0, 1, 1, 0, 0, 1, 1, 1, 0, 1, 1, 1,\n",
       "       0, 0, 1, 1, 0, 0, 1, 1, 1, 1, 1, 1, 1, 1, 0, 1, 1, 0, 0, 1, 0, 0,\n",
       "       0, 0, 1, 0, 0, 0, 1, 1, 1, 1, 1, 1, 0, 1, 0, 0, 0, 0, 1, 1, 0, 0,\n",
       "       1, 1, 1, 0, 1, 1, 1, 1, 1, 0, 0, 1, 1, 0, 1, 1, 0, 0, 1, 0, 1, 1,\n",
       "       0, 1, 0, 1, 1, 1, 1, 1, 0, 1, 0, 0, 0, 1, 0, 0, 0, 0, 0, 1, 0, 1,\n",
       "       0, 0, 1, 1, 1, 1, 1, 1, 0, 1, 1, 1, 1, 1, 1, 1, 0, 1, 0, 0, 1, 1,\n",
       "       1, 1, 1, 1, 0, 1, 1, 1, 1, 1, 1, 1, 1, 1, 0, 1, 0, 1, 1, 1, 1, 1,\n",
       "       1, 1, 1, 1, 1, 1, 1, 1, 1, 0, 0, 1, 1, 0, 1, 0, 1, 1, 1, 1, 0, 0,\n",
       "       0, 1, 1, 1, 1, 0, 1, 0, 1, 0, 1, 1, 1, 0, 1, 1, 1, 1, 1, 1, 1, 0,\n",
       "       0, 0, 1, 1, 1, 1, 1, 1, 1, 1, 1, 1, 1, 0, 0, 1, 0, 0, 0, 1, 0, 0,\n",
       "       1, 1, 0, 1, 1, 0, 1, 1, 1, 1, 1, 1, 1, 1, 1, 0, 1, 1, 0, 0, 1, 1,\n",
       "       1, 1, 1, 1, 0, 1, 1, 1, 1, 1, 1, 1, 0, 1, 1, 1, 1, 1, 1, 1, 1, 0,\n",
       "       1, 1, 1, 0, 1, 1, 1, 1, 1, 1, 1, 1, 0, 1, 0, 0, 1, 1, 1, 1, 1, 1,\n",
       "       1, 0, 1, 1, 1, 1, 0, 1, 1, 0, 1, 0, 1, 1, 1, 1, 1, 1, 1, 1, 0, 0,\n",
       "       1, 1, 1, 0, 1, 1, 0, 1, 1, 1, 1, 1, 1, 1, 1, 1, 1, 0, 1, 1, 1, 1,\n",
       "       1, 0, 1, 0, 1, 1, 1, 1, 0, 1, 1, 1, 1, 1, 0, 0, 1, 0, 1, 0, 0, 1,\n",
       "       1, 1, 1, 0, 1, 1, 0, 1, 1, 1, 0, 0, 1, 1, 1, 0, 1, 1, 1, 1, 1, 1,\n",
       "       1, 1, 1, 1, 1, 0, 1, 0, 1, 1, 1, 1, 1, 1, 1, 1, 1, 1, 1, 1, 1, 1,\n",
       "       1, 1, 1, 1, 1, 1, 1, 1, 1, 1, 1, 1, 0, 0, 0, 0, 0, 0, 1])"
      ]
     },
     "execution_count": 42,
     "metadata": {},
     "output_type": "execute_result"
    }
   ],
   "source": [
    "\n",
    "cluster_pred\n"
   ]
  },
  {
   "cell_type": "code",
   "execution_count": 43,
   "id": "d4a5a680",
   "metadata": {},
   "outputs": [
    {
     "data": {
      "text/plain": [
       "<Axes: >"
      ]
     },
     "execution_count": 43,
     "metadata": {},
     "output_type": "execute_result"
    },
    {
     "data": {
      "image/png": "[encoded data removed]",
      "text/plain": [
       "<Figure size 640x480 with 1 Axes>"
      ]
     },
     "metadata": {},
     "output_type": "display_data"
    }
   ],
   "source": [
    "\n",
    "sns.scatterplot(data=x_pca)\n"
   ]
  },
  {
   "cell_type": "code",
   "execution_count": 44,
   "id": "ddc7f88f",
   "metadata": {},
   "outputs": [],
   "source": [
    "\n",
    "# classification report:\n",
    "from sklearn.metrics import classification_report,confusion_matrix\n"
   ]
  },
  {
   "cell_type": "code",
   "execution_count": 45,
   "id": "b73b78c9",
   "metadata": {},
   "outputs": [
    {
     "name": "stdout",
     "output_type": "stream",
     "text": [
      "              precision    recall  f1-score   support\n",
      "\n",
      "           0       0.92      0.83      0.87       212\n",
      "           1       0.90      0.96      0.93       357\n",
      "\n",
      "    accuracy                           0.91       569\n",
      "   macro avg       0.91      0.89      0.90       569\n",
      "weighted avg       0.91      0.91      0.91       569\n",
      "\n",
      "[[175  37]\n",
      " [ 15 342]]\n"
     ]
    }
   ],
   "source": [
    "print(classification_report(cancer[\"target\"],cluster_pred))\n",
    "print(confusion_matrix(cancer[\"target\"],cluster_pred))"
   ]
  },
  {
   "cell_type": "markdown",
   "id": "82e049f5",
   "metadata": {},
   "source": [
    "\n",
    "# mit SVM algorithmus\n"
   ]
  },
  {
   "cell_type": "code",
   "execution_count": 46,
   "id": "f86d7497",
   "metadata": {},
   "outputs": [],
   "source": [
    "\n",
    "# trainings-/testdatensatz:\n",
    "from sklearn.model_selection import train_test_split\n",
    "X_train, X_test, y_train, y_test = train_test_split(x_pca, cancer[\"target\"], test_size=0.33, random_state=42)\n",
    "\n",
    "# svm importieren mit hyperparameter (beste gamma,c):\n",
    "from sklearn.svm import SVC\n",
    "from sklearn.model_selection import GridSearchCV\n",
    "\n"
   ]
  },
  {
   "cell_type": "code",
   "execution_count": 50,
   "id": "2e7ec1dd",
   "metadata": {},
   "outputs": [
    {
     "name": "stdout",
     "output_type": "stream",
     "text": [
      "Fitting 5 folds for each of 16 candidates, totalling 80 fits\n",
      "[CV] END .....................................C=0.1, gamma=1; total time=   0.0s\n",
      "[CV] END .....................................C=0.1, gamma=1; total time=   0.0s\n",
      "[CV] END .....................................C=0.1, gamma=1; total time=   0.0s\n",
      "[CV] END .....................................C=0.1, gamma=1; total time=   0.0s\n",
      "[CV] END .....................................C=0.1, gamma=1; total time=   0.0s\n",
      "[CV] END ...................................C=0.1, gamma=0.1; total time=   0.0s\n",
      "[CV] END ...................................C=0.1, gamma=0.1; total time=   0.0s\n",
      "[CV] END ...................................C=0.1, gamma=0.1; total time=   0.0s\n",
      "[CV] END ...................................C=0.1, gamma=0.1; total time=   0.0s\n",
      "[CV] END ...................................C=0.1, gamma=0.1; total time=   0.0s\n",
      "[CV] END .................................C=0.1, gamma=0.001; total time=   0.0s\n",
      "[CV] END .................................C=0.1, gamma=0.001; total time=   0.0s\n",
      "[CV] END .................................C=0.1, gamma=0.001; total time=   0.0s\n",
      "[CV] END .................................C=0.1, gamma=0.001; total time=   0.0s\n",
      "[CV] END .................................C=0.1, gamma=0.001; total time=   0.0s\n",
      "[CV] END ................................C=0.1, gamma=0.0001; total time=   0.0s\n",
      "[CV] END ................................C=0.1, gamma=0.0001; total time=   0.0s\n",
      "[CV] END ................................C=0.1, gamma=0.0001; total time=   0.0s\n",
      "[CV] END ................................C=0.1, gamma=0.0001; total time=   0.0s\n",
      "[CV] END ................................C=0.1, gamma=0.0001; total time=   0.0s\n",
      "[CV] END .......................................C=1, gamma=1; total time=   0.0s\n",
      "[CV] END .......................................C=1, gamma=1; total time=   0.0s\n",
      "[CV] END .......................................C=1, gamma=1; total time=   0.0s\n",
      "[CV] END .......................................C=1, gamma=1; total time=   0.0s\n",
      "[CV] END .......................................C=1, gamma=1; total time=   0.0s\n",
      "[CV] END .....................................C=1, gamma=0.1; total time=   0.0s\n",
      "[CV] END .....................................C=1, gamma=0.1; total time=   0.0s\n",
      "[CV] END .....................................C=1, gamma=0.1; total time=   0.0s\n",
      "[CV] END .....................................C=1, gamma=0.1; total time=   0.0s\n",
      "[CV] END .....................................C=1, gamma=0.1; total time=   0.0s\n",
      "[CV] END ...................................C=1, gamma=0.001; total time=   0.0s\n",
      "[CV] END ...................................C=1, gamma=0.001; total time=   0.0s\n",
      "[CV] END ...................................C=1, gamma=0.001; total time=   0.0s\n",
      "[CV] END ...................................C=1, gamma=0.001; total time=   0.0s\n",
      "[CV] END ...................................C=1, gamma=0.001; total time=   0.0s\n",
      "[CV] END ..................................C=1, gamma=0.0001; total time=   0.0s\n",
      "[CV] END ..................................C=1, gamma=0.0001; total time=   0.0s\n",
      "[CV] END ..................................C=1, gamma=0.0001; total time=   0.0s\n",
      "[CV] END ..................................C=1, gamma=0.0001; total time=   0.0s\n",
      "[CV] END ..................................C=1, gamma=0.0001; total time=   0.0s\n",
      "[CV] END ......................................C=10, gamma=1; total time=   0.0s\n",
      "[CV] END ......................................C=10, gamma=1; total time=   0.0s\n",
      "[CV] END ......................................C=10, gamma=1; total time=   0.0s\n",
      "[CV] END ......................................C=10, gamma=1; total time=   0.0s\n",
      "[CV] END ......................................C=10, gamma=1; total time=   0.0s\n",
      "[CV] END ....................................C=10, gamma=0.1; total time=   0.0s\n",
      "[CV] END ....................................C=10, gamma=0.1; total time=   0.0s\n",
      "[CV] END ....................................C=10, gamma=0.1; total time=   0.0s\n",
      "[CV] END ....................................C=10, gamma=0.1; total time=   0.0s\n",
      "[CV] END ....................................C=10, gamma=0.1; total time=   0.0s\n",
      "[CV] END ..................................C=10, gamma=0.001; total time=   0.0s\n",
      "[CV] END ..................................C=10, gamma=0.001; total time=   0.0s\n",
      "[CV] END ..................................C=10, gamma=0.001; total time=   0.0s\n",
      "[CV] END ..................................C=10, gamma=0.001; total time=   0.0s\n",
      "[CV] END ..................................C=10, gamma=0.001; total time=   0.0s\n",
      "[CV] END .................................C=10, gamma=0.0001; total time=   0.0s\n",
      "[CV] END .................................C=10, gamma=0.0001; total time=   0.0s\n",
      "[CV] END .................................C=10, gamma=0.0001; total time=   0.0s\n",
      "[CV] END .................................C=10, gamma=0.0001; total time=   0.0s\n",
      "[CV] END .................................C=10, gamma=0.0001; total time=   0.0s\n",
      "[CV] END .....................................C=100, gamma=1; total time=   0.0s\n",
      "[CV] END .....................................C=100, gamma=1; total time=   0.0s\n",
      "[CV] END .....................................C=100, gamma=1; total time=   0.0s\n",
      "[CV] END .....................................C=100, gamma=1; total time=   0.0s\n",
      "[CV] END .....................................C=100, gamma=1; total time=   0.0s\n",
      "[CV] END ...................................C=100, gamma=0.1; total time=   0.0s\n",
      "[CV] END ...................................C=100, gamma=0.1; total time=   0.0s\n",
      "[CV] END ...................................C=100, gamma=0.1; total time=   0.0s\n",
      "[CV] END ...................................C=100, gamma=0.1; total time=   0.0s\n",
      "[CV] END ...................................C=100, gamma=0.1; total time=   0.0s\n",
      "[CV] END .................................C=100, gamma=0.001; total time=   0.0s\n",
      "[CV] END .................................C=100, gamma=0.001; total time=   0.0s\n",
      "[CV] END .................................C=100, gamma=0.001; total time=   0.0s\n",
      "[CV] END .................................C=100, gamma=0.001; total time=   0.0s\n",
      "[CV] END .................................C=100, gamma=0.001; total time=   0.0s\n",
      "[CV] END ................................C=100, gamma=0.0001; total time=   0.0s\n",
      "[CV] END ................................C=100, gamma=0.0001; total time=   0.0s\n",
      "[CV] END ................................C=100, gamma=0.0001; total time=   0.0s\n",
      "[CV] END ................................C=100, gamma=0.0001; total time=   0.0s\n",
      "[CV] END ................................C=100, gamma=0.0001; total time=   0.0s\n"
     ]
    },
    {
     "data": {
      "text/html": [
       "<style>#sk-container-id-3 {color: black;}#sk-container-id-3 pre{padding: 0;}#sk-container-id-3 div.sk-toggleable {background-color: white;}#sk-container-id-3 label.sk-toggleable__label {cursor: pointer;display: block;width: 100%;margin-bottom: 0;padding: 0.3em;box-sizing: border-box;text-align: center;}#sk-container-id-3 label.sk-toggleable__label-arrow:before {content: \"▸\";float: left;margin-right: 0.25em;color: #696969;}#sk-container-id-3 label.sk-toggleable__label-arrow:hover:before {color: black;}#sk-container-id-3 div.sk-estimator:hover label.sk-toggleable__label-arrow:before {color: black;}#sk-container-id-3 div.sk-toggleable__content {max-height: 0;max-width: 0;overflow: hidden;text-align: left;background-color: #f0f8ff;}#sk-container-id-3 div.sk-toggleable__content pre {margin: 0.2em;color: black;border-radius: 0.25em;background-color: #f0f8ff;}#sk-container-id-3 input.sk-toggleable__control:checked~div.sk-toggleable__content {max-height: 200px;max-width: 100%;overflow: auto;}#sk-container-id-3 input.sk-toggleable__control:checked~label.sk-toggleable__label-arrow:before {content: \"▾\";}#sk-container-id-3 div.sk-estimator input.sk-toggleable__control:checked~label.sk-toggleable__label {background-color: #d4ebff;}#sk-container-id-3 div.sk-label input.sk-toggleable__control:checked~label.sk-toggleable__label {background-color: #d4ebff;}#sk-container-id-3 input.sk-hidden--visually {border: 0;clip: rect(1px 1px 1px 1px);clip: rect(1px, 1px, 1px, 1px);height: 1px;margin: -1px;overflow: hidden;padding: 0;position: absolute;width: 1px;}#sk-container-id-3 div.sk-estimator {font-family: monospace;background-color: #f0f8ff;border: 1px dotted black;border-radius: 0.25em;box-sizing: border-box;margin-bottom: 0.5em;}#sk-container-id-3 div.sk-estimator:hover {background-color: #d4ebff;}#sk-container-id-3 div.sk-parallel-item::after {content: \"\";width: 100%;border-bottom: 1px solid gray;flex-grow: 1;}#sk-container-id-3 div.sk-label:hover label.sk-toggleable__label {background-color: #d4ebff;}#sk-container-id-3 div.sk-serial::before {content: \"\";position: absolute;border-left: 1px solid gray;box-sizing: border-box;top: 0;bottom: 0;left: 50%;z-index: 0;}#sk-container-id-3 div.sk-serial {display: flex;flex-direction: column;align-items: center;background-color: white;padding-right: 0.2em;padding-left: 0.2em;position: relative;}#sk-container-id-3 div.sk-item {position: relative;z-index: 1;}#sk-container-id-3 div.sk-parallel {display: flex;align-items: stretch;justify-content: center;background-color: white;position: relative;}#sk-container-id-3 div.sk-item::before, #sk-container-id-3 div.sk-parallel-item::before {content: \"\";position: absolute;border-left: 1px solid gray;box-sizing: border-box;top: 0;bottom: 0;left: 50%;z-index: -1;}#sk-container-id-3 div.sk-parallel-item {display: flex;flex-direction: column;z-index: 1;position: relative;background-color: white;}#sk-container-id-3 div.sk-parallel-item:first-child::after {align-self: flex-end;width: 50%;}#sk-container-id-3 div.sk-parallel-item:last-child::after {align-self: flex-start;width: 50%;}#sk-container-id-3 div.sk-parallel-item:only-child::after {width: 0;}#sk-container-id-3 div.sk-dashed-wrapped {border: 1px dashed gray;margin: 0 0.4em 0.5em 0.4em;box-sizing: border-box;padding-bottom: 0.4em;background-color: white;}#sk-container-id-3 div.sk-label label {font-family: monospace;font-weight: bold;display: inline-block;line-height: 1.2em;}#sk-container-id-3 div.sk-label-container {text-align: center;}#sk-container-id-3 div.sk-container {/* jupyter's `normalize.less` sets `[hidden] { display: none; }` but bootstrap.min.css set `[hidden] { display: none !important; }` so we also need the `!important` here to be able to override the default hidden behavior on the sphinx rendered scikit-learn.org. See: https://github.com/scikit-learn/scikit-learn/issues/21755 */display: inline-block !important;position: relative;}#sk-container-id-3 div.sk-text-repr-fallback {display: none;}</style><div id=\"sk-container-id-3\" class=\"sk-top-container\"><div class=\"sk-text-repr-fallback\"><pre>GridSearchCV(estimator=SVC(),\n",
       "             param_grid={&#x27;C&#x27;: [0.1, 1, 10, 100],\n",
       "                         &#x27;gamma&#x27;: [1, 0.1, 0.001, 0.0001]},\n",
       "             verbose=2)</pre><b>In a Jupyter environment, please rerun this cell to show the HTML representation or trust the notebook. <br />On GitHub, the HTML representation is unable to render, please try loading this page with nbviewer.org.</b></div><div class=\"sk-container\" hidden><div class=\"sk-item sk-dashed-wrapped\"><div class=\"sk-label-container\"><div class=\"sk-label sk-toggleable\"><input class=\"sk-toggleable__control sk-hidden--visually\" id=\"sk-estimator-id-5\" type=\"checkbox\" ><label for=\"sk-estimator-id-5\" class=\"sk-toggleable__label sk-toggleable__label-arrow\">GridSearchCV</label><div class=\"sk-toggleable__content\"><pre>GridSearchCV(estimator=SVC(),\n",
       "             param_grid={&#x27;C&#x27;: [0.1, 1, 10, 100],\n",
       "                         &#x27;gamma&#x27;: [1, 0.1, 0.001, 0.0001]},\n",
       "             verbose=2)</pre></div></div></div><div class=\"sk-parallel\"><div class=\"sk-parallel-item\"><div class=\"sk-item\"><div class=\"sk-label-container\"><div class=\"sk-label sk-toggleable\"><input class=\"sk-toggleable__control sk-hidden--visually\" id=\"sk-estimator-id-6\" type=\"checkbox\" ><label for=\"sk-estimator-id-6\" class=\"sk-toggleable__label sk-toggleable__label-arrow\">estimator: SVC</label><div class=\"sk-toggleable__content\"><pre>SVC()</pre></div></div></div><div class=\"sk-serial\"><div class=\"sk-item\"><div class=\"sk-estimator sk-toggleable\"><input class=\"sk-toggleable__control sk-hidden--visually\" id=\"sk-estimator-id-7\" type=\"checkbox\" ><label for=\"sk-estimator-id-7\" class=\"sk-toggleable__label sk-toggleable__label-arrow\">SVC</label><div class=\"sk-toggleable__content\"><pre>SVC()</pre></div></div></div></div></div></div></div></div></div></div>"
      ],
      "text/plain": [
       "GridSearchCV(estimator=SVC(),\n",
       "             param_grid={'C': [0.1, 1, 10, 100],\n",
       "                         'gamma': [1, 0.1, 0.001, 0.0001]},\n",
       "             verbose=2)"
      ]
     },
     "execution_count": 50,
     "metadata": {},
     "output_type": "execute_result"
    }
   ],
   "source": [
    "\n",
    "# best gamma und c ermitteln:\n",
    "hyp_para = {\"C\":[0.1,1,10,100],\"gamma\":[1,0.1,0.001,0.0001]}\n",
    "# initialisieren:\n",
    "grd = GridSearchCV(SVC(),hyp_para,refit=True,verbose=2)\n",
    "# trainieren:\n",
    "grd.fit(X_train,y_train)\n"
   ]
  },
  {
   "cell_type": "code",
   "execution_count": 51,
   "id": "c848fd25",
   "metadata": {},
   "outputs": [
    {
     "data": {
      "text/plain": [
       "{'C': 10, 'gamma': 0.001}"
      ]
     },
     "execution_count": 51,
     "metadata": {},
     "output_type": "execute_result"
    }
   ],
   "source": [
    "\n",
    "grd.best_params_\n"
   ]
  },
  {
   "cell_type": "code",
   "execution_count": 52,
   "id": "2bad44bf",
   "metadata": {},
   "outputs": [],
   "source": [
    "\n",
    "# neue vector-machine erstellen --> SVM\n",
    "svc = SVC(C=10,gamma=0.001)\n"
   ]
  },
  {
   "cell_type": "code",
   "execution_count": 53,
   "id": "2025d53e",
   "metadata": {},
   "outputs": [
    {
     "data": {
      "text/html": [
       "<style>#sk-container-id-4 {color: black;}#sk-container-id-4 pre{padding: 0;}#sk-container-id-4 div.sk-toggleable {background-color: white;}#sk-container-id-4 label.sk-toggleable__label {cursor: pointer;display: block;width: 100%;margin-bottom: 0;padding: 0.3em;box-sizing: border-box;text-align: center;}#sk-container-id-4 label.sk-toggleable__label-arrow:before {content: \"▸\";float: left;margin-right: 0.25em;color: #696969;}#sk-container-id-4 label.sk-toggleable__label-arrow:hover:before {color: black;}#sk-container-id-4 div.sk-estimator:hover label.sk-toggleable__label-arrow:before {color: black;}#sk-container-id-4 div.sk-toggleable__content {max-height: 0;max-width: 0;overflow: hidden;text-align: left;background-color: #f0f8ff;}#sk-container-id-4 div.sk-toggleable__content pre {margin: 0.2em;color: black;border-radius: 0.25em;background-color: #f0f8ff;}#sk-container-id-4 input.sk-toggleable__control:checked~div.sk-toggleable__content {max-height: 200px;max-width: 100%;overflow: auto;}#sk-container-id-4 input.sk-toggleable__control:checked~label.sk-toggleable__label-arrow:before {content: \"▾\";}#sk-container-id-4 div.sk-estimator input.sk-toggleable__control:checked~label.sk-toggleable__label {background-color: #d4ebff;}#sk-container-id-4 div.sk-label input.sk-toggleable__control:checked~label.sk-toggleable__label {background-color: #d4ebff;}#sk-container-id-4 input.sk-hidden--visually {border: 0;clip: rect(1px 1px 1px 1px);clip: rect(1px, 1px, 1px, 1px);height: 1px;margin: -1px;overflow: hidden;padding: 0;position: absolute;width: 1px;}#sk-container-id-4 div.sk-estimator {font-family: monospace;background-color: #f0f8ff;border: 1px dotted black;border-radius: 0.25em;box-sizing: border-box;margin-bottom: 0.5em;}#sk-container-id-4 div.sk-estimator:hover {background-color: #d4ebff;}#sk-container-id-4 div.sk-parallel-item::after {content: \"\";width: 100%;border-bottom: 1px solid gray;flex-grow: 1;}#sk-container-id-4 div.sk-label:hover label.sk-toggleable__label {background-color: #d4ebff;}#sk-container-id-4 div.sk-serial::before {content: \"\";position: absolute;border-left: 1px solid gray;box-sizing: border-box;top: 0;bottom: 0;left: 50%;z-index: 0;}#sk-container-id-4 div.sk-serial {display: flex;flex-direction: column;align-items: center;background-color: white;padding-right: 0.2em;padding-left: 0.2em;position: relative;}#sk-container-id-4 div.sk-item {position: relative;z-index: 1;}#sk-container-id-4 div.sk-parallel {display: flex;align-items: stretch;justify-content: center;background-color: white;position: relative;}#sk-container-id-4 div.sk-item::before, #sk-container-id-4 div.sk-parallel-item::before {content: \"\";position: absolute;border-left: 1px solid gray;box-sizing: border-box;top: 0;bottom: 0;left: 50%;z-index: -1;}#sk-container-id-4 div.sk-parallel-item {display: flex;flex-direction: column;z-index: 1;position: relative;background-color: white;}#sk-container-id-4 div.sk-parallel-item:first-child::after {align-self: flex-end;width: 50%;}#sk-container-id-4 div.sk-parallel-item:last-child::after {align-self: flex-start;width: 50%;}#sk-container-id-4 div.sk-parallel-item:only-child::after {width: 0;}#sk-container-id-4 div.sk-dashed-wrapped {border: 1px dashed gray;margin: 0 0.4em 0.5em 0.4em;box-sizing: border-box;padding-bottom: 0.4em;background-color: white;}#sk-container-id-4 div.sk-label label {font-family: monospace;font-weight: bold;display: inline-block;line-height: 1.2em;}#sk-container-id-4 div.sk-label-container {text-align: center;}#sk-container-id-4 div.sk-container {/* jupyter's `normalize.less` sets `[hidden] { display: none; }` but bootstrap.min.css set `[hidden] { display: none !important; }` so we also need the `!important` here to be able to override the default hidden behavior on the sphinx rendered scikit-learn.org. See: https://github.com/scikit-learn/scikit-learn/issues/21755 */display: inline-block !important;position: relative;}#sk-container-id-4 div.sk-text-repr-fallback {display: none;}</style><div id=\"sk-container-id-4\" class=\"sk-top-container\"><div class=\"sk-text-repr-fallback\"><pre>SVC(C=10, gamma=0.001)</pre><b>In a Jupyter environment, please rerun this cell to show the HTML representation or trust the notebook. <br />On GitHub, the HTML representation is unable to render, please try loading this page with nbviewer.org.</b></div><div class=\"sk-container\" hidden><div class=\"sk-item\"><div class=\"sk-estimator sk-toggleable\"><input class=\"sk-toggleable__control sk-hidden--visually\" id=\"sk-estimator-id-8\" type=\"checkbox\" checked><label for=\"sk-estimator-id-8\" class=\"sk-toggleable__label sk-toggleable__label-arrow\">SVC</label><div class=\"sk-toggleable__content\"><pre>SVC(C=10, gamma=0.001)</pre></div></div></div></div></div>"
      ],
      "text/plain": [
       "SVC(C=10, gamma=0.001)"
      ]
     },
     "execution_count": 53,
     "metadata": {},
     "output_type": "execute_result"
    }
   ],
   "source": [
    "\n",
    "svc.fit(X_train,y_train)\n"
   ]
  },
  {
   "cell_type": "code",
   "execution_count": 54,
   "id": "a838e69d",
   "metadata": {},
   "outputs": [],
   "source": [
    "\n",
    "pred02 = svc.predict(X_test)\n"
   ]
  },
  {
   "cell_type": "code",
   "execution_count": 55,
   "id": "9ac82c63",
   "metadata": {},
   "outputs": [
    {
     "name": "stdout",
     "output_type": "stream",
     "text": [
      "              precision    recall  f1-score   support\n",
      "\n",
      "           0       0.88      0.87      0.87        67\n",
      "           1       0.93      0.93      0.93       121\n",
      "\n",
      "    accuracy                           0.91       188\n",
      "   macro avg       0.90      0.90      0.90       188\n",
      "weighted avg       0.91      0.91      0.91       188\n",
      "\n",
      "[[ 58   9]\n",
      " [  8 113]]\n"
     ]
    }
   ],
   "source": [
    "\n",
    "# classification-report:\n",
    "print(classification_report(y_test,pred02))\n",
    "print(confusion_matrix(y_test,pred02))\n"
   ]
  },
  {
   "cell_type": "code",
   "execution_count": null,
   "id": "29d77292",
   "metadata": {},
   "outputs": [],
   "source": []
  }
 ],
 "metadata": {
  "kernelspec": {
   "display_name": "Python 3 (ipykernel)",
   "language": "python",
   "name": "python3"
  },
  "language_info": {
   "codemirror_mode": {
    "name": "ipython",
    "version": 3
   },
   "file_extension": ".py",
   "mimetype": "text/x-python",
   "name": "python",
   "nbconvert_exporter": "python",
   "pygments_lexer": "ipython3",
   "version": "3.10.9"
  }
 },
 "nbformat": 4,
 "nbformat_minor": 5
}
