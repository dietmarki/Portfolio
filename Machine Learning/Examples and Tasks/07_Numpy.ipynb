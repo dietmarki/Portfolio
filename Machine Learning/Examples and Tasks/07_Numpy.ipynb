{
 "cells": [
  {
   "cell_type": "markdown",
   "id": "e9e61442",
   "metadata": {},
   "source": [
    "# Inhaltsverzeichnis \n",
    "\n",
    "- **Numpy Aufgaben**\n",
    "    - **Aufgabe 1 - Arrays definieren**\n",
    "    - **Aufgabe 2 - Addition**\n",
    "    - **Aufgabe 3 - Multiplikation**\n",
    "    - **Aufgabe 4 - Rechnen mit Arrays**\n",
    "    - **Aufgabe 5 - Weitere Funktionen**\n",
    "    - **Aufgabe 6 - Slicing**\n",
    "    - **Aufgabe 7 - Form ändern**\n"
   ]
  },
  {
   "cell_type": "markdown",
   "id": "a3d047da",
   "metadata": {},
   "source": [
    "# Numpy Aufgaben"
   ]
  },
  {
   "cell_type": "code",
   "execution_count": 2,
   "id": "d7b616d9",
   "metadata": {},
   "outputs": [],
   "source": [
    "import numpy as np"
   ]
  },
  {
   "cell_type": "markdown",
   "id": "2f652201",
   "metadata": {},
   "source": [
    "## Aufgabe 1 - Arrays definieren\n",
    "\n",
    "- Definiere einen Vektor X: \n",
    "\n",
    "\\begin{align}\n",
    "\\mathbf{X} = \\pmatrix{0 \\\\ 0 \\\\ 0 \\\\ 0 \\\\ 0}\n",
    "\\end{align}\n",
    "\n",
    "und einen Vektor Y:\n",
    "\n",
    "\\begin{align}\n",
    "\\mathbf{Y} = \\pmatrix{1 \\\\ 1 \\\\ 1 \\\\ 1 \\\\ 1}\n",
    "\\end{align}\n",
    "\n"
   ]
  },
  {
   "cell_type": "code",
   "execution_count": 4,
   "id": "672c3631",
   "metadata": {},
   "outputs": [
    {
     "name": "stdout",
     "output_type": "stream",
     "text": [
      "[[0.]\n",
      " [0.]\n",
      " [0.]\n",
      " [0.]\n",
      " [0.]] \n",
      " [[1.]\n",
      " [1.]\n",
      " [1.]\n",
      " [1.]\n",
      " [1.]]\n"
     ]
    }
   ],
   "source": [
    "\n",
    "X = np.zeros((5,1))\n",
    "Y = np.ones((5,1))\n",
    "\n",
    "print(X,\"\\n\",Y)\n",
    "\n",
    "# Schreibe dein Code hier"
   ]
  },
  {
   "cell_type": "markdown",
   "id": "8d6aa59c",
   "metadata": {},
   "source": [
    "- Erstelle die Identitätsmatrix der Größe 3:\n",
    "\\begin{align}\n",
    "I = \n",
    "\\begin{bmatrix}\n",
    "1 & 0 & 0 \\\\\n",
    "0 & 1 & 0 \\\\\n",
    "0 & 0 & 1 \\\\\n",
    "\\end{bmatrix}\n",
    "\\end{align}"
   ]
  },
  {
   "cell_type": "code",
   "execution_count": 11,
   "id": "afe2efc4",
   "metadata": {},
   "outputs": [
    {
     "name": "stdout",
     "output_type": "stream",
     "text": [
      "[[1. 0. 0.]\n",
      " [0. 1. 0.]\n",
      " [0. 0. 1.]]\n"
     ]
    }
   ],
   "source": [
    "\n",
    "I = np.eye(3)\n",
    "\n",
    "print(I)\n",
    "\n",
    "# Schreibe dein Code hier"
   ]
  },
  {
   "cell_type": "markdown",
   "id": "8a712fc8",
   "metadata": {},
   "source": [
    "- Erstelle folgendes Array\n",
    "\\begin{align}\n",
    "C = \n",
    "\\begin{bmatrix}\n",
    "5 & 5 & 5 \\\\\n",
    "5 & 5 & 5 \\\\\n",
    "5 & 5 & 5 \\\\\n",
    "\\end{bmatrix}\n",
    "\\end{align}\n",
    "auf möglichst einfache Art."
   ]
  },
  {
   "cell_type": "code",
   "execution_count": 13,
   "id": "bb995793",
   "metadata": {},
   "outputs": [
    {
     "name": "stdout",
     "output_type": "stream",
     "text": [
      "[[5 5 5]\n",
      " [5 5 5]\n",
      " [5 5 5]]\n"
     ]
    }
   ],
   "source": [
    "\n",
    "C = np.array([5]*9).reshape(3,3)\n",
    "\n",
    "print(C)\n",
    "\n",
    "# Schreibe dein Code hier"
   ]
  },
  {
   "cell_type": "markdown",
   "id": "c69b8ed6",
   "metadata": {},
   "source": [
    "- Erstelle folgendes Array\n",
    "\\begin{align}\n",
    "D = \n",
    "\\begin{bmatrix}\n",
    "1 & 2 & 3 \\\\\n",
    "4 & 5 & 6 \\\\\n",
    "7 & 8 & 9 \\\\\n",
    "\\end{bmatrix}\n",
    "\\end{align}\n",
    "auf möglichst einfach Art."
   ]
  },
  {
   "cell_type": "code",
   "execution_count": 15,
   "id": "91b40d43",
   "metadata": {},
   "outputs": [
    {
     "name": "stdout",
     "output_type": "stream",
     "text": [
      "[[1 2 3]\n",
      " [4 5 6]\n",
      " [7 8 9]]\n"
     ]
    }
   ],
   "source": [
    "\n",
    "D = np.arange(1,10).reshape(3,3)\n",
    "\n",
    "print(D)\n",
    "\n",
    "# Schreibe dein Code hier"
   ]
  },
  {
   "cell_type": "markdown",
   "id": "3734883f",
   "metadata": {},
   "source": [
    "- Definiere zwei Arrays $A$ und $B$ mit folgenden Elementen:\n",
    "\\begin{align}\n",
    "A=\n",
    "\\begin{bmatrix}\n",
    "7 & 8  \\\\\n",
    "11 & 12  \\\\\n",
    "3 & 0  \\\\\n",
    "\\end{bmatrix}\n",
    ", \\qquad B = \n",
    "\\begin{bmatrix}\n",
    "0 & 1 \\\\\n",
    "2 & 9 \\\\\n",
    "3 & 7  \\\\\n",
    "\\end{bmatrix}\n",
    "\\end{align}"
   ]
  },
  {
   "cell_type": "code",
   "execution_count": 16,
   "id": "7be74e2b",
   "metadata": {},
   "outputs": [
    {
     "name": "stdout",
     "output_type": "stream",
     "text": [
      "[[ 7  8]\n",
      " [11 12]\n",
      " [ 3  0]] \n",
      " [[0 1]\n",
      " [2 9]\n",
      " [3 7]]\n"
     ]
    }
   ],
   "source": [
    "\n",
    "A = np.array([[7,8],[11,12],[3,0]])\n",
    "B = np.array([[0,1],[2,9],[3,7]])\n",
    "\n",
    "print(A, \"\\n\",B)\n",
    "\n",
    "# Schreibe dein Code hier"
   ]
  },
  {
   "cell_type": "markdown",
   "id": "e18a3197",
   "metadata": {},
   "source": [
    "## Aufgabe 2 - Addition\n",
    "\n",
    "- Addiere die Arrays $A$ und $B$ miteinander. "
   ]
  },
  {
   "cell_type": "code",
   "execution_count": 19,
   "id": "d2f75887",
   "metadata": {},
   "outputs": [
    {
     "name": "stdout",
     "output_type": "stream",
     "text": [
      "[[ 7  9]\n",
      " [13 21]\n",
      " [ 6  7]]\n"
     ]
    }
   ],
   "source": [
    "\n",
    "C = A + B\n",
    "print(C)\n",
    "\n",
    "# Schreibe dein Code hier"
   ]
  },
  {
   "cell_type": "markdown",
   "id": "9ad36d6e",
   "metadata": {},
   "source": [
    "- Berechne die Summe des Arrays $A$ mit der Funktion [numpy.sum](https://numpy.org/doc/stable/reference/generated/numpy.sum.html): \n",
    "\n",
    "    - Aller Elemente\n",
    "    - Entlang der Spalten\n",
    "    - Entlang der Zeilen"
   ]
  },
  {
   "cell_type": "code",
   "execution_count": 22,
   "id": "f2d8a09c",
   "metadata": {},
   "outputs": [
    {
     "name": "stdout",
     "output_type": "stream",
     "text": [
      "41\n",
      "[21 20]\n",
      "[15 23  3]\n"
     ]
    }
   ],
   "source": [
    "\n",
    "# alle elemente:\n",
    "summe_alle = np.sum(A)\n",
    "print(summe_alle)\n",
    "\n",
    "#alle spalten:\n",
    "summe_spalt = np.sum(A,axis=0)\n",
    "print(summe_spalt)\n",
    "\n",
    "#alle zeilen:\n",
    "summe_zeile = np.sum(A,axis=1)\n",
    "print(summe_zeile)\n",
    "\n",
    "# Schreibe dein Code hier"
   ]
  },
  {
   "cell_type": "markdown",
   "id": "84a42d5b",
   "metadata": {},
   "source": [
    "## Aufgabe 3 - Multiplikation\n",
    "\n",
    "- Multipliziere die Arrays $A$ und $B$ **elementweise**."
   ]
  },
  {
   "cell_type": "code",
   "execution_count": 23,
   "id": "7e30c2f7",
   "metadata": {},
   "outputs": [
    {
     "name": "stdout",
     "output_type": "stream",
     "text": [
      "[[  0   8]\n",
      " [ 22 108]\n",
      " [  9   0]]\n"
     ]
    }
   ],
   "source": [
    "\n",
    "multipl = A * B\n",
    "print(multipl)\n",
    "\n",
    "# Schreibe dein Code hier"
   ]
  },
  {
   "cell_type": "markdown",
   "id": "63d127af",
   "metadata": {},
   "source": [
    "## Aufgabe 4 - Rechnen mit Arrays\n",
    "\n",
    "- Finde das Array $C$, so das gilt $A+C = B$."
   ]
  },
  {
   "cell_type": "code",
   "execution_count": 25,
   "id": "d0b036d7",
   "metadata": {},
   "outputs": [
    {
     "name": "stdout",
     "output_type": "stream",
     "text": [
      "[[-7 -7]\n",
      " [-9 -3]\n",
      " [ 0  7]]\n"
     ]
    }
   ],
   "source": [
    "\n",
    "C = B - A\n",
    "print(C)\n",
    "\n",
    "# Schreibe dein Code hier"
   ]
  },
  {
   "cell_type": "markdown",
   "id": "25ecdf07",
   "metadata": {},
   "source": [
    "## Aufgabe 5 - Weitere Funktionen\n",
    "\n",
    "- Berechne das arithmetische Mittel (`mean`) von Array $A$ für entlang der ersten Achse."
   ]
  },
  {
   "cell_type": "code",
   "execution_count": 33,
   "id": "089c12d0",
   "metadata": {},
   "outputs": [
    {
     "name": "stdout",
     "output_type": "stream",
     "text": [
      "7.5 \n",
      " 7.0\n"
     ]
    }
   ],
   "source": [
    "\n",
    "ari_mittel01 = np.mean(A[0,:])  # 1.zeilenachse,horizontal\n",
    "ari_mittel02 = np.mean(A[:,0])  # 1.spaltenachse, vertikal\n",
    "print(ari_mittel01,\"\\n\",ari_mittel02)\n",
    "\n",
    "# Schreibe dein Code hier"
   ]
  },
  {
   "cell_type": "markdown",
   "id": "6a60fb6c",
   "metadata": {},
   "source": [
    "- Berechne den Logarithmus (`log`) des Arrays $A$.\n",
    "\n",
    "> <span style=\"color:blue\"> **_INFO:_** </span> Lass dich nicht irritieren, wenn numpy Warnungen ausgibt. Der Grund dafür ist, dass der Logarithmus bei 0 unendlich negativ wird: \n",
    "\n",
    "\\begin{align}\n",
    "\\log(0)  = - \\infty\n",
    "\\end{align}\n"
   ]
  },
  {
   "cell_type": "code",
   "execution_count": 34,
   "id": "5cb07ec8",
   "metadata": {},
   "outputs": [
    {
     "name": "stdout",
     "output_type": "stream",
     "text": [
      "[[1.94591015 2.07944154]\n",
      " [2.39789527 2.48490665]\n",
      " [1.09861229       -inf]]\n"
     ]
    },
    {
     "name": "stderr",
     "output_type": "stream",
     "text": [
      "C:\\Users\\dietm\\AppData\\Local\\Temp\\ipykernel_7436\\506244182.py:1: RuntimeWarning: divide by zero encountered in log\n",
      "  log_A = np.log(A)\n"
     ]
    }
   ],
   "source": [
    "\n",
    "log_A = np.log(A)\n",
    "print(log_A)\n",
    "\n",
    "# Schreibe dein Code hier"
   ]
  },
  {
   "cell_type": "markdown",
   "id": "5fe63b29",
   "metadata": {},
   "source": [
    "- Berechne das Maximum (`max`) von Array $A$ entlang der ersten Achse."
   ]
  },
  {
   "cell_type": "code",
   "execution_count": 35,
   "id": "685140a8",
   "metadata": {},
   "outputs": [
    {
     "name": "stdout",
     "output_type": "stream",
     "text": [
      "8 \n",
      " 11\n"
     ]
    }
   ],
   "source": [
    "\n",
    "max_achse01 = np.max(A[0,:])    # 1.zeilenachse,horizontal\n",
    "max_achse02 = np.max(A[:,0])    # 1.spaltenachse, vertikal\n",
    "print(max_achse01,\"\\n\",max_achse02)\n",
    "\n",
    "# Schreibe dein Code hier"
   ]
  },
  {
   "cell_type": "markdown",
   "id": "235016a1",
   "metadata": {},
   "source": [
    "## Aufgabe 6 - Slicing\n",
    "\n",
    "- Wie müssen wir die Indizes beim Slicing wählen, um aus Array D, folgendes Array zu erhalten:\n",
    "\n",
    "\\begin{align}\n",
    "E = \n",
    "\\begin{bmatrix}\n",
    "1 & 2 \\\\\n",
    "4 & 5 \\\\\n",
    "\\end{bmatrix}\n",
    "\\end{align}"
   ]
  },
  {
   "cell_type": "code",
   "execution_count": 38,
   "id": "3808ced6",
   "metadata": {},
   "outputs": [
    {
     "name": "stdout",
     "output_type": "stream",
     "text": [
      "[[1 2]\n",
      " [4 5]]\n"
     ]
    }
   ],
   "source": [
    "\n",
    "D = np.arange(1,10).reshape(3,3)\n",
    "E = D[:-1,:-1]\n",
    "print(E)\n",
    "\n",
    "# Schreibe dein Code hier"
   ]
  },
  {
   "cell_type": "markdown",
   "id": "7289ec84",
   "metadata": {},
   "source": [
    "- Wie müssen wir die Indizes beim Slicing wählen, um aus Array D, folgendes Array zu erhalten:\n",
    "\n",
    "\\begin{align}\n",
    "F=\n",
    "\\begin{bmatrix}\n",
    "1 & 3 \\\\\n",
    "7 & 9 \\\\\n",
    "\\end{bmatrix}\n",
    "\\end{align}"
   ]
  },
  {
   "cell_type": "code",
   "execution_count": 39,
   "id": "277be360",
   "metadata": {},
   "outputs": [
    {
     "name": "stdout",
     "output_type": "stream",
     "text": [
      "[[1 3]\n",
      " [7 9]]\n"
     ]
    }
   ],
   "source": [
    "\n",
    "F = D[::2,::2]\n",
    "print(F)\n",
    "\n",
    "# Schreibe dein Code hier"
   ]
  },
  {
   "cell_type": "markdown",
   "id": "f067da63",
   "metadata": {},
   "source": [
    "## Aufgabe 7 - Form ändern\n",
    "\n",
    "- Erstelle das Array:\n",
    "\\begin{align}\n",
    "G = \n",
    "\\begin{bmatrix}\n",
    "1 & 2 \\\\\n",
    "3 & 4 \\\\\n",
    "5 & 6 \n",
    "\\end{bmatrix}\n",
    "\\end{align}\n",
    "\n"
   ]
  },
  {
   "cell_type": "code",
   "execution_count": 41,
   "id": "cf3aa830",
   "metadata": {},
   "outputs": [
    {
     "name": "stdout",
     "output_type": "stream",
     "text": [
      "[[1 2]\n",
      " [3 4]\n",
      " [5 6]]\n"
     ]
    }
   ],
   "source": [
    "\n",
    "G = np.arange(1,7).reshape(3,2)\n",
    "print(G)\n",
    "\n",
    "# Schreibe dein Code hier"
   ]
  },
  {
   "cell_type": "markdown",
   "id": "6e5eee98",
   "metadata": {},
   "source": [
    "- Lass dir die Form (*shape*) von $G$ ausgeben."
   ]
  },
  {
   "cell_type": "code",
   "execution_count": 42,
   "id": "d933c3d3",
   "metadata": {},
   "outputs": [
    {
     "name": "stdout",
     "output_type": "stream",
     "text": [
      "(3, 2)\n"
     ]
    }
   ],
   "source": [
    "\n",
    "print(G.shape)\n",
    "\n",
    "# Schreibe dein Code hier"
   ]
  },
  {
   "cell_type": "markdown",
   "id": "c32c6202",
   "metadata": {},
   "source": [
    "- Erstelle ein neues Array, welches die **Transponierte Matrix** von $G$ ist."
   ]
  },
  {
   "cell_type": "code",
   "execution_count": 83,
   "id": "c7f13585",
   "metadata": {},
   "outputs": [
    {
     "name": "stdout",
     "output_type": "stream",
     "text": [
      "[[1 2]\n",
      " [3 4]\n",
      " [5 6]]\n",
      "[1 2 3 4 5 6]\n",
      "[[1 3 5]\n",
      " [2 4 6]]\n"
     ]
    }
   ],
   "source": [
    "\n",
    "G = np.arange(1,7).reshape(3,2)\n",
    "#print(np.transpose(G))\n",
    "print(G)\n",
    "spalten_01 = np.concatenate(G,axis=0)\n",
    "print(spalten_01)\n",
    "#erste_zeile = spalten_01[::2]\n",
    "#print(erste_zeile)\n",
    "#zweite_zeile = spalten_01[1:6:2]\n",
    "#print(zweite_zeile)\n",
    "gesamt_zeile = np.array([spalten_01[::2],spalten_01[1:6:2]])\n",
    "print(gesamt_zeile)\n",
    "\n",
    "# Schreibe dein Code hier"
   ]
  },
  {
   "cell_type": "markdown",
   "id": "ba91171f",
   "metadata": {},
   "source": [
    "- Erstelle ein neues Array, welches das Array $G$ in \"flacher\" Form ist. Welche Dimension hat das neue Array?"
   ]
  },
  {
   "cell_type": "code",
   "execution_count": 20,
   "id": "9bea9b37",
   "metadata": {},
   "outputs": [
    {
     "name": "stdout",
     "output_type": "stream",
     "text": [
      "[1 2 3 4 5 6]\n"
     ]
    }
   ],
   "source": [
    "\n",
    "print(G.flatten())\n",
    "\n",
    "# Schreibe dein Code hier"
   ]
  },
  {
   "cell_type": "markdown",
   "id": "f16afd54",
   "metadata": {},
   "source": [
    "- Überführe $G$ in die Form `(6,1)`"
   ]
  },
  {
   "cell_type": "code",
   "execution_count": 81,
   "id": "4e1a7780",
   "metadata": {},
   "outputs": [
    {
     "name": "stdout",
     "output_type": "stream",
     "text": [
      "[[1]\n",
      " [2]\n",
      " [3]\n",
      " [4]\n",
      " [5]\n",
      " [6]]\n"
     ]
    }
   ],
   "source": [
    "\n",
    "G = np.arange(1,7).reshape(6,1)\n",
    "print(G)\n",
    "\n",
    "# Schreibe dein Code hier"
   ]
  },
  {
   "cell_type": "code",
   "execution_count": null,
   "id": "05d8646d",
   "metadata": {},
   "outputs": [],
   "source": []
  }
 ],
 "metadata": {
  "kernelspec": {
   "display_name": "Python 3 (ipykernel)",
   "language": "python",
   "name": "python3"
  },
  "language_info": {
   "codemirror_mode": {
    "name": "ipython",
    "version": 3
   },
   "file_extension": ".py",
   "mimetype": "text/x-python",
   "name": "python",
   "nbconvert_exporter": "python",
   "pygments_lexer": "ipython3",
   "version": "3.10.9"
  }
 },
 "nbformat": 4,
 "nbformat_minor": 5
}
