{
 "cells": [
  {
   "cell_type": "markdown",
   "id": "0aac617c",
   "metadata": {},
   "source": [
    "# Inhaltsverzeichnis \n",
    "\n",
    "- **Naive Bayes Hausaufgabe - Titanic**\n",
    "    - **1. Aufgabe: Daten laden**\n",
    "    - **2. Aufgabe: Preprocessing**\n",
    "    - **3. Aufgabe: Fehlerhafte Daten entfernen**\n",
    "    - **4. Aufgabe: Daten analysieren**\n",
    "    - **5. Aufgabe: Dimension reduzieren**\n",
    "    - **6. Aufgabe: Daten visualisieren**\n",
    "    - **7. Aufgabe: Machine Learning**\n",
    "    - **8. Aufgabe: Features nach Klassen getrennt**\n"
   ]
  },
  {
   "cell_type": "markdown",
   "id": "2a216c04",
   "metadata": {},
   "source": [
    "# Naive Bayes Hausaufgabe - Titanic\n",
    "\n",
    "Diese Hausaufgabe analysiert den [Titanic Datensatz](https://www.kaggle.com/competitions/titanic/overview) und ein Naive Bayes Modell wird trainiert. \n"
   ]
  },
  {
   "cell_type": "markdown",
   "id": "ae5152bd",
   "metadata": {},
   "source": [
    "## 1. Aufgabe: Daten laden\n",
    "\n",
    "- Benutze `pandas`, um die Datei `titanic.csv` aus dem Kursbereich zu laden.\n",
    "- Verschaffe dir ein Gefühl für die Daten. Welche Spalten gibt es? Wie viele Samples gibt es? \n"
   ]
  },
  {
   "cell_type": "code",
   "execution_count": 1,
   "id": "f245df4e",
   "metadata": {},
   "outputs": [],
   "source": [
    "import pandas as pd\n",
    "import numpy as np"
   ]
  },
  {
   "cell_type": "code",
   "execution_count": 2,
   "id": "2b8456fb",
   "metadata": {},
   "outputs": [],
   "source": [
    "data = pd.read_csv(\"titanic.csv\")"
   ]
  },
  {
   "cell_type": "code",
   "execution_count": 3,
   "id": "dec3f200",
   "metadata": {},
   "outputs": [
    {
     "data": {
      "text/plain": [
       "(1309, 9)"
      ]
     },
     "execution_count": 3,
     "metadata": {},
     "output_type": "execute_result"
    }
   ],
   "source": [
    "data.shape"
   ]
  },
  {
   "cell_type": "code",
   "execution_count": 4,
   "id": "01c04811",
   "metadata": {},
   "outputs": [
    {
     "data": {
      "text/html": [
       "<div>\n",
       "<style scoped>\n",
       "    .dataframe tbody tr th:only-of-type {\n",
       "        vertical-align: middle;\n",
       "    }\n",
       "\n",
       "    .dataframe tbody tr th {\n",
       "        vertical-align: top;\n",
       "    }\n",
       "\n",
       "    .dataframe thead th {\n",
       "        text-align: right;\n",
       "    }\n",
       "</style>\n",
       "<table border=\"1\" class=\"dataframe\">\n",
       "  <thead>\n",
       "    <tr style=\"text-align: right;\">\n",
       "      <th></th>\n",
       "      <th>Pclass</th>\n",
       "      <th>Survived</th>\n",
       "      <th>Name</th>\n",
       "      <th>Sex</th>\n",
       "      <th>Age</th>\n",
       "      <th>SibSp</th>\n",
       "      <th>Parch</th>\n",
       "      <th>Fare</th>\n",
       "      <th>Embarked</th>\n",
       "    </tr>\n",
       "  </thead>\n",
       "  <tbody>\n",
       "    <tr>\n",
       "      <th>0</th>\n",
       "      <td>1</td>\n",
       "      <td>1</td>\n",
       "      <td>Allen, Miss. Elisabeth Walton</td>\n",
       "      <td>female</td>\n",
       "      <td>29.0000</td>\n",
       "      <td>0</td>\n",
       "      <td>0</td>\n",
       "      <td>211.3375</td>\n",
       "      <td>S</td>\n",
       "    </tr>\n",
       "    <tr>\n",
       "      <th>1</th>\n",
       "      <td>1</td>\n",
       "      <td>1</td>\n",
       "      <td>Allison, Master. Hudson Trevor</td>\n",
       "      <td>male</td>\n",
       "      <td>0.9167</td>\n",
       "      <td>1</td>\n",
       "      <td>2</td>\n",
       "      <td>151.5500</td>\n",
       "      <td>S</td>\n",
       "    </tr>\n",
       "    <tr>\n",
       "      <th>2</th>\n",
       "      <td>1</td>\n",
       "      <td>0</td>\n",
       "      <td>Allison, Miss. Helen Loraine</td>\n",
       "      <td>female</td>\n",
       "      <td>2.0000</td>\n",
       "      <td>1</td>\n",
       "      <td>2</td>\n",
       "      <td>151.5500</td>\n",
       "      <td>S</td>\n",
       "    </tr>\n",
       "    <tr>\n",
       "      <th>3</th>\n",
       "      <td>1</td>\n",
       "      <td>0</td>\n",
       "      <td>Allison, Mr. Hudson Joshua Creighton</td>\n",
       "      <td>male</td>\n",
       "      <td>30.0000</td>\n",
       "      <td>1</td>\n",
       "      <td>2</td>\n",
       "      <td>151.5500</td>\n",
       "      <td>S</td>\n",
       "    </tr>\n",
       "    <tr>\n",
       "      <th>4</th>\n",
       "      <td>1</td>\n",
       "      <td>0</td>\n",
       "      <td>Allison, Mrs. Hudson J C (Bessie Waldo Daniels)</td>\n",
       "      <td>female</td>\n",
       "      <td>25.0000</td>\n",
       "      <td>1</td>\n",
       "      <td>2</td>\n",
       "      <td>151.5500</td>\n",
       "      <td>S</td>\n",
       "    </tr>\n",
       "  </tbody>\n",
       "</table>\n",
       "</div>"
      ],
      "text/plain": [
       "   Pclass  Survived                                             Name     Sex  \\\n",
       "0       1         1                    Allen, Miss. Elisabeth Walton  female   \n",
       "1       1         1                   Allison, Master. Hudson Trevor    male   \n",
       "2       1         0                     Allison, Miss. Helen Loraine  female   \n",
       "3       1         0             Allison, Mr. Hudson Joshua Creighton    male   \n",
       "4       1         0  Allison, Mrs. Hudson J C (Bessie Waldo Daniels)  female   \n",
       "\n",
       "       Age  SibSp  Parch      Fare Embarked  \n",
       "0  29.0000      0      0  211.3375        S  \n",
       "1   0.9167      1      2  151.5500        S  \n",
       "2   2.0000      1      2  151.5500        S  \n",
       "3  30.0000      1      2  151.5500        S  \n",
       "4  25.0000      1      2  151.5500        S  "
      ]
     },
     "execution_count": 4,
     "metadata": {},
     "output_type": "execute_result"
    }
   ],
   "source": [
    "data.head()"
   ]
  },
  {
   "cell_type": "code",
   "execution_count": 5,
   "id": "47969d98",
   "metadata": {},
   "outputs": [
    {
     "name": "stdout",
     "output_type": "stream",
     "text": [
      "<class 'pandas.core.frame.DataFrame'>\n",
      "RangeIndex: 1309 entries, 0 to 1308\n",
      "Data columns (total 9 columns):\n",
      " #   Column    Non-Null Count  Dtype  \n",
      "---  ------    --------------  -----  \n",
      " 0   Pclass    1309 non-null   int64  \n",
      " 1   Survived  1309 non-null   int64  \n",
      " 2   Name      1309 non-null   object \n",
      " 3   Sex       1309 non-null   object \n",
      " 4   Age       1046 non-null   float64\n",
      " 5   SibSp     1309 non-null   int64  \n",
      " 6   Parch     1309 non-null   int64  \n",
      " 7   Fare      1308 non-null   float64\n",
      " 8   Embarked  1307 non-null   object \n",
      "dtypes: float64(2), int64(4), object(3)\n",
      "memory usage: 92.2+ KB\n"
     ]
    }
   ],
   "source": [
    "data.info()"
   ]
  },
  {
   "cell_type": "code",
   "execution_count": 6,
   "id": "78909505",
   "metadata": {},
   "outputs": [
    {
     "data": {
      "text/html": [
       "<div>\n",
       "<style scoped>\n",
       "    .dataframe tbody tr th:only-of-type {\n",
       "        vertical-align: middle;\n",
       "    }\n",
       "\n",
       "    .dataframe tbody tr th {\n",
       "        vertical-align: top;\n",
       "    }\n",
       "\n",
       "    .dataframe thead th {\n",
       "        text-align: right;\n",
       "    }\n",
       "</style>\n",
       "<table border=\"1\" class=\"dataframe\">\n",
       "  <thead>\n",
       "    <tr style=\"text-align: right;\">\n",
       "      <th></th>\n",
       "      <th>Pclass</th>\n",
       "      <th>Survived</th>\n",
       "      <th>Age</th>\n",
       "      <th>SibSp</th>\n",
       "      <th>Parch</th>\n",
       "      <th>Fare</th>\n",
       "    </tr>\n",
       "  </thead>\n",
       "  <tbody>\n",
       "    <tr>\n",
       "      <th>count</th>\n",
       "      <td>1309.000000</td>\n",
       "      <td>1309.000000</td>\n",
       "      <td>1046.000000</td>\n",
       "      <td>1309.000000</td>\n",
       "      <td>1309.000000</td>\n",
       "      <td>1308.000000</td>\n",
       "    </tr>\n",
       "    <tr>\n",
       "      <th>mean</th>\n",
       "      <td>2.294882</td>\n",
       "      <td>0.381971</td>\n",
       "      <td>29.881135</td>\n",
       "      <td>0.498854</td>\n",
       "      <td>0.385027</td>\n",
       "      <td>33.295479</td>\n",
       "    </tr>\n",
       "    <tr>\n",
       "      <th>std</th>\n",
       "      <td>0.837836</td>\n",
       "      <td>0.486055</td>\n",
       "      <td>14.413500</td>\n",
       "      <td>1.041658</td>\n",
       "      <td>0.865560</td>\n",
       "      <td>51.758668</td>\n",
       "    </tr>\n",
       "    <tr>\n",
       "      <th>min</th>\n",
       "      <td>1.000000</td>\n",
       "      <td>0.000000</td>\n",
       "      <td>0.166700</td>\n",
       "      <td>0.000000</td>\n",
       "      <td>0.000000</td>\n",
       "      <td>0.000000</td>\n",
       "    </tr>\n",
       "    <tr>\n",
       "      <th>25%</th>\n",
       "      <td>2.000000</td>\n",
       "      <td>0.000000</td>\n",
       "      <td>21.000000</td>\n",
       "      <td>0.000000</td>\n",
       "      <td>0.000000</td>\n",
       "      <td>7.895800</td>\n",
       "    </tr>\n",
       "    <tr>\n",
       "      <th>50%</th>\n",
       "      <td>3.000000</td>\n",
       "      <td>0.000000</td>\n",
       "      <td>28.000000</td>\n",
       "      <td>0.000000</td>\n",
       "      <td>0.000000</td>\n",
       "      <td>14.454200</td>\n",
       "    </tr>\n",
       "    <tr>\n",
       "      <th>75%</th>\n",
       "      <td>3.000000</td>\n",
       "      <td>1.000000</td>\n",
       "      <td>39.000000</td>\n",
       "      <td>1.000000</td>\n",
       "      <td>0.000000</td>\n",
       "      <td>31.275000</td>\n",
       "    </tr>\n",
       "    <tr>\n",
       "      <th>max</th>\n",
       "      <td>3.000000</td>\n",
       "      <td>1.000000</td>\n",
       "      <td>80.000000</td>\n",
       "      <td>8.000000</td>\n",
       "      <td>9.000000</td>\n",
       "      <td>512.329200</td>\n",
       "    </tr>\n",
       "  </tbody>\n",
       "</table>\n",
       "</div>"
      ],
      "text/plain": [
       "            Pclass     Survived          Age        SibSp        Parch  \\\n",
       "count  1309.000000  1309.000000  1046.000000  1309.000000  1309.000000   \n",
       "mean      2.294882     0.381971    29.881135     0.498854     0.385027   \n",
       "std       0.837836     0.486055    14.413500     1.041658     0.865560   \n",
       "min       1.000000     0.000000     0.166700     0.000000     0.000000   \n",
       "25%       2.000000     0.000000    21.000000     0.000000     0.000000   \n",
       "50%       3.000000     0.000000    28.000000     0.000000     0.000000   \n",
       "75%       3.000000     1.000000    39.000000     1.000000     0.000000   \n",
       "max       3.000000     1.000000    80.000000     8.000000     9.000000   \n",
       "\n",
       "              Fare  \n",
       "count  1308.000000  \n",
       "mean     33.295479  \n",
       "std      51.758668  \n",
       "min       0.000000  \n",
       "25%       7.895800  \n",
       "50%      14.454200  \n",
       "75%      31.275000  \n",
       "max     512.329200  "
      ]
     },
     "execution_count": 6,
     "metadata": {},
     "output_type": "execute_result"
    }
   ],
   "source": [
    "data.describe()"
   ]
  },
  {
   "cell_type": "markdown",
   "id": "e1d83764",
   "metadata": {},
   "source": [
    "Hier ein Überblick über die Bedeutung der einzelnen Features:\n",
    "\n",
    "- `Survival`: Hat der Passagier überlegt?\n",
    "     - 0 = Nein \n",
    "     - 1 = Ja\n",
    "- `Pclass`: Die Passagierklasse.\n",
    "     - 1 = erste Klasse\n",
    "     - 2 = zweite Klasse \n",
    "     - 3 = dritte Klasse.\n",
    "- `Sex`: Das Geschlecht.\n",
    "- `Age`: Das Alter.\n",
    "- `Sibsp`: Die Anzahl der Geschwister an Bord.\n",
    "- `Parch`: Die Anzahl der Eltern/Kinder an Bord.\n",
    "- `Name`: Der Name.\n",
    "- `Fare`: Die Kosten des Tickets.\n",
    "- `Embarked`: An Bord gegangen \n",
    "    - C = Cherbourg; \n",
    "    - Q = Queenstown; \n",
    "    - S = Southampton)"
   ]
  },
  {
   "cell_type": "markdown",
   "id": "d0df3857",
   "metadata": {},
   "source": [
    "## 2. Aufgabe: Preprocessing \n",
    "\n",
    "- Wir wollen, dass `data` nur aus den Spalten der Features `[\"Age\", \"Embarked\",\"Fare\",\"Parch\", \"Pclass\",\"Sex\",\"SibSp\"]` und aus der Spalte `Survived` besteht. (`Survived` wollen wir am Ende vorhersagen, wird also unser Target).\n",
    "\n",
    "**Außerdem:**\n",
    "- Ersetze die Werte \"female\" und \"male\" in der Spalte `Sex` durch 0 und 1.\n",
    "- Ersetze die Werte \"S\",\"C\" und \"Q\" in der Spalte `Embarked` durch 1, 2 und 3.\n",
    "\n",
    "\n",
    "\n",
    "**Zur Kontrolle: `data` sollte nun 1309 Zeilen und 8 Spalten haben.**\n"
   ]
  },
  {
   "cell_type": "code",
   "execution_count": 7,
   "id": "e3d57121",
   "metadata": {},
   "outputs": [],
   "source": [
    "data.drop(\"Name\",axis=1,inplace=True)"
   ]
  },
  {
   "cell_type": "code",
   "execution_count": 8,
   "id": "68aba74f",
   "metadata": {},
   "outputs": [
    {
     "name": "stdout",
     "output_type": "stream",
     "text": [
      "<class 'pandas.core.frame.DataFrame'>\n",
      "RangeIndex: 1309 entries, 0 to 1308\n",
      "Data columns (total 8 columns):\n",
      " #   Column    Non-Null Count  Dtype  \n",
      "---  ------    --------------  -----  \n",
      " 0   Pclass    1309 non-null   int64  \n",
      " 1   Survived  1309 non-null   int64  \n",
      " 2   Sex       1309 non-null   object \n",
      " 3   Age       1046 non-null   float64\n",
      " 4   SibSp     1309 non-null   int64  \n",
      " 5   Parch     1309 non-null   int64  \n",
      " 6   Fare      1308 non-null   float64\n",
      " 7   Embarked  1307 non-null   object \n",
      "dtypes: float64(2), int64(4), object(2)\n",
      "memory usage: 81.9+ KB\n"
     ]
    }
   ],
   "source": [
    "data.info()"
   ]
  },
  {
   "cell_type": "code",
   "execution_count": 9,
   "id": "5e278f15",
   "metadata": {},
   "outputs": [],
   "source": [
    "def wandelGeschlUm(x):    \n",
    "    if x == \"female\":\n",
    "        return 0\n",
    "    elif x == \"male\":\n",
    "        return 1\n",
    "    \n",
    "def wandelHafenUm(x):    \n",
    "    if x == \"S\":\n",
    "        return 1\n",
    "    elif x == \"C\":\n",
    "        return 2\n",
    "    elif x == \"Q\":\n",
    "        return 3\n",
    "    "
   ]
  },
  {
   "cell_type": "code",
   "execution_count": 10,
   "id": "1faceae4",
   "metadata": {},
   "outputs": [],
   "source": [
    "data[\"Sex\"] = data[\"Sex\"].apply(wandelGeschlUm)\n",
    "data[\"Embarked\"] = data[\"Embarked\"].apply(wandelHafenUm)"
   ]
  },
  {
   "cell_type": "code",
   "execution_count": 11,
   "id": "1b61020f",
   "metadata": {},
   "outputs": [
    {
     "data": {
      "text/html": [
       "<div>\n",
       "<style scoped>\n",
       "    .dataframe tbody tr th:only-of-type {\n",
       "        vertical-align: middle;\n",
       "    }\n",
       "\n",
       "    .dataframe tbody tr th {\n",
       "        vertical-align: top;\n",
       "    }\n",
       "\n",
       "    .dataframe thead th {\n",
       "        text-align: right;\n",
       "    }\n",
       "</style>\n",
       "<table border=\"1\" class=\"dataframe\">\n",
       "  <thead>\n",
       "    <tr style=\"text-align: right;\">\n",
       "      <th></th>\n",
       "      <th>Pclass</th>\n",
       "      <th>Survived</th>\n",
       "      <th>Sex</th>\n",
       "      <th>Age</th>\n",
       "      <th>SibSp</th>\n",
       "      <th>Parch</th>\n",
       "      <th>Fare</th>\n",
       "      <th>Embarked</th>\n",
       "    </tr>\n",
       "  </thead>\n",
       "  <tbody>\n",
       "    <tr>\n",
       "      <th>561</th>\n",
       "      <td>2</td>\n",
       "      <td>0</td>\n",
       "      <td>1</td>\n",
       "      <td>59.0</td>\n",
       "      <td>0</td>\n",
       "      <td>0</td>\n",
       "      <td>13.5000</td>\n",
       "      <td>1.0</td>\n",
       "    </tr>\n",
       "    <tr>\n",
       "      <th>492</th>\n",
       "      <td>2</td>\n",
       "      <td>1</td>\n",
       "      <td>1</td>\n",
       "      <td>1.0</td>\n",
       "      <td>0</td>\n",
       "      <td>2</td>\n",
       "      <td>37.0042</td>\n",
       "      <td>2.0</td>\n",
       "    </tr>\n",
       "    <tr>\n",
       "      <th>582</th>\n",
       "      <td>2</td>\n",
       "      <td>1</td>\n",
       "      <td>0</td>\n",
       "      <td>12.0</td>\n",
       "      <td>0</td>\n",
       "      <td>0</td>\n",
       "      <td>15.7500</td>\n",
       "      <td>1.0</td>\n",
       "    </tr>\n",
       "    <tr>\n",
       "      <th>173</th>\n",
       "      <td>1</td>\n",
       "      <td>0</td>\n",
       "      <td>1</td>\n",
       "      <td>32.5</td>\n",
       "      <td>0</td>\n",
       "      <td>0</td>\n",
       "      <td>211.5000</td>\n",
       "      <td>2.0</td>\n",
       "    </tr>\n",
       "    <tr>\n",
       "      <th>223</th>\n",
       "      <td>1</td>\n",
       "      <td>0</td>\n",
       "      <td>1</td>\n",
       "      <td>NaN</td>\n",
       "      <td>0</td>\n",
       "      <td>0</td>\n",
       "      <td>0.0000</td>\n",
       "      <td>1.0</td>\n",
       "    </tr>\n",
       "  </tbody>\n",
       "</table>\n",
       "</div>"
      ],
      "text/plain": [
       "     Pclass  Survived  Sex   Age  SibSp  Parch      Fare  Embarked\n",
       "561       2         0    1  59.0      0      0   13.5000       1.0\n",
       "492       2         1    1   1.0      0      2   37.0042       2.0\n",
       "582       2         1    0  12.0      0      0   15.7500       1.0\n",
       "173       1         0    1  32.5      0      0  211.5000       2.0\n",
       "223       1         0    1   NaN      0      0    0.0000       1.0"
      ]
     },
     "execution_count": 11,
     "metadata": {},
     "output_type": "execute_result"
    }
   ],
   "source": [
    "data.sample(5)"
   ]
  },
  {
   "cell_type": "code",
   "execution_count": 12,
   "id": "5aa53a4c",
   "metadata": {},
   "outputs": [
    {
     "data": {
      "text/plain": [
       "(1309, 8)"
      ]
     },
     "execution_count": 12,
     "metadata": {},
     "output_type": "execute_result"
    }
   ],
   "source": [
    "data.shape"
   ]
  },
  {
   "cell_type": "code",
   "execution_count": null,
   "id": "77d231a4",
   "metadata": {},
   "outputs": [],
   "source": []
  },
  {
   "cell_type": "markdown",
   "id": "9fbc321f",
   "metadata": {},
   "source": [
    "## 3. Aufgabe: Fehlerhafte Daten entfernen\n",
    "\n",
    "- Entferne alle Samples mit fehlerhaften Werten. Benutze dafür die Funktion [`dropna`](https://pandas.pydata.org/docs/reference/api/pandas.DataFrame.dropna.html) des DataFrames.\n",
    "\n",
    "**Zur Kontrolle: `data` sollte nun 1043 Zeilen und 8 Spalten haben.**"
   ]
  },
  {
   "cell_type": "code",
   "execution_count": 13,
   "id": "4472aef0",
   "metadata": {},
   "outputs": [],
   "source": [
    "\n",
    "data.dropna(inplace=True)\n"
   ]
  },
  {
   "cell_type": "code",
   "execution_count": 14,
   "id": "a4ba0967",
   "metadata": {},
   "outputs": [
    {
     "data": {
      "text/plain": [
       "(1043, 8)"
      ]
     },
     "execution_count": 14,
     "metadata": {},
     "output_type": "execute_result"
    }
   ],
   "source": [
    "data.shape"
   ]
  },
  {
   "cell_type": "code",
   "execution_count": null,
   "id": "ad37dab0",
   "metadata": {},
   "outputs": [],
   "source": []
  },
  {
   "cell_type": "markdown",
   "id": "dd65ce54",
   "metadata": {},
   "source": [
    "## 4. Aufgabe: Daten analysieren\n",
    "\n",
    "Kommen wir nun zum interessanten Teil. Wir wollen für die Daten aus `data` eine Korrelationsmatrix erstellen, um herauszufinden, wie die einzelnen Features korreliert sind.\n",
    "\n",
    "- Berechne die paarweisen Korrelationen mit der Funktion [`corr`](https://pandas.pydata.org/docs/reference/api/pandas.DataFrame.corr.html) des DataFrames.\n",
    "- Lass dir diese Matrix mittels einer [Heatmap](https://seaborn.pydata.org/generated/seaborn.heatmap.html) schön darstellen. Für die Optik *können* folgende Parameter beim Aufruf von `heatmap` gewählt werden:\n",
    "    - `annot=True`\n",
    "    - `fmt=\".2f\"`\n",
    "    - `linewidth=0.2`\n",
    "    \n",
    "Diese Parameter sind jedoch nur eine Empfehlung. Probiere selbst verschiedene Möglichkeiten die Heatmap zu gestalten.\n",
    "\n",
    "- Welche Features sind stark korreliert?\n",
    "\n",
    "> <span style=\"color:green\"> **_ERINNERUNG:_** </span> Ein Feature ist stark **positiv** korreliert, je näher die Zahl an 1 ist und stark **negativ** korreliert, je näher die Zahl an -1 ist.\n",
    "- Schreibe die Erkenntnisse, die man aus der Korrelationsmatrix gewinnen kann, auf.\n"
   ]
  },
  {
   "cell_type": "code",
   "execution_count": 15,
   "id": "c030faf6",
   "metadata": {},
   "outputs": [
    {
     "data": {
      "text/html": [
       "<div>\n",
       "<style scoped>\n",
       "    .dataframe tbody tr th:only-of-type {\n",
       "        vertical-align: middle;\n",
       "    }\n",
       "\n",
       "    .dataframe tbody tr th {\n",
       "        vertical-align: top;\n",
       "    }\n",
       "\n",
       "    .dataframe thead th {\n",
       "        text-align: right;\n",
       "    }\n",
       "</style>\n",
       "<table border=\"1\" class=\"dataframe\">\n",
       "  <thead>\n",
       "    <tr style=\"text-align: right;\">\n",
       "      <th></th>\n",
       "      <th>Pclass</th>\n",
       "      <th>Survived</th>\n",
       "      <th>Sex</th>\n",
       "      <th>Age</th>\n",
       "      <th>SibSp</th>\n",
       "      <th>Parch</th>\n",
       "      <th>Fare</th>\n",
       "      <th>Embarked</th>\n",
       "    </tr>\n",
       "  </thead>\n",
       "  <tbody>\n",
       "    <tr>\n",
       "      <th>Pclass</th>\n",
       "      <td>1.000000</td>\n",
       "      <td>-0.317737</td>\n",
       "      <td>0.141032</td>\n",
       "      <td>-0.409082</td>\n",
       "      <td>0.046333</td>\n",
       "      <td>0.016342</td>\n",
       "      <td>-0.564558</td>\n",
       "      <td>-0.113971</td>\n",
       "    </tr>\n",
       "    <tr>\n",
       "      <th>Survived</th>\n",
       "      <td>-0.317737</td>\n",
       "      <td>1.000000</td>\n",
       "      <td>-0.536332</td>\n",
       "      <td>-0.057416</td>\n",
       "      <td>-0.011403</td>\n",
       "      <td>0.115436</td>\n",
       "      <td>0.247858</td>\n",
       "      <td>0.108962</td>\n",
       "    </tr>\n",
       "    <tr>\n",
       "      <th>Sex</th>\n",
       "      <td>0.141032</td>\n",
       "      <td>-0.536332</td>\n",
       "      <td>1.000000</td>\n",
       "      <td>0.066007</td>\n",
       "      <td>-0.096464</td>\n",
       "      <td>-0.222531</td>\n",
       "      <td>-0.186400</td>\n",
       "      <td>-0.109690</td>\n",
       "    </tr>\n",
       "    <tr>\n",
       "      <th>Age</th>\n",
       "      <td>-0.409082</td>\n",
       "      <td>-0.057416</td>\n",
       "      <td>0.066007</td>\n",
       "      <td>1.000000</td>\n",
       "      <td>-0.242345</td>\n",
       "      <td>-0.149311</td>\n",
       "      <td>0.177205</td>\n",
       "      <td>0.050215</td>\n",
       "    </tr>\n",
       "    <tr>\n",
       "      <th>SibSp</th>\n",
       "      <td>0.046333</td>\n",
       "      <td>-0.011403</td>\n",
       "      <td>-0.096464</td>\n",
       "      <td>-0.242345</td>\n",
       "      <td>1.000000</td>\n",
       "      <td>0.373960</td>\n",
       "      <td>0.142131</td>\n",
       "      <td>-0.031067</td>\n",
       "    </tr>\n",
       "    <tr>\n",
       "      <th>Parch</th>\n",
       "      <td>0.016342</td>\n",
       "      <td>0.115436</td>\n",
       "      <td>-0.222531</td>\n",
       "      <td>-0.149311</td>\n",
       "      <td>0.373960</td>\n",
       "      <td>1.000000</td>\n",
       "      <td>0.217650</td>\n",
       "      <td>-0.036374</td>\n",
       "    </tr>\n",
       "    <tr>\n",
       "      <th>Fare</th>\n",
       "      <td>-0.564558</td>\n",
       "      <td>0.247858</td>\n",
       "      <td>-0.186400</td>\n",
       "      <td>0.177205</td>\n",
       "      <td>0.142131</td>\n",
       "      <td>0.217650</td>\n",
       "      <td>1.000000</td>\n",
       "      <td>0.172281</td>\n",
       "    </tr>\n",
       "    <tr>\n",
       "      <th>Embarked</th>\n",
       "      <td>-0.113971</td>\n",
       "      <td>0.108962</td>\n",
       "      <td>-0.109690</td>\n",
       "      <td>0.050215</td>\n",
       "      <td>-0.031067</td>\n",
       "      <td>-0.036374</td>\n",
       "      <td>0.172281</td>\n",
       "      <td>1.000000</td>\n",
       "    </tr>\n",
       "  </tbody>\n",
       "</table>\n",
       "</div>"
      ],
      "text/plain": [
       "            Pclass  Survived       Sex       Age     SibSp     Parch  \\\n",
       "Pclass    1.000000 -0.317737  0.141032 -0.409082  0.046333  0.016342   \n",
       "Survived -0.317737  1.000000 -0.536332 -0.057416 -0.011403  0.115436   \n",
       "Sex       0.141032 -0.536332  1.000000  0.066007 -0.096464 -0.222531   \n",
       "Age      -0.409082 -0.057416  0.066007  1.000000 -0.242345 -0.149311   \n",
       "SibSp     0.046333 -0.011403 -0.096464 -0.242345  1.000000  0.373960   \n",
       "Parch     0.016342  0.115436 -0.222531 -0.149311  0.373960  1.000000   \n",
       "Fare     -0.564558  0.247858 -0.186400  0.177205  0.142131  0.217650   \n",
       "Embarked -0.113971  0.108962 -0.109690  0.050215 -0.031067 -0.036374   \n",
       "\n",
       "              Fare  Embarked  \n",
       "Pclass   -0.564558 -0.113971  \n",
       "Survived  0.247858  0.108962  \n",
       "Sex      -0.186400 -0.109690  \n",
       "Age       0.177205  0.050215  \n",
       "SibSp     0.142131 -0.031067  \n",
       "Parch     0.217650 -0.036374  \n",
       "Fare      1.000000  0.172281  \n",
       "Embarked  0.172281  1.000000  "
      ]
     },
     "execution_count": 15,
     "metadata": {},
     "output_type": "execute_result"
    }
   ],
   "source": [
    "\n",
    "data.corr()\n"
   ]
  },
  {
   "cell_type": "code",
   "execution_count": 16,
   "id": "5ce5e5f3",
   "metadata": {},
   "outputs": [],
   "source": [
    "\n",
    "import seaborn as sns\n",
    "import matplotlib.pyplot as plt\n",
    "sns.set_theme()\n"
   ]
  },
  {
   "cell_type": "code",
   "execution_count": 17,
   "id": "ce0bc1b0",
   "metadata": {},
   "outputs": [
    {
     "data": {
      "text/plain": [
       "<Axes: >"
      ]
     },
     "execution_count": 17,
     "metadata": {},
     "output_type": "execute_result"
    },
    {
     "data": {
      "image/png": "[encoded data removed]",
      "text/plain": [
       "<Figure size 640x480 with 2 Axes>"
      ]
     },
     "metadata": {},
     "output_type": "display_data"
    }
   ],
   "source": [
    "\n",
    "sns.heatmap(data.corr(),linewidths=0.2,annot=True,fmt=\".2f\",cmap=\"crest\")\n"
   ]
  },
  {
   "cell_type": "code",
   "execution_count": 18,
   "id": "a0e69cf0",
   "metadata": {},
   "outputs": [],
   "source": [
    "# stärkste correlation: \"Pclass\" und \"Fare\" -0.56,\n",
    "#                       \"Survived\" und \"Sex\" -0.54,\n",
    "\n",
    "\n",
    "# stärkste positive correlation: \"Parch\" und \"SibSp\" 0.37,\n",
    "#                       \"Survived\" und \"Fare\" 0.25,\n",
    "#                       \"Parch\" und \"Fare\"  0.22,\n",
    "#                        \"Age\" und \"Fare\"   0.18"
   ]
  },
  {
   "cell_type": "markdown",
   "id": "1671b27a",
   "metadata": {},
   "source": [
    "## 5. Aufgabe: Dimension reduzieren\n",
    "\n",
    "Du wirst festgestellt haben, dass die Features `Fare` und `Pclass` stark (negativ) korreliert sind. Dies erscheint logisch, da es 3 Beförderungsklassen auf der Titanic gibt, wobei die erste Klasse die Beste ist.\n",
    "\n",
    "Eine negative Korrelation zwischen `Fare` und `Pclass` bedeutet nun, dass je **höher** die Klasse, desto **geringer** der Fahrtpreis. Davon war auszugehen!\n",
    "\n",
    "Da diese Features also etwas redundant sind, wollen wir die Dimension der Daten reduzieren und das Feature `Pclass` komplett entfernen.\n",
    "\n",
    "- Lösche die Spalte `Pclass` aus `data`."
   ]
  },
  {
   "cell_type": "code",
   "execution_count": 19,
   "id": "d4095697",
   "metadata": {},
   "outputs": [],
   "source": [
    "data.drop(\"Pclass\",axis=1,inplace=True)"
   ]
  },
  {
   "cell_type": "code",
   "execution_count": 20,
   "id": "91fed290",
   "metadata": {},
   "outputs": [
    {
     "data": {
      "text/plain": [
       "(1043, 7)"
      ]
     },
     "execution_count": 20,
     "metadata": {},
     "output_type": "execute_result"
    }
   ],
   "source": [
    "data.shape"
   ]
  },
  {
   "cell_type": "code",
   "execution_count": 21,
   "id": "5e600f75",
   "metadata": {},
   "outputs": [
    {
     "name": "stdout",
     "output_type": "stream",
     "text": [
      "<class 'pandas.core.frame.DataFrame'>\n",
      "Index: 1043 entries, 0 to 1308\n",
      "Data columns (total 7 columns):\n",
      " #   Column    Non-Null Count  Dtype  \n",
      "---  ------    --------------  -----  \n",
      " 0   Survived  1043 non-null   int64  \n",
      " 1   Sex       1043 non-null   int64  \n",
      " 2   Age       1043 non-null   float64\n",
      " 3   SibSp     1043 non-null   int64  \n",
      " 4   Parch     1043 non-null   int64  \n",
      " 5   Fare      1043 non-null   float64\n",
      " 6   Embarked  1043 non-null   float64\n",
      "dtypes: float64(3), int64(4)\n",
      "memory usage: 65.2 KB\n"
     ]
    }
   ],
   "source": [
    "data.info()"
   ]
  },
  {
   "cell_type": "markdown",
   "id": "4560dd53",
   "metadata": {},
   "source": [
    "## 6. Aufgabe: Daten visualisieren\n",
    "\n",
    "Wir haben 4 numerische Features `Age`,`Fare`,`Parch` und `SibSp`. \n",
    "\n",
    "- Lass dir für jedes dieser Features die Verteilung anzeigen. Erzeuge hierfür einen [`histplot`](https://seaborn.pydata.org/generated/seaborn.histplot.html) für jedes Merkmal. "
   ]
  },
  {
   "cell_type": "code",
   "execution_count": 22,
   "id": "2c3a6a03",
   "metadata": {},
   "outputs": [
    {
     "name": "stderr",
     "output_type": "stream",
     "text": [
      "C:\\Users\\dietm\\anaconda3\\lib\\site-packages\\seaborn\\axisgrid.py:118: UserWarning: The figure layout has changed to tight\n",
      "  self._figure.tight_layout(*args, **kwargs)\n"
     ]
    },
    {
     "data": {
      "text/plain": [
       "<seaborn.axisgrid.FacetGrid at 0x226a2877970>"
      ]
     },
     "execution_count": 22,
     "metadata": {},
     "output_type": "execute_result"
    },
    {
     "data": {
      "image/png": "[encoded data removed]",
      "text/plain": [
       "<Figure size 563.5x500 with 1 Axes>"
      ]
     },
     "metadata": {},
     "output_type": "display_data"
    }
   ],
   "source": [
    "\n",
    "sns.displot(data=data,x=\"Age\",hue=\"Sex\",multiple='stack', element='bars',kde=True)\n"
   ]
  },
  {
   "cell_type": "code",
   "execution_count": 23,
   "id": "4d00744b",
   "metadata": {},
   "outputs": [
    {
     "name": "stderr",
     "output_type": "stream",
     "text": [
      "C:\\Users\\dietm\\anaconda3\\lib\\site-packages\\seaborn\\axisgrid.py:118: UserWarning: The figure layout has changed to tight\n",
      "  self._figure.tight_layout(*args, **kwargs)\n"
     ]
    },
    {
     "data": {
      "text/plain": [
       "<seaborn.axisgrid.FacetGrid at 0x226ad80a860>"
      ]
     },
     "execution_count": 23,
     "metadata": {},
     "output_type": "execute_result"
    },
    {
     "data": {
      "image/png": "[encoded data removed]",
      "text/plain": [
       "<Figure size 500x500 with 1 Axes>"
      ]
     },
     "metadata": {},
     "output_type": "display_data"
    }
   ],
   "source": [
    "sns.displot(data=data,x=\"Fare\",multiple='stack', element='bars',kde=True,bins=20)"
   ]
  },
  {
   "cell_type": "code",
   "execution_count": 24,
   "id": "5f9fd6a3",
   "metadata": {},
   "outputs": [
    {
     "name": "stderr",
     "output_type": "stream",
     "text": [
      "C:\\Users\\dietm\\anaconda3\\lib\\site-packages\\seaborn\\axisgrid.py:118: UserWarning: The figure layout has changed to tight\n",
      "  self._figure.tight_layout(*args, **kwargs)\n"
     ]
    },
    {
     "data": {
      "text/plain": [
       "<seaborn.axisgrid.FacetGrid at 0x226ad6a6b30>"
      ]
     },
     "execution_count": 24,
     "metadata": {},
     "output_type": "execute_result"
    },
    {
     "data": {
      "image/png": "[encoded data removed]",
      "text/plain": [
       "<Figure size 500x500 with 1 Axes>"
      ]
     },
     "metadata": {},
     "output_type": "display_data"
    }
   ],
   "source": [
    "sns.displot(data=data,x=\"Parch\",multiple='stack', element='bars',bins=20)"
   ]
  },
  {
   "cell_type": "code",
   "execution_count": 25,
   "id": "f1ef6eae",
   "metadata": {},
   "outputs": [
    {
     "name": "stderr",
     "output_type": "stream",
     "text": [
      "C:\\Users\\dietm\\anaconda3\\lib\\site-packages\\seaborn\\axisgrid.py:118: UserWarning: The figure layout has changed to tight\n",
      "  self._figure.tight_layout(*args, **kwargs)\n"
     ]
    },
    {
     "data": {
      "text/plain": [
       "<seaborn.axisgrid.FacetGrid at 0x226afa7cb80>"
      ]
     },
     "execution_count": 25,
     "metadata": {},
     "output_type": "execute_result"
    },
    {
     "data": {
      "image/png": "[encoded data removed]",
      "text/plain": [
       "<Figure size 563.5x500 with 1 Axes>"
      ]
     },
     "metadata": {},
     "output_type": "display_data"
    }
   ],
   "source": [
    "sns.displot(data=data,x=\"SibSp\",hue=\"Sex\",multiple='stack', element='bars',bins=15)"
   ]
  },
  {
   "cell_type": "code",
   "execution_count": null,
   "id": "33401db7",
   "metadata": {},
   "outputs": [],
   "source": []
  },
  {
   "cell_type": "markdown",
   "id": "2aabc5b5",
   "metadata": {},
   "source": [
    "## 7. Aufgabe: Machine Learning\n",
    "\n",
    "Wir wollen nun ein Modell trainieren. Dazu müssen wir unser Target `Survived` aus dem `DataFrame` `data` entfernen und in einer separaten Variable speichern. \n",
    "\n",
    "- Entferne das Target aus `data` und speichere die Werte in einer neuen Variable."
   ]
  },
  {
   "cell_type": "code",
   "execution_count": 26,
   "id": "c805e6f4",
   "metadata": {},
   "outputs": [],
   "source": [
    "X = data.drop(\"Survived\",axis=1)"
   ]
  },
  {
   "cell_type": "code",
   "execution_count": 27,
   "id": "7374ad40",
   "metadata": {},
   "outputs": [
    {
     "data": {
      "text/html": [
       "<div>\n",
       "<style scoped>\n",
       "    .dataframe tbody tr th:only-of-type {\n",
       "        vertical-align: middle;\n",
       "    }\n",
       "\n",
       "    .dataframe tbody tr th {\n",
       "        vertical-align: top;\n",
       "    }\n",
       "\n",
       "    .dataframe thead th {\n",
       "        text-align: right;\n",
       "    }\n",
       "</style>\n",
       "<table border=\"1\" class=\"dataframe\">\n",
       "  <thead>\n",
       "    <tr style=\"text-align: right;\">\n",
       "      <th></th>\n",
       "      <th>Sex</th>\n",
       "      <th>Age</th>\n",
       "      <th>SibSp</th>\n",
       "      <th>Parch</th>\n",
       "      <th>Fare</th>\n",
       "      <th>Embarked</th>\n",
       "    </tr>\n",
       "  </thead>\n",
       "  <tbody>\n",
       "    <tr>\n",
       "      <th>0</th>\n",
       "      <td>0</td>\n",
       "      <td>29.0000</td>\n",
       "      <td>0</td>\n",
       "      <td>0</td>\n",
       "      <td>211.3375</td>\n",
       "      <td>1.0</td>\n",
       "    </tr>\n",
       "    <tr>\n",
       "      <th>1</th>\n",
       "      <td>1</td>\n",
       "      <td>0.9167</td>\n",
       "      <td>1</td>\n",
       "      <td>2</td>\n",
       "      <td>151.5500</td>\n",
       "      <td>1.0</td>\n",
       "    </tr>\n",
       "    <tr>\n",
       "      <th>2</th>\n",
       "      <td>0</td>\n",
       "      <td>2.0000</td>\n",
       "      <td>1</td>\n",
       "      <td>2</td>\n",
       "      <td>151.5500</td>\n",
       "      <td>1.0</td>\n",
       "    </tr>\n",
       "    <tr>\n",
       "      <th>3</th>\n",
       "      <td>1</td>\n",
       "      <td>30.0000</td>\n",
       "      <td>1</td>\n",
       "      <td>2</td>\n",
       "      <td>151.5500</td>\n",
       "      <td>1.0</td>\n",
       "    </tr>\n",
       "    <tr>\n",
       "      <th>4</th>\n",
       "      <td>0</td>\n",
       "      <td>25.0000</td>\n",
       "      <td>1</td>\n",
       "      <td>2</td>\n",
       "      <td>151.5500</td>\n",
       "      <td>1.0</td>\n",
       "    </tr>\n",
       "    <tr>\n",
       "      <th>...</th>\n",
       "      <td>...</td>\n",
       "      <td>...</td>\n",
       "      <td>...</td>\n",
       "      <td>...</td>\n",
       "      <td>...</td>\n",
       "      <td>...</td>\n",
       "    </tr>\n",
       "    <tr>\n",
       "      <th>1301</th>\n",
       "      <td>1</td>\n",
       "      <td>45.5000</td>\n",
       "      <td>0</td>\n",
       "      <td>0</td>\n",
       "      <td>7.2250</td>\n",
       "      <td>2.0</td>\n",
       "    </tr>\n",
       "    <tr>\n",
       "      <th>1304</th>\n",
       "      <td>0</td>\n",
       "      <td>14.5000</td>\n",
       "      <td>1</td>\n",
       "      <td>0</td>\n",
       "      <td>14.4542</td>\n",
       "      <td>2.0</td>\n",
       "    </tr>\n",
       "    <tr>\n",
       "      <th>1306</th>\n",
       "      <td>1</td>\n",
       "      <td>26.5000</td>\n",
       "      <td>0</td>\n",
       "      <td>0</td>\n",
       "      <td>7.2250</td>\n",
       "      <td>2.0</td>\n",
       "    </tr>\n",
       "    <tr>\n",
       "      <th>1307</th>\n",
       "      <td>1</td>\n",
       "      <td>27.0000</td>\n",
       "      <td>0</td>\n",
       "      <td>0</td>\n",
       "      <td>7.2250</td>\n",
       "      <td>2.0</td>\n",
       "    </tr>\n",
       "    <tr>\n",
       "      <th>1308</th>\n",
       "      <td>1</td>\n",
       "      <td>29.0000</td>\n",
       "      <td>0</td>\n",
       "      <td>0</td>\n",
       "      <td>7.8750</td>\n",
       "      <td>1.0</td>\n",
       "    </tr>\n",
       "  </tbody>\n",
       "</table>\n",
       "<p>1043 rows × 6 columns</p>\n",
       "</div>"
      ],
      "text/plain": [
       "      Sex      Age  SibSp  Parch      Fare  Embarked\n",
       "0       0  29.0000      0      0  211.3375       1.0\n",
       "1       1   0.9167      1      2  151.5500       1.0\n",
       "2       0   2.0000      1      2  151.5500       1.0\n",
       "3       1  30.0000      1      2  151.5500       1.0\n",
       "4       0  25.0000      1      2  151.5500       1.0\n",
       "...   ...      ...    ...    ...       ...       ...\n",
       "1301    1  45.5000      0      0    7.2250       2.0\n",
       "1304    0  14.5000      1      0   14.4542       2.0\n",
       "1306    1  26.5000      0      0    7.2250       2.0\n",
       "1307    1  27.0000      0      0    7.2250       2.0\n",
       "1308    1  29.0000      0      0    7.8750       1.0\n",
       "\n",
       "[1043 rows x 6 columns]"
      ]
     },
     "execution_count": 27,
     "metadata": {},
     "output_type": "execute_result"
    }
   ],
   "source": [
    "X"
   ]
  },
  {
   "cell_type": "code",
   "execution_count": 28,
   "id": "4b5e7e01",
   "metadata": {},
   "outputs": [],
   "source": [
    "y = data[\"Survived\"]"
   ]
  },
  {
   "cell_type": "code",
   "execution_count": 29,
   "id": "2315d978",
   "metadata": {},
   "outputs": [
    {
     "data": {
      "text/plain": [
       "0       1\n",
       "1       1\n",
       "2       0\n",
       "3       0\n",
       "4       0\n",
       "       ..\n",
       "1301    0\n",
       "1304    0\n",
       "1306    0\n",
       "1307    0\n",
       "1308    0\n",
       "Name: Survived, Length: 1043, dtype: int64"
      ]
     },
     "execution_count": 29,
     "metadata": {},
     "output_type": "execute_result"
    }
   ],
   "source": [
    "y"
   ]
  },
  {
   "cell_type": "markdown",
   "id": "aa66ca1a",
   "metadata": {},
   "source": [
    "Wir wollen nun ein Modell trainieren:\n",
    "\n",
    "- Splitte die Daten mit der Funktion [`train_test_split`](https://scikit-learn.org/stable/modules/generated/sklearn.model_selection.train_test_split.html) im Verhältnis 80:20.\n",
    "- Trainiere eine [Naive Bayes](https://scikit-learn.org/stable/modules/classes.html#module-sklearn.naive_bayes) auf den Trainingsdaten.\n",
    "\n",
    "> <span style=\"color:red\"> **_WICHTIG:_** </span> `sklearn` bietet mehrere möglichen Modelle. Verwende für diese Aufgabe einen [`Gaussian Naive Bayes`](https://scikit-learn.org/stable/modules/generated/sklearn.naive_bayes.GaussianNB.html?highlight=gaussiannb#sklearn.naive_bayes.GaussianNB). Wir werden in der nächsten Aufgabe auf ein Attribut zugreifen müssen, welches nur dieses Modell besitzt.\n",
    "\n",
    "\n",
    "- Berechne für dieses Modell den Score auf den Testdaten."
   ]
  },
  {
   "cell_type": "code",
   "execution_count": 30,
   "id": "8dc4e9aa",
   "metadata": {},
   "outputs": [],
   "source": [
    "from sklearn.model_selection import train_test_split"
   ]
  },
  {
   "cell_type": "code",
   "execution_count": 31,
   "id": "7adf8a78",
   "metadata": {},
   "outputs": [],
   "source": [
    "X_train, X_test, y_train, y_test = train_test_split(X, y, test_size=0.2, random_state=0)"
   ]
  },
  {
   "cell_type": "code",
   "execution_count": 32,
   "id": "61c13ea4",
   "metadata": {},
   "outputs": [],
   "source": [
    "from sklearn.naive_bayes import GaussianNB"
   ]
  },
  {
   "cell_type": "code",
   "execution_count": 33,
   "id": "0643b3cc",
   "metadata": {},
   "outputs": [],
   "source": [
    "gnb = GaussianNB()"
   ]
  },
  {
   "cell_type": "code",
   "execution_count": 34,
   "id": "879d729c",
   "metadata": {},
   "outputs": [
    {
     "data": {
      "text/html": [
       "<style>#sk-container-id-1 {color: black;}#sk-container-id-1 pre{padding: 0;}#sk-container-id-1 div.sk-toggleable {background-color: white;}#sk-container-id-1 label.sk-toggleable__label {cursor: pointer;display: block;width: 100%;margin-bottom: 0;padding: 0.3em;box-sizing: border-box;text-align: center;}#sk-container-id-1 label.sk-toggleable__label-arrow:before {content: \"▸\";float: left;margin-right: 0.25em;color: #696969;}#sk-container-id-1 label.sk-toggleable__label-arrow:hover:before {color: black;}#sk-container-id-1 div.sk-estimator:hover label.sk-toggleable__label-arrow:before {color: black;}#sk-container-id-1 div.sk-toggleable__content {max-height: 0;max-width: 0;overflow: hidden;text-align: left;background-color: #f0f8ff;}#sk-container-id-1 div.sk-toggleable__content pre {margin: 0.2em;color: black;border-radius: 0.25em;background-color: #f0f8ff;}#sk-container-id-1 input.sk-toggleable__control:checked~div.sk-toggleable__content {max-height: 200px;max-width: 100%;overflow: auto;}#sk-container-id-1 input.sk-toggleable__control:checked~label.sk-toggleable__label-arrow:before {content: \"▾\";}#sk-container-id-1 div.sk-estimator input.sk-toggleable__control:checked~label.sk-toggleable__label {background-color: #d4ebff;}#sk-container-id-1 div.sk-label input.sk-toggleable__control:checked~label.sk-toggleable__label {background-color: #d4ebff;}#sk-container-id-1 input.sk-hidden--visually {border: 0;clip: rect(1px 1px 1px 1px);clip: rect(1px, 1px, 1px, 1px);height: 1px;margin: -1px;overflow: hidden;padding: 0;position: absolute;width: 1px;}#sk-container-id-1 div.sk-estimator {font-family: monospace;background-color: #f0f8ff;border: 1px dotted black;border-radius: 0.25em;box-sizing: border-box;margin-bottom: 0.5em;}#sk-container-id-1 div.sk-estimator:hover {background-color: #d4ebff;}#sk-container-id-1 div.sk-parallel-item::after {content: \"\";width: 100%;border-bottom: 1px solid gray;flex-grow: 1;}#sk-container-id-1 div.sk-label:hover label.sk-toggleable__label {background-color: #d4ebff;}#sk-container-id-1 div.sk-serial::before {content: \"\";position: absolute;border-left: 1px solid gray;box-sizing: border-box;top: 0;bottom: 0;left: 50%;z-index: 0;}#sk-container-id-1 div.sk-serial {display: flex;flex-direction: column;align-items: center;background-color: white;padding-right: 0.2em;padding-left: 0.2em;position: relative;}#sk-container-id-1 div.sk-item {position: relative;z-index: 1;}#sk-container-id-1 div.sk-parallel {display: flex;align-items: stretch;justify-content: center;background-color: white;position: relative;}#sk-container-id-1 div.sk-item::before, #sk-container-id-1 div.sk-parallel-item::before {content: \"\";position: absolute;border-left: 1px solid gray;box-sizing: border-box;top: 0;bottom: 0;left: 50%;z-index: -1;}#sk-container-id-1 div.sk-parallel-item {display: flex;flex-direction: column;z-index: 1;position: relative;background-color: white;}#sk-container-id-1 div.sk-parallel-item:first-child::after {align-self: flex-end;width: 50%;}#sk-container-id-1 div.sk-parallel-item:last-child::after {align-self: flex-start;width: 50%;}#sk-container-id-1 div.sk-parallel-item:only-child::after {width: 0;}#sk-container-id-1 div.sk-dashed-wrapped {border: 1px dashed gray;margin: 0 0.4em 0.5em 0.4em;box-sizing: border-box;padding-bottom: 0.4em;background-color: white;}#sk-container-id-1 div.sk-label label {font-family: monospace;font-weight: bold;display: inline-block;line-height: 1.2em;}#sk-container-id-1 div.sk-label-container {text-align: center;}#sk-container-id-1 div.sk-container {/* jupyter's `normalize.less` sets `[hidden] { display: none; }` but bootstrap.min.css set `[hidden] { display: none !important; }` so we also need the `!important` here to be able to override the default hidden behavior on the sphinx rendered scikit-learn.org. See: https://github.com/scikit-learn/scikit-learn/issues/21755 */display: inline-block !important;position: relative;}#sk-container-id-1 div.sk-text-repr-fallback {display: none;}</style><div id=\"sk-container-id-1\" class=\"sk-top-container\"><div class=\"sk-text-repr-fallback\"><pre>GaussianNB()</pre><b>In a Jupyter environment, please rerun this cell to show the HTML representation or trust the notebook. <br />On GitHub, the HTML representation is unable to render, please try loading this page with nbviewer.org.</b></div><div class=\"sk-container\" hidden><div class=\"sk-item\"><div class=\"sk-estimator sk-toggleable\"><input class=\"sk-toggleable__control sk-hidden--visually\" id=\"sk-estimator-id-1\" type=\"checkbox\" checked><label for=\"sk-estimator-id-1\" class=\"sk-toggleable__label sk-toggleable__label-arrow\">GaussianNB</label><div class=\"sk-toggleable__content\"><pre>GaussianNB()</pre></div></div></div></div></div>"
      ],
      "text/plain": [
       "GaussianNB()"
      ]
     },
     "execution_count": 34,
     "metadata": {},
     "output_type": "execute_result"
    }
   ],
   "source": [
    "gnb.fit(X_train,y_train)"
   ]
  },
  {
   "cell_type": "code",
   "execution_count": 35,
   "id": "daa70df6",
   "metadata": {},
   "outputs": [],
   "source": [
    "pred = gnb.predict(X_test)"
   ]
  },
  {
   "cell_type": "code",
   "execution_count": 36,
   "id": "2b5f0a2c",
   "metadata": {},
   "outputs": [],
   "source": [
    "from sklearn.metrics import accuracy_score,confusion_matrix,classification_report,mean_absolute_error"
   ]
  },
  {
   "cell_type": "code",
   "execution_count": 37,
   "id": "c3172bbe",
   "metadata": {},
   "outputs": [
    {
     "name": "stdout",
     "output_type": "stream",
     "text": [
      "              precision    recall  f1-score   support\n",
      "\n",
      "           0       0.82      0.82      0.82       126\n",
      "           1       0.72      0.72      0.72        83\n",
      "\n",
      "    accuracy                           0.78       209\n",
      "   macro avg       0.77      0.77      0.77       209\n",
      "weighted avg       0.78      0.78      0.78       209\n",
      "\n"
     ]
    }
   ],
   "source": [
    "print(classification_report(y_test,pred))"
   ]
  },
  {
   "cell_type": "code",
   "execution_count": 38,
   "id": "25b994fd",
   "metadata": {},
   "outputs": [
    {
     "name": "stdout",
     "output_type": "stream",
     "text": [
      "Genauigkeit : 77.990 %\n"
     ]
    }
   ],
   "source": [
    "print(\"Genauigkeit : {:.3f} %\".format(accuracy_score(y_test,pred)*100))"
   ]
  },
  {
   "cell_type": "code",
   "execution_count": 39,
   "id": "a7555cf4",
   "metadata": {},
   "outputs": [
    {
     "data": {
      "text/plain": [
       "array([[103,  23],\n",
       "       [ 23,  60]], dtype=int64)"
      ]
     },
     "execution_count": 39,
     "metadata": {},
     "output_type": "execute_result"
    }
   ],
   "source": [
    "confusion_matrix(y_test,pred)"
   ]
  },
  {
   "cell_type": "code",
   "execution_count": 40,
   "id": "4a397163",
   "metadata": {},
   "outputs": [
    {
     "name": "stdout",
     "output_type": "stream",
     "text": [
      "Genauigkeit : 22.010 %\n"
     ]
    }
   ],
   "source": [
    "print(\"Genauigkeit : {:.3f} %\".format(mean_absolute_error(y_test,pred)*100))"
   ]
  },
  {
   "cell_type": "code",
   "execution_count": 41,
   "id": "f04971bd",
   "metadata": {},
   "outputs": [
    {
     "data": {
      "text/plain": [
       "<Axes: >"
      ]
     },
     "execution_count": 41,
     "metadata": {},
     "output_type": "execute_result"
    },
    {
     "data": {
      "image/png": "[encoded data removed]",
      "text/plain": [
       "<Figure size 640x480 with 2 Axes>"
      ]
     },
     "metadata": {},
     "output_type": "display_data"
    }
   ],
   "source": [
    "sns.heatmap(confusion_matrix(y_test,pred),linewidths=0.2,annot=True,cmap=\"rainbow\",fmt=\".0f\")"
   ]
  },
  {
   "cell_type": "markdown",
   "id": "ddc3a35d",
   "metadata": {},
   "source": [
    "## 8. Aufgabe: Features nach Klassen getrennt\n",
    "\n",
    "Unter dem Attribut `theta_[0]` des Modells befinden sich die Mittelwerte der Features für alle Samples die **nicht** überlebt haben (`Survived=0`). </br>\n",
    "Unter dem Attribut `theta_[1]` befinden sich die Mittelwerte der Features für alle Samples die überlebt haben (`Survived=1`). \n",
    "\n",
    "- Lass dir diese Daten durch eine formatierte `print`-Ausgabe schön darstellen. \n",
    "\n",
    "- Was lassen sich die Ergebnisse interpretieren? "
   ]
  },
  {
   "cell_type": "code",
   "execution_count": 42,
   "id": "cb3c70b8",
   "metadata": {},
   "outputs": [
    {
     "name": "stdout",
     "output_type": "stream",
     "text": [
      "Nicht überlebt:      Sex       :      0.843\n",
      "Nicht überlebt:      Age       :     30.990\n",
      "Nicht überlebt:      SibSp     :      0.453\n",
      "Nicht überlebt:      Parch     :      0.307\n",
      "Nicht überlebt:      Fare      :     24.780\n",
      "Nicht überlebt:      Embarked  :      1.266\n"
     ]
    }
   ],
   "source": [
    "for i,k in zip(X.columns[::1],gnb.theta_[0]):\n",
    "    print(f\"Nicht überlebt:      {i:<10}: {k:>10.3f}\")"
   ]
  },
  {
   "cell_type": "code",
   "execution_count": 43,
   "id": "b437586b",
   "metadata": {},
   "outputs": [
    {
     "name": "stdout",
     "output_type": "stream",
     "text": [
      "Überlebt:      Sex       :      0.319\n",
      "Überlebt:      Age       :     29.465\n",
      "Überlebt:      SibSp     :      0.488\n",
      "Überlebt:      Parch     :      0.518\n",
      "Überlebt:      Fare      :     54.011\n",
      "Überlebt:      Embarked  :      1.406\n"
     ]
    }
   ],
   "source": [
    "for i,k in zip(X.columns[::1],gnb.theta_[1]):\n",
    "    print(f\"Überlebt:      {i:<10}: {k:>10.3f}\")"
   ]
  },
  {
   "cell_type": "code",
   "execution_count": null,
   "id": "3bb1fa4f",
   "metadata": {},
   "outputs": [],
   "source": []
  }
 ],
 "metadata": {
  "kernelspec": {
   "display_name": "Python 3 (ipykernel)",
   "language": "python",
   "name": "python3"
  },
  "language_info": {
   "codemirror_mode": {
    "name": "ipython",
    "version": 3
   },
   "file_extension": ".py",
   "mimetype": "text/x-python",
   "name": "python",
   "nbconvert_exporter": "python",
   "pygments_lexer": "ipython3",
   "version": "3.10.9"
  }
 },
 "nbformat": 4,
 "nbformat_minor": 5
}
