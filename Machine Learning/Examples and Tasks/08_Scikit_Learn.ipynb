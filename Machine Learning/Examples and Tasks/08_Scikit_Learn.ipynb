{
 "cells": [
  {
   "cell_type": "code",
   "execution_count": 24,
   "id": "7f3dcc45",
   "metadata": {},
   "outputs": [],
   "source": [
    "\n",
    "# standard bibliotheken für python\n",
    "import matplotlib.pyplot as plt\n",
    "import numpy as np\n"
   ]
  },
  {
   "cell_type": "code",
   "execution_count": 25,
   "id": "460d360c",
   "metadata": {},
   "outputs": [],
   "source": [
    "\n",
    "# immer nur die teile von den sklearn-bibliotheken importieren, die man wirklich braucht!!!\n",
    "from sklearn import datasets\n"
   ]
  },
  {
   "cell_type": "code",
   "execution_count": 26,
   "id": "016a8b29",
   "metadata": {},
   "outputs": [
    {
     "data": {
      "text/plain": [
       "(array([[ -4.13475679,  -5.92206405],\n",
       "        [ -3.43349531,  -7.6073144 ],\n",
       "        [  8.08300631,   0.61113566],\n",
       "        [  0.17677526,  -7.58060619],\n",
       "        [ -4.48487289,  -5.84711985],\n",
       "        [  5.42961652,   0.37940003],\n",
       "        [ -3.73652601,  -6.67610527],\n",
       "        [ -0.43459641,  -7.82042283],\n",
       "        [ -4.4264661 ,  -6.47036223],\n",
       "        [  7.10471636,   1.87826215],\n",
       "        [ -1.60733005,  -7.05442746],\n",
       "        [  8.13286147,   1.79319474],\n",
       "        [ -5.49000697,  -8.39596714],\n",
       "        [ -5.40208936,  -4.71783479],\n",
       "        [ -3.7258824 ,  -6.5791998 ],\n",
       "        [  6.19299921,   1.82375579],\n",
       "        [ -3.86041287,  -6.65131154],\n",
       "        [ -0.07174788,  -8.77058051],\n",
       "        [ -1.99848108,  -6.84815059],\n",
       "        [ -1.87457389,  -8.49065037],\n",
       "        [ -1.36336273,  -7.31997786],\n",
       "        [ -1.58352541,  -7.20999882],\n",
       "        [  7.42160724,   0.66773517],\n",
       "        [ -4.13512367,  -6.73643861],\n",
       "        [ -2.37813918,  -5.72292798],\n",
       "        [ -4.797189  ,  -5.81398367],\n",
       "        [ -1.76652786,  -7.68859309],\n",
       "        [ -2.20354682,  -8.73132085],\n",
       "        [  5.47023931,  -0.41795758],\n",
       "        [  8.60402597,   1.27808887],\n",
       "        [  7.61924825,   2.48123756],\n",
       "        [ -2.34751911,  -7.23046677],\n",
       "        [ -2.58692488,  -8.82714051],\n",
       "        [ -3.71761604,  -8.70229318],\n",
       "        [  7.29183453,   3.03136755],\n",
       "        [ -2.3723975 ,  -6.79919807],\n",
       "        [ -2.80990035,  -6.22417315],\n",
       "        [  4.84897156,   1.20557255],\n",
       "        [  6.65328992,   0.99162253],\n",
       "        [ -4.64356384,  -8.74574091],\n",
       "        [  8.17141902,   2.77440489],\n",
       "        [  9.46429092,   0.0991311 ],\n",
       "        [ -3.60538038,  -6.59128437],\n",
       "        [ -1.65869112,  -7.91894362],\n",
       "        [ -1.68660654,  -9.94687836],\n",
       "        [  7.0500184 ,   3.33432335],\n",
       "        [ -2.04058282,  -8.75188383],\n",
       "        [  7.23540156,   3.05597535],\n",
       "        [  7.36051285,   2.29492637],\n",
       "        [ -1.5939147 ,  -6.17355435],\n",
       "        [ -6.94509149,  -5.04065749],\n",
       "        [  6.2603421 ,   0.78586664],\n",
       "        [ -4.93727558,  -6.81031007],\n",
       "        [ -2.73431805,  -8.2783985 ],\n",
       "        [ -0.64908094,  -5.53264546],\n",
       "        [ -3.38838282,  -6.24100072],\n",
       "        [  9.20310555,   4.15915651],\n",
       "        [ -1.58803364,  -6.51133366],\n",
       "        [ -2.16764072,  -7.67727506],\n",
       "        [  7.42633112,  -0.50576471],\n",
       "        [  7.00582376,   2.05112355],\n",
       "        [ -1.98369889,  -8.14546218],\n",
       "        [ -5.07909445,  -6.28228955],\n",
       "        [ -1.13064395,  -8.67386572],\n",
       "        [  7.58003497,   1.67783248],\n",
       "        [ -1.32431301,  -5.98710727],\n",
       "        [ -5.34443602,  -4.987869  ],\n",
       "        [ -5.90017461,  -6.39620923],\n",
       "        [ -4.33434599,  -5.82848685],\n",
       "        [ -1.00993611,  -9.7282067 ],\n",
       "        [ -1.34318402,  -8.75370591],\n",
       "        [ -1.68067901,  -8.62718577],\n",
       "        [ -4.49892432,  -8.47946953],\n",
       "        [  8.05322245,   1.43987911],\n",
       "        [ -4.1677735 ,  -6.79011377],\n",
       "        [ -2.14079352,  -8.82693275],\n",
       "        [  7.59718727,   2.82380117],\n",
       "        [  7.22867298,   1.46952795],\n",
       "        [ -3.28690508,  -7.68432176],\n",
       "        [ -3.98074809,  -6.22964821],\n",
       "        [ -0.40843486,  -6.92150546],\n",
       "        [  7.31778866,   3.61310691],\n",
       "        [  6.79254773,  -0.85890691],\n",
       "        [  8.23612146,   0.86078413],\n",
       "        [ -2.4942695 ,  -9.30049903],\n",
       "        [ -2.42544106,  -7.52656043],\n",
       "        [  7.52236288,   2.28616026],\n",
       "        [  7.59532723,   1.32285553],\n",
       "        [  7.19666274,   2.83552643],\n",
       "        [ -4.77756325,  -7.75124597],\n",
       "        [ -4.88856419,  -4.92910858],\n",
       "        [ -3.08183188,  -7.85209353],\n",
       "        [  6.62742339,   3.01229417],\n",
       "        [ -2.32783136,  -6.96359287],\n",
       "        [  6.03541672,   3.3768125 ],\n",
       "        [  6.74410151,   1.44951428],\n",
       "        [ -2.88324922,  -7.81956648],\n",
       "        [ -1.40303599,  -9.06699242],\n",
       "        [ -0.838852  ,  -7.43844767],\n",
       "        [ -0.07150911,  -6.82206013],\n",
       "        [  7.99281781,   1.46827815],\n",
       "        [  6.1327741 ,   2.55088286],\n",
       "        [  7.51654237,  -0.23980283],\n",
       "        [ -4.17565721,  -5.41213633],\n",
       "        [ 10.22523913,   2.3264275 ],\n",
       "        [ -2.13356677,  -6.79793709],\n",
       "        [ -0.39293508,  -6.2889369 ],\n",
       "        [  9.01015356,   2.03383051],\n",
       "        [ -1.85341962,  -6.32313048],\n",
       "        [ -3.72698967,  -6.10860904],\n",
       "        [  5.82478929,  -0.33071502],\n",
       "        [  5.67482913,   2.40960604],\n",
       "        [  7.10163121,   1.79853079],\n",
       "        [ -4.01522167,  -7.53421987],\n",
       "        [  6.24206132,   1.95909825],\n",
       "        [ -4.67520461,  -7.73839488],\n",
       "        [  8.13140962,   1.42349846],\n",
       "        [  8.32534339,   3.37278738],\n",
       "        [ -1.19795863,  -8.27124611],\n",
       "        [  7.95180102,   3.03280904],\n",
       "        [ -1.78778019,  -7.97250867],\n",
       "        [  5.34925198,   2.51412162],\n",
       "        [ -2.13794426,  -3.97031091],\n",
       "        [ -4.31005507,  -6.40461192],\n",
       "        [  8.78249496,  -0.52379685],\n",
       "        [  6.48174829,   1.41322671],\n",
       "        [ -2.12640405,  -5.65111285],\n",
       "        [ -3.77409954,  -6.1902097 ],\n",
       "        [  7.93581295,   2.02470126],\n",
       "        [ -4.00893725,  -6.73197233],\n",
       "        [ -1.83754951,  -8.39139739],\n",
       "        [ -4.03650416,  -5.56558278],\n",
       "        [ -2.95833789,  -6.40940157],\n",
       "        [  8.496731  ,   3.30797297],\n",
       "        [  7.00694204,   3.57119405],\n",
       "        [ -1.50958492,  -7.66478771],\n",
       "        [ -1.93031819,  -6.77241255],\n",
       "        [  7.45051976,   2.20570804],\n",
       "        [ -0.77263606,  -9.14209252],\n",
       "        [  7.6194845 ,   1.01209947],\n",
       "        [ -3.40441349,  -4.83937612],\n",
       "        [ -4.07226524,  -5.02816391],\n",
       "        [ -1.29249175,  -7.73379296],\n",
       "        [ -2.09373925,  -8.16429542],\n",
       "        [  7.69233357,   1.66975185],\n",
       "        [  7.79720317,  -0.30180077],\n",
       "        [  5.38197234,   3.06530981],\n",
       "        [  0.54694234,  -8.19520939],\n",
       "        [ -3.98105469,  -5.53603478],\n",
       "        [ -3.93982188,  -5.66101077],\n",
       "        [  9.39995093,   2.25635343],\n",
       "        [ -3.15184461,  -8.62454578],\n",
       "        [ -4.76220151,  -6.48539254],\n",
       "        [  7.90788949,   1.0190508 ],\n",
       "        [ -6.09454676,  -5.64784383],\n",
       "        [ -4.35605706,  -6.38232924],\n",
       "        [  9.69732507,  -0.9489488 ],\n",
       "        [ -2.24602224,  -7.39554534],\n",
       "        [ -2.55553972,  -6.67194797],\n",
       "        [  8.81000853,   2.3147559 ],\n",
       "        [ -4.21360321,  -4.82010645],\n",
       "        [ -5.3474304 ,  -6.87929412],\n",
       "        [ -3.77549481,  -8.13453392],\n",
       "        [  8.70574102,   1.10605437],\n",
       "        [ -0.51272271,  -6.80372694],\n",
       "        [  6.80575238,   3.66247633],\n",
       "        [  0.80958643,  -6.46579203],\n",
       "        [  7.23381506,   1.10369369],\n",
       "        [ -3.31066163,  -6.19640081],\n",
       "        [ -2.8382165 ,  -5.49342086],\n",
       "        [ -2.59051534,  -7.19351821],\n",
       "        [  7.89447899,   1.0946814 ],\n",
       "        [ -5.55156741,  -7.36429842],\n",
       "        [ -2.59189026,  -8.54570914],\n",
       "        [  8.67120907,   1.92176812],\n",
       "        [ -3.99267808,  -7.25341834],\n",
       "        [ -2.30218003,  -9.31518536],\n",
       "        [ -4.51507088,  -9.08443327],\n",
       "        [ -2.19022676,  -8.88727182],\n",
       "        [ -5.26188634,  -5.7995474 ],\n",
       "        [ -1.47023295,  -6.91941562],\n",
       "        [  7.43346158,   1.32058467],\n",
       "        [ -1.52866898,  -7.01458602],\n",
       "        [ -2.23211571,  -7.33318744],\n",
       "        [ -1.33587975,  -8.62453702],\n",
       "        [ -2.68565026,  -8.35442495],\n",
       "        [ -0.32660167,  -8.48597998],\n",
       "        [ -5.00033609,  -5.56297958],\n",
       "        [ -4.97085929,  -5.16813725],\n",
       "        [ -2.56215823,  -5.78871273],\n",
       "        [  7.8022148 ,   2.05101517],\n",
       "        [  7.56661816,   0.97232867],\n",
       "        [ -4.50829078,  -6.9298906 ],\n",
       "        [ -6.07716146,  -8.83256276],\n",
       "        [ -3.35625486,  -5.84607567],\n",
       "        [  7.6334164 ,   0.84012862],\n",
       "        [ -3.50880665,  -5.60188141],\n",
       "        [ -6.10789371,  -6.89796428],\n",
       "        [ -2.33433532,  -7.84908004],\n",
       "        [  7.82900336,   1.36797783],\n",
       "        [  7.76711035,   1.14258641],\n",
       "        [  8.13966213,   0.38517834],\n",
       "        [ -5.99101448,  -7.25409146],\n",
       "        [  8.42284692,   1.05814194],\n",
       "        [ -2.28815511,  -5.80220233],\n",
       "        [ -2.2489703 ,  -6.78315042],\n",
       "        [ -2.74234387,  -7.90918096],\n",
       "        [  8.36543848,   2.45255751],\n",
       "        [ -1.23500398,  -8.70252713],\n",
       "        [ -3.12614792,  -6.21683447],\n",
       "        [ -4.6228065 ,  -7.44769122],\n",
       "        [ -0.21048065,  -7.43038602],\n",
       "        [  7.56940627,   0.67828318],\n",
       "        [ -0.52686148,  -6.27022602],\n",
       "        [ -4.25857831,  -6.06643488],\n",
       "        [  7.62848378,  -0.19436638],\n",
       "        [  8.44862751,   0.99975458],\n",
       "        [  8.36877239,   1.46324414],\n",
       "        [ -6.09936369,  -6.63943661],\n",
       "        [  7.43507273,   0.54901084],\n",
       "        [  6.43426773,   2.102421  ],\n",
       "        [  6.66059239,   0.08562086],\n",
       "        [ -1.42490654,  -7.24359581],\n",
       "        [ -4.01359128,  -5.21945575],\n",
       "        [  7.64556321,   0.9400579 ],\n",
       "        [ -3.73683091,  -6.27341765],\n",
       "        [ -1.87220674,  -7.38687262],\n",
       "        [ -2.16797889,  -8.40493048],\n",
       "        [ -1.11909883,  -7.6990715 ],\n",
       "        [ -4.3012713 ,  -7.7214438 ],\n",
       "        [ -2.06893298,  -8.09356373],\n",
       "        [  7.98745532,   2.21837181],\n",
       "        [ -2.29700234,  -6.80293636],\n",
       "        [ -4.29451073,  -5.50131657],\n",
       "        [ -2.88688402,  -7.32779337],\n",
       "        [ -3.25074355,  -5.46228321],\n",
       "        [ -2.54004935,  -7.45311038],\n",
       "        [  6.3722766 ,   1.20125648],\n",
       "        [  7.40698367,   1.819182  ],\n",
       "        [ -3.93326035,  -5.54781847],\n",
       "        [ -3.28228993,  -6.87484643],\n",
       "        [ -0.82967934,  -7.32084399],\n",
       "        [ -4.09119086,  -6.39288225],\n",
       "        [  5.81947238,   1.10571868],\n",
       "        [ -0.5125524 ,  -8.22574646],\n",
       "        [  7.93240106,   2.02833563],\n",
       "        [ -2.39655033,  -7.64114668],\n",
       "        [ -1.41489921,  -6.89388712],\n",
       "        [ -2.30980223,  -6.69642884],\n",
       "        [ -0.98018499,  -6.32646927],\n",
       "        [ -3.79434923,  -5.9838815 ],\n",
       "        [ -4.63520537,  -5.34444959],\n",
       "        [  7.11623562,   3.21914983],\n",
       "        [  8.8014668 ,   1.69484292],\n",
       "        [ -5.70310225,  -4.88510981],\n",
       "        [ -4.44032694,  -3.82775566],\n",
       "        [ -5.19708683,  -6.52229646],\n",
       "        [  7.13927976,   1.26725323],\n",
       "        [  8.45909284,   1.2258609 ],\n",
       "        [ -3.99451894,  -6.42712133],\n",
       "        [ -0.74760969,  -6.48650502],\n",
       "        [  7.7424842 ,   3.19023052],\n",
       "        [ -6.36048691,  -6.24374414],\n",
       "        [  7.13752028,   0.48902145],\n",
       "        [ -4.2790667 ,  -6.54262074],\n",
       "        [ -0.98018572,  -8.78068742],\n",
       "        [ -4.04582437,  -8.88210543],\n",
       "        [ -3.75790683,  -5.30983091],\n",
       "        [ -3.87385756,  -7.02448609],\n",
       "        [ -4.88769058,  -6.80562724],\n",
       "        [ -1.98656131,  -7.25795492],\n",
       "        [ -4.56347041,  -6.69018275],\n",
       "        [ -3.18630861,  -6.53558205],\n",
       "        [  6.25516218,   1.1090175 ],\n",
       "        [ -1.0900769 ,  -7.13075748],\n",
       "        [ -2.35958498,  -6.97964076],\n",
       "        [ -5.20151789,  -6.5858287 ],\n",
       "        [  6.8397498 ,   0.72213808],\n",
       "        [  7.48786622,   0.8186233 ],\n",
       "        [ -5.94138282,  -6.69937419],\n",
       "        [ -0.37839463,  -8.07066498],\n",
       "        [ -1.27552138,  -7.73211976],\n",
       "        [ -2.46226434,  -9.17667139],\n",
       "        [ -0.35514024, -10.72949647],\n",
       "        [ -3.41379763,  -5.92850919],\n",
       "        [ -3.70330645,  -6.22461004],\n",
       "        [  7.98196856,   2.94706195],\n",
       "        [  9.09635356,   0.36273444],\n",
       "        [  0.40098959,  -6.9949253 ],\n",
       "        [ -4.43822892,  -5.81413923],\n",
       "        [ -5.12927983,  -6.69855406],\n",
       "        [  9.44255399,   1.95277407],\n",
       "        [  9.4300235 ,   0.55523762],\n",
       "        [ -3.53501698,  -6.58933682],\n",
       "        [  7.84779647,  -0.49003747],\n",
       "        [  7.71949295,   2.58209394],\n",
       "        [ -3.03295372,  -8.37573934],\n",
       "        [ -3.84274911,  -7.90196742],\n",
       "        [  0.21405482,  -9.59907314],\n",
       "        [  6.80204716,   0.46458782],\n",
       "        [ -3.20898644,  -6.69822166],\n",
       "        [  7.33980762,   0.79440279],\n",
       "        [ -1.00725484,  -6.49584235],\n",
       "        [ -2.74499202,  -7.00640329],\n",
       "        [  7.67941813,   0.99880772],\n",
       "        [  6.50981278,   0.75893122],\n",
       "        [ -4.40911829,  -5.45638116],\n",
       "        [  7.99808603,   1.726913  ],\n",
       "        [  7.10803833,   3.01823886],\n",
       "        [ -5.10043886,  -6.59222333],\n",
       "        [ -1.94671921,  -9.13048544],\n",
       "        [ -3.40949956,  -8.77590268],\n",
       "        [ -5.57167093,  -3.7849284 ],\n",
       "        [  8.60475504,   0.59559699],\n",
       "        [  8.14792665,   2.75773795],\n",
       "        [  5.30589052,  -0.21313795],\n",
       "        [  7.33878088,   0.51111942],\n",
       "        [ -1.24563824,  -7.13745783],\n",
       "        [ -1.83860016, -10.00231371],\n",
       "        [  5.24408023,   1.35627875],\n",
       "        [ -3.87061449,  -4.79688761],\n",
       "        [ -2.51286854,  -4.13517139],\n",
       "        [  6.49770117,   2.13315476],\n",
       "        [  0.23606318,  -3.88155605],\n",
       "        [ -4.3782828 ,  -6.21577379],\n",
       "        [ -3.84692077,  -7.07186271],\n",
       "        [ -4.13320308,  -5.11720101],\n",
       "        [ -4.05100521,  -6.27764838],\n",
       "        [ -3.96677292,  -6.30300215],\n",
       "        [ -2.4450989 ,  -8.29922586],\n",
       "        [ -1.20692445,  -8.25722501],\n",
       "        [ -5.01486522,  -6.93960146],\n",
       "        [ -1.98527944,  -7.85543462],\n",
       "        [  7.45990585,   1.08279225],\n",
       "        [ -4.6087685 ,  -7.21319507],\n",
       "        [ -2.11403758,  -9.00455318],\n",
       "        [ -4.63163243,  -5.33383932],\n",
       "        [ -3.94835384,  -5.69492069],\n",
       "        [  8.75433762,   2.76134752],\n",
       "        [  8.28133356,   2.48962396],\n",
       "        [ -3.53284732,  -6.04350363],\n",
       "        [  1.11466965,  -8.16354437],\n",
       "        [  7.93582256,   1.35466886],\n",
       "        [ -4.10963734,  -5.09914075],\n",
       "        [ -2.25615214,  -9.23555591],\n",
       "        [ -4.54939528,  -6.56848372],\n",
       "        [ -4.19507085,  -7.37353185],\n",
       "        [ -0.97407833,  -8.31171017],\n",
       "        [ -2.89949729,  -6.4560114 ],\n",
       "        [ -2.12349035,  -7.06967768],\n",
       "        [ -1.36414412,  -7.8527975 ],\n",
       "        [  8.82667543,   1.64234741],\n",
       "        [ -4.73454644,  -8.24079506],\n",
       "        [  7.4948451 ,   2.7665497 ],\n",
       "        [ -0.41670921,  -8.0336265 ],\n",
       "        [  7.17673119,   1.08000084],\n",
       "        [ -5.24641795,  -5.98882334],\n",
       "        [  7.15747175,   1.85426691],\n",
       "        [ -1.02455391,  -7.45269936],\n",
       "        [ -0.56073524,  -6.37847655],\n",
       "        [ -2.94325561,  -6.83770117],\n",
       "        [ -2.20098571,  -8.32813069],\n",
       "        [ -4.01731546,  -7.26069463],\n",
       "        [ -4.48750725,  -6.56033713],\n",
       "        [ -3.78709799,  -7.78796881],\n",
       "        [ -4.18589616,  -6.58915547],\n",
       "        [  7.56041669,   2.96550318],\n",
       "        [ -2.95530707,  -7.18768539],\n",
       "        [  6.29611211,   1.26903865],\n",
       "        [ -1.40878971,  -7.11235688],\n",
       "        [ -3.99515509,  -6.3335993 ],\n",
       "        [ -1.34887348,  -6.60270562],\n",
       "        [ -1.39969928,  -6.87016327],\n",
       "        [ -4.96761138,  -6.26177125],\n",
       "        [ -0.82045283,  -8.33576484],\n",
       "        [ -0.4641928 ,  -6.57919755],\n",
       "        [ -3.36639858,  -3.44526312],\n",
       "        [  5.51090339,   1.54820572],\n",
       "        [  8.73238026,   1.39440051],\n",
       "        [ -2.69695055,  -4.73128093],\n",
       "        [ -3.81143241,  -7.31179051],\n",
       "        [ -1.8424317 ,  -6.5475183 ],\n",
       "        [  5.77977695,   1.95807912],\n",
       "        [ -1.33354836,  -8.22924725],\n",
       "        [  7.16875415,   0.77212322],\n",
       "        [ -0.65491476,  -7.73433153],\n",
       "        [ -3.92662237,  -5.33823918],\n",
       "        [ -2.95155599,  -7.65744526],\n",
       "        [ -4.64038656,  -5.10816593],\n",
       "        [ -1.89652439,  -7.40665116],\n",
       "        [  0.21053918,  -7.33266003],\n",
       "        [ -1.25149417,  -7.86776301],\n",
       "        [ -2.7378413 ,  -8.53967344],\n",
       "        [  6.89876711,   0.08723342],\n",
       "        [ -0.90697445,  -9.02317007],\n",
       "        [  6.04358739,   2.1438484 ],\n",
       "        [ -2.74712367,  -6.67119621],\n",
       "        [  7.47886238,   0.3994493 ],\n",
       "        [  8.33317426,   1.46761164],\n",
       "        [ -0.60893727,  -7.50590365],\n",
       "        [  6.73329544,   1.44896294],\n",
       "        [ -6.33214552,  -7.05532619],\n",
       "        [ -2.6866126 ,  -4.88881695],\n",
       "        [  7.47656101,   1.19737141],\n",
       "        [ -3.71822015,  -6.26397934],\n",
       "        [  7.05611341,  -0.42040326],\n",
       "        [ -7.27097204,  -7.40287861],\n",
       "        [ -3.05067048,  -7.96110052],\n",
       "        [ -4.87443292,  -5.74337343],\n",
       "        [  6.80075992,   1.47634243],\n",
       "        [  7.83251513,   0.91458748],\n",
       "        [ -3.80272284,  -5.77770799],\n",
       "        [ -3.3642725 ,  -5.67291649],\n",
       "        [  6.88896306,   3.62816465],\n",
       "        [ -4.12476855,  -8.32218914],\n",
       "        [ -0.85944439,  -7.94518563],\n",
       "        [ -4.82248109,  -7.59316475],\n",
       "        [ -3.4380385 ,  -6.37874382],\n",
       "        [  6.78256762,   3.48344315],\n",
       "        [ -5.87221323,  -6.25508292],\n",
       "        [ -3.74791422,  -7.18113543],\n",
       "        [  7.51300535,   2.59252505],\n",
       "        [ -1.52696567,  -8.05418412],\n",
       "        [ -0.90355632,  -6.34675285],\n",
       "        [ -0.35892311,  -5.98371254],\n",
       "        [ -3.69777778,  -5.67015269],\n",
       "        [ -5.82369266,  -6.63752452],\n",
       "        [ -1.14645198,  -7.33107066],\n",
       "        [  6.02453817,   1.55034216],\n",
       "        [ -2.13852389,  -7.66593717],\n",
       "        [ -3.23523956,  -6.50034487],\n",
       "        [  8.04624866,   1.66173028],\n",
       "        [ -3.15569553,  -6.13652558],\n",
       "        [ -5.39910405,  -5.88895234],\n",
       "        [ -3.5276922 ,  -6.78492544],\n",
       "        [ -1.34221644,  -6.79039576],\n",
       "        [ -3.70135953,  -5.29864066],\n",
       "        [ -3.86438589,  -6.68402215],\n",
       "        [ -1.09422331,  -7.74348916],\n",
       "        [ -1.88275643,  -7.16771027],\n",
       "        [ -4.56551108,  -6.82406673],\n",
       "        [  7.00189666,  -0.23172934],\n",
       "        [ -0.34810069,  -6.36149871],\n",
       "        [  8.58061541,   1.27065983],\n",
       "        [  7.8744806 ,   2.22340028],\n",
       "        [  6.95125892,   2.51759143],\n",
       "        [ -3.17976337,  -6.75916925],\n",
       "        [  7.25210572,   1.88926675],\n",
       "        [ -0.14751495,  -7.41271848],\n",
       "        [ -2.59747383,  -6.83762001],\n",
       "        [ -3.61911163,  -7.3158948 ],\n",
       "        [ -5.3591116 ,  -7.98589349],\n",
       "        [ -6.6502184 ,  -5.60449076],\n",
       "        [ -1.0154649 ,  -6.41713223],\n",
       "        [ -4.75677435,  -7.25647427],\n",
       "        [  5.60908661,   2.05285787],\n",
       "        [  7.50587775,   3.66394699],\n",
       "        [ -4.62290786,  -7.50850239],\n",
       "        [  6.48599335,   1.43339065],\n",
       "        [  6.85815375,   1.93329975],\n",
       "        [  7.66173089,   0.65611236],\n",
       "        [ -2.96179571,  -8.98704728],\n",
       "        [ -4.48387483,  -6.69546373],\n",
       "        [ -5.33751117,  -5.13726134],\n",
       "        [  6.98818679,   1.64938063],\n",
       "        [ -2.35281386,  -6.23251244],\n",
       "        [  6.40151729,  -1.40435153],\n",
       "        [  6.62521006,   1.30809644],\n",
       "        [  8.37311066,   3.51282067],\n",
       "        [  8.07443637,   0.29925706],\n",
       "        [  4.99108104,   0.85012964],\n",
       "        [ -3.44838475,  -4.94256551],\n",
       "        [ -3.60034332,  -4.4148042 ],\n",
       "        [  9.0868282 ,   1.95069935],\n",
       "        [ -4.11793348,  -6.22684316],\n",
       "        [ -3.81754248,  -6.74715622],\n",
       "        [  7.64910426,  -0.29400694],\n",
       "        [ -6.20897876,  -4.36800417],\n",
       "        [ -2.30226437,  -5.00153792],\n",
       "        [ -3.22922417,  -6.51873869],\n",
       "        [ -3.68390523,  -6.29541968],\n",
       "        [ -1.68728674,  -6.71989747],\n",
       "        [ -0.07944927,  -7.51538388],\n",
       "        [ -3.67601632,  -6.05562564],\n",
       "        [  6.2917666 ,   1.74463046],\n",
       "        [ -1.26439793,  -8.19036266],\n",
       "        [ -2.88361031,  -5.70903005],\n",
       "        [ -3.16169394,  -8.16767827],\n",
       "        [  6.31974439,   0.55599952],\n",
       "        [  7.33952907,   1.57846385],\n",
       "        [ -0.96599801, -10.14951465],\n",
       "        [ -1.73506222,  -7.8133988 ],\n",
       "        [  6.77502925,   3.26673821],\n",
       "        [  7.25506742,   2.70866193],\n",
       "        [  9.55543963,   0.3108771 ],\n",
       "        [ -2.72166374,  -7.45257984],\n",
       "        [ -1.29109809,  -6.63029258],\n",
       "        [ -5.2121814 ,  -6.09586463],\n",
       "        [ -3.77756564,  -4.84530908],\n",
       "        [ -7.12966383,  -4.8208472 ]]),\n",
       " array([1, 1, 0, 2, 1, 0, 1, 2, 1, 0, 2, 0, 1, 1, 1, 0, 1, 2, 2, 2, 2, 2,\n",
       "        0, 1, 2, 1, 2, 2, 0, 0, 0, 2, 2, 1, 0, 1, 2, 0, 0, 1, 0, 0, 1, 2,\n",
       "        2, 0, 2, 0, 0, 2, 1, 0, 1, 2, 1, 1, 0, 2, 2, 0, 0, 2, 1, 2, 0, 2,\n",
       "        1, 1, 1, 2, 2, 2, 1, 0, 1, 2, 0, 0, 2, 1, 2, 0, 0, 0, 2, 2, 0, 0,\n",
       "        0, 1, 1, 2, 0, 2, 0, 0, 2, 2, 2, 2, 0, 0, 0, 1, 0, 2, 2, 0, 2, 1,\n",
       "        0, 0, 0, 1, 0, 1, 0, 0, 2, 0, 2, 0, 1, 1, 0, 0, 2, 1, 0, 1, 2, 1,\n",
       "        1, 0, 0, 2, 2, 0, 2, 0, 1, 1, 2, 2, 0, 0, 0, 2, 1, 1, 0, 2, 1, 0,\n",
       "        1, 1, 0, 2, 1, 0, 1, 1, 1, 0, 2, 0, 2, 0, 1, 1, 1, 0, 1, 2, 0, 1,\n",
       "        2, 1, 2, 1, 2, 0, 2, 2, 2, 2, 2, 1, 1, 2, 0, 0, 1, 1, 1, 0, 1, 1,\n",
       "        2, 0, 0, 0, 1, 0, 2, 2, 2, 0, 2, 1, 1, 2, 0, 2, 1, 0, 0, 0, 1, 0,\n",
       "        0, 0, 2, 1, 0, 1, 2, 2, 2, 1, 2, 0, 1, 1, 1, 1, 2, 0, 0, 1, 2, 2,\n",
       "        1, 0, 2, 0, 2, 2, 2, 2, 1, 1, 0, 0, 1, 1, 1, 0, 0, 1, 2, 0, 1, 0,\n",
       "        2, 2, 2, 1, 1, 1, 2, 1, 1, 0, 2, 2, 1, 0, 0, 1, 2, 2, 2, 2, 1, 1,\n",
       "        0, 0, 2, 1, 1, 0, 0, 1, 0, 0, 1, 1, 2, 0, 1, 0, 2, 2, 0, 0, 1, 0,\n",
       "        0, 1, 2, 2, 1, 0, 0, 0, 0, 2, 2, 0, 1, 2, 0, 2, 1, 1, 1, 1, 1, 2,\n",
       "        2, 1, 2, 0, 1, 2, 1, 1, 0, 0, 1, 2, 0, 1, 2, 1, 1, 2, 2, 2, 2, 0,\n",
       "        1, 0, 2, 0, 1, 0, 2, 2, 2, 2, 1, 1, 1, 1, 0, 2, 0, 2, 1, 2, 2, 1,\n",
       "        2, 2, 1, 0, 0, 2, 1, 2, 0, 2, 0, 2, 1, 2, 1, 2, 2, 2, 2, 0, 2, 0,\n",
       "        2, 0, 0, 2, 0, 1, 1, 0, 1, 0, 1, 2, 1, 0, 0, 1, 2, 0, 2, 2, 1, 1,\n",
       "        0, 1, 2, 0, 2, 2, 2, 1, 1, 2, 0, 2, 1, 0, 1, 1, 1, 2, 1, 1, 2, 2,\n",
       "        1, 0, 2, 0, 0, 0, 1, 0, 2, 2, 1, 1, 1, 2, 1, 0, 0, 1, 0, 0, 0, 2,\n",
       "        1, 1, 0, 2, 0, 0, 0, 0, 0, 1, 1, 0, 1, 1, 0, 1, 2, 1, 1, 2, 2, 1,\n",
       "        0, 2, 1, 2, 0, 0, 2, 2, 0, 0, 0, 1, 2, 1, 1, 1]))"
      ]
     },
     "execution_count": 26,
     "metadata": {},
     "output_type": "execute_result"
    }
   ],
   "source": [
    "\n",
    "# eigenen datensatz bauen (immer in arrays gespeichert):\n",
    "# 500 rows, 3 labels, 2 features\n",
    "data = datasets.make_blobs(n_samples= 500,centers= 3,n_features= 2, random_state= 25)\n",
    "data\n"
   ]
  },
  {
   "cell_type": "code",
   "execution_count": 27,
   "id": "c7e1d0b7",
   "metadata": {},
   "outputs": [],
   "source": [
    "\n",
    "# -------------------------- PREPROCESSING DER DATEN --------------------------------\n",
    "\n",
    "# features in einer variable \"X\" abspeichern --> 2 zahlenspalten\n",
    "# labels in in einer variable \"y\" abspeichern --> labels mit 0,1,2\n",
    "X = data[0]\n",
    "y = data[1]\n"
   ]
  },
  {
   "cell_type": "code",
   "execution_count": 28,
   "id": "ca7fd3ff",
   "metadata": {},
   "outputs": [
    {
     "data": {
      "text/plain": [
       "array([0, 1, 2])"
      ]
     },
     "execution_count": 28,
     "metadata": {},
     "output_type": "execute_result"
    }
   ],
   "source": [
    "\n",
    "# einzigartige labels-werte:\n",
    "labels = np.unique(y)\n",
    "labels\n"
   ]
  },
  {
   "cell_type": "code",
   "execution_count": 29,
   "id": "1ee7b9f2",
   "metadata": {},
   "outputs": [
    {
     "data": {
      "text/plain": [
       "array([[-4.13475679, -5.92206405],\n",
       "       [-3.43349531, -7.6073144 ],\n",
       "       [ 8.08300631,  0.61113566],\n",
       "       [ 0.17677526, -7.58060619],\n",
       "       [-4.48487289, -5.84711985],\n",
       "       [ 5.42961652,  0.37940003],\n",
       "       [-3.73652601, -6.67610527],\n",
       "       [-0.43459641, -7.82042283],\n",
       "       [-4.4264661 , -6.47036223],\n",
       "       [ 7.10471636,  1.87826215]])"
      ]
     },
     "execution_count": 29,
     "metadata": {},
     "output_type": "execute_result"
    }
   ],
   "source": [
    "\n",
    "# erste 10 werte von den features:\n",
    "X[:10]\n"
   ]
  },
  {
   "cell_type": "code",
   "execution_count": 30,
   "id": "d66714b1",
   "metadata": {},
   "outputs": [
    {
     "data": {
      "text/plain": [
       "<matplotlib.collections.PathCollection at 0x1d7e85a9fc0>"
      ]
     },
     "execution_count": 30,
     "metadata": {},
     "output_type": "execute_result"
    },
    {
     "data": {
      "image/png": "[encoded data removed]",
      "text/plain": [
       "<Figure size 640x480 with 1 Axes>"
      ]
     },
     "metadata": {},
     "output_type": "display_data"
    }
   ],
   "source": [
    "# array slicing:--> X[row_start: row_finish,column_start:column_finish]\n",
    "#                      --> 1.feature: X[:(=alle rows),0(=erste spalte)]\n",
    "#                      --> 2.feature: X[:(=alle rows),1(=zweite spalte)]\n",
    "\n",
    "# scatterplot für einen überblick mit farbe der labels y:\n",
    "plt.scatter(X[:,0],X[:,1],c= y)\n"
   ]
  },
  {
   "cell_type": "code",
   "execution_count": 31,
   "id": "bce2a8a6",
   "metadata": {},
   "outputs": [],
   "source": [
    "\n",
    "# -------------------------TRAININGSDATEN  &  TESTDATEN  -----------------------------------------\n",
    "# importieren der bibliothek\n",
    "from sklearn.model_selection import train_test_split\n"
   ]
  },
  {
   "cell_type": "code",
   "execution_count": 32,
   "id": "3f264765",
   "metadata": {},
   "outputs": [],
   "source": [
    "\n",
    "# einstellen: train/test = 80/20\n",
    "#              -->   \"train_test_split(array_X,array_y,test_size= 0.2, random_state= 20)\"\n",
    "# --> X_train, X_test, y_train, y_test\n",
    "X_train, X_test, y_train, y_test = train_test_split(X,y,test_size= 0.2, random_state= 20)\n"
   ]
  },
  {
   "cell_type": "code",
   "execution_count": 33,
   "id": "52bbb1d8",
   "metadata": {},
   "outputs": [
    {
     "data": {
      "text/plain": [
       "(400, 2)"
      ]
     },
     "execution_count": 33,
     "metadata": {},
     "output_type": "execute_result"
    }
   ],
   "source": [
    "\n",
    "X_train.shape\n"
   ]
  },
  {
   "cell_type": "code",
   "execution_count": 34,
   "id": "419fb032",
   "metadata": {},
   "outputs": [
    {
     "data": {
      "text/plain": [
       "<matplotlib.legend.Legend at 0x1d7e87b3a60>"
      ]
     },
     "execution_count": 34,
     "metadata": {},
     "output_type": "execute_result"
    },
    {
     "data": {
      "image/png": "[encoded data removed]",
      "text/plain": [
       "<Figure size 640x480 with 1 Axes>"
      ]
     },
     "metadata": {},
     "output_type": "display_data"
    }
   ],
   "source": [
    "\n",
    "#scatterplot für train-/test- datensatz:\n",
    "plt.scatter(X_train[:,0],X_train[:,1],label= \"Train\")\n",
    "plt.scatter(X_test[:,0],X_test[:,1],label= \"Test\")\n",
    "plt.legend()\n"
   ]
  },
  {
   "cell_type": "code",
   "execution_count": 35,
   "id": "dae82885",
   "metadata": {},
   "outputs": [],
   "source": [
    "\n",
    "# -------------------------MODELL AUSWÄHLEN  -----------------------------------------\n",
    "# klassifizierungsmodell --> naive bayes (gauss)\n",
    "from sklearn.svm import SVC\n"
   ]
  },
  {
   "cell_type": "code",
   "execution_count": 36,
   "id": "0d0536f2",
   "metadata": {},
   "outputs": [],
   "source": [
    "\n",
    "# algorithmus in variable clf abspeichern:\n",
    "clf = SVC()\n"
   ]
  },
  {
   "cell_type": "code",
   "execution_count": 37,
   "id": "ee51e521",
   "metadata": {},
   "outputs": [
    {
     "data": {
      "text/html": [
       "<style>#sk-container-id-2 {color: black;}#sk-container-id-2 pre{padding: 0;}#sk-container-id-2 div.sk-toggleable {background-color: white;}#sk-container-id-2 label.sk-toggleable__label {cursor: pointer;display: block;width: 100%;margin-bottom: 0;padding: 0.3em;box-sizing: border-box;text-align: center;}#sk-container-id-2 label.sk-toggleable__label-arrow:before {content: \"▸\";float: left;margin-right: 0.25em;color: #696969;}#sk-container-id-2 label.sk-toggleable__label-arrow:hover:before {color: black;}#sk-container-id-2 div.sk-estimator:hover label.sk-toggleable__label-arrow:before {color: black;}#sk-container-id-2 div.sk-toggleable__content {max-height: 0;max-width: 0;overflow: hidden;text-align: left;background-color: #f0f8ff;}#sk-container-id-2 div.sk-toggleable__content pre {margin: 0.2em;color: black;border-radius: 0.25em;background-color: #f0f8ff;}#sk-container-id-2 input.sk-toggleable__control:checked~div.sk-toggleable__content {max-height: 200px;max-width: 100%;overflow: auto;}#sk-container-id-2 input.sk-toggleable__control:checked~label.sk-toggleable__label-arrow:before {content: \"▾\";}#sk-container-id-2 div.sk-estimator input.sk-toggleable__control:checked~label.sk-toggleable__label {background-color: #d4ebff;}#sk-container-id-2 div.sk-label input.sk-toggleable__control:checked~label.sk-toggleable__label {background-color: #d4ebff;}#sk-container-id-2 input.sk-hidden--visually {border: 0;clip: rect(1px 1px 1px 1px);clip: rect(1px, 1px, 1px, 1px);height: 1px;margin: -1px;overflow: hidden;padding: 0;position: absolute;width: 1px;}#sk-container-id-2 div.sk-estimator {font-family: monospace;background-color: #f0f8ff;border: 1px dotted black;border-radius: 0.25em;box-sizing: border-box;margin-bottom: 0.5em;}#sk-container-id-2 div.sk-estimator:hover {background-color: #d4ebff;}#sk-container-id-2 div.sk-parallel-item::after {content: \"\";width: 100%;border-bottom: 1px solid gray;flex-grow: 1;}#sk-container-id-2 div.sk-label:hover label.sk-toggleable__label {background-color: #d4ebff;}#sk-container-id-2 div.sk-serial::before {content: \"\";position: absolute;border-left: 1px solid gray;box-sizing: border-box;top: 0;bottom: 0;left: 50%;z-index: 0;}#sk-container-id-2 div.sk-serial {display: flex;flex-direction: column;align-items: center;background-color: white;padding-right: 0.2em;padding-left: 0.2em;position: relative;}#sk-container-id-2 div.sk-item {position: relative;z-index: 1;}#sk-container-id-2 div.sk-parallel {display: flex;align-items: stretch;justify-content: center;background-color: white;position: relative;}#sk-container-id-2 div.sk-item::before, #sk-container-id-2 div.sk-parallel-item::before {content: \"\";position: absolute;border-left: 1px solid gray;box-sizing: border-box;top: 0;bottom: 0;left: 50%;z-index: -1;}#sk-container-id-2 div.sk-parallel-item {display: flex;flex-direction: column;z-index: 1;position: relative;background-color: white;}#sk-container-id-2 div.sk-parallel-item:first-child::after {align-self: flex-end;width: 50%;}#sk-container-id-2 div.sk-parallel-item:last-child::after {align-self: flex-start;width: 50%;}#sk-container-id-2 div.sk-parallel-item:only-child::after {width: 0;}#sk-container-id-2 div.sk-dashed-wrapped {border: 1px dashed gray;margin: 0 0.4em 0.5em 0.4em;box-sizing: border-box;padding-bottom: 0.4em;background-color: white;}#sk-container-id-2 div.sk-label label {font-family: monospace;font-weight: bold;display: inline-block;line-height: 1.2em;}#sk-container-id-2 div.sk-label-container {text-align: center;}#sk-container-id-2 div.sk-container {/* jupyter's `normalize.less` sets `[hidden] { display: none; }` but bootstrap.min.css set `[hidden] { display: none !important; }` so we also need the `!important` here to be able to override the default hidden behavior on the sphinx rendered scikit-learn.org. See: https://github.com/scikit-learn/scikit-learn/issues/21755 */display: inline-block !important;position: relative;}#sk-container-id-2 div.sk-text-repr-fallback {display: none;}</style><div id=\"sk-container-id-2\" class=\"sk-top-container\"><div class=\"sk-text-repr-fallback\"><pre>SVC()</pre><b>In a Jupyter environment, please rerun this cell to show the HTML representation or trust the notebook. <br />On GitHub, the HTML representation is unable to render, please try loading this page with nbviewer.org.</b></div><div class=\"sk-container\" hidden><div class=\"sk-item\"><div class=\"sk-estimator sk-toggleable\"><input class=\"sk-toggleable__control sk-hidden--visually\" id=\"sk-estimator-id-2\" type=\"checkbox\" checked><label for=\"sk-estimator-id-2\" class=\"sk-toggleable__label sk-toggleable__label-arrow\">SVC</label><div class=\"sk-toggleable__content\"><pre>SVC()</pre></div></div></div></div></div>"
      ],
      "text/plain": [
       "SVC()"
      ]
     },
     "execution_count": 37,
     "metadata": {},
     "output_type": "execute_result"
    }
   ],
   "source": [
    "\n",
    "# trainier-funktion mit \".fit()\"\n",
    "clf.fit(X_train, y_train)\n"
   ]
  },
  {
   "cell_type": "code",
   "execution_count": 38,
   "id": "c82872a4",
   "metadata": {},
   "outputs": [],
   "source": [
    "\n",
    "# vorhersagen: übergeben der X_test-daten in den algorithmus:\n",
    "# --> für die eigentlichen y_test-daten:\n",
    "predictions = clf.predict(X_test)\n"
   ]
  },
  {
   "cell_type": "code",
   "execution_count": 39,
   "id": "607e78a5",
   "metadata": {},
   "outputs": [
    {
     "data": {
      "text/plain": [
       "array([1, 0, 1, 2, 1, 1, 0, 0, 0, 2, 0, 0, 1, 0, 1, 1, 1, 2, 1, 2, 2, 0,\n",
       "       0, 2, 1, 1, 2, 2, 0, 2, 0, 0, 2, 1, 2, 0, 1, 0, 0, 0, 0, 0, 1, 2,\n",
       "       1, 1, 2, 2, 0, 1, 2, 1, 2, 0, 0, 2, 1, 1, 1, 2, 2, 2, 0, 1, 0, 2,\n",
       "       1, 2, 0, 0, 0, 2, 0, 1, 0, 2, 1, 1, 0, 1, 2, 1, 0, 2, 1, 1, 2, 0,\n",
       "       1, 2, 0, 2, 0, 1, 0, 0, 2, 2, 2, 2])"
      ]
     },
     "execution_count": 39,
     "metadata": {},
     "output_type": "execute_result"
    }
   ],
   "source": [
    "predictions"
   ]
  },
  {
   "cell_type": "code",
   "execution_count": 40,
   "id": "dcee954b",
   "metadata": {},
   "outputs": [
    {
     "data": {
      "text/plain": [
       "array([1, 0, 1, 2, 1, 1, 0, 0, 0, 2, 0, 0, 1, 0, 1, 1, 1, 2, 1, 2, 2, 0,\n",
       "       0, 2, 1, 1, 2, 2, 0, 2, 0, 0, 2, 1, 2, 0, 1, 0, 0, 0, 0, 0, 1, 2,\n",
       "       1, 1, 2, 2, 0, 1, 2, 1, 2, 0, 0, 2, 1, 1, 1, 2, 1, 2, 0, 1, 0, 2,\n",
       "       2, 2, 0, 0, 0, 1, 0, 1, 0, 2, 1, 1, 0, 1, 2, 1, 0, 2, 1, 1, 2, 0,\n",
       "       1, 2, 0, 2, 0, 2, 0, 0, 2, 2, 2, 2])"
      ]
     },
     "execution_count": 40,
     "metadata": {},
     "output_type": "execute_result"
    }
   ],
   "source": [
    "\n",
    "# zum vergleich ausgabe der eigentlichen y_test-daten:\n",
    "# --> in diesem fall 100 % treffer\n",
    "y_test\n"
   ]
  },
  {
   "cell_type": "code",
   "execution_count": 41,
   "id": "0e2230c9",
   "metadata": {},
   "outputs": [
    {
     "name": "stdout",
     "output_type": "stream",
     "text": [
      "Predicted that [-2.3723975  -6.79919807] is 2. But real label: 1\n",
      "Predicted that [-2.56215823 -5.78871273] is 1. But real label: 2\n",
      "Predicted that [-2.72166374 -7.45257984] is 2. But real label: 1\n",
      "Predicted that [-2.94325561 -6.83770117] is 1. But real label: 2\n"
     ]
    }
   ],
   "source": [
    "\n",
    "# -------------------------MODELL EVALUIEREN  -----------------------------------------\n",
    "wrong_predictions = []\n",
    "correct_predictions = []\n",
    "\n",
    "for i,pred in enumerate(predictions):\n",
    "    \n",
    "    if pred != y_test[i]:\n",
    "        \n",
    "        print(f\"Predicted that {X_test[i]} is {pred}. But real label: {y_test[i]}\")\n",
    "        wrong_predictions.append(X_test[i])\n",
    "        \n",
    "    else:\n",
    "        correct_predictions.append(X_test[i])\n"
   ]
  },
  {
   "cell_type": "code",
   "execution_count": 42,
   "id": "cd628e0b",
   "metadata": {},
   "outputs": [
    {
     "data": {
      "text/plain": [
       "[array([-2.3723975 , -6.79919807]),\n",
       " array([-2.56215823, -5.78871273]),\n",
       " array([-2.72166374, -7.45257984]),\n",
       " array([-2.94325561, -6.83770117])]"
      ]
     },
     "execution_count": 42,
     "metadata": {},
     "output_type": "execute_result"
    }
   ],
   "source": [
    "\n",
    "wrong_predictions\n"
   ]
  },
  {
   "cell_type": "code",
   "execution_count": 43,
   "id": "66db61c9",
   "metadata": {},
   "outputs": [
    {
     "data": {
      "text/plain": [
       "[array([-3.70330645, -6.22461004]),\n",
       " array([ 7.51654237, -0.23980283]),\n",
       " array([-3.98105469, -5.53603478]),\n",
       " array([-3.16169394, -8.16767827]),\n",
       " array([-4.64038656, -5.10816593]),\n",
       " array([-5.40208936, -4.71783479]),\n",
       " array([9.55543963, 0.3108771 ]),\n",
       " array([6.3722766 , 1.20125648]),\n",
       " array([8.60402597, 1.27808887]),\n",
       " array([-0.90697445, -9.02317007]),\n",
       " array([7.25506742, 2.70866193]),\n",
       " array([5.81947238, 1.10571868]),\n",
       " array([-3.81754248, -6.74715622]),\n",
       " array([9.20310555, 4.15915651]),\n",
       " array([-4.54939528, -6.56848372]),\n",
       " array([-3.99267808, -7.25341834]),\n",
       " array([-3.87061449, -4.79688761]),\n",
       " array([-0.39293508, -6.2889369 ]),\n",
       " array([-3.70135953, -5.29864066]),\n",
       " array([-0.07174788, -8.77058051]),\n",
       " array([-2.34751911, -7.23046677]),\n",
       " array([5.51090339, 1.54820572]),\n",
       " array([6.66059239, 0.08562086]),\n",
       " array([-2.74712367, -6.67119621]),\n",
       " array([-3.60034332, -4.4148042 ]),\n",
       " array([-3.7258824, -6.5791998]),\n",
       " array([-3.08183188, -7.85209353]),\n",
       " array([-1.98527944, -7.85543462]),\n",
       " array([5.34925198, 2.51412162]),\n",
       " array([-1.13064395, -8.67386572]),\n",
       " array([7.10803833, 3.01823886]),\n",
       " array([ 7.64910426, -0.29400694]),\n",
       " array([ 0.54694234, -8.19520939]),\n",
       " array([-3.92662237, -5.33823918]),\n",
       " array([-2.68565026, -8.35442495]),\n",
       " array([7.43346158, 1.32058467]),\n",
       " array([-4.3012713, -7.7214438]),\n",
       " array([6.03541672, 3.3768125 ]),\n",
       " array([8.08300631, 0.61113566]),\n",
       " array([6.48599335, 1.43339065]),\n",
       " array([7.16875415, 0.77212322]),\n",
       " array([8.36877239, 1.46324414]),\n",
       " array([-3.79434923, -5.9838815 ]),\n",
       " array([-1.20692445, -8.25722501]),\n",
       " array([-4.1677735 , -6.79011377]),\n",
       " array([-3.86041287, -6.65131154]),\n",
       " array([-1.94671921, -9.13048544]),\n",
       " array([-2.4942695 , -9.30049903]),\n",
       " array([9.39995093, 2.25635343]),\n",
       " array([-3.36639858, -3.44526312]),\n",
       " array([-1.88275643, -7.16771027]),\n",
       " array([-5.26188634, -5.7995474 ]),\n",
       " array([-1.60733005, -7.05442746]),\n",
       " array([6.8397498 , 0.72213808]),\n",
       " array([6.73329544, 1.44896294]),\n",
       " array([-0.56073524, -6.37847655]),\n",
       " array([-7.12966383, -4.8208472 ]),\n",
       " array([-4.96761138, -6.26177125]),\n",
       " array([-5.24641795, -5.98882334]),\n",
       " array([-1.42490654, -7.24359581]),\n",
       " array([-1.5939147 , -6.17355435]),\n",
       " array([7.23540156, 3.05597535]),\n",
       " array([-4.00893725, -6.73197233]),\n",
       " array([7.6334164 , 0.84012862]),\n",
       " array([-1.02455391, -7.45269936]),\n",
       " array([-1.41489921, -6.89388712]),\n",
       " array([7.93582256, 1.35466886]),\n",
       " array([7.33952907, 1.57846385]),\n",
       " array([5.24408023, 1.35627875]),\n",
       " array([ 7.05611341, -0.42040326]),\n",
       " array([-4.03650416, -5.56558278]),\n",
       " array([7.45990585, 1.08279225]),\n",
       " array([-2.74234387, -7.90918096]),\n",
       " array([-4.63163243, -5.33383932]),\n",
       " array([-4.88856419, -4.92910858]),\n",
       " array([7.29183453, 3.03136755]),\n",
       " array([-3.40441349, -4.83937612]),\n",
       " array([-1.11909883, -7.6990715 ]),\n",
       " array([-3.87385756, -7.02448609]),\n",
       " array([ 6.40151729, -1.40435153]),\n",
       " array([-0.21048065, -7.43038602]),\n",
       " array([-3.4380385 , -6.37874382]),\n",
       " array([-4.49892432, -8.47946953]),\n",
       " array([-1.52696567, -8.05418412]),\n",
       " array([7.59718727, 2.82380117]),\n",
       " array([-3.44838475, -4.94256551]),\n",
       " array([-1.87457389, -8.49065037]),\n",
       " array([6.49770117, 2.13315476]),\n",
       " array([-1.09422331, -7.74348916]),\n",
       " array([7.31778866, 3.61310691]),\n",
       " array([7.10471636, 1.87826215]),\n",
       " array([8.44862751, 0.99975458]),\n",
       " array([-0.82967934, -7.32084399]),\n",
       " array([-1.40878971, -7.11235688]),\n",
       " array([-3.40949956, -8.77590268]),\n",
       " array([-0.43459641, -7.82042283])]"
      ]
     },
     "execution_count": 43,
     "metadata": {},
     "output_type": "execute_result"
    }
   ],
   "source": [
    "\n",
    "correct_predictions\n"
   ]
  },
  {
   "cell_type": "code",
   "execution_count": 44,
   "id": "18e7c038",
   "metadata": {},
   "outputs": [
    {
     "data": {
      "text/plain": [
       "<matplotlib.collections.PathCollection at 0x1d7e85a9f90>"
      ]
     },
     "execution_count": 44,
     "metadata": {},
     "output_type": "execute_result"
    },
    {
     "data": {
      "image/png": "[encoded data removed]",
      "text/plain": [
       "<Figure size 640x480 with 1 Axes>"
      ]
     },
     "metadata": {},
     "output_type": "display_data"
    }
   ],
   "source": [
    "\n",
    "# in array abspeichern --> scatterplot von wrong und correct\n",
    "wp = np.array(wrong_predictions)\n",
    "cp = np.array(correct_predictions)\n",
    "\n",
    "plt.scatter(wp[:,0], wp[:,1], c= \"r\")\n",
    "plt.scatter(cp[:,0], cp[:,1], c= \"g\", alpha= .7)\n"
   ]
  },
  {
   "cell_type": "code",
   "execution_count": 45,
   "id": "308a853d",
   "metadata": {},
   "outputs": [],
   "source": [
    "\n",
    "# vorhersage-qualität mit accuracy über importierte bibliothek:\n",
    "from sklearn.metrics import accuracy_score\n"
   ]
  },
  {
   "cell_type": "code",
   "execution_count": 46,
   "id": "b5e6ebc4",
   "metadata": {},
   "outputs": [
    {
     "data": {
      "text/plain": [
       "0.96"
      ]
     },
     "execution_count": 46,
     "metadata": {},
     "output_type": "execute_result"
    }
   ],
   "source": [
    "\n",
    "# 98 % richtige vorhersage:\n",
    "clf_score = accuracy_score(y_test,predictions)\n",
    "clf_score\n"
   ]
  },
  {
   "cell_type": "code",
   "execution_count": null,
   "id": "4d82cc7a",
   "metadata": {},
   "outputs": [],
   "source": []
  },
  {
   "cell_type": "code",
   "execution_count": null,
   "id": "887429bf",
   "metadata": {},
   "outputs": [],
   "source": []
  },
  {
   "cell_type": "code",
   "execution_count": null,
   "id": "abb1aec9",
   "metadata": {},
   "outputs": [],
   "source": []
  }
 ],
 "metadata": {
  "kernelspec": {
   "display_name": "Python 3 (ipykernel)",
   "language": "python",
   "name": "python3"
  },
  "language_info": {
   "codemirror_mode": {
    "name": "ipython",
    "version": 3
   },
   "file_extension": ".py",
   "mimetype": "text/x-python",
   "name": "python",
   "nbconvert_exporter": "python",
   "pygments_lexer": "ipython3",
   "version": "3.10.9"
  }
 },
 "nbformat": 4,
 "nbformat_minor": 5
}
