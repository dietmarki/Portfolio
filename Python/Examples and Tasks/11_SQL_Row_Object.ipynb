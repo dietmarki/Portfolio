{
 "cells": [
  {
   "cell_type": "code",
   "execution_count": 1,
   "id": "4a8b91c5",
   "metadata": {},
   "outputs": [],
   "source": [
    "\n",
    "import sqlite3\n"
   ]
  },
  {
   "cell_type": "code",
   "execution_count": 2,
   "id": "eabc829f",
   "metadata": {},
   "outputs": [],
   "source": [
    "\n",
    "con = sqlite3.connect(\"my_database.db\")\n"
   ]
  },
  {
   "cell_type": "code",
   "execution_count": 3,
   "id": "8587d4f0",
   "metadata": {},
   "outputs": [],
   "source": [
    "\n",
    "# wenn man das row-objekt verwenden will:\n",
    "con.row_factory = sqlite3.Row\n"
   ]
  },
  {
   "cell_type": "code",
   "execution_count": 4,
   "id": "77a0018a",
   "metadata": {},
   "outputs": [],
   "source": [
    "\n",
    "# curser initialisieren:\n",
    "cur = con.cursor()\n"
   ]
  },
  {
   "cell_type": "code",
   "execution_count": 5,
   "id": "70bcc0b3",
   "metadata": {},
   "outputs": [
    {
     "data": {
      "text/plain": [
       "<sqlite3.Cursor at 0x134d7760240>"
      ]
     },
     "execution_count": 5,
     "metadata": {},
     "output_type": "execute_result"
    }
   ],
   "source": [
    "cur.execute(\"SELECT * FROM cars\")"
   ]
  },
  {
   "cell_type": "code",
   "execution_count": 19,
   "id": "f44992a0",
   "metadata": {},
   "outputs": [
    {
     "data": {
      "text/plain": [
       "[]"
      ]
     },
     "execution_count": 19,
     "metadata": {},
     "output_type": "execute_result"
    }
   ],
   "source": [
    "alle_reihen = cur.fetchall()"
   ]
  },
  {
   "cell_type": "code",
   "execution_count": 20,
   "id": "3e96e85a",
   "metadata": {},
   "outputs": [
    {
     "name": "stdout",
     "output_type": "stream",
     "text": [
      "[]\n"
     ]
    }
   ],
   "source": [
    "print(type(alle_reihen))"
   ]
  },
  {
   "cell_type": "code",
   "execution_count": 21,
   "id": "7e714489",
   "metadata": {},
   "outputs": [
    {
     "name": "stdout",
     "output_type": "stream",
     "text": [
      "{'model': 'Mercedes', 'year': 1990.0, 'price': 2200.0}\n",
      "{'model': 'Opel', 'year': 2010.0, 'price': 3300.0000000000005}\n",
      "{'model': 'BMW', 'year': 2014.0, 'price': 22.0}\n",
      "{'model': 'Audi', 'year': 1995.0, 'price': 55000.00000000001}\n",
      "{'model': 'Fiat', 'year': 1986.0, 'price': 1320.0}\n",
      "{'model': 'Citroen', 'year': 1992.0, 'price': 3850.0000000000005}\n",
      "{'model': 'Renault', 'year': 1975.0, 'price': 220.00000000000003}\n"
     ]
    },
    {
     "data": {
      "text/plain": [
       "[None, None, None, None, None, None, None]"
      ]
     },
     "execution_count": 21,
     "metadata": {},
     "output_type": "execute_result"
    }
   ],
   "source": [
    "[print(dict(i)) for i in alle_reihen]"
   ]
  },
  {
   "cell_type": "code",
   "execution_count": 22,
   "id": "40751b62",
   "metadata": {},
   "outputs": [
    {
     "name": "stdout",
     "output_type": "stream",
     "text": [
      "<sqlite3.Row object at 0x00000134D9173D00>\n",
      "<sqlite3.Row object at 0x00000134D9173CA0>\n",
      "<sqlite3.Row object at 0x00000134D9173C40>\n",
      "<sqlite3.Row object at 0x00000134D9173820>\n",
      "<sqlite3.Row object at 0x00000134D9173C10>\n",
      "<sqlite3.Row object at 0x00000134D9172740>\n",
      "<sqlite3.Row object at 0x00000134D91728C0>\n"
     ]
    },
    {
     "data": {
      "text/plain": [
       "[None, None, None, None, None, None, None]"
      ]
     },
     "execution_count": 22,
     "metadata": {},
     "output_type": "execute_result"
    }
   ],
   "source": [
    "\n",
    "[print(i) for i in alle_reihen]\n"
   ]
  },
  {
   "cell_type": "code",
   "execution_count": 23,
   "id": "8b18911f",
   "metadata": {},
   "outputs": [],
   "source": [
    "con.commit()\n",
    "con.close()"
   ]
  },
  {
   "cell_type": "code",
   "execution_count": null,
   "id": "337ca9f0",
   "metadata": {},
   "outputs": [],
   "source": []
  }
 ],
 "metadata": {
  "kernelspec": {
   "display_name": "Python 3 (ipykernel)",
   "language": "python",
   "name": "python3"
  },
  "language_info": {
   "codemirror_mode": {
    "name": "ipython",
    "version": 3
   },
   "file_extension": ".py",
   "mimetype": "text/x-python",
   "name": "python",
   "nbconvert_exporter": "python",
   "pygments_lexer": "ipython3",
   "version": "3.10.9"
  }
 },
 "nbformat": 4,
 "nbformat_minor": 5
}
