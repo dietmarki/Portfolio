{
 "cells": [
  {
   "cell_type": "markdown",
   "id": "adc5ccb1",
   "metadata": {},
   "source": [
    "![image info](https://drive.google.com/uc?id=1AerT9299ijreLjEeIoGLv6SoT-SFC6-m)"
   ]
  },
  {
   "cell_type": "markdown",
   "id": "efcd05e1",
   "metadata": {},
   "source": [
    "# Inhaltsverzeichnis \n",
    "\n",
    "- **Übungen Woche 1**\n",
    "    - **Aufgabe 1: Mittelwert**\n",
    "    - **Aufgabe 2: Tage in Sekunden umrechnen**\n",
    "    - **Aufgabe 3: Dollar in Euro umrechnen**\n",
    "    - **Aufgabe 4: Eulersche Zahl**\n",
    "    - **Aufgabe 5: Zahlen addieren**\n",
    "    - **Aufgabe 6: Fläche eines Kreises**\n",
    "    - **Aufgabe 7: Ausgabe**\n",
    "    - **Aufgabe 8: Variablen vertauschen**\n"
   ]
  },
  {
   "cell_type": "markdown",
   "id": "a1a5ef1b",
   "metadata": {},
   "source": [
    "# Übungen Woche 1\n",
    "\n",
    "In diesem Übungsblatt befinden sich Aufgaben, welche die Konzepte der letzten Woche wiederholen. \n",
    "\n",
    "## Aufgabe 1: Mittelwert\n",
    "\n",
    "- Schreibe ein Programm, das 2 Zahlen von dem\\*der Nutzer\\*in als Input erwartet und daraufhin den Mittelwert der beiden Zahlen auf der Konsole ausgibt. \n",
    "- Der Mittelwert zweier Zahlen $a$ und $b$ ist definiert als\n",
    "\n",
    "\\begin{align}\n",
    "\\frac{a+b}{2}\n",
    "\\end{align}.\n",
    "\n",
    "> <span style=\"color:green\"> **_ERINNERUNG:_** </span> Vergiss nicht, die Eingabe mittels `int()` in Zahlen umzuwandeln!"
   ]
  },
  {
   "cell_type": "code",
   "execution_count": 7,
   "id": "6a756c42",
   "metadata": {},
   "outputs": [
    {
     "name": "stdout",
     "output_type": "stream",
     "text": [
      "Wie alt sind sie? 56\n",
      "Wie alt sind sie? 32\n",
      "44.0\n",
      "<class 'float'>\n"
     ]
    }
   ],
   "source": [
    "alterSenior01 = input(\"Wie alt sind sie? \")\n",
    "alterSenior02 = input(\"Wie alt sind sie? \")\n",
    "altersDurchschnitt = (int(alterSenior01) + int(alterSenior02)) / 2\n",
    "\n",
    "print(altersDurchschnitt)\n",
    "print(type(altersDurchschnitt))\n",
    "\n",
    "# Schreibe deinen Code hier\n",
    "\n",
    "# Schreibe deinen Code hier"
   ]
  },
  {
   "cell_type": "markdown",
   "id": "78932044",
   "metadata": {},
   "source": [
    "## Aufgabe 2: Tage in Sekunden umrechnen\n",
    "\n",
    "- Schreibe ein Programm, welches eine Zahl, die einer Anzahl an Tagen entspricht, als Input erbittet. Gibt die Dauer dieser Tage in Sekunden auf der Konsole aus."
   ]
  },
  {
   "cell_type": "code",
   "execution_count": 9,
   "id": "15d12fff",
   "metadata": {},
   "outputs": [
    {
     "name": "stdout",
     "output_type": "stream",
     "text": [
      "Wie viele Urlaubstage hat man in deinem Land? 3\n",
      "Das sind umgerechnet  259200  Sekunden.\n"
     ]
    }
   ],
   "source": [
    "urlaubstage = input(\"Wie viele Urlaubstage hat man in deinem Land? \")\n",
    "urlaubsSekunden = int(urlaubstage) * 24 * 60 * 60\n",
    "print(\"Das sind umgerechnet \", urlaubsSekunden, \" Sekunden.\")\n",
    "\n",
    "# Schreibe deinen Code hier\n",
    "\n",
    "# Schreibe deinen Code hier"
   ]
  },
  {
   "cell_type": "markdown",
   "id": "1b2bd39a",
   "metadata": {},
   "source": [
    "## Aufgabe 3: Dollar in Euro umrechnen\n",
    "\n",
    "- Schreibe ein Programm, welches den\\*die Nutzer\\*in nach einem Betrag in Dollar fragt. Gib ihm\\*ihr den Betrag in Euro aus. \n",
    "- Der (fiktive) Umrechnungskurs lautet \n",
    "\n",
    "\\begin{align}\n",
    "1\\$ = 0.83 €.\n",
    "\\end{align}\n"
   ]
  },
  {
   "cell_type": "code",
   "execution_count": 12,
   "id": "9d523ba6",
   "metadata": {},
   "outputs": [
    {
     "name": "stdout",
     "output_type": "stream",
     "text": [
      "Wie viel Dollar wollen sie wechseln? 120\n",
      "Das sind nach dem aktuellen Umrechnungskurs  99.6  Euro.\n"
     ]
    }
   ],
   "source": [
    "dollar = input(\"Wie viel Dollar wollen sie wechseln? \")\n",
    "euro = int(dollar) * 0.83\n",
    "print(\"Das sind nach dem aktuellen Umrechnungskurs \", euro, \" Euro.\")\n",
    "\n",
    "# Schreibe deinen Code hier\n",
    "\n",
    "# Schreibe deinen Code hier"
   ]
  },
  {
   "cell_type": "markdown",
   "id": "1b793e61",
   "metadata": {},
   "source": [
    "## Aufgabe 4: Eulersche Zahl\n",
    "\n",
    " - Die [**eulersche Zahl**](https://de.wikipedia.org/wiki/Eulersche_Zahl) ist eine wichtige Konstante in der Mathematik (und Natur). Sie wird mit $e$ abgekürzt und ihr Wert ist $e = 2,71828182...$.\n",
    "\n",
    "- Eine mögliche Art $e$ zu berechnen ist über die Formel\n",
    "\\begin{align}\n",
    "e = \\lim_{t\\rightarrow\\infty}(1+\\frac{1}{t})^t\n",
    "\\end{align}\n",
    "\n",
    "- Wir wollen uns nun das Ergebnis für unterschiedliche Wert von $t$ anschauen.\n",
    "\n",
    "- Schreibe ein Programm, welches dir die folgenden Zahlen $A,B$ und $C$ berechnet:\n",
    "\n",
    "\\begin{align}\n",
    "A = (1+\\frac{1}{200})^{200} \\\\\n",
    "B = (1+\\frac{1}{500})^{500} \\\\\n",
    "C = (1+\\frac{1}{1000})^{1000} \\\\\n",
    "\\end{align}"
   ]
  },
  {
   "cell_type": "code",
   "execution_count": 13,
   "id": "488e3842",
   "metadata": {},
   "outputs": [
    {
     "name": "stdout",
     "output_type": "stream",
     "text": [
      "A =  2.711517122929317\n",
      "B =  2.715568520651728\n",
      "C =  2.7169239322355936\n"
     ]
    }
   ],
   "source": [
    "a = (1 + (1 / 200)) ** 200\n",
    "b = (1 + (1 / 500)) ** 500\n",
    "c = (1 + (1 / 1000)) ** 1000\n",
    "print(\"A = \", a)\n",
    "print(\"B = \", b)\n",
    "print(\"C = \", c)\n",
    "\n",
    "# Schreibe deinen Code hier\n",
    "\n",
    "# Schreibe deinen Code hier"
   ]
  },
  {
   "cell_type": "markdown",
   "id": "898f4ddf",
   "metadata": {},
   "source": [
    "## Aufgabe 5: Zahlen addieren\n",
    "\n",
    "- Schreibe ein Programm, welches von dem\\*der Nutzer\\*in 2 Zahlen erfragt. Addiere beide Zahlen und teile ihm\\*ihr das Ergebnis in einer erklärenden Ausgabe auf der Konsole mit."
   ]
  },
  {
   "cell_type": "code",
   "execution_count": 16,
   "id": "0e5d40fe",
   "metadata": {},
   "outputs": [
    {
     "name": "stdout",
     "output_type": "stream",
     "text": [
      "Sagen sie mir bitte eine Zahl ihrer Wahl! 34\n",
      "Sagen sie mir bitte eine zweite Zahl ihrer Wahl! 12\n",
      "34  +  12  =  46\n"
     ]
    }
   ],
   "source": [
    "zahl01 = input(\"Sagen sie mir bitte eine Zahl ihrer Wahl! \")\n",
    "zahl02 = input(\"Sagen sie mir bitte eine zweite Zahl ihrer Wahl! \")\n",
    "zahlSumme = int(zahl01) + int(zahl02)\n",
    "print(zahl01, \" + \", zahl02, \" = \", zahlSumme)\n",
    "\n",
    "# Schreibe deinen Code hier\n",
    "\n",
    "# Schreibe deinen Code hier"
   ]
  },
  {
   "cell_type": "markdown",
   "id": "de9a8184",
   "metadata": {},
   "source": [
    "## Aufgabe 6: Fläche eines Kreises \n",
    "\n",
    "- Schreibe ein Programm, welches einen Radius als Input erwartet. Teile ihm daraufhin die [Fläche eines Kreises](https://de.wikipedia.org/wiki/Kreis#Kreisfl%C3%A4che) mit diesem Radius mit. \n",
    "\n"
   ]
  },
  {
   "cell_type": "code",
   "execution_count": 5,
   "id": "b1b2ed76",
   "metadata": {},
   "outputs": [
    {
     "name": "stdout",
     "output_type": "stream",
     "text": [
      "Gib eine Zahl für den Kreisradius an? 5.5\n",
      "Der Kreis mit einem Radius von  5.5  hat die Fläche  95.0334 .\n"
     ]
    }
   ],
   "source": [
    "kreisRadius = input(\"Gib eine Zahl für den Kreisradius an? \")\n",
    "kreisFläche = 0.78540 * ((float(kreisRadius) * 2) ** 2)\n",
    "print(\"Der Kreis mit einem Radius von \", kreisRadius, \" hat die Fläche \", kreisFläche, \".\")\n",
    "\n",
    "# Schreibe deinen Code hier\n",
    "\n",
    "# Schreibe deinen Code hier"
   ]
  },
  {
   "cell_type": "markdown",
   "id": "5b374893",
   "metadata": {},
   "source": [
    "## Aufgabe 7: Ausgabe \n",
    "\n",
    "- Die Variablen `x=4` und `y=3` seien gegeben. Erzeugt mit diesen Variablen die Ausgabe \n",
    "\n",
    "> `4 + 3 = 7`"
   ]
  },
  {
   "cell_type": "code",
   "execution_count": 1,
   "id": "f72bb9ef",
   "metadata": {},
   "outputs": [
    {
     "name": "stdout",
     "output_type": "stream",
     "text": [
      "4  +  3  =  7\n"
     ]
    }
   ],
   "source": [
    "x=4\n",
    "y=3\n",
    "print(x, \" + \", y, \" = \", (x + y))\n",
    "\n",
    "# Schreibe deinen Code hier\n",
    "\n",
    "# Schreibe deinen Code hier"
   ]
  },
  {
   "cell_type": "markdown",
   "id": "d360cdce",
   "metadata": {},
   "source": [
    "## Aufgabe 8: Variablen vertauschen\n",
    "\n",
    "- Schreibe ein Programm, welches die Werte der Variablen `x` und `y` vertauscht. "
   ]
  },
  {
   "cell_type": "code",
   "execution_count": 6,
   "id": "9a30a824",
   "metadata": {},
   "outputs": [
    {
     "name": "stdout",
     "output_type": "stream",
     "text": [
      "Der Wert von x = 6\n",
      "Der Wert von y = 5\n"
     ]
    }
   ],
   "source": [
    "x = 5 \n",
    "y = 6 \n",
    "# y = x\n",
    "# x = 6\n",
    "\n",
    "z = x + y\n",
    "x = z - x\n",
    "y = z - y\n",
    "\n",
    "# Schreibe deinen Code hier\n",
    "\n",
    "# Schreibe deinen Code hier\n",
    "\n",
    "print(\"Der Wert von x =\", x)    # x soll nun den Wert 6 haben\n",
    "print(\"Der Wert von y =\", y)    # y soll nun den Wert 5 haben"
   ]
  },
  {
   "cell_type": "code",
   "execution_count": null,
   "id": "a1b30e3a",
   "metadata": {},
   "outputs": [],
   "source": []
  }
 ],
 "metadata": {
  "kernelspec": {
   "display_name": "Python 3 (ipykernel)",
   "language": "python",
   "name": "python3"
  },
  "language_info": {
   "codemirror_mode": {
    "name": "ipython",
    "version": 3
   },
   "file_extension": ".py",
   "mimetype": "text/x-python",
   "name": "python",
   "nbconvert_exporter": "python",
   "pygments_lexer": "ipython3",
   "version": "3.10.9"
  }
 },
 "nbformat": 4,
 "nbformat_minor": 5
}
