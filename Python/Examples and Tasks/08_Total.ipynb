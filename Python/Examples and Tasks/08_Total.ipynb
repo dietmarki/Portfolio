{
 "cells": [
  {
   "cell_type": "markdown",
   "id": "73cd0385",
   "metadata": {},
   "source": [
    "# Inhaltsverzeichnis \n",
    "\n",
    "- **Übungen Woche 8**\n",
    "    - **Aufgabe 1: Quersumme**\n",
    "    - **Aufgabe 2: Summe**\n",
    "    - **Aufgabe 3: Goldbach**\n",
    "    - **Aufgabe 4: Klammersetzung**\n",
    "    - **Aufgabe 5: Wörterbuch erstellen**\n",
    "    - **Aufgabe 6: Symmetrischer String**\n",
    "    - **Aufgabe 7: Summe der ersten n Zahlen rekursiv berechnen**\n"
   ]
  },
  {
   "cell_type": "markdown",
   "id": "21e46b06",
   "metadata": {},
   "source": [
    "# Übungen Woche 8\n",
    "\n",
    "In diesem Übungsblatt befinden sich Aufgaben, welche die Konzepte der letzten Wochen wiederholen. "
   ]
  },
  {
   "cell_type": "markdown",
   "id": "ef66a52d",
   "metadata": {},
   "source": [
    "## Aufgabe 1: Quersumme\n",
    "\n",
    "- Schreibe eine Funktion, die die [Quersumme](https://de.wikipedia.org/wiki/Quersumme) einer übergebenen Zahl berechnet. Die Quersumme eine Zahl $n$ ist definiert als die Summe der einzelnen Ziffern von n.\n",
    "\n",
    "**Beispiele:**\n",
    "\n",
    "\\begin{align}\n",
    "f(123) &\\Longrightarrow 6 \\\\\n",
    "f(1111) &\\Longrightarrow 4 \\\\\n",
    "f(200) &\\Longrightarrow 2 \\\\\n",
    "\\end{align}"
   ]
  },
  {
   "cell_type": "code",
   "execution_count": 5,
   "id": "6f1398d7",
   "metadata": {},
   "outputs": [
    {
     "data": {
      "text/plain": [
       "25"
      ]
     },
     "execution_count": 5,
     "metadata": {},
     "output_type": "execute_result"
    }
   ],
   "source": [
    "# Schreibe deinen Code hier\n",
    "\n",
    "def quersumme(n):\n",
    "    \n",
    "    summe = 0\n",
    "    \n",
    "    for i in str(n):\n",
    "        summe += int(i)\n",
    "    \n",
    "    return summe\n",
    "        \n",
    "quersumme(26935)\n",
    "\n",
    "# Schreibe deinen Code hier"
   ]
  },
  {
   "cell_type": "markdown",
   "id": "c6232be8",
   "metadata": {},
   "source": [
    "## Aufgabe 2: Summe\n",
    "\n",
    "- Schreibe eine Funktion, welches eine Zahl $n$ als Argument erhält und die Anzahl **aller** Kombinationen zurückgibt, für die gilt \n",
    "\n",
    "\\begin{align}\n",
    "n = a + b + c,  \\qquad 0 \\leq a,b,c \\leq 9.\n",
    "\\end{align}\n",
    "\n",
    "**Beispiele:**\n",
    "\n",
    "\\begin{align}\n",
    "f(2) &\\Longrightarrow 6 \\\\\n",
    "f(15) &\\Longrightarrow 73 \\\\\n",
    "f(7) &\\Longrightarrow 36 \\\\\n",
    "\\end{align}\n"
   ]
  },
  {
   "cell_type": "code",
   "execution_count": 8,
   "id": "be8579b8",
   "metadata": {},
   "outputs": [
    {
     "data": {
      "text/plain": [
       "36"
      ]
     },
     "execution_count": 8,
     "metadata": {},
     "output_type": "execute_result"
    }
   ],
   "source": [
    "# Schreibe deinen Code hier\n",
    "\n",
    "def combinationen(n):\n",
    "    \n",
    "    liste_comb = []\n",
    "    teil_liste = []\n",
    "    \n",
    "    for a in range(10):\n",
    "        for b in range(10):\n",
    "            for c in range(10):\n",
    "                if (a + b + c) == n and not teil_liste in liste_comb:\n",
    "                    teil_liste.append(a)\n",
    "                    teil_liste.append(b)\n",
    "                    teil_liste.append(c)\n",
    "                    liste_comb.append(teil_liste)\n",
    "                    teil_liste = []\n",
    "                    \n",
    "    return len(liste_comb)\n",
    "                \n",
    "combinationen(7)\n",
    "    \n",
    "# Schreibe deinen Code hier"
   ]
  },
  {
   "cell_type": "markdown",
   "id": "2f18d3cf",
   "metadata": {},
   "source": [
    "## Aufgabe 3: Goldbach\n",
    "\n",
    "- Schreibe eine Funktion, die eine gerade Zahl $n \\geq 4$ als Argument erwartet.\n",
    "Die Funktion soll alle Möglichkeiten zurückgeben, diese Zahl n als die **Summe** zweier Primzahlen darzustellen.\n",
    "\n",
    "**Beispiele:**\n",
    "\n",
    "\\begin{align}\n",
    "f(4) &\\Longrightarrow [[2,2]] \\\\\n",
    "f(6) &\\Longrightarrow [[3,3]] \\\\ \n",
    "f(10) &\\Longrightarrow [[5,5],[7,3]] \\\\\n",
    "f(24) &\\Longrightarrow [[13,11],[17,7],[19,5]] \\\\\n",
    "\\end{align}\n",
    "\n",
    "*Anmerkung:* Für diese Aufgabe könnte es nützlich sein, eine Funktion zu schreiben, die überprüft ob eine Zahl eine Primzahl ist."
   ]
  },
  {
   "cell_type": "code",
   "execution_count": 33,
   "id": "d56b8016",
   "metadata": {},
   "outputs": [
    {
     "data": {
      "text/plain": [
       "[[13, 11], [17, 7], [19, 5]]"
      ]
     },
     "execution_count": 33,
     "metadata": {},
     "output_type": "execute_result"
    }
   ],
   "source": [
    "# Schreibe deinen Code hier\n",
    "\n",
    "def prim(n):\n",
    "    \n",
    "    for i in range(2,n):\n",
    "        if n % i == 0:\n",
    "            return False\n",
    "        \n",
    "    return True\n",
    "\n",
    "def summe_prim(n):\n",
    "    \n",
    "    liste_ges = []\n",
    "    liste_prim = []\n",
    "    liste_teil = []\n",
    "    \n",
    "    if n >= 4:\n",
    "        \n",
    "        for j in range(2,n):\n",
    "            if prim(j):\n",
    "                liste_prim.append(j)\n",
    "                \n",
    "        for k in liste_prim:\n",
    "            for l in liste_prim:\n",
    "                if n == k + l and [k,l] not in liste_ges:\n",
    "                    liste_teil.append(l)\n",
    "                    liste_teil.append(k)\n",
    "                    liste_ges.append(liste_teil)\n",
    "                    liste_teil = []\n",
    "                    \n",
    "        return liste_ges[::-1]\n",
    "    \n",
    "    else:\n",
    "        print(\"Zahl muß größergleich 4 sein!\")\n",
    "        \n",
    "summe_prim(24)\n",
    "\n",
    "# Schreibe deinen Code hier"
   ]
  },
  {
   "cell_type": "markdown",
   "id": "4762ed43",
   "metadata": {},
   "source": [
    "## Aufgabe 4: Klammersetzung\n",
    "\n",
    "- Schreibe eine Funktion die einen String mit Klammern `(` und `)` erhält. Die Funktion soll `True` zurückgeben, wenn die Klammersetzung korrekt ist, ansonsten `False`. (D.h. jede Klammer sollte wieder geschlossen werden. Vor jeder schließenden Klammer gibt es eine öffnende Klammer.)\n",
    "\n",
    "**Beispiele**:\n",
    "\n",
    "\\begin{align}\n",
    "f(\\text{\"(  )\"}) &\\Longrightarrow \\text{True} \\\\\n",
    "f(\\text{\" ) ( \"}) &\\Longrightarrow \\text{False} \\\\\n",
    "f(\\text{\" ((() () )) \"}) &\\Longrightarrow \\text{True} \\\\\n",
    "f(\\text{\" ((( )))) ( \"}) &\\Longrightarrow \\text{False} \\\\\n",
    "\\end{align}"
   ]
  },
  {
   "cell_type": "code",
   "execution_count": 102,
   "id": "3db54052",
   "metadata": {},
   "outputs": [
    {
     "data": {
      "text/plain": [
       "False"
      ]
     },
     "execution_count": 102,
     "metadata": {},
     "output_type": "execute_result"
    }
   ],
   "source": [
    "def klammersetzung(string):\n",
    "    \n",
    "    liste = []\n",
    "    \n",
    "    for a in string:\n",
    "        if a == \"(\" or a == \")\":\n",
    "            liste.append(a)\n",
    "            \n",
    "    liste.append(\"X\")\n",
    "        \n",
    "    if liste.count(\"(\") == liste.count(\")\"):\n",
    "        \n",
    "        aktiv = True\n",
    "        i = 0\n",
    "        \n",
    "        while aktiv:\n",
    "\n",
    "            if liste[i] == \"(\" and liste[i + 1] == \")\":\n",
    "                liste.pop(i)\n",
    "                liste.pop(i)\n",
    "                i = 0\n",
    "                \n",
    "            elif not liste == [] and len(liste) > i + 1:\n",
    "                i += 1\n",
    "                continue\n",
    "                \n",
    "            elif liste == [\"X\"]:\n",
    "                return True\n",
    "                aktiv = False\n",
    "            \n",
    "            else:\n",
    "                aktiv = False\n",
    "    \n",
    "    return False\n",
    "    \n",
    "klammersetzung(\" ((( )))) ( \")"
   ]
  },
  {
   "cell_type": "code",
   "execution_count": null,
   "id": "2d63cadb",
   "metadata": {},
   "outputs": [],
   "source": [
    "def klammern_check(string):\n",
    "\n",
    "    if not len(string) % 2 == 0:\n",
    "        return False\n",
    "\n",
    "    liste = []\n",
    "    klammern = {'(':')'}\n",
    "\n",
    "    for i in range(0, len(string)):\n",
    "        c = string[i]\n",
    "        if c in klammern.keys():\n",
    "            liste.append(c)\n",
    "        elif not liste or c != klammern[liste.pop()]:\n",
    "            return False\n",
    "\n",
    "    return True\n",
    "\n",
    "\n",
    "# klammern_check(\"()\")           # True\n",
    "# klammern_check(\")(\")           # False\n",
    "# klammern_check(\"((()()))\")     # True\n",
    "\n",
    "\n",
    "# klammern_check(\"((( )))) (\")   # False"
   ]
  },
  {
   "cell_type": "markdown",
   "id": "825856ad",
   "metadata": {},
   "source": [
    "## Aufgabe 5: Wörterbuch erstellen\n",
    "\n",
    "- Kombiniere die zwei Listen mit einer `for`-Schleife zu einem Wörterbuch `capitals`, welches als Schlüssel das Land aus der Liste `countries` und als Wert die Hauptstadt aus der Liste `cities` enthält."
   ]
  },
  {
   "cell_type": "code",
   "execution_count": 11,
   "id": "0788d43e",
   "metadata": {},
   "outputs": [
    {
     "name": "stdout",
     "output_type": "stream",
     "text": [
      "{'France': 'Paris', 'Germany': 'Berlin', 'Italy': 'Rom'}\n"
     ]
    }
   ],
   "source": [
    "countries = [\"France\", \"Germany\", \"Italy\"]\n",
    "cities    = [\"Paris\" , \"Berlin\" , \"Rom\"]\n",
    "capitals  = {}\n",
    "\n",
    "# Gewünschtes Resultat: \n",
    "# {'France': 'Paris', 'Germany': 'Berlin', 'Italy': 'Rom'}\n",
    "\n",
    "# Schreibe deinen Code hier\n",
    "\n",
    "def kombiniere(liste_countries,liste_cities):\n",
    "    \n",
    "    for i in range(len(liste_countries)):\n",
    "        capitals[liste_countries[i]] = liste_cities[i]\n",
    "    \n",
    "    print(capitals)\n",
    "\n",
    "kombiniere(countries,cities)"
   ]
  },
  {
   "cell_type": "markdown",
   "id": "e87c0d72",
   "metadata": {},
   "source": [
    "## Aufgabe 6: Symmetrischer String\n",
    "\n",
    "- Schreibe ein Programm, welches für einen gegebenen String überprüft, ob dieser String symmetrisch ist, also ob er sich von vorne und hinten gleich liest. \n",
    "\n",
    "**Beispiele für symmetrische Strings:**\n",
    "\n",
    "- Anna\n",
    "- Otto \n",
    "- ABBBA"
   ]
  },
  {
   "cell_type": "code",
   "execution_count": 22,
   "id": "3e1af697",
   "metadata": {},
   "outputs": [
    {
     "data": {
      "text/plain": [
       "False"
      ]
     },
     "execution_count": 22,
     "metadata": {},
     "output_type": "execute_result"
    }
   ],
   "source": [
    "# Schreibe deinen Code hier\n",
    "\n",
    "def sym_lesen(string01):\n",
    "    \n",
    "    string01 = string01.lower()\n",
    "    \n",
    "    for a in string01:\n",
    "        if string01[::-1] == string01:\n",
    "            return True\n",
    "        \n",
    "    return False\n",
    "\n",
    "sym_lesen(\"OsUZTuso\")\n",
    "\n",
    "# Schreibe deinen Code hier"
   ]
  },
  {
   "cell_type": "markdown",
   "id": "a7d5132f",
   "metadata": {},
   "source": [
    "## Aufgabe 7: Summe der ersten n Zahlen rekursiv berechnen \n",
    " \n",
    " - Schreibe eine **rekursive** Funktion `sum_n(n)`, welche die Summe der ersten $n$ Zahlen zurück gibt. Die Funktion funktioniert ähnlich wie die Funktion `fakultaet(n)` aus dem Unterricht. <br>\n",
    "\n",
    "**Beispiele:**\n",
    "\n",
    "\\begin{align}\n",
    "\\text{sum_n}(3) &\\Longrightarrow 6   \\\\\n",
    "\\text{sum_n}(5) &\\Longrightarrow 15  \\\\\n",
    "\\end{align}"
   ]
  },
  {
   "cell_type": "code",
   "execution_count": 27,
   "id": "28bb6d51",
   "metadata": {},
   "outputs": [
    {
     "data": {
      "text/plain": [
       "21"
      ]
     },
     "execution_count": 27,
     "metadata": {},
     "output_type": "execute_result"
    }
   ],
   "source": [
    "# Schreibe deinen Code hier\n",
    "\n",
    "def sum_n(n):\n",
    "    \n",
    "    if n == 0:\n",
    "        return 0\n",
    "\n",
    "    else:\n",
    "        return n + sum_n(n - 1)\n",
    "    \n",
    "sum_n(6)\n",
    "\n",
    "# Schreibe deinen Code hier"
   ]
  }
 ],
 "metadata": {
  "kernelspec": {
   "display_name": "Python 3 (ipykernel)",
   "language": "python",
   "name": "python3"
  },
  "language_info": {
   "codemirror_mode": {
    "name": "ipython",
    "version": 3
   },
   "file_extension": ".py",
   "mimetype": "text/x-python",
   "name": "python",
   "nbconvert_exporter": "python",
   "pygments_lexer": "ipython3",
   "version": "3.10.9"
  }
 },
 "nbformat": 4,
 "nbformat_minor": 5
}
