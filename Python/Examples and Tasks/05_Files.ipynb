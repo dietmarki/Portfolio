{
 "cells": [
  {
   "cell_type": "markdown",
   "id": "283380fb",
   "metadata": {},
   "source": [
    "# Inhaltsverzeichnis \n",
    "\n",
    "- **Dateien - Aufgaben**\n",
    "    - **Aufgabe 1 - Informationen speichern**\n",
    "    - **Aufgabe 2 - Mehr Nutzer anlegen**\n",
    "    - **Aufgabe 3 - Nutzer auslesen**\n"
   ]
  },
  {
   "cell_type": "markdown",
   "id": "83a8e815",
   "metadata": {},
   "source": [
    "# Dateien - Aufgaben"
   ]
  },
  {
   "cell_type": "markdown",
   "id": "cba832a4",
   "metadata": {},
   "source": [
    "## Aufgabe 1 - Informationen speichern"
   ]
  },
  {
   "cell_type": "markdown",
   "id": "c7e64e99",
   "metadata": {},
   "source": [
    "- Lass einen Nutzer seinen **Nachnamen, Vornamen** und **Alter** eingeben. Speichere diese Informationen in einer Datei namens `info.txt`. \n",
    "- Die Informationen sollten alle in einer Zeile im Format `Nachname,Vorname,Alter` stehen."
   ]
  },
  {
   "cell_type": "code",
   "execution_count": 12,
   "id": "a385dfb8",
   "metadata": {},
   "outputs": [
    {
     "name": "stdout",
     "output_type": "stream",
     "text": [
      "Gebe Nachnamen, Vornamen und Alter durch Komma getrennt ein! Bole,Nolhausen,78\n",
      "Bole,Nolhausen,78\n"
     ]
    }
   ],
   "source": [
    "user_daten = input(\"Gebe Nachnamen, Vornamen und Alter durch Komma getrennt ein! \")\n",
    "\n",
    "with open(\"info.txt\",\"w\") as f:\n",
    "    f.write(user_daten)\n",
    "    \n",
    "with open(\"info.txt\",\"r\") as f:\n",
    "    print(f.read())\n"
   ]
  },
  {
   "cell_type": "markdown",
   "id": "0865be06",
   "metadata": {},
   "source": [
    "## Aufgabe 2 - Mehr Nutzer anlegen\n",
    "\n",
    "- Wir wollen die Informationen von mehreren Nutzern speichern. \n",
    "- Schreibe eine Funktion `addUser`, die die Datei `info.txt` öffnet und um eine neue Zeile mit den Informationen des neuen Nutzers ergänzt. \n",
    "- Führe die Funktion aus und überzeugt dich, dass sie funktioniert. Schau dir die Datei `info.txt` auf deiner Festplatte an. Sie sollte nun aus mehreren Zeilen mit jeweils 3 Informationen bestehen. Jede Zeile entspricht einem Nutzer."
   ]
  },
  {
   "cell_type": "code",
   "execution_count": 67,
   "id": "befc4b07",
   "metadata": {},
   "outputs": [
    {
     "name": "stdout",
     "output_type": "stream",
     "text": [
      "Gebe Nachnamen, Vornamen und Alter durch Komma getrennt ein! dfhsfhg,dfgg,45\n"
     ]
    },
    {
     "data": {
      "text/plain": [
       "['Pepp,Depp,67\\n',\n",
       " 'sdgsgff,sgsgs,89\\n',\n",
       " 'sdfag,sdfgasfd,453\\n',\n",
       " 'dfhdhf,dsfhhhfg,567\\n',\n",
       " 'ydfgdy,dfga,45\\n',\n",
       " 'dsfhgfds,dfgfa,3435\\n',\n",
       " 'dfgdgfd,fdgfda,787\\n',\n",
       " 'dfhsfhg,dfgg,45']"
      ]
     },
     "execution_count": 67,
     "metadata": {},
     "output_type": "execute_result"
    }
   ],
   "source": [
    "def addUser():\n",
    "    user_neu = input(\"Gebe Nachnamen, Vornamen und Alter durch Komma getrennt ein! \")\n",
    "    liste_user = []\n",
    "    \n",
    "    with open(\"info.txt\",\"r\") as f:\n",
    "        liste_user = f.readlines()\n",
    "    \n",
    "    with open(\"info.txt\",\"w\") as f:\n",
    "        liste_user.append(user_neu)\n",
    "        for i in liste_user:\n",
    "            f.write(i)\n",
    "            \n",
    "        f.write(\"\\n\")\n",
    "    return liste_user\n",
    "\n",
    "addUser()\n",
    "    "
   ]
  },
  {
   "cell_type": "markdown",
   "id": "300abfe8",
   "metadata": {},
   "source": [
    "## Aufgabe 3 - Nutzer auslesen \n",
    "\n",
    "- Schreibe eine Funktion `getData(n)` die die Informationen über den n-ten Nutzer in der Datei `info.txt` ausgibt."
   ]
  },
  {
   "cell_type": "code",
   "execution_count": 10,
   "id": "187a4cbf",
   "metadata": {},
   "outputs": [
    {
     "data": {
      "text/plain": [
       "'dfhsfhg,dfgg,45'"
      ]
     },
     "execution_count": 10,
     "metadata": {},
     "output_type": "execute_result"
    }
   ],
   "source": [
    "def getData(n):\n",
    "    \n",
    "    with open(\"info.txt\",\"r\") as f:\n",
    "        liste_user = f.readlines()\n",
    "        \n",
    "    return (liste_user[n - 1])[:-1]\n",
    "        \n",
    "getData(8)"
   ]
  },
  {
   "cell_type": "code",
   "execution_count": null,
   "id": "ad5d92a3",
   "metadata": {},
   "outputs": [],
   "source": []
  },
  {
   "cell_type": "code",
   "execution_count": null,
   "id": "7c3385e1",
   "metadata": {},
   "outputs": [],
   "source": []
  },
  {
   "cell_type": "code",
   "execution_count": null,
   "id": "ea54d9f8",
   "metadata": {},
   "outputs": [],
   "source": []
  },
  {
   "cell_type": "code",
   "execution_count": null,
   "id": "cfe14029",
   "metadata": {},
   "outputs": [],
   "source": []
  },
  {
   "cell_type": "code",
   "execution_count": null,
   "id": "26d34fa2",
   "metadata": {},
   "outputs": [],
   "source": []
  }
 ],
 "metadata": {
  "kernelspec": {
   "display_name": "Python 3 (ipykernel)",
   "language": "python",
   "name": "python3"
  },
  "language_info": {
   "codemirror_mode": {
    "name": "ipython",
    "version": 3
   },
   "file_extension": ".py",
   "mimetype": "text/x-python",
   "name": "python",
   "nbconvert_exporter": "python",
   "pygments_lexer": "ipython3",
   "version": "3.10.9"
  }
 },
 "nbformat": 4,
 "nbformat_minor": 5
}
