{
 "cells": [
  {
   "cell_type": "markdown",
   "id": "17521c52",
   "metadata": {},
   "source": [
    "# Inhaltsverzeichnis \n",
    "\n",
    "- **Mengen Aufgaben**\n",
    "    - **Aufgabe 1 - Menge erstellen**\n",
    "    - **Aufgabe 2 - Menge ergänzen**\n",
    "    - **Aufgabe 3 - Gemeinsame Elemente**\n",
    "    - **Aufgabe 4 - Einzigartige Elemente**\n"
   ]
  },
  {
   "cell_type": "markdown",
   "id": "6487ed07",
   "metadata": {},
   "source": [
    "# Mengen Aufgaben\n",
    "\n",
    "## Aufgabe 1 - Menge erstellen\n",
    "\n",
    "- Erstelle eine Menge `colors` mit 3 unterschiedlichen Farben (z.b. \"blue\").\n",
    "- Füge nach der Initialisierung noch eine weitere Farbe dazu.\n",
    "- Entferne danach eine der 4 Farben in `colors`."
   ]
  },
  {
   "cell_type": "code",
   "execution_count": 5,
   "id": "b67b2e01",
   "metadata": {},
   "outputs": [
    {
     "name": "stdout",
     "output_type": "stream",
     "text": [
      "{'darkgreen', 'darkblue', 'lightgreen'}\n",
      "{'darkgreen', 'yellowgreen', 'darkblue', 'lightgreen'}\n",
      "{'darkgreen', 'yellowgreen', 'lightgreen'}\n"
     ]
    }
   ],
   "source": [
    "colors = {\"darkblue\",\"darkgreen\",\"lightgreen\"}\n",
    "print(colors)\n",
    "colors.add(\"yellowgreen\")\n",
    "print(colors)\n",
    "colors.remove(\"darkblue\")\n",
    "print(colors)\n",
    "\n",
    "# Schreibe dein Code hier\n",
    "\n",
    "# Schreibe dein Code hier"
   ]
  },
  {
   "cell_type": "markdown",
   "id": "50eb2cd2",
   "metadata": {},
   "source": [
    "## Aufgabe 2 - Menge ergänzen\n",
    "\n",
    "- Ergänze deine Menge mit der Liste von Farben `color_list` unten."
   ]
  },
  {
   "cell_type": "code",
   "execution_count": 7,
   "id": "f343c040",
   "metadata": {},
   "outputs": [
    {
     "name": "stdout",
     "output_type": "stream",
     "text": [
      "<class 'set'>\n",
      "{'orange', 'darkgreen', 'yellowgreen', 'purple', 'lightgreen', 'pink'}\n"
     ]
    }
   ],
   "source": [
    "color_list = ['pink', 'purple', 'orange']\n",
    "colors02 = set(color_list)\n",
    "print(type(colors02))\n",
    "listGross = colors.union(colors02)\n",
    "print(listGross)\n",
    "# Schreibe dein Code hier\n",
    "\n",
    "# Schreibe dein Code hier"
   ]
  },
  {
   "cell_type": "markdown",
   "id": "554e9391",
   "metadata": {},
   "source": [
    "## Aufgabe 3 - Gemeinsame Elemente\n",
    "\n",
    "- Finde die gemeinsame Elemente aus dem Schnitt deiner Menge mit `new_colors`."
   ]
  },
  {
   "cell_type": "code",
   "execution_count": 8,
   "id": "fd3cf5ae",
   "metadata": {},
   "outputs": [
    {
     "name": "stdout",
     "output_type": "stream",
     "text": [
      "{'orange'}\n"
     ]
    }
   ],
   "source": [
    "new_colors = {'red', 'blue', 'orange'}\n",
    "schnittM = listGross.intersection(new_colors)\n",
    "print(schnittM)\n",
    "\n",
    "# Schreibe dein Code hier\n",
    "\n",
    "# Schreibe dein Code hier"
   ]
  },
  {
   "cell_type": "markdown",
   "id": "54d203bc",
   "metadata": {},
   "source": [
    "## Aufgabe 4 - Einzigartige Elemente\n",
    "\n",
    "- Finde die Elemente, die nur in der Menge `colors` und nicht in `new_colors` sind.\n",
    "- Finde die Elemente, die nur in der Menge `new_colors` und nicht in `colors` sind."
   ]
  },
  {
   "cell_type": "code",
   "execution_count": 10,
   "id": "e0adb75b",
   "metadata": {},
   "outputs": [
    {
     "name": "stdout",
     "output_type": "stream",
     "text": [
      "{'darkgreen', 'yellowgreen', 'lightgreen'}\n",
      "{'orange', 'red', 'blue'}\n"
     ]
    }
   ],
   "source": [
    "print(colors.difference(new_colors))\n",
    "\n",
    "# Schreibe dein Code hier\n",
    "\n",
    "print(new_colors.difference(colors))\n",
    "\n",
    "# Schreibe dein Code hier"
   ]
  },
  {
   "cell_type": "code",
   "execution_count": null,
   "id": "7d6d66d6",
   "metadata": {},
   "outputs": [],
   "source": []
  }
 ],
 "metadata": {
  "kernelspec": {
   "display_name": "Python 3 (ipykernel)",
   "language": "python",
   "name": "python3"
  },
  "language_info": {
   "codemirror_mode": {
    "name": "ipython",
    "version": 3
   },
   "file_extension": ".py",
   "mimetype": "text/x-python",
   "name": "python",
   "nbconvert_exporter": "python",
   "pygments_lexer": "ipython3",
   "version": "3.10.9"
  }
 },
 "nbformat": 4,
 "nbformat_minor": 5
}
