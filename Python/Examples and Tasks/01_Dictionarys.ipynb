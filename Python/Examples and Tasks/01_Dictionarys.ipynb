{
 "cells": [
  {
   "cell_type": "markdown",
   "id": "86be4286",
   "metadata": {},
   "source": [
    "![image info](https://drive.google.com/uc?id=1AerT9299ijreLjEeIoGLv6SoT-SFC6-m)"
   ]
  },
  {
   "cell_type": "markdown",
   "id": "88fdd860",
   "metadata": {},
   "source": [
    "# Inhaltsverzeichnis \n",
    "\n",
    "- **Wörterbücher Aufgaben**\n",
    "    - **Aufgabe 1 - Dictionary erstellen**\n",
    "    - **Aufgabe 2 - Werte ändern**\n",
    "    - **Aufgabe 3 - Dimensionen**\n",
    "    - **Aufgabe 4 - Werte lesen**\n"
   ]
  },
  {
   "cell_type": "markdown",
   "id": "64b5a1f1",
   "metadata": {},
   "source": [
    "# Wörterbücher Aufgaben"
   ]
  },
  {
   "cell_type": "markdown",
   "id": "6487ed07",
   "metadata": {},
   "source": [
    "## Aufgabe 1 - Dictionary erstellen\n",
    "\n",
    "- Erstelle ein Wörterbuch eines Hundes mit `name` (String), `breed` (String), `age` (Integer)."
   ]
  },
  {
   "cell_type": "code",
   "execution_count": 2,
   "id": "b67b2e01",
   "metadata": {},
   "outputs": [
    {
     "name": "stdout",
     "output_type": "stream",
     "text": [
      "{'name': 'Flocki', 'breed': 'Dackel', 'age': 8}\n"
     ]
    }
   ],
   "source": [
    "dictHund = {\"name\":\"Flocki\", \"breed\":\"Dackel\",\"age\":8}\n",
    "type(dictHund)\n",
    "print(dictHund)\n",
    "\n",
    "# Schreibe dein Code hier\n",
    "\n",
    "# Schreibe dein Code hier"
   ]
  },
  {
   "cell_type": "markdown",
   "id": "4a6d89d3",
   "metadata": {},
   "source": [
    "## Aufgabe 2 - Werte ändern\n",
    "\n",
    "- Füge nach der Initialisierung den Schlüssel `good_dog` (Boolean) ein.\n",
    "- Überschreib den Wert für `age` mit `5`. "
   ]
  },
  {
   "cell_type": "code",
   "execution_count": 4,
   "id": "28240558",
   "metadata": {},
   "outputs": [
    {
     "name": "stdout",
     "output_type": "stream",
     "text": [
      "{'name': 'Flocki', 'breed': 'Dackel', 'age': 8, 'good_dog': True}\n",
      "{'name': 'Flocki', 'breed': 'Dackel', 'age': 5, 'good_dog': True}\n"
     ]
    }
   ],
   "source": [
    "dictHund[\"good_dog\"] = True\n",
    "print(dictHund)\n",
    "# Schreibe dein Code hier\n",
    "\n",
    "dictHund[\"age\"] = 5\n",
    "print(dictHund)\n",
    "\n",
    "# Schreibe dein Code hier"
   ]
  },
  {
   "cell_type": "markdown",
   "id": "cd71826f",
   "metadata": {},
   "source": [
    "## Aufgabe 3 - Dimensionen\n",
    "\n",
    "- Gib die Anzahl der Schlüssel auf der Konsole aus.\n",
    "- Gib die Schlüssel auf der Konsole aus. "
   ]
  },
  {
   "cell_type": "code",
   "execution_count": 11,
   "id": "ada28d48",
   "metadata": {},
   "outputs": [
    {
     "name": "stdout",
     "output_type": "stream",
     "text": [
      "<class 'list'>\n",
      "4\n",
      "['name', 'breed', 'age', 'good_dog']\n"
     ]
    }
   ],
   "source": [
    "listKeys = list(dictHund.keys())\n",
    "print(type(listKeys))\n",
    "print(len(listKeys))\n",
    "print(listKeys)\n",
    "# Schreibe dein Code hier\n",
    "\n",
    "# Schreibe dein Code hier"
   ]
  },
  {
   "cell_type": "markdown",
   "id": "a3b77a76",
   "metadata": {},
   "source": [
    "## Aufgabe 4 - Werte lesen\n",
    "\n",
    "- Gib alle Werte auf der Konsole aus.\n",
    "- Gib die Key-Value Tupeln auf der Konsole aus.\n",
    "- Gib nur den Wert für `name` auf der Konsole aus."
   ]
  },
  {
   "cell_type": "code",
   "execution_count": 18,
   "id": "2b848008",
   "metadata": {},
   "outputs": [
    {
     "name": "stdout",
     "output_type": "stream",
     "text": [
      "dict_values(['Flocki', 'Dackel', 5, True])\n",
      "dict_items([('name', 'Flocki'), ('breed', 'Dackel'), ('age', 5), ('good_dog', True)])\n",
      "Flocki\n"
     ]
    }
   ],
   "source": [
    "print(dictHund.values())\n",
    "print(dictHund.items())\n",
    "print(dictHund[\"name\"])\n",
    "\n",
    "# Schreibe dein Code hier\n",
    "\n",
    "# Schreibe dein Code hier"
   ]
  },
  {
   "cell_type": "code",
   "execution_count": null,
   "id": "60047630",
   "metadata": {},
   "outputs": [],
   "source": []
  }
 ],
 "metadata": {
  "kernelspec": {
   "display_name": "Python 3 (ipykernel)",
   "language": "python",
   "name": "python3"
  },
  "language_info": {
   "codemirror_mode": {
    "name": "ipython",
    "version": 3
   },
   "file_extension": ".py",
   "mimetype": "text/x-python",
   "name": "python",
   "nbconvert_exporter": "python",
   "pygments_lexer": "ipython3",
   "version": "3.10.9"
  }
 },
 "nbformat": 4,
 "nbformat_minor": 5
}
