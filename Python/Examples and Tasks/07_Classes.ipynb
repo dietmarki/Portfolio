{
 "cells": [
  {
   "cell_type": "markdown",
   "id": "39d489a7",
   "metadata": {},
   "source": [
    "# Inhaltsverzeichnis \n",
    "\n",
    "- **Übung: Klassen**\n",
    "    - **Aufgabe: Person**\n",
    "    - **Aufgabe: Car**\n",
    "    - **Aufgabe: Würfel**\n",
    "    - **Aufgabe: Kreis**\n"
   ]
  },
  {
   "cell_type": "markdown",
   "id": "2191cf7b",
   "metadata": {},
   "source": [
    "# Übung: Klassen\n",
    "\n",
    "\n",
    "## Aufgabe: Person\n",
    "\n",
    "- Schreibe eine Klasse, die in der Lage ist Informationen über eine Person zu speichern. Der Name der Klasse lautet **Person**. \n",
    "- Eine Person hat ein **Alter** und einen **Namen**. Diese Attribute sollen bei der Erzeugung einer Instanz übergeben werden können. \n",
    "- Schreibe zusätzlich eine Methode `info`, die diese Informationen über die Person ausgibt."
   ]
  },
  {
   "cell_type": "code",
   "execution_count": 6,
   "id": "2a1948c6",
   "metadata": {},
   "outputs": [],
   "source": [
    "\n",
    "class Person:\n",
    "    \n",
    "    def __init__(self,alter,name):\n",
    "        self.alter = alter\n",
    "        self.name = name\n",
    "        \n",
    "    def info(self):\n",
    "        print(f\"Name der Person: {self.name}, Alter: {self.alter}\")\n"
   ]
  },
  {
   "cell_type": "markdown",
   "id": "07bf298b",
   "metadata": {},
   "source": [
    "Um deinen Code zu testen, erzeuge zwei Instanzen der Klasse und teste die Methode `info` der Instanzen."
   ]
  },
  {
   "cell_type": "code",
   "execution_count": 7,
   "id": "3356fb8f",
   "metadata": {},
   "outputs": [
    {
     "name": "stdout",
     "output_type": "stream",
     "text": [
      "Name der Person: Waldschrat, Alter: 135\n"
     ]
    }
   ],
   "source": [
    "\n",
    "p1 = Person(\"135\",\"Waldschrat\")\n",
    "p1.info()\n"
   ]
  },
  {
   "cell_type": "markdown",
   "id": "b7065d8a",
   "metadata": {},
   "source": [
    "## Aufgabe: Car\n",
    "\n",
    "- Schreibe eine Klasse namens `Car`, welche eine Blaupause für ein Auto ist. \n",
    "- Ein Auto hat die Eigenschaften `model`, `year`, `km`, wobei `model` das jeweilige Modell, `year` das Jahr in dem das Auto gebaut wurde und `km` die aktuelle Kilometeranzahl beschreibt.\n",
    "- Schreibe für die Klasse eine Methode, die Informationen über die jeweilige Instanz ausgibt.\n",
    "- Schreibe eine Methode `holiday`, welches das Auto in Urlaub fahren lässt. Dabei wird das Attribut `km` der Instanz um einen Wert vergrößert, der der Funktion übergeben wird.\n",
    "- Teste die Klasse `Car` indem du Instanzen erzeugst und deren Methoden testest."
   ]
  },
  {
   "cell_type": "code",
   "execution_count": 30,
   "id": "35bf9a8d",
   "metadata": {},
   "outputs": [],
   "source": [
    "# Schreibe deinen Code hier\n",
    "class Car:\n",
    "    \n",
    "    def __init__(self,model,year,km):\n",
    "        self.model = model\n",
    "        self.year = year\n",
    "        self.km = km\n",
    "        \n",
    "    def info(self):\n",
    "        print(f\"Automodell: {self.model}, Baujahr: {self.year}, km: {self.km}\")\n",
    "        \n",
    "    def holiday(self,km_gefahren):\n",
    "        self.km += km_gefahren\n",
    "        print(f\"Aktueller km-Stand: {self.km}\")\n",
    "    \n",
    "# Schreibe deinen Code hier"
   ]
  },
  {
   "cell_type": "code",
   "execution_count": 26,
   "id": "b2be652d",
   "metadata": {},
   "outputs": [
    {
     "name": "stdout",
     "output_type": "stream",
     "text": [
      "Automodell: Ferrari, Baujahr: 1972, km: 10000\n"
     ]
    }
   ],
   "source": [
    "\n",
    "c1 = Car(\"Ferrari\",1972,10000)\n",
    "c1.info()\n"
   ]
  },
  {
   "cell_type": "code",
   "execution_count": 31,
   "id": "33aae19f",
   "metadata": {},
   "outputs": [
    {
     "name": "stdout",
     "output_type": "stream",
     "text": [
      "Automodell: VW, Baujahr: 1991, km: 200\n",
      "Aktueller km-Stand: 350\n",
      "Automodell: VW, Baujahr: 1991, km: 350\n"
     ]
    }
   ],
   "source": [
    "# Testen der Funktion holiday \n",
    "\n",
    "car1 = Car(\"VW\",1991,200)\n",
    "car1.info()\n",
    "car1.holiday(150)   # Lässt das Auto in Urlaub fahren. Es sollte danach 200 + 150 = 350 km insgesamt gefahren sein.\n",
    "car1.info()\n"
   ]
  },
  {
   "cell_type": "markdown",
   "id": "1ee46950",
   "metadata": {},
   "source": [
    "## Aufgabe: Würfel\n",
    "\n",
    "- Erstelle eine Klasse `Die`, mit dem Attribut `number_of_sides`, welches die Anzahl der Seiten des Würfels angibt. Dieses Attribut soll den **Standardwert** 6 haben. Der Nutzer soll aber auch in der Lage sein, bei der Erzeugung von Instanzen der Klasse `Die` Würfel mit mehr oder weniger Seiten zu erzeugen. \n",
    "- Schreibe eine Methode `get_number`, die einen Wurf simuliert. Dabei ist das Ergebnis eine Zahl zwischen $1$ und `number_of_sides`.\n",
    "\n",
    "> <span style=\"color:green\"> **_ERINNERUNG:_** </span> Zufallszahlen können erzeugt werden, indem man die Funktion `randint` des Moduls `random` verwendet. \n",
    "\n",
    "- Erzeuge eine Instanz der Klasse und lasse in einer Schleife 10 Würfe simulieren. Gibt die einzelnen Würfe per `print` auf der Konsole aus."
   ]
  },
  {
   "cell_type": "code",
   "execution_count": 54,
   "id": "e068e3eb",
   "metadata": {},
   "outputs": [],
   "source": [
    "from random import randint\n",
    "\n",
    "class Dice:\n",
    "    \n",
    "    def __init__(self, number_of_sides = 6):\n",
    "        self.number_of_sides = number_of_sides\n",
    "        \n",
    "    def get_number(self):\n",
    "        return randint(1,6)\n"
   ]
  },
  {
   "cell_type": "code",
   "execution_count": 56,
   "id": "22daa9e1",
   "metadata": {},
   "outputs": [
    {
     "data": {
      "text/plain": [
       "3"
      ]
     },
     "execution_count": 56,
     "metadata": {},
     "output_type": "execute_result"
    }
   ],
   "source": [
    "dice1 = Dice()\n",
    "dice1.get_number()"
   ]
  },
  {
   "cell_type": "code",
   "execution_count": 67,
   "id": "9ead4b69",
   "metadata": {},
   "outputs": [
    {
     "name": "stdout",
     "output_type": "stream",
     "text": [
      " 1.Wurf:     3     \n",
      " 2.Wurf:     2     \n",
      " 3.Wurf:     4     \n",
      " 4.Wurf:     4     \n",
      " 5.Wurf:     6     \n",
      " 6.Wurf:     2     \n",
      " 7.Wurf:     5     \n",
      " 8.Wurf:     5     \n",
      " 9.Wurf:     3     \n",
      "10.Wurf:     5     \n"
     ]
    }
   ],
   "source": [
    "for i in range(1,11):\n",
    "    print(f\"{i:>2}.Wurf: {dice1.get_number():^10}\")"
   ]
  },
  {
   "cell_type": "markdown",
   "id": "70955f5e",
   "metadata": {},
   "source": [
    "## Aufgabe: Kreis\n",
    "\n",
    "- Erstelle eine Klasse namens `Circle`, welche bei der Erzeugung ( `__init__`) eine Radius erhält. Die Klasse soll eine Funktion namens `get_area` erhalten, welche die Fläche des Kreises berechnet und zurückliefert."
   ]
  },
  {
   "cell_type": "code",
   "execution_count": 74,
   "id": "61c7e232",
   "metadata": {},
   "outputs": [],
   "source": [
    "import math\n",
    "\n",
    "class Circle:\n",
    "    \n",
    "    def __init__(self,radius):\n",
    "        self.radius = radius\n",
    "        \n",
    "    def get_area(self):\n",
    "        return (self.radius**2)* math.pi\n"
   ]
  },
  {
   "cell_type": "code",
   "execution_count": 75,
   "id": "5fba27e8",
   "metadata": {},
   "outputs": [
    {
     "data": {
      "text/plain": [
       "28.274333882308138"
      ]
     },
     "execution_count": 75,
     "metadata": {},
     "output_type": "execute_result"
    }
   ],
   "source": [
    "kr_fl1 = Circle(3)\n",
    "kr_fl1.get_area()"
   ]
  },
  {
   "cell_type": "code",
   "execution_count": null,
   "id": "9e136855",
   "metadata": {},
   "outputs": [],
   "source": []
  },
  {
   "cell_type": "code",
   "execution_count": null,
   "id": "6c8036d1",
   "metadata": {},
   "outputs": [],
   "source": []
  }
 ],
 "metadata": {
  "kernelspec": {
   "display_name": "Python 3 (ipykernel)",
   "language": "python",
   "name": "python3"
  },
  "language_info": {
   "codemirror_mode": {
    "name": "ipython",
    "version": 3
   },
   "file_extension": ".py",
   "mimetype": "text/x-python",
   "name": "python",
   "nbconvert_exporter": "python",
   "pygments_lexer": "ipython3",
   "version": "3.10.9"
  }
 },
 "nbformat": 4,
 "nbformat_minor": 5
}
