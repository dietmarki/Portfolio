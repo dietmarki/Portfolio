{
 "cells": [
  {
   "cell_type": "markdown",
   "id": "8bf66e42",
   "metadata": {},
   "source": [
    "# Inhaltsverzeichnis \n",
    "\n",
    "- **`While`-Schleife Aufgaben**\n",
    "    - **Aufgabe 1**\n",
    "    - **Aufgabe 2**\n",
    "    - **Aufgabe 3**\n",
    "- **`For`-Schleifen Aufgaben**\n",
    "    - **Aufgabe 1**\n",
    "    - **Aufgabe 2**\n",
    "    - **Aufgabe 3**\n",
    "    - **Aufgabe 4**\n",
    "    - **Aufgabe 5**\n",
    "    - **Aufgabe 6**\n",
    "- **Aufgabe 7**\n"
   ]
  },
  {
   "cell_type": "markdown",
   "id": "1ed9690a",
   "metadata": {},
   "source": [
    "# `While`-Schleife Aufgaben\n",
    "\n",
    "## Aufgabe 1\n",
    "\n",
    "Schreibe ein Programm, welches in jeder Iteration einer `while`-Schleife den Wert der Variablen `x` um 2 erhöht. Die Schleife soll beendet werden, wenn `x` größer als 100 ist."
   ]
  },
  {
   "cell_type": "code",
   "execution_count": null,
   "id": "5f6568de",
   "metadata": {},
   "outputs": [],
   "source": [
    "x = 0\n",
    "\n",
    "# Schreibe dein Code hier\n",
    "\n",
    "# Schreibe dein Code hier"
   ]
  },
  {
   "cell_type": "markdown",
   "id": "97ca134a",
   "metadata": {},
   "source": [
    "## Aufgabe 2\n",
    "\n",
    "- Bitte den\\*die Nutzer\\*in eine Zahl einzugeben. Solange bis die eingegebene Zahl kleiner als 0 ist, bitte ihn\\*ihr eine neue Zahl einzugeben. "
   ]
  },
  {
   "cell_type": "code",
   "execution_count": null,
   "id": "e493ecf2",
   "metadata": {},
   "outputs": [],
   "source": [
    "# Schreibe dein Code hier\n",
    "\n",
    "# Schreibe dein Code hier"
   ]
  },
  {
   "cell_type": "markdown",
   "id": "2f434135",
   "metadata": {},
   "source": [
    "## Aufgabe 3\n",
    "\n",
    "- Wähle eine Zahl zwischen 0-10. Lass den\\*die User\\*in solange eine Zahl eingeben, bis er\\*sie deine Zahl errät."
   ]
  },
  {
   "cell_type": "code",
   "execution_count": null,
   "id": "304babe5",
   "metadata": {},
   "outputs": [],
   "source": [
    "user = input(\"Gib eine ganze Zahl zwischen 0 und 10 ein! \")\n",
    "\n",
    "aktiv = True\n",
    "\n",
    "while aktiv:\n",
    "    \n",
    "    if int(user) == 7:\n",
    "        print(\"Richtig erraten, Baboooo!!\")\n",
    "        aktiv = False\n",
    "        \n",
    "    else:\n",
    "        user = input(\"Gib noch eine Zahl ein! \")\n",
    "\n",
    "# Schreibe dein Code hier\n",
    "\n",
    "# Schreibe dein Code hier"
   ]
  },
  {
   "cell_type": "markdown",
   "id": "33351c25",
   "metadata": {},
   "source": [
    "# `For`-Schleifen Aufgaben\n",
    "\n"
   ]
  },
  {
   "cell_type": "markdown",
   "id": "cc8a2e1f",
   "metadata": {},
   "source": [
    "## Aufgabe 1\n",
    "\n",
    "- Gib alle Elemente der Liste `my_list` zusammen mit ihren Index aus:"
   ]
  },
  {
   "cell_type": "code",
   "execution_count": null,
   "id": "2bb37dde",
   "metadata": {},
   "outputs": [],
   "source": [
    "my_list = [1, 2, 3, 4, \"Hallo\", [1, 2, 3], {\"A\" : 3}]\n",
    "\n",
    "# Schreibe dein Code hier\n",
    "\n",
    "# Schreibe dein Code hier"
   ]
  },
  {
   "cell_type": "markdown",
   "id": "ccdd460e",
   "metadata": {},
   "source": [
    "## Aufgabe 2 \n",
    "\n",
    "- Erzeuge eine Liste mit den Zahlen von 1 bis 50. Iteriere über die Liste und gibt jede Zahl aus, die ohne Rest durch 5 teilbar ist.\n",
    "\n",
    "Nützliche Funktionen bzw. Operatoren:\n",
    "- `range()`\n",
    "- `%`-Operator (Berechnet den Rest bei einer ganzzahligen Division.)"
   ]
  },
  {
   "cell_type": "code",
   "execution_count": 2,
   "id": "38a4bada",
   "metadata": {},
   "outputs": [
    {
     "name": "stdout",
     "output_type": "stream",
     "text": [
      "5\n",
      "10\n",
      "15\n",
      "20\n",
      "25\n",
      "30\n",
      "35\n",
      "40\n",
      "45\n",
      "50\n"
     ]
    }
   ],
   "source": [
    "for x in range(1,51):\n",
    "    \n",
    "    if x % 5 != 0:\n",
    "        continue\n",
    "        \n",
    "    else:\n",
    "        print(x)\n",
    "\n",
    "# Schreibe dein Code hier\n",
    "\n",
    "# Schreibe dein Code hier"
   ]
  },
  {
   "cell_type": "markdown",
   "id": "60949993",
   "metadata": {},
   "source": [
    "## Aufgabe 3\n",
    "\n",
    "- Schreibe ein Programm, welches alle Zahlen in der Liste `my_list` mittels einer `for`-Schleife addiert. Gibt das Ergebnis auf der Konsole aus."
   ]
  },
  {
   "cell_type": "code",
   "execution_count": null,
   "id": "4b4e6061",
   "metadata": {},
   "outputs": [],
   "source": [
    "my_list = [0, 1, 2, 3, 4, 5, 6]\n",
    "\n",
    "# Schreibe dein Code hier\n",
    "\n",
    "# Schreibe dein Code hier"
   ]
  },
  {
   "cell_type": "markdown",
   "id": "58437419",
   "metadata": {},
   "source": [
    "## Aufgabe 4\n",
    "\n",
    "- Iteriere durch die erste 10 Zahlen und gib alle außer die $4$ und die $6$ auf der Konsole aus."
   ]
  },
  {
   "cell_type": "code",
   "execution_count": null,
   "id": "80104553",
   "metadata": {},
   "outputs": [],
   "source": [
    "# Schreibe dein Code hier\n",
    "\n",
    "# Schreibe dein Code hier"
   ]
  },
  {
   "cell_type": "markdown",
   "id": "809233e7",
   "metadata": {},
   "source": [
    "## Aufgabe 5\n",
    "\n",
    "- Schreibe eine `for`-Schleife, die alle Zahlen zwischen 0 und 200 in 7er-Schritten ausgibt.\n",
    "\n",
    "- Lass dir die gleichen Zahlen ausgeben wie oben, nur in umgekehrter Reihenfolge."
   ]
  },
  {
   "cell_type": "code",
   "execution_count": null,
   "id": "7cb847f0",
   "metadata": {},
   "outputs": [],
   "source": [
    "# Schreibe dein Code hier\n",
    "\n",
    "# Schreibe dein Code hier"
   ]
  },
  {
   "cell_type": "markdown",
   "id": "03249b25",
   "metadata": {},
   "source": [
    "## Aufgabe 6\n",
    "\n",
    "- Berechne die Summe\n",
    "\\begin{align}\n",
    "1^2+2^2+3^2+4^2+5^2+6^2+7^2+8^2+9^2+10^2+11^2+12^2+13^2+14^2+15^2\n",
    "\\end{align}\n",
    "\n",
    "durch Benutzung einer `for`-Schleifen."
   ]
  },
  {
   "cell_type": "code",
   "execution_count": null,
   "id": "df46ae3c",
   "metadata": {},
   "outputs": [],
   "source": [
    "# Schreibe dein Code hier\n",
    "\n",
    "# Schreibe dein Code hier"
   ]
  },
  {
   "cell_type": "markdown",
   "id": "2357132c",
   "metadata": {},
   "source": [
    "# Aufgabe 7\n",
    "\n",
    "- Erzeuge die folgenden Zeilen durch eine `for`-Schleife\n",
    "\n",
    "o <br>\n",
    "oo <br>\n",
    "ooo <br>\n",
    "oooo <br>\n",
    "ooooo <br>\n",
    "oooooo <br>\n",
    "ooooooo <br>\n",
    "oooooooo <br>\n",
    "ooooooooo <br>"
   ]
  },
  {
   "cell_type": "code",
   "execution_count": 1,
   "id": "4098d7ee",
   "metadata": {},
   "outputs": [
    {
     "name": "stdout",
     "output_type": "stream",
     "text": [
      "o\n",
      "oo\n",
      "ooo\n",
      "oooo\n",
      "ooooo\n",
      "oooooo\n",
      "ooooooo\n",
      "oooooooo\n",
      "ooooooooo\n"
     ]
    }
   ],
   "source": [
    "string = 0\n",
    "\n",
    "for b in range(1,10):\n",
    "    \n",
    "    string = \"o\" * b\n",
    "    \n",
    "    print(string)\n",
    "\n",
    "# Schreibe dein Code hier\n",
    "\n",
    "# Schreibe dein Code hier"
   ]
  },
  {
   "cell_type": "code",
   "execution_count": null,
   "id": "0b0231fc",
   "metadata": {},
   "outputs": [],
   "source": []
  }
 ],
 "metadata": {
  "kernelspec": {
   "display_name": "Python 3 (ipykernel)",
   "language": "python",
   "name": "python3"
  },
  "language_info": {
   "codemirror_mode": {
    "name": "ipython",
    "version": 3
   },
   "file_extension": ".py",
   "mimetype": "text/x-python",
   "name": "python",
   "nbconvert_exporter": "python",
   "pygments_lexer": "ipython3",
   "version": "3.10.9"
  }
 },
 "nbformat": 4,
 "nbformat_minor": 5
}
