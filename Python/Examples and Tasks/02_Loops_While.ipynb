{
 "cells": [
  {
   "cell_type": "markdown",
   "id": "8bf66e42",
   "metadata": {},
   "source": [
    "# Inhaltsverzeichnis \n",
    "\n",
    "- **`While`-Schleife Aufgaben**\n",
    "    - **Aufgabe 1**\n",
    "    - **Aufgabe 2**\n",
    "    - **Aufgabe 3**\n",
    "- **`For`-Schleifen Aufgaben**\n",
    "    - **Aufgabe 1**\n",
    "    - **Aufgabe 2**\n",
    "    - **Aufgabe 3**\n",
    "    - **Aufgabe 4**\n",
    "    - **Aufgabe 5**\n",
    "    - **Aufgabe 6**\n",
    "- **Aufgabe 7**\n"
   ]
  },
  {
   "cell_type": "markdown",
   "id": "1ed9690a",
   "metadata": {},
   "source": [
    "# `While`-Schleife Aufgaben\n",
    "\n",
    "## Aufgabe 1\n",
    "\n",
    "Schreibe ein Programm, welches in jeder Iteration einer `while`-Schleife den Wert der Variablen `x` um 2 erhöht. Die Schleife soll beendet werden, wenn `x` größer als 100 ist."
   ]
  },
  {
   "cell_type": "code",
   "execution_count": 3,
   "id": "5f6568de",
   "metadata": {},
   "outputs": [
    {
     "name": "stdout",
     "output_type": "stream",
     "text": [
      "0\n",
      "2\n",
      "4\n",
      "6\n",
      "8\n",
      "10\n",
      "12\n",
      "14\n",
      "16\n",
      "18\n",
      "20\n",
      "22\n",
      "24\n",
      "26\n",
      "28\n",
      "30\n",
      "32\n",
      "34\n",
      "36\n",
      "38\n",
      "40\n",
      "42\n",
      "44\n",
      "46\n",
      "48\n",
      "50\n",
      "52\n",
      "54\n",
      "56\n",
      "58\n",
      "60\n",
      "62\n",
      "64\n",
      "66\n",
      "68\n",
      "70\n",
      "72\n",
      "74\n",
      "76\n",
      "78\n",
      "80\n",
      "82\n",
      "84\n",
      "86\n",
      "88\n",
      "90\n",
      "92\n",
      "94\n",
      "96\n",
      "98\n"
     ]
    }
   ],
   "source": [
    "x = 0\n",
    "\n",
    "while x <= 100:\n",
    "    print(x)\n",
    "    x += 2\n"
   ]
  },
  {
   "cell_type": "markdown",
   "id": "97ca134a",
   "metadata": {},
   "source": [
    "## Aufgabe 2\n",
    "\n",
    "- Bitte den\\*die Nutzer\\*in eine Zahl einzugeben. Solange bis die eingegebene Zahl kleiner als 0 ist, bitte ihn\\*ihr eine neue Zahl einzugeben. "
   ]
  },
  {
   "cell_type": "code",
   "execution_count": 7,
   "id": "e493ecf2",
   "metadata": {},
   "outputs": [
    {
     "name": "stdout",
     "output_type": "stream",
     "text": [
      "Zahl eingeben, bitte: -6\n",
      "Nochmal, bitte: -8\n",
      "Nochmal, bitte: -1\n",
      "Nochmal, bitte: 5\n",
      "Das ist eine positive Zahl oder Null.\n"
     ]
    }
   ],
   "source": [
    "zahl = input(\"Zahl eingeben, bitte: \")\n",
    "\n",
    "while int(zahl) < 0:\n",
    "    \n",
    "    zahl = input(\"Nochmal, bitte: \")\n",
    "    \n",
    "print(\"Das ist eine positive Zahl oder Null.\")\n"
   ]
  },
  {
   "cell_type": "markdown",
   "id": "2f434135",
   "metadata": {},
   "source": [
    "## Aufgabe 3\n",
    "\n",
    "- Wähle eine Zahl zwischen 0-10. Lass den\\*die User\\*in solange eine Zahl eingeben, bis er\\*sie deine Zahl errät."
   ]
  },
  {
   "cell_type": "code",
   "execution_count": 8,
   "id": "304babe5",
   "metadata": {},
   "outputs": [
    {
     "name": "stdout",
     "output_type": "stream",
     "text": [
      "Rate meine Zahl zwischen 0 und 10! 4\n",
      "Du hast noch nicht getroffen, versuche es weiter! 6\n",
      "Du hast noch nicht getroffen, versuche es weiter! 2\n",
      "Du hast noch nicht getroffen, versuche es weiter! 7\n",
      "Jetzt liegst du richtig, es war die 7. Glückwunsch!\n"
     ]
    }
   ],
   "source": [
    "rateZahl = input(\"Rate meine Zahl zwischen 0 und 10! \")\n",
    "\n",
    "while rateZahl != \"7\":\n",
    "    rateZahl = input(\"Du hast noch nicht getroffen, versuche es weiter! \")\n",
    "    \n",
    "print(\"Jetzt liegst du richtig, es war die 7. Glückwunsch!\")   \n"
   ]
  },
  {
   "cell_type": "markdown",
   "id": "33351c25",
   "metadata": {},
   "source": [
    "# `For`-Schleifen Aufgaben\n",
    "\n"
   ]
  },
  {
   "cell_type": "markdown",
   "id": "cc8a2e1f",
   "metadata": {},
   "source": [
    "## Aufgabe 1\n",
    "\n",
    "- Gib alle Elemente der Liste `my_list` zusammen mit ihren Index aus:"
   ]
  },
  {
   "cell_type": "code",
   "execution_count": 19,
   "id": "2bb37dde",
   "metadata": {},
   "outputs": [
    {
     "name": "stdout",
     "output_type": "stream",
     "text": [
      "Index:  0 , Element:  1\n",
      "Index:  1 , Element:  2\n",
      "Index:  2 , Element:  3\n",
      "Index:  3 , Element:  4\n",
      "Index:  4 , Element:  Hallo\n",
      "Index:  5 , Element:  [1, 2, 3]\n",
      "Index:  6 , Element:  {'A': 3}\n"
     ]
    }
   ],
   "source": [
    "my_list = [1, 2, 3, 4, \"Hallo\", [1, 2, 3], {\"A\" : 3}]\n",
    "\n",
    "for i,e in enumerate(my_list):\n",
    "    \n",
    "    print(\"Index: \",i,\", Element: \",e)\n"
   ]
  },
  {
   "cell_type": "markdown",
   "id": "ccdd460e",
   "metadata": {},
   "source": [
    "## Aufgabe 2 \n",
    "\n",
    "- Erzeuge eine Liste mit den Zahlen von 1 bis 50. Iteriere über die Liste und gibt jede Zahl aus, die ohne Rest durch 5 teilbar ist.\n",
    "\n",
    "Nützliche Funktionen bzw. Operatoren:\n",
    "- `range()`\n",
    "- `%`-Operator (Berechnet den Rest bei einer ganzzahligen Division.)"
   ]
  },
  {
   "cell_type": "code",
   "execution_count": 23,
   "id": "38a4bada",
   "metadata": {},
   "outputs": [
    {
     "name": "stdout",
     "output_type": "stream",
     "text": [
      "5\n",
      "10\n",
      "15\n",
      "20\n",
      "25\n",
      "30\n",
      "35\n",
      "40\n",
      "45\n",
      "50\n"
     ]
    }
   ],
   "source": [
    "for zahl01 in range(1,51,1):\n",
    "    if zahl01 % 5 != 0:\n",
    "        continue\n",
    "    print(zahl01)\n"
   ]
  },
  {
   "cell_type": "markdown",
   "id": "60949993",
   "metadata": {},
   "source": [
    "## Aufgabe 3\n",
    "\n",
    "- Schreibe ein Programm, welches alle Zahlen in der Liste `my_list` mittels einer `for`-Schleife addiert. Gibt das Ergebnis auf der Konsole aus."
   ]
  },
  {
   "cell_type": "code",
   "execution_count": 29,
   "id": "4b4e6061",
   "metadata": {},
   "outputs": [
    {
     "name": "stdout",
     "output_type": "stream",
     "text": [
      "Ergebnis gesamt:  21\n"
     ]
    }
   ],
   "source": [
    "my_list = [0, 1, 2, 3, 4, 5, 6]\n",
    "zahl02 = 0\n",
    "\n",
    "for x in my_list:\n",
    "    zahl02 += x\n",
    "    \n",
    "print(\"Ergebnis gesamt: \", zahl02)\n"
   ]
  },
  {
   "cell_type": "markdown",
   "id": "58437419",
   "metadata": {},
   "source": [
    "## Aufgabe 4\n",
    "\n",
    "- Iteriere durch die erste 10 Zahlen und gib alle außer die $4$ und die $6$ auf der Konsole aus."
   ]
  },
  {
   "cell_type": "code",
   "execution_count": 35,
   "id": "80104553",
   "metadata": {},
   "outputs": [
    {
     "name": "stdout",
     "output_type": "stream",
     "text": [
      "1\n",
      "2\n",
      "3\n",
      "5\n",
      "7\n",
      "8\n",
      "9\n",
      "10\n"
     ]
    }
   ],
   "source": [
    "for zahl03 in range(1,11,1):\n",
    "\n",
    "    if zahl03 == 4 or zahl03 == 6:\n",
    "        continue\n",
    "        \n",
    "    print(zahl03)\n"
   ]
  },
  {
   "cell_type": "markdown",
   "id": "809233e7",
   "metadata": {},
   "source": [
    "## Aufgabe 5\n",
    "\n",
    "- Schreibe eine `for`-Schleife, die alle Zahlen zwischen 0 und 200 in 7er-Schritten ausgibt.\n",
    "\n",
    "- Lass dir die gleichen Zahlen ausgeben wie oben, nur in umgekehrter Reihenfolge."
   ]
  },
  {
   "cell_type": "code",
   "execution_count": 50,
   "id": "7cb847f0",
   "metadata": {},
   "outputs": [
    {
     "name": "stdout",
     "output_type": "stream",
     "text": [
      "0\n",
      "7\n",
      "14\n",
      "21\n",
      "28\n",
      "35\n",
      "42\n",
      "49\n",
      "56\n",
      "63\n",
      "70\n",
      "77\n",
      "84\n",
      "91\n",
      "98\n",
      "105\n",
      "112\n",
      "119\n",
      "126\n",
      "133\n",
      "140\n",
      "147\n",
      "154\n",
      "161\n",
      "168\n",
      "175\n",
      "182\n",
      "189\n",
      "196\n",
      "Hier ist Wechsel!\n",
      "201\n",
      "194\n",
      "187\n",
      "180\n",
      "173\n",
      "166\n",
      "159\n",
      "152\n",
      "145\n",
      "138\n",
      "131\n",
      "124\n",
      "117\n",
      "110\n",
      "103\n",
      "96\n",
      "89\n",
      "82\n",
      "75\n",
      "68\n",
      "61\n",
      "54\n",
      "47\n",
      "40\n",
      "33\n",
      "26\n",
      "19\n",
      "12\n",
      "5\n"
     ]
    }
   ],
   "source": [
    "list04 = []\n",
    "\n",
    "for zahl04 in range(0,201,7):\n",
    "    print(zahl04)\n",
    "\n",
    "print(\"Hier ist Wechsel!\")\n",
    "\n",
    "for zahl04 in range(201,0,-7):   # achtung: liste nicht identisch!!!!!!!!\n",
    "    print(zahl04)\n"
   ]
  },
  {
   "cell_type": "code",
   "execution_count": null,
   "id": "09a0c319",
   "metadata": {},
   "outputs": [],
   "source": []
  },
  {
   "cell_type": "code",
   "execution_count": 2,
   "id": "8847a6ff",
   "metadata": {},
   "outputs": [
    {
     "name": "stdout",
     "output_type": "stream",
     "text": [
      "0\n",
      "7\n",
      "14\n",
      "21\n",
      "28\n",
      "35\n",
      "42\n",
      "49\n",
      "56\n",
      "63\n",
      "70\n",
      "77\n",
      "84\n",
      "91\n",
      "98\n",
      "105\n",
      "112\n",
      "119\n",
      "126\n",
      "133\n",
      "140\n",
      "147\n",
      "154\n",
      "161\n",
      "168\n",
      "175\n",
      "182\n",
      "189\n",
      "196\n",
      "Hier ist Wechsel!\n",
      "196\n",
      "189\n",
      "182\n",
      "175\n",
      "168\n",
      "161\n",
      "154\n",
      "147\n",
      "140\n",
      "133\n",
      "126\n",
      "119\n",
      "112\n",
      "105\n",
      "98\n",
      "91\n",
      "84\n",
      "77\n",
      "70\n",
      "63\n",
      "56\n",
      "49\n",
      "42\n",
      "35\n",
      "28\n",
      "21\n",
      "14\n",
      "7\n",
      "0\n"
     ]
    }
   ],
   "source": [
    "# alternative mit der syntax: range(1,200,7)[::-1]  ----> umdrehen der range mit eckigen klammern\n",
    "\n",
    "for h in range(0,201,7):\n",
    "    print(h)\n",
    "    \n",
    "print(\"Hier ist Wechsel!\")\n",
    "    \n",
    "for h in range(0,201,7)[::-1]:\n",
    "    print(h)\n",
    "    \n",
    "    "
   ]
  },
  {
   "cell_type": "code",
   "execution_count": null,
   "id": "2fc6112f",
   "metadata": {},
   "outputs": [],
   "source": []
  },
  {
   "cell_type": "markdown",
   "id": "03249b25",
   "metadata": {},
   "source": [
    "## Aufgabe 6\n",
    "\n",
    "- Berechne die Summe\n",
    "\\begin{align}\n",
    "1^2+2^2+3^2+4^2+5^2+6^2+7^2+8^2+9^2+10^2+11^2+12^2+13^2+14^2+15^2\n",
    "\\end{align}\n",
    "\n",
    "durch Benutzung einer `for`-Schleifen."
   ]
  },
  {
   "cell_type": "code",
   "execution_count": 55,
   "id": "df46ae3c",
   "metadata": {},
   "outputs": [
    {
     "name": "stdout",
     "output_type": "stream",
     "text": [
      "1240\n"
     ]
    }
   ],
   "source": [
    "summe = 0\n",
    "\n",
    "for zahl05 in range(1,16,1):\n",
    "    \n",
    "    summe += (zahl05 ** 2)\n",
    "    \n",
    "print(summe)\n"
   ]
  },
  {
   "cell_type": "markdown",
   "id": "2357132c",
   "metadata": {},
   "source": [
    "# Aufgabe 7\n",
    "\n",
    "- Erzeuge die folgenden Zeilen durch eine `for`-Schleife\n",
    "\n",
    "o <br>\n",
    "oo <br>\n",
    "ooo <br>\n",
    "oooo <br>\n",
    "ooooo <br>\n",
    "oooooo <br>\n",
    "ooooooo <br>\n",
    "oooooooo <br>\n",
    "ooooooooo <br>"
   ]
  },
  {
   "cell_type": "code",
   "execution_count": 58,
   "id": "4098d7ee",
   "metadata": {},
   "outputs": [
    {
     "name": "stdout",
     "output_type": "stream",
     "text": [
      "o\n",
      "oo\n",
      "ooo\n",
      "oooo\n",
      "ooooo\n",
      "oooooo\n",
      "ooooooo\n",
      "oooooooo\n",
      "ooooooooo\n"
     ]
    }
   ],
   "source": [
    "for z in range(1,10,1):\n",
    "    print(\"o\" * z)\n"
   ]
  },
  {
   "cell_type": "code",
   "execution_count": null,
   "id": "51d1ce03",
   "metadata": {},
   "outputs": [],
   "source": []
  }
 ],
 "metadata": {
  "kernelspec": {
   "display_name": "Python 3 (ipykernel)",
   "language": "python",
   "name": "python3"
  },
  "language_info": {
   "codemirror_mode": {
    "name": "ipython",
    "version": 3
   },
   "file_extension": ".py",
   "mimetype": "text/x-python",
   "name": "python",
   "nbconvert_exporter": "python",
   "pygments_lexer": "ipython3",
   "version": "3.10.9"
  }
 },
 "nbformat": 4,
 "nbformat_minor": 5
}
