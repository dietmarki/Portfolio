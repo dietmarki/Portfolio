{
 "cells": [
  {
   "cell_type": "markdown",
   "id": "154d3540",
   "metadata": {},
   "source": [
    "# Inhaltsverzeichnis \n",
    "\n",
    "- **Operatoren Aufgaben**\n",
    "    - **Aufgabe 1 - Vergleichsoperatoren**\n",
    "    - **Aufgabe 2 - Logische Operatoren**\n",
    "    - **Aufgabe 3 - Identitätsoperator**\n",
    "    - **Aufgabe 4 - Mitgliedschaftsoperator**\n",
    "    - **Aufgabe 5 - Operatoren in Verbindung mit anderen Datentypen**\n",
    "    - **Aufgabe 6 - `or`**\n",
    "    - **Aufgabe 7 - `and`**\n",
    "    - **Aufgabe 8 - `not`**\n"
   ]
  },
  {
   "cell_type": "markdown",
   "id": "f11f13f0",
   "metadata": {},
   "source": [
    "# Operatoren Aufgaben\n",
    "\n",
    "## Aufgabe 1 - Vergleichsoperatoren\n",
    "\n",
    "Bevor du die folgenden Zellen ausführst, überlege dir was das Ergebnis der jeweiligen Ausgabe ist:"
   ]
  },
  {
   "cell_type": "code",
   "execution_count": 1,
   "id": "ccf38e3a",
   "metadata": {},
   "outputs": [
    {
     "name": "stdout",
     "output_type": "stream",
     "text": [
      "True\n",
      "False\n",
      "True\n",
      "True\n"
     ]
    }
   ],
   "source": [
    "print(False == False)    # true\n",
    "print(3 == 5)            # false\n",
    "print(3 != 5)            # true\n",
    "print(3 == 7 % 4)        # true\n"
   ]
  },
  {
   "cell_type": "code",
   "execution_count": 4,
   "id": "25f0f4fa",
   "metadata": {},
   "outputs": [
    {
     "name": "stdout",
     "output_type": "stream",
     "text": [
      "True\n",
      "False\n"
     ]
    }
   ],
   "source": [
    "print(True == 1)        # true\n",
    "print(True == 3)        # false"
   ]
  },
  {
   "cell_type": "code",
   "execution_count": 5,
   "id": "69049dd9",
   "metadata": {},
   "outputs": [
    {
     "name": "stdout",
     "output_type": "stream",
     "text": [
      "2\n",
      "1.0\n"
     ]
    }
   ],
   "source": [
    "print(True + True)              # 2\n",
    "print(True + (False / True) )   # 1"
   ]
  },
  {
   "cell_type": "code",
   "execution_count": 6,
   "id": "0516a492",
   "metadata": {},
   "outputs": [
    {
     "name": "stdout",
     "output_type": "stream",
     "text": [
      "True\n",
      "False\n"
     ]
    }
   ],
   "source": [
    "print((3 > 5) or True)          # true\n",
    "print((5 >= 5) and False)       # false"
   ]
  },
  {
   "cell_type": "code",
   "execution_count": 7,
   "id": "e14d490a",
   "metadata": {},
   "outputs": [
    {
     "name": "stdout",
     "output_type": "stream",
     "text": [
      "True\n",
      "True\n",
      "True\n"
     ]
    }
   ],
   "source": [
    "print(\"sentence\" != \"Sentence\")   # true\n",
    "print(\"Apple\" <= \"banana\")        # true\n",
    "print(\"This\" > \"That\")            # true"
   ]
  },
  {
   "cell_type": "markdown",
   "id": "0d2ddf72",
   "metadata": {},
   "source": [
    "## Aufgabe 2 - Logische Operatoren\n",
    "\n",
    "Was ist der Wert von `x` in den folgenden Zellen? Überlege dir die Antwort, **bevor** du die Zelle ausführst. Hattest du recht?"
   ]
  },
  {
   "cell_type": "code",
   "execution_count": 8,
   "id": "2d2c0b77",
   "metadata": {},
   "outputs": [
    {
     "name": "stdout",
     "output_type": "stream",
     "text": [
      "True\n"
     ]
    }
   ],
   "source": [
    "x = 21 % 7 == 0\n",
    "print(x)                # true"
   ]
  },
  {
   "cell_type": "code",
   "execution_count": 9,
   "id": "d1ce5ff8",
   "metadata": {},
   "outputs": [
    {
     "name": "stdout",
     "output_type": "stream",
     "text": [
      "False\n"
     ]
    }
   ],
   "source": [
    "x = not (5 > 1 or 2 > 3)\n",
    "print(x)                # false"
   ]
  },
  {
   "cell_type": "code",
   "execution_count": 10,
   "id": "cb6e9128",
   "metadata": {},
   "outputs": [
    {
     "name": "stdout",
     "output_type": "stream",
     "text": [
      "True\n"
     ]
    }
   ],
   "source": [
    "x = not (5 > 1 and 2 > 3)\n",
    "print(x)                # true"
   ]
  },
  {
   "cell_type": "code",
   "execution_count": 11,
   "id": "694290af",
   "metadata": {},
   "outputs": [
    {
     "name": "stdout",
     "output_type": "stream",
     "text": [
      "True\n"
     ]
    }
   ],
   "source": [
    "f = False\n",
    "x = not 8 < 5 and not f\n",
    "print(x)                # true"
   ]
  },
  {
   "cell_type": "markdown",
   "id": "592305d0",
   "metadata": {},
   "source": [
    "## Aufgabe 3 - Identitätsoperator\n",
    "\n",
    "Zeigen die Objekte `dict_1` und `dict_2` im folgenden auf die selbe Stelle im Speicher?\n",
    "Was passiert wenn man den Wert des Schlüssel `\"key_A\"` in `dict_1` ändert? Wie sieht `dict_2` danach aus?"
   ]
  },
  {
   "cell_type": "code",
   "execution_count": 13,
   "id": "07722bca",
   "metadata": {},
   "outputs": [
    {
     "name": "stdout",
     "output_type": "stream",
     "text": [
      "True\n",
      "{'key_A': 5}\n",
      "{'key_A': 5}\n"
     ]
    }
   ],
   "source": [
    "dict_1 = {\"key_A\" : 1}    # ja\n",
    "dict_2 = dict_1           # der wert ändert sich\n",
    "dict_1[\"key_A\"] = 5       # der wert in dict_2 ändert sich genauso\n",
    "print(dict_1 == dict_2)\n",
    "print(dict_1)\n",
    "print(dict_2)"
   ]
  },
  {
   "cell_type": "markdown",
   "id": "59127de3",
   "metadata": {},
   "source": [
    "## Aufgabe 4 - Mitgliedschaftsoperator\n",
    "\n",
    "Überprüfe mittels dem `in` Operator ob das Element `2` in der Liste `my_list` ist. Überprüfe dann, ob die Liste `['A', 'B']` in der Liste `my_list` ist."
   ]
  },
  {
   "cell_type": "code",
   "execution_count": 16,
   "id": "c1902d8a",
   "metadata": {},
   "outputs": [
    {
     "name": "stdout",
     "output_type": "stream",
     "text": [
      "True\n",
      "True\n"
     ]
    }
   ],
   "source": [
    "my_list = [1, 2, ['A', 'B']]\n",
    "print(2 in my_list)\n",
    "print(my_list[2] in my_list)"
   ]
  },
  {
   "cell_type": "markdown",
   "id": "5ee01ee6",
   "metadata": {},
   "source": [
    "## Aufgabe 5 - Operatoren in Verbindung mit anderen Datentypen\n",
    "\n",
    "Was ist die Ausgabe der folgenden Zellen? Was bedeutet das?"
   ]
  },
  {
   "cell_type": "code",
   "execution_count": 17,
   "id": "240d4661",
   "metadata": {},
   "outputs": [
    {
     "name": "stdout",
     "output_type": "stream",
     "text": [
      "True\n"
     ]
    }
   ],
   "source": [
    "print(\"Hallo\".upper() == \"HALLO\")\n",
    "    # upper() setzt alle elemente des strings auf großbuchstaben, also true!"
   ]
  },
  {
   "cell_type": "code",
   "execution_count": 18,
   "id": "e07f090c",
   "metadata": {},
   "outputs": [
    {
     "name": "stdout",
     "output_type": "stream",
     "text": [
      "True\n",
      "False\n"
     ]
    }
   ],
   "source": [
    "my_list = [1, 2, 3]\n",
    "my_list.append(4)     # 4 wird der list hinzugefügt\n",
    "\n",
    "print(my_list == [1, 2, 3, 4])          # true, werte auf gleichheit überprüft\n",
    "print(id(my_list) == id([1, 2, 3, 4]))  # false, gesamte listen auf gleichheit überprüft"
   ]
  },
  {
   "cell_type": "markdown",
   "id": "7598eaa8",
   "metadata": {},
   "source": [
    "## Aufgabe 6 - `or`\n",
    "\n",
    "Erstelle einen `True` boolischen Ausdruck, der aus 3 mit **`or`** verknüpften Ausdrücke besteht. Der erste soll Nummern und der zweite soll Strings vergleichen, während der dritte den boolischen Wert einer Nummer enthalten soll. "
   ]
  },
  {
   "cell_type": "code",
   "execution_count": 7,
   "id": "66da7eb0",
   "metadata": {},
   "outputs": [
    {
     "name": "stdout",
     "output_type": "stream",
     "text": [
      "True\n",
      "True\n",
      "True\n"
     ]
    }
   ],
   "source": [
    "print(3 == 3 or 5 > 8 or 2 == 78)\n",
    "\n",
    "print(\"3\" == \"3\" or \"5\" > \"8\" or \"Robert\" == \"Ratte\")\n",
    "\n",
    "print(True >= 1 or False > 3 or True == 0)\n",
    "\n",
    "# Schreibe dein Code hier\n",
    "\n",
    "# Schreibe dein Code hier"
   ]
  },
  {
   "cell_type": "markdown",
   "id": "f88cd941",
   "metadata": {},
   "source": [
    "## Aufgabe 7 - `and`\n",
    "\n",
    "Erstelle einen `True` boolischen Ausdruck, der aus 3 mit **`and`** verknüpften Ausdrücke besteht. Der erste soll Nummern und der zweite soll Strings vergleichen, während der dritte eine Zahl in ein Boolean umwandelt. "
   ]
  },
  {
   "cell_type": "code",
   "execution_count": 13,
   "id": "4ba87e59",
   "metadata": {},
   "outputs": [
    {
     "name": "stdout",
     "output_type": "stream",
     "text": [
      "True\n",
      "True\n",
      "True\n"
     ]
    }
   ],
   "source": [
    "print(3 == 3 and 5 < 8 and 2 != 78)\n",
    "\n",
    "print(\"3\" == \"3\" and \"5\" != \"8\" and \"Robert\" != \"Ratte\")\n",
    "\n",
    "print(True >= 1 and False < 3 and True != 0)\n",
    "\n",
    "# Schreibe dein Code hier\n",
    "\n",
    "# Schreibe dein Code hier"
   ]
  },
  {
   "cell_type": "markdown",
   "id": "9bb6801b",
   "metadata": {},
   "source": [
    "## Aufgabe 8 - `not`\n",
    "\n",
    "Erstelle einen `True` boolischen Ausdruck, der aus 3 mit `and` verknüpften **`not`** Ausdrücke besteht. Der erste soll Nummern und der zweite soll Strings vergleichen, während der dritte eine Zahl in ein Boolean umwandelt. "
   ]
  },
  {
   "cell_type": "code",
   "execution_count": 18,
   "id": "1242152d",
   "metadata": {},
   "outputs": [
    {
     "name": "stdout",
     "output_type": "stream",
     "text": [
      "True\n",
      "True\n",
      "True\n"
     ]
    }
   ],
   "source": [
    "print(3 == 3 and  not 5 > 8 and not 2 == 78)\n",
    "\n",
    "print(\"3\" == \"3\" and not \"5\" == \"8\" and not \"Robert\" == \"Ratte\")\n",
    "\n",
    "print(not (True >= 1 and False > 3 and True == 0))\n",
    "# print(True >= 1 and not False > 3 and not True == 0)\n",
    "\n",
    "# Schreibe dein Code hier\n",
    "\n",
    "# Schreibe dein Code hier"
   ]
  },
  {
   "cell_type": "code",
   "execution_count": null,
   "id": "221b3035",
   "metadata": {},
   "outputs": [],
   "source": []
  }
 ],
 "metadata": {
  "kernelspec": {
   "display_name": "Python 3 (ipykernel)",
   "language": "python",
   "name": "python3"
  },
  "language_info": {
   "codemirror_mode": {
    "name": "ipython",
    "version": 3
   },
   "file_extension": ".py",
   "mimetype": "text/x-python",
   "name": "python",
   "nbconvert_exporter": "python",
   "pygments_lexer": "ipython3",
   "version": "3.10.9"
  }
 },
 "nbformat": 4,
 "nbformat_minor": 5
}
