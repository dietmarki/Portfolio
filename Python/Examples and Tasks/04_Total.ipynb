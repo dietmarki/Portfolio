{
 "cells": [
  {
   "cell_type": "markdown",
   "id": "bf69b428",
   "metadata": {},
   "source": [
    "# Inhaltsverzeichnis \n",
    "\n",
    "- **Übungen Woche 4**\n",
    "    - **Aufgabe 1: Negative Zahlen**\n",
    "    - **Aufgabe 2: Zwischenwert**\n",
    "    - **Aufgabe 3: Pi**\n",
    "    - **Aufgabe 4: Verschachtelte Listen**\n",
    "    - **Aufgabe 5: Sortierte Liste**\n",
    "    - **Aufgabe 6: Teiler**\n",
    "    - **Aufgabe 7: Satz umkehren**\n"
   ]
  },
  {
   "cell_type": "markdown",
   "id": "94a2610a",
   "metadata": {},
   "source": [
    "# Übungen Woche 4\n",
    "\n",
    "In diesem Übungsblatt befinden sich Aufgaben, welche die Konzepte der letzten Wochen wiederholen. "
   ]
  },
  {
   "cell_type": "markdown",
   "id": "618f3309",
   "metadata": {},
   "source": [
    "## Aufgabe 1: Negative Zahlen\n",
    "\n",
    "- Wandel in der folgenden Liste jeden Wert in sein Negatives um, aus `[3, 2, 1]` wird `[-3, -2, -1]`. Auch hier gibt es mehrere Möglichkeiten. "
   ]
  },
  {
   "cell_type": "code",
   "execution_count": 4,
   "id": "e2645308",
   "metadata": {},
   "outputs": [
    {
     "data": {
      "text/plain": [
       "[-3, -2, -1]"
      ]
     },
     "execution_count": 4,
     "metadata": {},
     "output_type": "execute_result"
    }
   ],
   "source": [
    "numbers = [3, 2, 1]\n",
    "\n",
    "def numbers_negativ(liste):\n",
    "    \n",
    "    negativ_list = []\n",
    "    for i in liste:\n",
    "        negativ_list.append(i * (-1))\n",
    "        \n",
    "    return negativ_list\n",
    "\n",
    "numbers_negativ(numbers)\n",
    "\n",
    "# Schreibe deinen Code hier\n",
    "\n",
    "# Schreibe deinen Code hier"
   ]
  },
  {
   "cell_type": "markdown",
   "id": "44305778",
   "metadata": {},
   "source": [
    "## Aufgabe 2: Zwischenwert"
   ]
  },
  {
   "cell_type": "markdown",
   "id": "5a8b87bb",
   "metadata": {},
   "source": [
    "- Schreibe eine Funktion die 3 Zahlen $x,y,z$ als Argumente erhält. Die Funktion soll `True` zurückgeben, wenn $y$ zwischen $x$ und $z$ liegt, d.h. wenn gilt \n",
    "\n",
    "\\begin{align}\n",
    "x \\leq y \\leq z\n",
    "\\end{align}\n",
    "\n",
    "- Falls dies nicht erfüllt ist, soll `False` zurückgegeben werden.\n",
    "\n",
    "\\begin{align}\n",
    "f(1,2,3) &\\Longrightarrow \\text{True} \\\\\n",
    "f(1,3,2) &\\Longrightarrow \\text{False}\n",
    "\\end{align}\n"
   ]
  },
  {
   "cell_type": "code",
   "execution_count": 7,
   "id": "b46c1ff1",
   "metadata": {},
   "outputs": [
    {
     "data": {
      "text/plain": [
       "True"
      ]
     },
     "execution_count": 7,
     "metadata": {},
     "output_type": "execute_result"
    }
   ],
   "source": [
    "def zwischenwert(x,y,z):\n",
    "    \n",
    "    if x <= y <= z:\n",
    "        return True\n",
    "    else:\n",
    "        return False\n",
    "    \n",
    "zwischenwert(7,7,123)\n",
    "\n",
    "# Schreibe deinen Code hier\n",
    "\n",
    "# Schreibe deinen Code hier"
   ]
  },
  {
   "cell_type": "markdown",
   "id": "720a4cd4",
   "metadata": {},
   "source": [
    "## Aufgabe 3: Pi\n",
    "\n",
    "Die [Leibniz-Reihe](https://de.wikipedia.org/wiki/Leibniz-Reihe) ist eine Formel mit welcher der Wert von $\\pi$ angenähert werden kann. Sie ist definiert als\n",
    "\n",
    "\\begin{align}\n",
    "\\sum_{k=0}^{\\infty} \\frac{4 \\cdot (-1)^k}{2k+1} =4\\cdot (1 - \\frac{1}{3} + \\frac{1}{5} - \\frac{1}{7} + \\frac{1}{9} - ... )=  \\pi\n",
    "\\end{align}\n",
    "\n",
    "Berechne die Summe für die ersten $1000$ Glieder der Summe und bestätige damit, dass der Wert tatsächliche nahe an der Zahl $\\pi=3.1415...$ liegt.\n",
    "\n",
    "\n"
   ]
  },
  {
   "cell_type": "code",
   "execution_count": 11,
   "id": "c601b418",
   "metadata": {},
   "outputs": [
    {
     "name": "stdout",
     "output_type": "stream",
     "text": [
      "3.140592653839794\n"
     ]
    }
   ],
   "source": [
    "summe = 0\n",
    "for k in range(1000):\n",
    "    \n",
    "    summe += 4 * ((-1)**k) / (2 * k + 1)\n",
    "    \n",
    "    # Schreibe deinen Code hier\n",
    "    #summe+= ...\n",
    "    # Schreibe deinen Code hier\n",
    "\n",
    "print(summe)"
   ]
  },
  {
   "cell_type": "markdown",
   "id": "a182caf5",
   "metadata": {},
   "source": [
    "## Aufgabe 4: Verschachtelte Listen\n",
    "\n",
    "- Schreibe eine Funktion, welche als Argument eine Liste bekommt. Diese Liste *kann* eine Liste von Listen sein (_muss_ aber nicht - siehe erstes Beispiel). \n",
    "   Die Funktion soll die Summe **aller** Zahlen in dieser Liste zurückliefern.\n",
    "   \n",
    "**Beispiele:**\n",
    "   \n",
    "\\begin{align}\n",
    "       f([1,2,3]) &\\Longrightarrow 6 \\\\\n",
    "       f([1,[2,4],3]) &\\Longrightarrow 10 \\\\\n",
    "       f([1,[2,4],[3], [1,2,3],4,5]) &\\Longrightarrow 25\n",
    "\\end{align}\n",
    "\n",
    "- Die Funktion `isinstance(e,list)` um zu überprüfen, ob `e` eine Liste ist, ist sehr hilfreich!"
   ]
  },
  {
   "cell_type": "code",
   "execution_count": 1,
   "id": "d80c414a",
   "metadata": {},
   "outputs": [
    {
     "data": {
      "text/plain": [
       "25"
      ]
     },
     "execution_count": 1,
     "metadata": {},
     "output_type": "execute_result"
    }
   ],
   "source": [
    "def summe_listen_elemente(liste):\n",
    "    \n",
    "    summe = 0\n",
    "    for e in liste:\n",
    "        if type(e) == int:\n",
    "            summe += e\n",
    "        \n",
    "        elif isinstance(e,list):\n",
    "            for f in e:\n",
    "                if isinstance(f,list):\n",
    "                    for g in f:\n",
    "                        summe += g\n",
    "                else:\n",
    "                    summe += f\n",
    "            \n",
    "    return summe\n",
    "\n",
    "liste01 = [1,[2,4],[3],[[1,2],3],4,5]\n",
    "                \n",
    "summe_listen_elemente(liste01)\n",
    "# Schreibe deinen Code hier\n",
    "\n",
    "# Schreibe deinen Code hier"
   ]
  },
  {
   "cell_type": "markdown",
   "id": "65ccabdb",
   "metadata": {},
   "source": [
    "## Aufgabe 5: Sortierte Liste \n",
    "\n",
    "- Schreibe eine Funktion, die eine Liste als Argument erwartet. Die Funktion soll `True` zurückgegeben, wenn die Elemente von klein nach groß sortiert sind.\n",
    "\n",
    "**Beispiele:**\n",
    "\n",
    "\\begin{align}\n",
    "f([1,2,3]) &\\Longrightarrow \\text{True} \\\\\n",
    "f([1,3,2,4,5] &\\Longrightarrow \\text{False} \\\\\n",
    "f([100,200,300]) &\\Longrightarrow \\text{True}\n",
    "\\end{align}"
   ]
  },
  {
   "cell_type": "code",
   "execution_count": 22,
   "id": "6f3be292",
   "metadata": {},
   "outputs": [
    {
     "data": {
      "text/plain": [
       "False"
      ]
     },
     "execution_count": 22,
     "metadata": {},
     "output_type": "execute_result"
    }
   ],
   "source": [
    "def sorted_list(liste):\n",
    "    \n",
    "    for i in range(1,len(liste)):\n",
    "        if liste[i] - liste[i - 1] < 0:\n",
    "            return False\n",
    "\n",
    "    return True\n",
    "\n",
    "sorted_list([100,200,300])\n",
    "\n",
    "# Schreibe deinen Code hier\n",
    "\n",
    "# Schreibe deinen Code hier"
   ]
  },
  {
   "cell_type": "markdown",
   "id": "384dd606",
   "metadata": {},
   "source": [
    "## Aufgabe 6: Teiler \n",
    "\n",
    "- Schreibe eine Funktion die eine ganze Zahl als Argument übergeben bekommt. Die Funktion soll eine Liste mit allen Teilern dieser Zahl zurückgeben.\n",
    "\n",
    "\\begin{align}\n",
    "f(17) &\\Longrightarrow [1,17] \\\\\n",
    "f(8) &\\Longrightarrow [1,2,4,8]\n",
    "\\end{align}\n",
    "\n",
    "- **Optional:** Ist es (mit einer List-Comprehension) möglich, dass die gesuchte Funktion nur aus **einer** Zeile Code besteht?"
   ]
  },
  {
   "cell_type": "code",
   "execution_count": 31,
   "id": "6af6382e",
   "metadata": {},
   "outputs": [
    {
     "data": {
      "text/plain": [
       "[1, 3, 11, 33]"
      ]
     },
     "execution_count": 31,
     "metadata": {},
     "output_type": "execute_result"
    }
   ],
   "source": [
    "def teiler_zahl(zahl):\n",
    "    \n",
    "    liste_teiler = []\n",
    "    for x in range(1,zahl + 1):\n",
    "        if zahl % x == 0:\n",
    "            liste_teiler.append(x)\n",
    "            continue\n",
    "            \n",
    "    return liste_teiler\n",
    "            \n",
    "teiler_zahl(33)\n",
    "    \n",
    "# Schreibe deinen Code hier\n",
    "\n",
    "# Schreibe deinen Code hier"
   ]
  },
  {
   "cell_type": "code",
   "execution_count": 49,
   "id": "605cbd09",
   "metadata": {},
   "outputs": [
    {
     "name": "stdout",
     "output_type": "stream",
     "text": [
      "[1, 2, 4, 8]\n"
     ]
    }
   ],
   "source": [
    "zahl = 8\n",
    "list01 = [teiler for teiler in range(1,zahl +1) if zahl % teiler == 0]\n",
    "print(list01)\n"
   ]
  },
  {
   "cell_type": "markdown",
   "id": "d849014e",
   "metadata": {},
   "source": [
    "## Aufgabe 7: Satz umkehren\n",
    "\n",
    "- Schreibe eine Funktion die einen Satz übergeben bekommt, und als Ergebnis die Wörter des Satzes in umgekehrter Reihenfolge zurück gibt. \n",
    "\n",
    "**Beispiel**:\n",
    "\n",
    "\\begin{align}\n",
    "f(\\text{\"Das ist ein Satz\"}) &\\Longrightarrow \\text{\"Satz ein ist Das\"}\n",
    "\\end{align}"
   ]
  },
  {
   "cell_type": "code",
   "execution_count": 114,
   "id": "a050dba1",
   "metadata": {},
   "outputs": [
    {
     "data": {
      "text/plain": [
       "'Finta!! keine und Satz ein ist Das'"
      ]
     },
     "execution_count": 114,
     "metadata": {},
     "output_type": "execute_result"
    }
   ],
   "source": [
    "def satz_umdrehen(satz):    \n",
    "    \n",
    "    neuer_satz = \"\"\n",
    "    liste_satz = satz.split()\n",
    "    for i in range(len(liste_satz) - 1,-1,-1):\n",
    "        \n",
    "        if i != 0:\n",
    "            neuer_satz += liste_satz[i] + \" \"\n",
    "        else:\n",
    "            neuer_satz += liste_satz[i]\n",
    "        \n",
    "    return neuer_satz\n",
    "    \n",
    "satz_umdrehen(\"Das ist ein Satz und keine Finta!!\")\n",
    "\n",
    "# Schreibe deinen Code hier\n",
    "\n",
    "# Schreibe deinen Code hier"
   ]
  },
  {
   "cell_type": "code",
   "execution_count": null,
   "id": "b9927c13",
   "metadata": {},
   "outputs": [],
   "source": []
  }
 ],
 "metadata": {
  "kernelspec": {
   "display_name": "Python 3 (ipykernel)",
   "language": "python",
   "name": "python3"
  },
  "language_info": {
   "codemirror_mode": {
    "name": "ipython",
    "version": 3
   },
   "file_extension": ".py",
   "mimetype": "text/x-python",
   "name": "python",
   "nbconvert_exporter": "python",
   "pygments_lexer": "ipython3",
   "version": "3.10.9"
  }
 },
 "nbformat": 4,
 "nbformat_minor": 5
}
