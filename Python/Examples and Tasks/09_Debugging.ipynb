{
 "cells": [
  {
   "cell_type": "markdown",
   "id": "e17c9bdd",
   "metadata": {},
   "source": [
    "\n",
    "#  ___assert user_input == \"?\" or user_input == \"q\" or user_input == \"w\"___\n",
    "\n",
    "#        --->  ___assert user_input in [\"?\",\"q\",\"w\"]___ \n"
   ]
  },
  {
   "cell_type": "code",
   "execution_count": 1,
   "id": "439bc809",
   "metadata": {},
   "outputs": [
    {
     "name": "stdout",
     "output_type": "stream",
     "text": [
      "Drücke '?', um Hilfe zu bekommen\n",
      "Drücke 'q'. um die App zu verlassen.\n",
      "Drücke 'w', um weiterzumachen.\n",
      "?\n",
      "\n",
      "    Fragt den User nach seiner Emailadresse.\n",
      "\n",
      "        Parameters:\n",
      "\n",
      "        Returns:\n",
      "            email(str)\n",
      "    \n",
      "\n",
      "    Fragt den User nach seinem Alter.\n",
      "\n",
      "        Parameters:\n",
      "\n",
      "        Returns:\n",
      "            age(int)\n",
      "    \n",
      "Drücke '?', um Hilfe zu bekommen\n",
      "Drücke 'q'. um die App zu verlassen.\n",
      "Drücke 'w', um weiterzumachen.\n",
      "q\n"
     ]
    },
    {
     "name": "stderr",
     "output_type": "stream",
     "text": [
      "2023-08-31 10:04:50,236 - DEBUG - Die Schleife wurde beendet.\n"
     ]
    }
   ],
   "source": [
    "\n",
    "import logging\n",
    "\n",
    "logging.basicConfig(level=logging.DEBUG, format=\"%(asctime)s - %(levelname)s - %(message)s\")\n",
    "\n",
    "def input_email():\n",
    "    '''\n",
    "    Fragt den User nach seiner Emailadresse.\n",
    "\n",
    "        Parameters:\n",
    "\n",
    "        Returns:\n",
    "            email(str)\n",
    "    '''\n",
    "    user_email = input(\"Gib bitte deine Emailadresse ein!\")\n",
    "    return user_email\n",
    "\n",
    "def input_age():\n",
    "    '''\n",
    "    Fragt den User nach seinem Alter.\n",
    "\n",
    "        Parameters:\n",
    "\n",
    "        Returns:\n",
    "            age(int)\n",
    "    '''\n",
    "    user_age = input(\"Gib bitte dein Alter ein!\")\n",
    "    return user_age\n",
    "\n",
    "aktive = True\n",
    "\n",
    "while aktive:\n",
    "    \n",
    "    try:\n",
    "        user_input = input(\"Drücke '?', um Hilfe zu bekommen\\nDrücke 'q'. um die App zu verlassen.\\nDrücke 'w', um weiterzumachen.\\n\")\n",
    "        assert user_input in [\"?\",\"q\",\"w\"]\n",
    "        \n",
    "    except:\n",
    "        logging.error(\"Bitte gib einen korrekten Input an!\")    \n",
    "    \n",
    "    \n",
    "    if user_input == \"q\":\n",
    "        logging.debug(\"Die Schleife wurde beendet.\")\n",
    "        aktive = False\n",
    "        \n",
    "    elif user_input == \"?\":\n",
    "        print(input_email.__doc__)\n",
    "        print(input_age.__doc__)\n",
    "        \n",
    "    elif user_input == \"w\":\n",
    "        try:\n",
    "            user_email = input_email()\n",
    "            logging.info(\"Funktion 'input_email' wurde aufgerufen.\")\n",
    "            assert \"@\" in user_email and \".\" in user_email and len(user_email) > 5\n",
    "            logging.info(f\"Eingegebene Email ist {user_email}\")\n",
    "        except AssertionError:\n",
    "            logging.error(\"Bitte gib eine korrekte Email an!\")\n",
    "            user_email = input_email()\n",
    "        try:\n",
    "            user_age = input_age()\n",
    "            logging.info(\"Funktion 'input_age' wurde aufgerufen.\")\n",
    "            assert int(user_age) >= 10 and int(user_age) < 100\n",
    "            logging.info(f\"Eingegebenes Alter ist {user_age}\")\n",
    "        except AssertionError:\n",
    "            logging.error(\"Bitte gib ein korrektes Alter an!\")\n",
    "            user_age = input_age()\n"
   ]
  },
  {
   "cell_type": "code",
   "execution_count": null,
   "id": "67ceff56",
   "metadata": {},
   "outputs": [],
   "source": []
  },
  {
   "cell_type": "code",
   "execution_count": null,
   "id": "9cb39c8c",
   "metadata": {},
   "outputs": [],
   "source": []
  },
  {
   "cell_type": "code",
   "execution_count": null,
   "id": "decc45d3",
   "metadata": {},
   "outputs": [],
   "source": []
  },
  {
   "cell_type": "code",
   "execution_count": null,
   "id": "8333e6ff",
   "metadata": {},
   "outputs": [],
   "source": []
  },
  {
   "cell_type": "code",
   "execution_count": null,
   "id": "e3af166a",
   "metadata": {},
   "outputs": [],
   "source": []
  }
 ],
 "metadata": {
  "kernelspec": {
   "display_name": "Python 3 (ipykernel)",
   "language": "python",
   "name": "python3"
  },
  "language_info": {
   "codemirror_mode": {
    "name": "ipython",
    "version": 3
   },
   "file_extension": ".py",
   "mimetype": "text/x-python",
   "name": "python",
   "nbconvert_exporter": "python",
   "pygments_lexer": "ipython3",
   "version": "3.10.9"
  }
 },
 "nbformat": 4,
 "nbformat_minor": 5
}
