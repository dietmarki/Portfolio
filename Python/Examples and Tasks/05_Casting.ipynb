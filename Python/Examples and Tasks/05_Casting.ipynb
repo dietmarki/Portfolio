{
 "cells": [
  {
   "cell_type": "markdown",
   "id": "ef3198d2",
   "metadata": {},
   "source": [
    "# Inhaltsverzeichnis \n",
    "\n",
    "- **Aufgabe 1: Division**\n",
    "- **Aufgabe 2: split**\n",
    "- **Aufgabe 3:  Liste von Zahlen**\n",
    "- **Aufgabe 4: Runden**\n"
   ]
  },
  {
   "cell_type": "markdown",
   "id": "36384f4d",
   "metadata": {},
   "source": [
    "# Aufgabe 1: Division\n",
    "\n",
    "- Bestätige, dass bei der Division zweier **Integer** (`int`) _immer_ ein **Float** als Resultat herauskommt."
   ]
  },
  {
   "cell_type": "code",
   "execution_count": 1,
   "id": "83a9f3f7",
   "metadata": {},
   "outputs": [
    {
     "name": "stdout",
     "output_type": "stream",
     "text": [
      "True\n"
     ]
    }
   ],
   "source": [
    "\n",
    "print(isinstance((10/2),float))\n",
    "\n",
    "# Schreibe deinen Code hier"
   ]
  },
  {
   "cell_type": "markdown",
   "id": "1dab7433",
   "metadata": {},
   "source": [
    "# Aufgabe 2: split\n",
    "\n",
    "- Bestätige, dass die Methode `split` eine Strings als Resultat eine Liste liefert\n",
    "- Verwende dazu entweder die Funktion `type` _oder_ `isinstance`."
   ]
  },
  {
   "cell_type": "code",
   "execution_count": 4,
   "id": "2ba56c81",
   "metadata": {},
   "outputs": [
    {
     "name": "stdout",
     "output_type": "stream",
     "text": [
      "True\n"
     ]
    }
   ],
   "source": [
    "# Schreibe deinen Code hier\n",
    "s = \"1 2 3 a\"\n",
    "l = s.split()\n",
    "\n",
    "print(isinstance(l,list))\n",
    "\n",
    "# Schreibe deinen Code hier"
   ]
  },
  {
   "cell_type": "markdown",
   "id": "a00506ab",
   "metadata": {},
   "source": [
    "# Aufgabe 3:  Liste von Zahlen\n",
    "\n",
    "- Erzeuge aus dem String `s` eine (neue) Liste von Zahlen.\n",
    "- Im Beispiel unten soll aus `s=\"12 6 13 1\"` die Liste \n",
    "\n",
    "\\begin{align}\n",
    "[12,6,13,1]\n",
    "\\end{align}\n",
    "\n",
    "bestehend aus Integers erzeugt werden. Verwende dazu eine for-Schleife und die Funktion `int`.\n"
   ]
  },
  {
   "cell_type": "code",
   "execution_count": 11,
   "id": "2d117334",
   "metadata": {},
   "outputs": [
    {
     "name": "stdout",
     "output_type": "stream",
     "text": [
      "True\n",
      "True\n",
      "True\n",
      "True\n",
      "[12, 6, 13, 1] <class 'int'>\n"
     ]
    }
   ],
   "source": [
    "s = \"12 6 13 1\"\n",
    "l = s.split(\" \")\n",
    "new_l = []\n",
    "\n",
    "for a in l:\n",
    "    a = int(a)\n",
    "    print(isinstance(a,int))\n",
    "    new_l.append(a)\n",
    "    \n",
    "print(new_l, type(new_l[0]))\n",
    "\n",
    "# Schreibe deinen Code hier\n",
    "\n",
    "\n",
    "# Schreibe deinen Code hier"
   ]
  },
  {
   "cell_type": "markdown",
   "id": "3ac025c0",
   "metadata": {},
   "source": [
    "# Aufgabe 4: Runden\n",
    "\n",
    "- Schreibe eine Funktion, die ein der Lage ist eine Fließkommazahl (`float`) `x` richtig zu runden. D.h. wenn die Nachkommastelle $>= 0.5$ ist, soll aufgerundet werden, sonst abgerunden. \n",
    "\n",
    "- Der zurückgegebene Wert soll ein **Integer** sein.\n",
    "\n",
    "> <span style=\"color:red\"> **_WICHTIG:_** </span> Die Verwendung der Pythonfunktion `round` ist hier **nicht** erlaubt.\n",
    "\n",
    "**Beispiele:**\n",
    "\n",
    "\\begin{align}\n",
    "f(1.5) &\\Longrightarrow 2 \\\\\n",
    "f(1.4) &\\Longrightarrow 1\n",
    "\\end{align}"
   ]
  },
  {
   "cell_type": "code",
   "execution_count": 22,
   "id": "b8622180",
   "metadata": {},
   "outputs": [
    {
     "name": "stdout",
     "output_type": "stream",
     "text": [
      "5\n"
     ]
    }
   ],
   "source": [
    "# Schreibe deinen Code hier\n",
    "def f(x):\n",
    "    y = str(x)\n",
    "    if int(y[-1]) >= 5:\n",
    "        return int(x) + 1\n",
    "    else:\n",
    "        return int(x)\n",
    "    \n",
    "print(f(4.7))\n",
    "\n",
    "# Schreibe deinen Code hier"
   ]
  },
  {
   "cell_type": "code",
   "execution_count": null,
   "id": "2359e87d",
   "metadata": {},
   "outputs": [],
   "source": []
  }
 ],
 "metadata": {
  "kernelspec": {
   "display_name": "Python 3 (ipykernel)",
   "language": "python",
   "name": "python3"
  },
  "language_info": {
   "codemirror_mode": {
    "name": "ipython",
    "version": 3
   },
   "file_extension": ".py",
   "mimetype": "text/x-python",
   "name": "python",
   "nbconvert_exporter": "python",
   "pygments_lexer": "ipython3",
   "version": "3.10.9"
  }
 },
 "nbformat": 4,
 "nbformat_minor": 5
}
