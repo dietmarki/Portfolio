{
 "cells": [
  {
   "cell_type": "markdown",
   "id": "49a47af4",
   "metadata": {},
   "source": [
    "# Inhaltsverzeichnis \n",
    "\n",
    "- **Übungen Woche 6**\n",
    "    - **Aufgabe 1: Modulo**\n",
    "    - **Aufgabe 2: Multiplikation**\n",
    "    - **Aufgabe 3: Email**\n",
    "    - **Aufgabe 4: Element einfügen**\n",
    "    - **Aufgabe 5: Nullen in Liste**\n",
    "    - **Aufgabe 6: String überprüfen**\n",
    "    - **Aufgabe 7: Wörterbuch eines Strings**\n",
    "    - **Aufgabe 8: Liste modifizieren**\n"
   ]
  },
  {
   "cell_type": "markdown",
   "id": "51ec9b99",
   "metadata": {},
   "source": [
    "# Übungen Woche 6\n",
    "\n",
    "In diesem Übungsblatt befinden sich Aufgaben, welche die Konzepte der letzten Wochen wiederholen. \n",
    "\n",
    "> <span style=\"color:red\"> **HINWEIS:** </span> Hierfür musst du nicht objektorientiert programmieren, bzw. keine Klassen definieren."
   ]
  },
  {
   "cell_type": "markdown",
   "id": "71baca7a",
   "metadata": {},
   "source": [
    "## Aufgabe 1: Modulo \n",
    "\n",
    "- Schreibe eine Funktion, die zwei Werte $a$ und $b$ erwartet und den Rest bei einer ganzzahligen Division von $a$ durch $b$ zurückgibt (also $a \\% b$). Der Modulo-Operator `%` darf **nicht** benutzt werden!\n",
    "\n",
    "\n",
    "**Beispiele:**\n",
    "\n",
    "\\begin{align}\n",
    "f(10,3) &\\Longrightarrow 1 \\\\\n",
    "f(12,4) &\\Longrightarrow 0 \\\\\n",
    "f(15,4) &\\Longrightarrow 3 \\\\\n",
    "\\end{align}\n"
   ]
  },
  {
   "cell_type": "code",
   "execution_count": 7,
   "id": "e9ee2615",
   "metadata": {},
   "outputs": [
    {
     "data": {
      "text/plain": [
       "3"
      ]
     },
     "execution_count": 7,
     "metadata": {},
     "output_type": "execute_result"
    }
   ],
   "source": [
    "\n",
    "def modulo_teilen(a,b):\n",
    "    \n",
    "    c = a / b\n",
    "    d = a - b * int(c)\n",
    "    return d\n",
    "\n",
    "modulo_teilen(15,4)\n",
    "\n",
    "# Schreibe deinen Code hier"
   ]
  },
  {
   "cell_type": "markdown",
   "id": "176fff5e",
   "metadata": {},
   "source": [
    "## Aufgabe 2: Multiplikation \n",
    "\n",
    "- Schreibe eine Funktion, die zwei positive Zahlen $a$ und $b$ erwartet und das Ergebnis der Multiplikation von $a$ und $b$ zurückgibt (also $a \\cdot b$). Der Multiplikationsoperator `*` darf **nicht** verwendet werden!\n",
    "\n",
    "\n",
    "**Beispiele:**\n",
    "\\begin{align}\n",
    "f(5,4) &\\Longrightarrow 20 \\\\\n",
    "f(3,1) &\\Longrightarrow 3 \\\\\n",
    "f(2,4) &\\Longrightarrow 8 \\\\\n",
    "\\end{align}\n",
    "\n",
    "**Optional:**\n",
    "\n",
    "- Wie kann man obige Funktion *rekursiv* implementieren?"
   ]
  },
  {
   "cell_type": "code",
   "execution_count": 16,
   "id": "88e19da5",
   "metadata": {},
   "outputs": [
    {
     "name": "stdout",
     "output_type": "stream",
     "text": [
      "5\n",
      "5\n",
      "5\n",
      "5\n"
     ]
    },
    {
     "data": {
      "text/plain": [
       "20"
      ]
     },
     "execution_count": 16,
     "metadata": {},
     "output_type": "execute_result"
    }
   ],
   "source": [
    "\n",
    "def multiplizieren(x,y):\n",
    "    z = 0\n",
    "    for y in range(y):\n",
    "        print(x)\n",
    "        z += x\n",
    "    return z\n",
    "\n",
    "multiplizieren(5,4)\n",
    "\n",
    "# Schreibe deinen Code hier"
   ]
  },
  {
   "cell_type": "code",
   "execution_count": 11,
   "id": "4e01a8c8",
   "metadata": {},
   "outputs": [
    {
     "data": {
      "text/plain": [
       "6"
      ]
     },
     "execution_count": 11,
     "metadata": {},
     "output_type": "execute_result"
    }
   ],
   "source": [
    "def mal_nehmen(i,j):\n",
    "    \n",
    "    if i == 0 or j == 0:\n",
    "        return 0\n",
    "\n",
    "    else:\n",
    "        return i + mal_nehmen(i,j - 1)\n",
    "    \n",
    "mal_nehmen(2,3)"
   ]
  },
  {
   "cell_type": "markdown",
   "id": "78a443bc",
   "metadata": {},
   "source": [
    "## Aufgabe 3: Email \n",
    "\n",
    "- Schreibe eine Funktion, die aus einem Satz eine Emailadresse herausfiltert (falls vorhanden).\n",
    "\n",
    "**Beispiele:**\n",
    "\n",
    "\\begin{align}\n",
    "f(\\text{\"Meine Emailadresse lautet Max.Mustermann@gmail.com\"}) &\\Longrightarrow \\text{\"Max.Mustermann@gmail.com\"} \\\\\n",
    "f(\\text{\"Dieser Text hat keine Emailadresse.\"}) &\\Longrightarrow \\text{None}\n",
    "\\end{align}"
   ]
  },
  {
   "cell_type": "code",
   "execution_count": 37,
   "id": "78bddc9c",
   "metadata": {},
   "outputs": [
    {
     "data": {
      "text/plain": [
       "'Vollkoffer01@gmail.com'"
      ]
     },
     "execution_count": 37,
     "metadata": {},
     "output_type": "execute_result"
    }
   ],
   "source": [
    "\n",
    "def email_filter(string_e):\n",
    "    if \"@\" in string_e:\n",
    "        liste_email = string_e.split(\" \")\n",
    "        for i in range(len(liste_email)):\n",
    "            if \"@\" in liste_email[i]:\n",
    "                return liste_email[i]\n",
    "    print(None)\n",
    "\n",
    "email_filter(\"Meine Emailadresse lautet Vollkoffer01@gmail.com\")\n",
    "\n",
    "# Schreibe deinen Code hier"
   ]
  },
  {
   "cell_type": "code",
   "execution_count": 39,
   "id": "549faef3",
   "metadata": {},
   "outputs": [
    {
     "data": {
      "text/plain": [
       "'Vollkoffer01@gmail.com'"
      ]
     },
     "execution_count": 39,
     "metadata": {},
     "output_type": "execute_result"
    }
   ],
   "source": [
    "def email_filter(string_e):\n",
    "    liste_email = string_e.split(\" \")\n",
    "    if \"@\" in string_e:\n",
    "        result = [i for i in liste_email if \"@\" in i]\n",
    "        return result[0]\n",
    "    print(None)\n",
    "\n",
    "email_filter(\"Meine Emailadresse lautet Vollkoffer01@gmail.com\")"
   ]
  },
  {
   "cell_type": "markdown",
   "id": "fac13932",
   "metadata": {},
   "source": [
    "## Aufgabe 4: Element einfügen\n",
    "\n",
    "- Schreibe eine Funktion, die ein Element vor jedem Element in einer Liste einfügt.\n",
    "\n",
    "**Beispiele:**\n",
    "\n",
    "\\begin{align}\n",
    "f([1,2,3],0) &\\Longrightarrow [0,1,0,2,0,3] \\\\\n",
    "f([3,2,1],\\text{\"A\"}) &\\Longrightarrow [\\text{\"A\"},3,\\text{\"A\"},2,\\text{\"A\"},1] \\\\\n",
    "\\end{align}"
   ]
  },
  {
   "cell_type": "code",
   "execution_count": 43,
   "id": "350b2f09",
   "metadata": {},
   "outputs": [
    {
     "data": {
      "text/plain": [
       "['A', 3, 'A', 2, 'A', 1]"
      ]
     },
     "execution_count": 43,
     "metadata": {},
     "output_type": "execute_result"
    }
   ],
   "source": [
    "\n",
    "def ele_vor_ele(liste01,element):\n",
    "    \n",
    "    liste_neu = []\n",
    "    for e in liste01:\n",
    "        liste_neu.append(element)\n",
    "        liste_neu.append(e)\n",
    "    return liste_neu\n",
    "\n",
    "ele_vor_ele([3,2,1],\"A\")\n",
    "\n",
    "# Schreibe deinen Code hier"
   ]
  },
  {
   "cell_type": "markdown",
   "id": "6b2162c1",
   "metadata": {},
   "source": [
    "## Aufgabe 5: Nullen in Liste\n",
    "\n",
    "- Schreibe eine Funktion, die alle Nullen in einer Liste an das Ende der Liste verschiebt.\n",
    "\n",
    "**Beispiele:**\n",
    "\n",
    "\\begin{align}\n",
    "f([1,2,0,0,3]) &\\Longrightarrow [1,2,3,0,0] \\\\\n",
    "f([0,2,0,3,0,6] &\\Longrightarrow [2,3,6,0,0,0] \\\\\n",
    "\\end{align}"
   ]
  },
  {
   "cell_type": "code",
   "execution_count": 5,
   "id": "c0bf677c",
   "metadata": {},
   "outputs": [
    {
     "data": {
      "text/plain": [
       "[2, 3, 7, 9, 0, 0, 0, 0]"
      ]
     },
     "execution_count": 5,
     "metadata": {},
     "output_type": "execute_result"
    }
   ],
   "source": [
    "\n",
    "def nullen_am_ende(liste02):\n",
    "    \n",
    "    result = []\n",
    "    nullen = 0\n",
    "    for j in liste02:\n",
    "        if j != 0:\n",
    "            result.append(j)\n",
    "        else:\n",
    "            nullen += 1\n",
    "    for g in range(nullen):\n",
    "        result.append(0)\n",
    "    return result\n",
    "\n",
    "nullen_am_ende([0,2,0,0,3,7,0,9])\n",
    "\n",
    "# Schreibe deinen Code hier"
   ]
  },
  {
   "cell_type": "markdown",
   "id": "81a3abf6",
   "metadata": {},
   "source": [
    "## Aufgabe 6: String überprüfen \n",
    "\n",
    "- Schreibe eine Funktion, die einen String als Argument erwartet. Die Funktion soll `True` zurückliefern, wenn der String **nur** aus Ziffern ( $0-9$ ) besteht.\n",
    "\n",
    "**Beispiele:**\n",
    "\n",
    "\\begin{align}\n",
    "f(\\text{\"123513\"}) &\\Longrightarrow \\text{True} \\\\\n",
    "f(\\text{\"awd1234a\"}) &\\Longrightarrow \\text{False}\n",
    "\\end{align}"
   ]
  },
  {
   "cell_type": "code",
   "execution_count": 27,
   "id": "e9031294",
   "metadata": {},
   "outputs": [
    {
     "data": {
      "text/plain": [
       "False"
      ]
     },
     "execution_count": 27,
     "metadata": {},
     "output_type": "execute_result"
    }
   ],
   "source": [
    "\n",
    "def zahlen_im_string(string01):\n",
    "    \n",
    "    alphabet = list(map(chr, range(97, 123)))\n",
    "    for e in alphabet:\n",
    "        if not e in string01:\n",
    "            continue\n",
    "        else:\n",
    "            return False\n",
    "    return True\n",
    "\n",
    "zahlen_im_string(\"34351234\")\n",
    "\n",
    "# Schreibe deinen Code hier"
   ]
  },
  {
   "cell_type": "markdown",
   "id": "3bdef532",
   "metadata": {},
   "source": [
    "## Aufgabe 7: Wörterbuch eines Strings\n",
    "\n",
    "- Gegeben ist ein Paragraph `paragraph` aus dem Wikipedia Artikel zu Python. Erstelle ein Wörterbuch, das alle Wörter und ihre Anzahl abbildet. Hierbei soll der Schlüssel (`key`) das Wort selbst sein und der Wert (`value`) die Häufigkeit des Wortes im Text. \n",
    "- Achte dabei auf Klein- und Großschreibung!\n",
    "\n",
    "> <span style=\"color:blue\"> **_INFO:_** </span> Schaue dir nochmal im Kapitel zu Strings die Funktionen `split()` und `lower()` an.\n",
    "\n",
    "**Beispiel:**  \n",
    "\n",
    "Der String `\"Das ist das Beispiel.\"` soll das Wörterbuch \n",
    "    `{'das' : 2, 'ist' : 1, 'beispiel' : 1}` liefern.\n",
    "    "
   ]
  },
  {
   "cell_type": "code",
   "execution_count": 1,
   "id": "f6a9c0c8",
   "metadata": {},
   "outputs": [
    {
     "data": {
      "text/plain": [
       "{'python': 2,\n",
       " 'besitzt': 1,\n",
       " 'eine': 3,\n",
       " 'größere': 1,\n",
       " 'anzahl': 1,\n",
       " 'von': 2,\n",
       " 'grundlegenden': 1,\n",
       " 'datentypen': 1,\n",
       " 'neben': 1,\n",
       " 'der': 1,\n",
       " 'herkömmlichen': 1,\n",
       " 'arithmetik': 1,\n",
       " 'unterstützt': 2,\n",
       " 'es': 1,\n",
       " 'transparent': 1,\n",
       " 'auch': 2,\n",
       " 'beliebig': 1,\n",
       " 'große': 1,\n",
       " 'ganzzahlen': 1,\n",
       " 'und': 1,\n",
       " 'komplexe': 1,\n",
       " 'zahl': 1,\n",
       " 'die': 2,\n",
       " 'üblichen': 1,\n",
       " 'zeichenkettenoperationen': 1,\n",
       " 'werden': 1,\n",
       " 'zeichenketten': 1,\n",
       " 'sind': 1,\n",
       " 'in': 2,\n",
       " 'allerdings': 1,\n",
       " 'unveränderliche': 1,\n",
       " 'objekte': 1,\n",
       " 'wie': 2,\n",
       " 'java': 1,\n",
       " 'daher': 1,\n",
       " 'geben': 1,\n",
       " 'operationen': 1,\n",
       " 'zeichenkette': 2,\n",
       " 'verändern': 1,\n",
       " 'sollen': 1,\n",
       " '': 3,\n",
       " 'z': 1,\n",
       " 'b': 1,\n",
       " 'durch': 1,\n",
       " 'ersetzen': 1,\n",
       " 'zeichen': 1,\n",
       " 'immer': 1,\n",
       " 'neue': 1,\n",
       " 'zurück': 1}"
      ]
     },
     "execution_count": 1,
     "metadata": {},
     "output_type": "execute_result"
    }
   ],
   "source": [
    "paragraph = \"Python besitzt eine größere Anzahl von grundlegenden Datentypen. Neben der herkömmlichen Arithmetik unterstützt es transparent auch beliebig große Ganzzahlen und komplexe Zahl. Die üblichen Zeichenkettenoperationen werden unterstützt. Zeichenketten sind in Python allerdings unveränderliche Objekte (wie auch in Java). Daher geben Operationen, die eine Zeichenkette verändern sollen – wie z. B. durch Ersetzen von Zeichen – immer eine neue Zeichenkette zurück. \"\n",
    "\n",
    "def wörterbuch(paragraph):\n",
    "    \n",
    "    paragraph = paragraph.lower()\n",
    "    liste_gesplittet = paragraph.split(\" \")\n",
    "    \n",
    "    filter_liste = []\n",
    "    alphabet = list(map(chr, range(97, 123)))\n",
    "    alphabet.append(chr(223))\n",
    "    alphabet.append(chr(228))\n",
    "    alphabet.append(chr(246))\n",
    "    alphabet.append(chr(252))\n",
    "    \n",
    "    for z in liste_gesplittet:\n",
    "        wort = \"\"\n",
    "        for y in z:            \n",
    "            if not y in alphabet:\n",
    "                continue\n",
    "            wort += y\n",
    "        filter_liste.append(wort) \n",
    "    \n",
    "    dict_words = []\n",
    "    dict_count = []\n",
    "    word_dict = {}\n",
    "    summe = 0\n",
    "    \n",
    "    for e in range(len(filter_liste)):\n",
    "        summe = 0\n",
    "        for w in filter_liste:\n",
    "            if w == filter_liste[e]:\n",
    "                summe += 1\n",
    "                continue\n",
    "            \n",
    "        dict_words.append(filter_liste[e])\n",
    "        dict_count.append(summe)\n",
    "\n",
    "    word_dict = dict(zip(dict_words,dict_count))\n",
    "    \n",
    "    return word_dict\n",
    "    \n",
    "wörterbuch(paragraph)   \n",
    "# Schreibe deinen Code hier"
   ]
  },
  {
   "cell_type": "markdown",
   "id": "dfa8d1c6",
   "metadata": {},
   "source": [
    "## Aufgabe 8: Liste modifizieren\n",
    "\n",
    "- Schreibe eine Funktion, die eine Liste erwartet und jedes zweite Element auf 0 setzt.<br>\n",
    "\n",
    "**Beispiele:**\n",
    "\n",
    "\\begin{align}\n",
    "f([1,2,3,4,5]) &\\Longrightarrow [1,0,3,0,5] \\\\\n",
    "f([1,2]) &\\Longrightarrow [1,0] \n",
    "\\end{align}\n"
   ]
  },
  {
   "cell_type": "code",
   "execution_count": 7,
   "id": "adbbe0ae",
   "metadata": {},
   "outputs": [
    {
     "data": {
      "text/plain": [
       "[1, 0, 45, 0, 32432, 0, 36, 0, 67, 0, 25442]"
      ]
     },
     "execution_count": 7,
     "metadata": {},
     "output_type": "execute_result"
    }
   ],
   "source": [
    "\n",
    "def zweite_null(liste06):\n",
    "    for e in range(len(liste06) - 1):\n",
    "        if e % 2 == 0:\n",
    "            liste06[(e + 1)] = 0\n",
    "            \n",
    "    return liste06\n",
    "\n",
    "zweite_null([1,2,45,576,32432,465,36,456,67,47534,25442])\n",
    "    \n",
    "# Schreibe deinen Code hier"
   ]
  },
  {
   "cell_type": "code",
   "execution_count": null,
   "id": "508304ca",
   "metadata": {},
   "outputs": [],
   "source": []
  }
 ],
 "metadata": {
  "kernelspec": {
   "display_name": "Python 3 (ipykernel)",
   "language": "python",
   "name": "python3"
  },
  "language_info": {
   "codemirror_mode": {
    "name": "ipython",
    "version": 3
   },
   "file_extension": ".py",
   "mimetype": "text/x-python",
   "name": "python",
   "nbconvert_exporter": "python",
   "pygments_lexer": "ipython3",
   "version": "3.10.9"
  }
 },
 "nbformat": 4,
 "nbformat_minor": 5
}
