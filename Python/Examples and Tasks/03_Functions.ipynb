{
 "cells": [
  {
   "cell_type": "markdown",
   "id": "b8892a26",
   "metadata": {},
   "source": [
    "# Inhaltsverzeichnis \n",
    "\n",
    "- **Funktionen Aufgaben**\n",
    "    - **Aufgabe 1: Größere Zahl der Argumente**\n",
    "    - **Aufgabe 2: Größte Zahl der Liste**\n",
    "    - **Aufgabe 3: Beliebig viele Werte ausgeben**\n",
    "    - **Aufgabe 4: Summe aus (beliebigen) Zahlen**\n",
    "    - **Aufgabe 5: Default Werte**\n",
    "    - **Aufgabe 6: Gerade Zahlen**\n",
    "    - **Aufgabe 7: Euklidischer Abstand**\n",
    "    - **Aufgabe 8: Primzahl**\n",
    "    - **Aufgabe 9: Zahlen verdoppeln**\n",
    "    - **Aufgabe 10: Fakultät**\n",
    "    - **Aufgabe 11: Größter gemeinsamer Teiler**\n",
    "    - **Aufgabe 12: Gemeinsames Element zweier Listen**\n",
    "    - **Aufgabe 13: Element aus Liste entfernen**\n"
   ]
  },
  {
   "cell_type": "markdown",
   "id": "6f383dfd",
   "metadata": {},
   "source": [
    "#  Funktionen Aufgaben\n",
    "\n",
    "> <span style=\"color:red\"> **_WICHTIG:_** </span> In den folgenden Aufgaben wird die gesuchte Funktion in den Beispielen meist mit $f$ bezeichnet. Du kannst (und solltest!) dir dafür einen passenderen Namen (je nach Problem) aussuchen. Benennung von Variablen bzw. Funktionen ist ein wichtiger Teil bei der Programmierung! Der Name sollte aussagekräftig sein und beschreiben, *was* die Funktion macht.\n",
    "\n",
    "> <span style=\"color:red\"> **_WICHTIG:_** </span> Wenn in der Aufgabenstellung die Rede davon ist, dass die Funktion etwas *zurückgeben* soll, ist damit gemeint, dass man `return` in der Funktion verwenden soll.\n",
    "\n",
    "\n",
    "Schreibe eine Funktion, mit der du die Aufgabe lösen kannst. Teste deine Funktion mit unterschiedlichen Werte.  \n",
    "\n",
    "## Aufgabe 1: Größere Zahl der Argumente\n",
    "\n",
    "- Schreibe eine Funktion, welche zwei Zahlen übergeben bekommt. Die Funktion soll die größere der beiden Zahlen zurückgeben.\n",
    "- **Beispiele:**\n",
    "\\begin{align}\n",
    "f(2,4) &\\Longrightarrow 4 \\\\\n",
    "f(5,5) &\\Longrightarrow 5 \\\\\n",
    "f(10,-10) &\\Longrightarrow 10 \\\\\n",
    "\\end{align}"
   ]
  },
  {
   "cell_type": "code",
   "execution_count": 7,
   "id": "2f834712",
   "metadata": {},
   "outputs": [
    {
     "name": "stdout",
     "output_type": "stream",
     "text": [
      "-13  ist die größere Zahl!\n"
     ]
    }
   ],
   "source": [
    "\n",
    "def larger_number(x,y):\n",
    "    if x > y:\n",
    "        return x\n",
    "    else:\n",
    "        return y\n",
    "    \n",
    "print(larger_number(-13,-13), \" ist die größere Zahl!\")\n",
    "\n",
    "# Schreibe deinen Code hier\n",
    "\n",
    "# Schreibe deinen Code hier"
   ]
  },
  {
   "cell_type": "markdown",
   "id": "e1d71c77",
   "metadata": {},
   "source": [
    "## Aufgabe 2: Größte Zahl der Liste\n",
    "\n",
    "- Schreibe eine Funktion, die eine Liste von Zahlen übergeben bekommt. Die Funktion soll die größte Zahl in der Liste zurückgeben.\n",
    "- Die Pythonfunktionen `max`,`sort` und `sorted` dürfen für diese Aufgabe **nicht** verwendet werden!\n",
    "- **Beispiele:**\n",
    "\n",
    "\\begin{align}\n",
    "f([1,2,54,2,5]) &\\Longrightarrow 54 \\\\\n",
    "f([9,9,10,9,8]) &\\Longrightarrow 10 \\\\\n",
    "\\end{align}\n",
    "\n"
   ]
  },
  {
   "cell_type": "code",
   "execution_count": 82,
   "id": "24ca0ecb",
   "metadata": {},
   "outputs": [
    {
     "name": "stdout",
     "output_type": "stream",
     "text": [
      "875  ist die größte Zahl in der Liste.\n"
     ]
    }
   ],
   "source": [
    "liste01 = [1,2,54,2,5]\n",
    "liste02 = [1,2,54,2,875,5,78,45,264,534,34,4]\n",
    "\n",
    "def largest_number(list):\n",
    "    \n",
    "    larger = list[0]\n",
    "    \n",
    "    for e in list:        \n",
    "        if e < larger:\n",
    "            continue\n",
    "        else:\n",
    "            larger = e\n",
    "            \n",
    "    return larger\n",
    "\n",
    "print(largest_number(liste02), \" ist die größte Zahl in der Liste.\")\n",
    "\n",
    "# Schreibe deinen Code hier\n",
    "\n",
    "# Schreibe deinen Code hier"
   ]
  },
  {
   "cell_type": "markdown",
   "id": "0a9ed4db",
   "metadata": {},
   "source": [
    "## Aufgabe 3: Beliebig viele Werte ausgeben\n",
    "\n",
    "- Schreibe eine Funktion, die ein beliebige Anzahl von Argumenten annimmt und dann einzeln auf der Konsole ausgibt.\n",
    "\n",
    "> <span style=\"color:blue\"> **_INFO:_** </span> Mit welchem Symbol kann man in Python beliebig viele Argumente deklarieren?\n",
    "\n",
    "- **Beispiele:**\n",
    "\n",
    "\\begin{align}\n",
    "f(1) &\\Longrightarrow 1 \\\\\n",
    "f(1, 2) &\\Longrightarrow 1\\ 2 \\\\\n",
    "f(1, 2, 3) &\\Longrightarrow 1\\ 2\\ 3 \\\\\n",
    "\\end{align}\n",
    "\n"
   ]
  },
  {
   "cell_type": "code",
   "execution_count": 10,
   "id": "a489d79b",
   "metadata": {},
   "outputs": [
    {
     "name": "stdout",
     "output_type": "stream",
     "text": [
      "(45, 'Was?', 450, 350, 'Blödbommel!')\n"
     ]
    }
   ],
   "source": [
    "\n",
    "def viele_werte(*args):\n",
    "    \n",
    "    return args\n",
    "\n",
    "print(viele_werte(45,\"Was?\",450, 350,\"Blödbommel!\"))\n",
    "\n",
    "# Schreibe deinen Code hier\n",
    "\n",
    "# Schreibe deinen Code hier"
   ]
  },
  {
   "cell_type": "code",
   "execution_count": 11,
   "id": "edd5e66d",
   "metadata": {},
   "outputs": [
    {
     "name": "stdout",
     "output_type": "stream",
     "text": [
      "Das ist eine Zahl:  1\n",
      "Das ist eine Zahl:  5\n",
      "Das ist eine Zahl:  56\n",
      "Das ist eine Zahl:  78\n",
      "Das ist eine Zahl:  364\n",
      "Das ist eine Zahl:  7\n",
      "Das ist eine Zahl:  8\n"
     ]
    }
   ],
   "source": [
    "\n",
    "def mehrere_werte(*zahlen):\n",
    "    \n",
    "    for n in zahlen:\n",
    "        print(\"Das ist eine Zahl: \", n)\n",
    "    \n",
    "mehrere_werte(1,5,56,78,364,7,8)"
   ]
  },
  {
   "cell_type": "markdown",
   "id": "57100d17",
   "metadata": {},
   "source": [
    "## Aufgabe 4: Summe aus (beliebigen) Zahlen\n",
    "\n",
    "- Schreibe eine Funktion, die eine beliebige Anzahl an Zahlen erwartet. Die Funktion soll die Summe aller Zahlen zurückgeben.\n",
    "- Die Pythonfunktion `sum` soll für diese Aufgabe **nicht** verwendet werden!\n",
    "- **Beispiele:**\n",
    "\n",
    "\\begin{align}\n",
    "f(2) &\\Longrightarrow 2 \\\\\n",
    "f(3,2) &\\Longrightarrow 5 \\\\ \n",
    "f(4,5,6) &\\Longrightarrow 15\n",
    "\\end{align}"
   ]
  },
  {
   "cell_type": "code",
   "execution_count": 43,
   "id": "bd09784d",
   "metadata": {},
   "outputs": [
    {
     "data": {
      "text/plain": [
       "39"
      ]
     },
     "execution_count": 43,
     "metadata": {},
     "output_type": "execute_result"
    }
   ],
   "source": [
    "\n",
    "def sum_zahlen(*number):\n",
    "    \n",
    "    total = 0\n",
    "    \n",
    "    for i in number:\n",
    "        total += i\n",
    "    return total\n",
    "\n",
    "sum_zahlen(4,5,6,7,8,9)\n",
    "\n",
    "# Schreibe deinen Code hier\n",
    "\n",
    "# Schreibe deinen Code hier"
   ]
  },
  {
   "cell_type": "markdown",
   "id": "61ca6f65",
   "metadata": {},
   "source": [
    "## Aufgabe 5: Default Werte\n",
    "\n",
    "- Schreibe eine Funktion, die *Name, Alter* und *Wohnland* einer Person erwartet und gebe die Angaben in einem String aus. Sollte kein Land übergeben werden, setze den Standard-Wert auf \"Deutschland\". Beachte dabei auch die Reihenfolge der Argumente.\n",
    "- Wenn du magst, kannst du eine schöner Ausgabe als die unten Angegebene schreiben.\n",
    "\n",
    "- **Beispiele:**\n",
    "\n",
    "\\begin{align}\n",
    "f(\\text{\"Tom\"}, 32,\\text{\"Deutschland\"}) &\\Longrightarrow \\text{\"Tom\"}\\ 32\\ \\text{\"Deutschland\"} \\\\\n",
    "f(\\text{\"Paul\"}, 21, \\text{\"Frankreich\"} ) &\\Longrightarrow \\text{\"Paul\"}\\ 21\\ \\text{\"Frankreich\"}  \\\\\n",
    "f(\\text{\"Daniela\"},  29) &\\Longrightarrow \\text{\"Daniela\"}\\ 29\\ \\text{\"Deutschland\"} \\\\\n",
    "\\end{align}"
   ]
  },
  {
   "cell_type": "code",
   "execution_count": 49,
   "id": "facc9087",
   "metadata": {},
   "outputs": [
    {
     "name": "stdout",
     "output_type": "stream",
     "text": [
      "Tom 32 Deutschland\n",
      "Paul 21 Frankreich\n",
      "Daniela 29 Deutschland\n"
     ]
    }
   ],
   "source": [
    "\n",
    "def string_person(name,age,country = \"Deutschland\"):\n",
    "    \n",
    "    print(name,age,country)\n",
    "    \n",
    "string_person(\"Tom\", \"32\", \"Deutschland\")\n",
    "string_person(\"Paul\", \"21\", \"Frankreich\")\n",
    "string_person(\"Daniela\", \"29\")\n",
    "\n",
    "# Schreibe deinen Code hier\n",
    "\n",
    "# Schreibe deinen Code hier"
   ]
  },
  {
   "cell_type": "markdown",
   "id": "d675d6f2",
   "metadata": {},
   "source": [
    "## Aufgabe 6: Gerade Zahlen\n",
    "\n",
    "- Schreibe eine Funktion, die eine Liste von Zahlen übergeben bekommt. Daraus soll eine neue Liste zurückgegeben werden, die alle gerade Zahlen in aufsteigender Reihenfolge darstellt.\n",
    "\n",
    "- **Beispiele:**\n",
    "\n",
    "\\begin{align}\n",
    "f([1,2,8,4,5]) &\\Longrightarrow [2,4,8] \\\\\n",
    "f([5,18,3,2,10]) &\\Longrightarrow [2,10,18] \\\\\n",
    "\\end{align}"
   ]
  },
  {
   "cell_type": "code",
   "execution_count": 9,
   "id": "021ce1fb",
   "metadata": {},
   "outputs": [
    {
     "data": {
      "text/plain": [
       "[2, 10, 18]"
      ]
     },
     "execution_count": 9,
     "metadata": {},
     "output_type": "execute_result"
    }
   ],
   "source": [
    "\n",
    "f = [5,18,3,2,10]\n",
    "\n",
    "def sortiert_liste(liste):\n",
    "    \n",
    "    list_sorted = []\n",
    "    \n",
    "    for z in liste:\n",
    "        \n",
    "        if z % 2 != 0:\n",
    "            continue\n",
    "        else:\n",
    "            list_sorted.append(z)\n",
    "            list_sorted.sort()\n",
    "            \n",
    "    return list_sorted\n",
    "\n",
    "sortiert_liste(f)\n",
    "\n",
    "# Schreibe deinen Code hier\n",
    "\n",
    "# Schreibe deinen Code hier"
   ]
  },
  {
   "cell_type": "markdown",
   "id": "b4b2e2e6",
   "metadata": {},
   "source": [
    "## Aufgabe 7: Euklidischer Abstand \n",
    "\n",
    "- Der Abstand zweier Punkte \n",
    "$p_1=\n",
    "\\begin{pmatrix}\n",
    "x_1 \\\\ y_1\n",
    "\\end{pmatrix}\n",
    ", \\\n",
    "p_2=\n",
    "\\begin{pmatrix}\n",
    "x_2 \\\\ y_2\n",
    "\\end{pmatrix}\n",
    "$\n",
    "in der Ebene ist definiert durch\n",
    "\n",
    "\\begin{align}\n",
    "        d = \\sqrt{(x_1-x_2)^2 + (y_1-y_2)^2} .\n",
    "\\end{align}\n",
    "\n",
    "- Schreibe eine Funktion, die zwei Listen übergeben bekommt. Der Inhalt der ersten Liste sind die Koordinaten von $p_1$, der Inhalt der zweiten Listen sind die Koordinaten von $p_2$. Die Funktion soll den Abstand der zwei Punkte zurückgeben.\n",
    "\n",
    "- **Beispiele:**\n",
    "\n",
    "\\begin{align}\n",
    "f([0,0],[1,0]) &\\Longrightarrow 1.0 \\\\\n",
    "f([1,0],[4,4]) &\\Longrightarrow 5.0 \\\\\n",
    "f([1,1],[1,1]) &\\Longrightarrow 0.0 \\\\\n",
    "\\end{align}\n",
    "   "
   ]
  },
  {
   "cell_type": "code",
   "execution_count": 1,
   "id": "26064776",
   "metadata": {},
   "outputs": [
    {
     "data": {
      "text/plain": [
       "5.0"
      ]
     },
     "execution_count": 1,
     "metadata": {},
     "output_type": "execute_result"
    }
   ],
   "source": [
    "l01 = [1,0]\n",
    "l02 = [4,4]\n",
    "\n",
    "def abstand_2punkte(list01,list02):\n",
    "    \n",
    "    d = ((list01[0] - list02[0])**2 + (list01[1] - list02[1])**2)**0.5\n",
    "    \n",
    "    return d\n",
    "\n",
    "abstand_2punkte(l01,l02)\n",
    "\n",
    "# Schreibe deinen Code hier\n",
    "\n",
    "# Schreibe deinen Code hier"
   ]
  },
  {
   "cell_type": "markdown",
   "id": "4d74284e",
   "metadata": {},
   "source": [
    "\n",
    "## Aufgabe 8: Primzahl\n",
    "\n",
    "- Schreibe eine Funktion die eine Zahl als Argument bekommt und `True` zurück gibt, wenn die Zahl eine Primzahl ist. Ansonsten `False`. Eine Primzahl ist eine Zahl, die nur durch 1 und sich selber ohne Rest teilbar ist.\n",
    "\n",
    "> <span style=\"color:green\"> **_ERINNERUNG:_** </span> Den Rest bei einer Division von a und b erhält man durch den %-Operator, d.h. `a % b`\n",
    "\n",
    "- **Beispiele:** \n",
    "\n",
    "\\begin{align}\n",
    "f(17) &\\Longrightarrow \\text{True} \\\\\n",
    "f(15) &\\Longrightarrow \\text{False} \\\\\n",
    "f(7)  &\\Longrightarrow \\text{True} \\\\\n",
    "\\end{align}\n",
    "\n"
   ]
  },
  {
   "cell_type": "code",
   "execution_count": 11,
   "id": "08622f10",
   "metadata": {},
   "outputs": [
    {
     "data": {
      "text/plain": [
       "False"
      ]
     },
     "execution_count": 11,
     "metadata": {},
     "output_type": "execute_result"
    }
   ],
   "source": [
    "\n",
    "def prim_zahl(zahl):\n",
    "    \n",
    "    for i in range(2,zahl):\n",
    "        if zahl % i == 0:\n",
    "            return False\n",
    "\n",
    "    return True\n",
    "        \n",
    "prim_zahl(9)\n",
    "\n",
    "# Schreibe deinen Code hier\n",
    "\n",
    "# Schreibe deinen Code hier"
   ]
  },
  {
   "cell_type": "markdown",
   "id": "a502d139",
   "metadata": {},
   "source": [
    "## Aufgabe 9: Zahlen verdoppeln\n",
    "\n",
    "- Schreibe eine Funktion die eine Liste mit Zahlen übergeben bekommt. Die Funktion soll eine Liste zurückgeben, mit den Zahlen verdoppelt.\n",
    "\n",
    "- **Beispiele:**\n",
    "\n",
    "\\begin{align}\n",
    "f([1,2,3,4]) &\\Longrightarrow [2,4,6,8] \\\\\n",
    "f([0,10,100]) &\\Longrightarrow [0,20,200]\n",
    "\\end{align}\n"
   ]
  },
  {
   "cell_type": "code",
   "execution_count": 13,
   "id": "59870614",
   "metadata": {},
   "outputs": [
    {
     "data": {
      "text/plain": [
       "[6, 4, 14, 22]"
      ]
     },
     "execution_count": 13,
     "metadata": {},
     "output_type": "execute_result"
    }
   ],
   "source": [
    "list_verdoppelt = []\n",
    "\n",
    "def zahlen_verdoppelt(list):\n",
    "    \n",
    "    for a in list:\n",
    "        list_verdoppelt.append(a * 2)\n",
    "        \n",
    "    return list_verdoppelt\n",
    "\n",
    "f_list = [3,2,7,11]\n",
    "\n",
    "zahlen_verdoppelt(f_list)\n",
    "\n",
    "# Schreibe deinen Code hier\n",
    "\n",
    "# Schreibe deinen Code hier"
   ]
  },
  {
   "cell_type": "markdown",
   "id": "3006d583",
   "metadata": {},
   "source": [
    "## Aufgabe 10: Fakultät\n",
    "\n",
    "- Schreibe eine Funktion, welche die Fakultät einer übergebenen Zahl berechnet. Die Fakultät einer Zahl $n$ ist definiert als\n",
    "\n",
    "\\begin{align}\n",
    "\\prod_{i=1}^n i= 1 \\cdot 2\\cdot ... \\cdot i\n",
    "\\end{align}\n",
    "\n",
    "- **Beispiele:**\n",
    "\n",
    "\\begin{align}\n",
    "f(2) &\\Longrightarrow 2 \\\\\n",
    "f(3) &\\Longrightarrow 6 \\\\ \n",
    "f(4) &\\Longrightarrow 24\n",
    "\\end{align}"
   ]
  },
  {
   "cell_type": "code",
   "execution_count": 24,
   "id": "6d32a691",
   "metadata": {},
   "outputs": [
    {
     "data": {
      "text/plain": [
       "120"
      ]
     },
     "execution_count": 24,
     "metadata": {},
     "output_type": "execute_result"
    }
   ],
   "source": [
    "\n",
    "def zahl_fakultät(c):\n",
    "    \n",
    "    if c == 0:\n",
    "        return 1\n",
    "    else:\n",
    "        return c * zahl_fakultät(c - 1)\n",
    "\n",
    "zahl_fakultät(5)\n",
    "\n",
    "# Schreibe deinen Code hier\n",
    "\n",
    "# Schreibe deinen Code hier"
   ]
  },
  {
   "cell_type": "markdown",
   "id": "0639092b",
   "metadata": {},
   "source": [
    "## Aufgabe 11: Größter gemeinsamer Teiler\n",
    "\n",
    "- Die folgende rekursive Funktion findet den größten gemeinsamen Teiler (*ggT*) zweier Zahlen $x$ und $y$. \n",
    "\n",
    "\\begin{align}\n",
    "ggT(x,y)=\n",
    "\\begin{cases}\n",
    "x & \\text{ falls } y=0 \\\\\n",
    "\\text{ggT(y, x%y)} & \\text{ falls } y>0\n",
    "\\end{cases}\n",
    "\\end{align}\n",
    "\n",
    "- $x \\% y$ bezeichnet dabei - wie wir es aus Python kennen - den Rest bei einer Division von x durch y. (*Modulooperator*)\n",
    "\n",
    "- Implementiere die obige Funktion `ggT` in Python. Überprüfe die Funktionalität mit selbst gewählten Zahlen.\n",
    "- **Beispiele:**\n",
    "\n",
    "\\begin{align}\n",
    "ggT(12,12) &\\Longrightarrow 12 \\\\\n",
    "ggT(36,18) &\\Longrightarrow 18 \\\\\n",
    "ggT(17,13) &\\Longrightarrow 1\n",
    "\\end{align}"
   ]
  },
  {
   "cell_type": "code",
   "execution_count": 41,
   "id": "ea797957",
   "metadata": {},
   "outputs": [
    {
     "data": {
      "text/plain": [
       "5"
      ]
     },
     "execution_count": 41,
     "metadata": {},
     "output_type": "execute_result"
    }
   ],
   "source": [
    "\n",
    "def ggT(x,y):\n",
    "    \n",
    "    if y == 0:\n",
    "        return x\n",
    "    elif x == 0:\n",
    "        return y\n",
    "    elif x % y == 0 and x > y:\n",
    "        return y\n",
    "    elif y % x == 0 and x < y:\n",
    "        return x\n",
    "    else:\n",
    "        return 1\n",
    "    \n",
    "ggT(5,15)\n",
    "\n",
    "# Schreibe deinen Code hier\n",
    "\n",
    "# Schreibe deinen Code hier"
   ]
  },
  {
   "cell_type": "markdown",
   "id": "39b0c4b9",
   "metadata": {},
   "source": [
    "## Aufgabe 12: Gemeinsames Element zweier Listen\n",
    "\n",
    "- Schreibe eine Funktion die zwei Listen als Argumente erwartet und `True` zurückgibt, wenn die Listen ein (oder mehrere) gemeinsame Elemente enthält.\n",
    "\n",
    "**Beispiele:** \n",
    "\n",
    "\\begin{align}\n",
    "f([1,2,3],[1,5,6]) &\\Longrightarrow \\text{True} \\\\\n",
    "f([1,2,3],[4,5,6]) &\\Longrightarrow \\text{False} \\\\\n",
    "f([9],[8,7]) &\\Longrightarrow \\text{False} \\\\\n",
    "\\end{align}"
   ]
  },
  {
   "cell_type": "code",
   "execution_count": 59,
   "id": "42649dee",
   "metadata": {},
   "outputs": [
    {
     "data": {
      "text/plain": [
       "False"
      ]
     },
     "execution_count": 59,
     "metadata": {},
     "output_type": "execute_result"
    }
   ],
   "source": [
    "#list01 = []\n",
    "#list02 = []\n",
    "\n",
    "def gemeinsames_element(list01,list02):\n",
    "    \n",
    "    for d in list01:\n",
    "        for e in list02:\n",
    "            if d == e:\n",
    "                return True\n",
    "            else:\n",
    "                continue\n",
    "    return False\n",
    "\n",
    "f1 = [1,2,3,4,5]\n",
    "f2 = [1,5,6]\n",
    "f3 = [6,7,8]\n",
    "f4 = [9]\n",
    "f5 = [8,7]\n",
    "\n",
    "gemeinsames_element(f4,f5)\n",
    "# Schreibe deinen Code hier\n",
    "\n",
    "# Schreibe deinen Code hier"
   ]
  },
  {
   "cell_type": "markdown",
   "id": "4db41628",
   "metadata": {},
   "source": [
    "## Aufgabe 13: Element aus Liste entfernen\n",
    "\n",
    "- Schreibe eine Funktion die zwei Argument erwartet. Eine Liste und eine Zahl $i$. Die Funktion soll die Liste zurückgeben, ohne das Element an Index $i$. Wenn der Index außerhalb der Liste liegt, soll die gesamte Liste zurückgegeben werden.\n",
    "\n",
    "**Beispiele:**\n",
    "\n",
    "\\begin{align}\n",
    "f([0,1,2],0) &\\Longrightarrow [1,2] \\\\\n",
    "f([\\text{\"A\",\"B\",\"C\"}],2) &\\Longrightarrow [\\text{\"A\",\"B\"}] \\\\\n",
    "f([0,1,2,3,4],10) &\\Longrightarrow [0,1,2,3,4] \\\\\n",
    "\\end{align}"
   ]
  },
  {
   "cell_type": "code",
   "execution_count": 49,
   "id": "efd79903",
   "metadata": {},
   "outputs": [
    {
     "data": {
      "text/plain": [
       "[0, 1, 2, 4]"
      ]
     },
     "execution_count": 49,
     "metadata": {},
     "output_type": "execute_result"
    }
   ],
   "source": [
    "\n",
    "def liste_ohne_index(liste,ind):\n",
    "    \n",
    "    for i in liste:\n",
    "        \n",
    "        if ind > liste.index(liste[-1]):\n",
    "            return liste\n",
    "        \n",
    "    liste.pop(ind)\n",
    "\n",
    "    return liste\n",
    "        \n",
    "f01 = [\"A\",\"B\",\"C\"]\n",
    "f02 = [0,1,2,3,4]\n",
    "f03 = [0,1,2]\n",
    "        \n",
    "liste_ohne_index(f02,3)\n",
    "\n",
    "   "
   ]
  },
  {
   "cell_type": "code",
   "execution_count": null,
   "id": "7e791c9a",
   "metadata": {},
   "outputs": [],
   "source": []
  },
  {
   "cell_type": "code",
   "execution_count": null,
   "id": "3b0399e8",
   "metadata": {},
   "outputs": [],
   "source": []
  },
  {
   "cell_type": "code",
   "execution_count": null,
   "id": "69e874b7",
   "metadata": {},
   "outputs": [],
   "source": []
  },
  {
   "cell_type": "code",
   "execution_count": null,
   "id": "fdeb6d10",
   "metadata": {},
   "outputs": [],
   "source": []
  },
  {
   "cell_type": "code",
   "execution_count": null,
   "id": "35250250",
   "metadata": {},
   "outputs": [],
   "source": []
  },
  {
   "cell_type": "code",
   "execution_count": null,
   "id": "f0919656",
   "metadata": {},
   "outputs": [],
   "source": []
  }
 ],
 "metadata": {
  "kernelspec": {
   "display_name": "Python 3 (ipykernel)",
   "language": "python",
   "name": "python3"
  },
  "language_info": {
   "codemirror_mode": {
    "name": "ipython",
    "version": 3
   },
   "file_extension": ".py",
   "mimetype": "text/x-python",
   "name": "python",
   "nbconvert_exporter": "python",
   "pygments_lexer": "ipython3",
   "version": "3.10.9"
  }
 },
 "nbformat": 4,
 "nbformat_minor": 5
}
