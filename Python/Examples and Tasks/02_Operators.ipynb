{
 "cells": [
  {
   "cell_type": "markdown",
   "id": "154d3540",
   "metadata": {},
   "source": [
    "# Inhaltsverzeichnis \n",
    "\n",
    "- **Operatoren Aufgaben**\n",
    "    - **Aufgabe 1 - Vergleichsoperatoren**\n",
    "    - **Aufgabe 2 - Logische Operatoren**\n",
    "    - **Aufgabe 3 - Identitätsoperator**\n",
    "    - **Aufgabe 4 - Mitgliedschaftsoperator**\n",
    "    - **Aufgabe 5 - Operatoren in Verbindung mit anderen Datentypen**\n",
    "    - **Aufgabe 6 - `or`**\n",
    "    - **Aufgabe 7 - `and`**\n",
    "    - **Aufgabe 8 - `not`**\n"
   ]
  },
  {
   "cell_type": "markdown",
   "id": "f11f13f0",
   "metadata": {},
   "source": [
    "# Operatoren Aufgaben\n",
    "\n",
    "## Aufgabe 1 - Vergleichsoperatoren\n",
    "\n",
    "Bevor du die folgenden Zellen ausführst, überlege dir was das Ergebnis der jeweiligen Ausgabe ist:"
   ]
  },
  {
   "cell_type": "code",
   "execution_count": null,
   "id": "ccf38e3a",
   "metadata": {},
   "outputs": [],
   "source": [
    "print(False == False)\n",
    "print(3 == 5)\n",
    "print(3 != 5)\n",
    "print(3 == 7 % 4)"
   ]
  },
  {
   "cell_type": "code",
   "execution_count": null,
   "id": "25f0f4fa",
   "metadata": {},
   "outputs": [],
   "source": [
    "print(True == 1)\n",
    "print(True == 3)"
   ]
  },
  {
   "cell_type": "code",
   "execution_count": null,
   "id": "69049dd9",
   "metadata": {},
   "outputs": [],
   "source": [
    "print(True + True)\n",
    "print(True + (False / True) )"
   ]
  },
  {
   "cell_type": "code",
   "execution_count": null,
   "id": "0516a492",
   "metadata": {},
   "outputs": [],
   "source": [
    "print((3 > 5) or True)\n",
    "print((5 >= 5) and False)"
   ]
  },
  {
   "cell_type": "code",
   "execution_count": null,
   "id": "e14d490a",
   "metadata": {},
   "outputs": [],
   "source": [
    "print(\"sentence\" != \"Sentence\")\n",
    "print(\"Apple\" <= \"banana\")\n",
    "print(\"This\" > \"That\")"
   ]
  },
  {
   "cell_type": "markdown",
   "id": "0d2ddf72",
   "metadata": {},
   "source": [
    "## Aufgabe 2 - Logische Operatoren\n",
    "\n",
    "Was ist der Wert von `x` in den folgenden Zellen? Überlege dir die Antwort, **bevor** du die Zelle ausführst. Hattest du recht?"
   ]
  },
  {
   "cell_type": "code",
   "execution_count": null,
   "id": "2d2c0b77",
   "metadata": {},
   "outputs": [],
   "source": [
    "x = 21 % 7 == 0\n",
    "print(x)"
   ]
  },
  {
   "cell_type": "code",
   "execution_count": null,
   "id": "d1ce5ff8",
   "metadata": {},
   "outputs": [],
   "source": [
    "x = not (5 > 1 or 2 > 3)\n",
    "print(x)"
   ]
  },
  {
   "cell_type": "code",
   "execution_count": null,
   "id": "cb6e9128",
   "metadata": {},
   "outputs": [],
   "source": [
    "x = not (5 > 1 and 2 > 3)\n",
    "print(x)"
   ]
  },
  {
   "cell_type": "code",
   "execution_count": null,
   "id": "694290af",
   "metadata": {},
   "outputs": [],
   "source": [
    "f = False\n",
    "x = not 8 < 5 and not f\n",
    "print(x)"
   ]
  },
  {
   "cell_type": "markdown",
   "id": "592305d0",
   "metadata": {},
   "source": [
    "## Aufgabe 3 - Identitätsoperator\n",
    "\n",
    "Zeigen die Objekte `dict_1` und `dict_2` im folgenden auf die selbe Stelle im Speicher?\n",
    "Was passiert wenn man den Wert des Schlüssel `\"key_A\"` in `dict_1` ändert? Wie sieht `dict_2` danach aus?"
   ]
  },
  {
   "cell_type": "code",
   "execution_count": null,
   "id": "07722bca",
   "metadata": {},
   "outputs": [],
   "source": [
    "dict_1 = {\"key_A\" : 1}\n",
    "dict_2 = dict_1"
   ]
  },
  {
   "cell_type": "markdown",
   "id": "59127de3",
   "metadata": {},
   "source": [
    "## Aufgabe 4 - Mitgliedschaftsoperator\n",
    "\n",
    "Überprüfe mittels dem `in` Operator ob das Element `2` in der Liste `my_list` ist. Überprüfe dann, ob die Liste `['A', 'B']` in der Liste `my_list` ist."
   ]
  },
  {
   "cell_type": "code",
   "execution_count": null,
   "id": "c1902d8a",
   "metadata": {},
   "outputs": [],
   "source": [
    "my_list = [1, 2, ['A', 'B']]"
   ]
  },
  {
   "cell_type": "markdown",
   "id": "5ee01ee6",
   "metadata": {},
   "source": [
    "## Aufgabe 5 - Operatoren in Verbindung mit anderen Datentypen\n",
    "\n",
    "Was ist die Ausgabe der folgenden Zellen? Was bedeutet das?"
   ]
  },
  {
   "cell_type": "code",
   "execution_count": null,
   "id": "240d4661",
   "metadata": {},
   "outputs": [],
   "source": [
    "print(\"Hallo\".upper() == \"HALLO\")"
   ]
  },
  {
   "cell_type": "code",
   "execution_count": null,
   "id": "e07f090c",
   "metadata": {},
   "outputs": [],
   "source": [
    "my_list = [1, 2, 3]\n",
    "my_list.append(4)\n",
    "\n",
    "print(my_list == [1, 2, 3, 4])\n",
    "print(id(my_list) == id([1, 2, 3, 4]))"
   ]
  },
  {
   "cell_type": "markdown",
   "id": "7598eaa8",
   "metadata": {},
   "source": [
    "## Aufgabe 6 - `or`\n",
    "\n",
    "Erstelle einen `True` boolischen Ausdruck, der aus 3 mit **`or`** verknüpften Ausdrücke besteht. Der erste soll Nummern und der zweite soll Strings vergleichen, während der dritte den boolischen Wert einer Nummer enthalten soll. "
   ]
  },
  {
   "cell_type": "code",
   "execution_count": null,
   "id": "66da7eb0",
   "metadata": {},
   "outputs": [],
   "source": [
    "# Schreibe dein Code hier\n",
    "\n",
    "# Schreibe dein Code hier"
   ]
  },
  {
   "cell_type": "markdown",
   "id": "f88cd941",
   "metadata": {},
   "source": [
    "## Aufgabe 7 - `and`\n",
    "\n",
    "Erstelle einen `True` boolischen Ausdruck, der aus 3 mit **`and`** verknüpften Ausdrücke besteht. Der erste soll Nummern und der zweite soll Strings vergleichen, während der dritte eine Zahl in ein Boolean umwandelt. "
   ]
  },
  {
   "cell_type": "code",
   "execution_count": null,
   "id": "4ba87e59",
   "metadata": {},
   "outputs": [],
   "source": [
    "# Schreibe dein Code hier\n",
    "\n",
    "# Schreibe dein Code hier"
   ]
  },
  {
   "cell_type": "markdown",
   "id": "9bb6801b",
   "metadata": {},
   "source": [
    "## Aufgabe 8 - `not`\n",
    "\n",
    "Erstelle einen `True` boolischen Ausdruck, der aus 3 mit `and` verknüpften **`not`** Ausdrücke besteht. Der erste soll Nummern und der zweite soll Strings vergleichen, während der dritte eine Zahl in ein Boolean umwandelt. "
   ]
  },
  {
   "cell_type": "code",
   "execution_count": null,
   "id": "1242152d",
   "metadata": {},
   "outputs": [],
   "source": [
    "# Schreibe dein Code hier\n",
    "\n",
    "# Schreibe dein Code hier"
   ]
  }
 ],
 "metadata": {
  "kernelspec": {
   "display_name": "Python 3 (ipykernel)",
   "language": "python",
   "name": "python3"
  },
  "language_info": {
   "codemirror_mode": {
    "name": "ipython",
    "version": 3
   },
   "file_extension": ".py",
   "mimetype": "text/x-python",
   "name": "python",
   "nbconvert_exporter": "python",
   "pygments_lexer": "ipython3",
   "version": "3.10.9"
  }
 },
 "nbformat": 4,
 "nbformat_minor": 5
}
