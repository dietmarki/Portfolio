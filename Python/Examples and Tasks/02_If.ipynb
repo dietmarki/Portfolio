{
 "cells": [
  {
   "cell_type": "markdown",
   "id": "7e7fccd0",
   "metadata": {},
   "source": [
    "# Inhaltsverzeichnis \n",
    "\n",
    "- **`If` Aufgaben**\n",
    "    - **Aufgabe 1: Größere Zahl**\n",
    "    - **Aufgabe 2: Stringoperation I**\n",
    "    - **Aufgabe 3: Stringoperation II**\n",
    "    - **Aufgabe 4: Stringoperation III**\n",
    "    - **Aufgabe 5: Gerade Zahl**\n",
    "    - **Aufgabe 6: Palindrom**\n",
    "    - **Aufgabe 7: Summe einer Liste**\n"
   ]
  },
  {
   "cell_type": "markdown",
   "id": "9b8c9e34",
   "metadata": {},
   "source": [
    "# `If` Aufgaben\n",
    "\n",
    "## Aufgabe 1: Größere Zahl\n",
    "\n",
    "- So wie die Zelle unten steht, lassen sich zwei Zahlen eingeben. Finde heraus, welches die größere Zahl ist und gib sie mittels `print()` aus."
   ]
  },
  {
   "cell_type": "code",
   "execution_count": 3,
   "id": "2b41f80e",
   "metadata": {},
   "outputs": [
    {
     "name": "stdout",
     "output_type": "stream",
     "text": [
      "Number 1: 4\n",
      "Number 2: 2\n",
      "Number 1 ist größer als Number 2\n"
     ]
    }
   ],
   "source": [
    "zahl_1 = int(input(\"Number 1: \"))\n",
    "zahl_2 = int(input(\"Number 2: \"))\n",
    "\n",
    "if zahl_1 > zahl_2:\n",
    "    print(\"Number 1 ist größer als Number 2\")\n",
    "else:\n",
    "    print(\"Number 1 ist kleinergleich Number 2\")\n",
    "\n",
    "# Schreibe deinen Code hier\n",
    "\n",
    "# Schreibe deinen Code hier"
   ]
  },
  {
   "cell_type": "markdown",
   "id": "f8260357",
   "metadata": {},
   "source": [
    "## Aufgabe 2: Stringoperation I\n",
    "\n",
    "- Lasse über `input` einen Namen eingeben. Teile mit, ob dieser Name ein \"A\" _oder_ \"a\" enthält. Du kannst dafür den Operator `in` verwenden."
   ]
  },
  {
   "cell_type": "code",
   "execution_count": 6,
   "id": "22bfa2f2",
   "metadata": {},
   "outputs": [
    {
     "name": "stdout",
     "output_type": "stream",
     "text": [
      "Gib einen Namen ein: robert\n",
      "Der Name enthält weder ein 'A' noch ein 'a'.\n"
     ]
    }
   ],
   "source": [
    "name = input(\"Gib einen Namen ein: \")\n",
    "\n",
    "if \"A\" in name:\n",
    "    print(\"Der Name enthält ein 'A'.\")\n",
    "elif \"a\" in name:\n",
    "    print(\"Der Name enthält ein 'a'.\")\n",
    "else:\n",
    "    print(\"Der Name enthält weder ein 'A' noch ein 'a'.\")\n",
    "\n",
    "# Schreibe deinen Code hier\n",
    "\n",
    "# Schreibe deinen Code hier"
   ]
  },
  {
   "cell_type": "markdown",
   "id": "307970d4",
   "metadata": {},
   "source": [
    "## Aufgabe 3: Stringoperation II\n",
    "\n",
    "- Lasse wieder einen Namen eingeben. Teile dem User mit, ob dieser Name mehr als 5 Zeichen enthält."
   ]
  },
  {
   "cell_type": "code",
   "execution_count": 41,
   "id": "b2ea5921",
   "metadata": {},
   "outputs": [
    {
     "name": "stdout",
     "output_type": "stream",
     "text": [
      "Gib bitte einen Namen ein: redit\n",
      "Der Name hat 5 oder weniger als 5 Zeichen.\n"
     ]
    }
   ],
   "source": [
    "name = input(\"Gib bitte einen Namen ein: \")\n",
    "\n",
    "if len(name) > 5:\n",
    "    print(\"Der Name hat mehr als 5 Zeichen.\")\n",
    "else:\n",
    "    print(\"Der Name hat 5 oder weniger als 5 Zeichen.\")\n",
    "\n",
    "# Schreibe deinen Code hier\n",
    "\n",
    "# Schreibe deinen Code hier"
   ]
  },
  {
   "cell_type": "markdown",
   "id": "2062c5cc",
   "metadata": {},
   "source": [
    "## Aufgabe 4: Stringoperation III\n",
    "\n",
    "- Lasse den Nutzer seinen Vor- *und* Nachnamen eingeben. Gib eine Fehlermeldung aus, wenn er weniger *oder* mehr als 2 Wörter eingegeben hat. ( *Eine* Möglichkeit dies zu checken, ist zu überprüfen, ob der eingegebene String *exakt* ein Leerzeichen enthält. Es gibt jedoch natürlich auch noch andere Möglichkeiten diese Aufgabe zu lösen.)"
   ]
  },
  {
   "cell_type": "code",
   "execution_count": 35,
   "id": "1f4848d8",
   "metadata": {},
   "outputs": [
    {
     "name": "stdout",
     "output_type": "stream",
     "text": [
      "Gib bitte Vor- und Nachnamen ein, durch ein Leerzeichen getrennt! kjhlhlhj,kjhk,ljhlk,lkjlk\n",
      "Du hast nur einen oder mehr als 2 Namen eingegeben, versuch es bitte nochmal!\n",
      "4\n"
     ]
    }
   ],
   "source": [
    "name = input(\"Gib bitte Vor- und Nachnamen ein, durch ein Leerzeichen getrennt! \")\n",
    "\n",
    "if not \" \" in name or len(name.split(\",\")) > 2:\n",
    "    print(\"Du hast nur einen oder mehr als 2 Namen eingegeben, versuch es bitte nochmal!\")\n",
    "else:\n",
    "    print(\"Du hast deinen Namen korrekt eingegeben.\")\n",
    "    \n",
    "print(len(name.split(\",\")))\n",
    "\n",
    "# Schreibe deinen Code hier\n",
    "\n",
    "# Schreibe deinen Code hier"
   ]
  },
  {
   "cell_type": "markdown",
   "id": "2eec413a",
   "metadata": {},
   "source": [
    "## Aufgabe 5: Gerade Zahl\n",
    "\n",
    "- Lasse eine Zahl eingeben. Gib auf der Konsole `True` aus, wenn die Zahl gerade und positiv ist, und `False` in allen anderen Fällen."
   ]
  },
  {
   "cell_type": "code",
   "execution_count": 22,
   "id": "c53f3f22",
   "metadata": {},
   "outputs": [
    {
     "name": "stdout",
     "output_type": "stream",
     "text": [
      "Gib bitte eine Zahl ein: 0\n",
      "False.\n"
     ]
    }
   ],
   "source": [
    "zahl = input(\"Gib bitte eine ganze Zahl ein: \")\n",
    "\n",
    "if  int(zahl) % 2 == 0 and int(zahl) > 0:\n",
    "    print(\"True.\")\n",
    "    \n",
    "else:\n",
    "    print(\"False.\")\n",
    "\n",
    "# Schreibe deinen Code hier\n",
    "\n",
    "# Schreibe deinen Code hier"
   ]
  },
  {
   "cell_type": "markdown",
   "id": "c922b7cc",
   "metadata": {},
   "source": [
    "## Aufgabe 6: Palindrom\n",
    "\n",
    "- Lasse ein beliebiges Wort eingeben. Ist dieses Wort ein Palindrom? Ein Palindrom ist ein Wort, welches sich rückwärts liest *wie* vorwärts, z.B. \"anna\". (Verwende dafür Stringslicing. Wie kann man sich ein Wort rückwärts ausgeben lassen?)"
   ]
  },
  {
   "cell_type": "code",
   "execution_count": 26,
   "id": "1aea09cf",
   "metadata": {},
   "outputs": [
    {
     "name": "stdout",
     "output_type": "stream",
     "text": [
      "Gib bitte ein beliebiges Wort ein! Andrardna\n",
      "Das Wort ist ein Palindrom.\n",
      "Das Wort lautet rückwärts:  andrardnA\n"
     ]
    }
   ],
   "source": [
    "name = input(\"Gib bitte ein beliebiges Wort ein! \")\n",
    "\n",
    "if name.lower() == name[::-1].lower():\n",
    "    print(\"Das Wort ist ein Palindrom.\")\n",
    "else:\n",
    "    print(\"Das Wort ist kein Palindrom.\")\n",
    "\n",
    "print(\"Das Wort lautet rückwärts: \", name[::-1])\n",
    "\n",
    "# Schreibe deinen Code hier\n",
    "\n",
    "# Schreibe deinen Code hier"
   ]
  },
  {
   "cell_type": "markdown",
   "id": "9b672dbe",
   "metadata": {},
   "source": [
    "## Aufgabe 7: Summe einer Liste \n",
    "\n",
    "Ist die Summe der Elemente der Liste `l` größer als 400? (Benutze hierfür die [`sum`](https://docs.python.org/3/library/functions.html#sum)-Funktion in Python. `sum(a)` liefert die Summe _aller_ Elemente einer Liste `a`.)"
   ]
  },
  {
   "cell_type": "code",
   "execution_count": 28,
   "id": "037290b0",
   "metadata": {},
   "outputs": [
    {
     "name": "stdout",
     "output_type": "stream",
     "text": [
      "Die Summe der Elemente der Liste l ist kleiner gleich 400. Sie lautet:  392\n"
     ]
    }
   ],
   "source": [
    "l=list(range(2,50,3))\n",
    "\n",
    "if sum(l) > 400:\n",
    "    print(\"Die Summe der Elemente der Liste l ist größer als 400.\")\n",
    "else: \n",
    "    print(\"Die Summe der Elemente der Liste l ist kleiner gleich 400. Sie lautet: \",sum(l))\n",
    "\n",
    "# Schreibe deinen Code hier\n",
    "\n",
    "# Schreibe deinen Code hier"
   ]
  },
  {
   "cell_type": "code",
   "execution_count": null,
   "id": "2fa749ba",
   "metadata": {},
   "outputs": [],
   "source": []
  }
 ],
 "metadata": {
  "kernelspec": {
   "display_name": "Python 3 (ipykernel)",
   "language": "python",
   "name": "python3"
  },
  "language_info": {
   "codemirror_mode": {
    "name": "ipython",
    "version": 3
   },
   "file_extension": ".py",
   "mimetype": "text/x-python",
   "name": "python",
   "nbconvert_exporter": "python",
   "pygments_lexer": "ipython3",
   "version": "3.10.9"
  }
 },
 "nbformat": 4,
 "nbformat_minor": 5
}
