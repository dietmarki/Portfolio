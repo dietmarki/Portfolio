{
 "cells": [
  {
   "cell_type": "code",
   "execution_count": 2,
   "id": "612838c2",
   "metadata": {},
   "outputs": [
    {
     "name": "stdout",
     "output_type": "stream",
     "text": [
      "True\n"
     ]
    }
   ],
   "source": [
    "print(7 == 21 - 14)"
   ]
  },
  {
   "cell_type": "code",
   "execution_count": 4,
   "id": "6560a0df",
   "metadata": {},
   "outputs": [
    {
     "name": "stdout",
     "output_type": "stream",
     "text": [
      "True\n",
      "True\n"
     ]
    }
   ],
   "source": [
    "print(3 == (7 % 4))\n",
    "print(3 == 7 % 4) "
   ]
  },
  {
   "cell_type": "code",
   "execution_count": 5,
   "id": "70d00a06",
   "metadata": {},
   "outputs": [
    {
     "name": "stdout",
     "output_type": "stream",
     "text": [
      "84\n",
      "104\n",
      "105\n",
      "97\n",
      "115\n",
      "116\n"
     ]
    }
   ],
   "source": [
    "# print(\"This\" > \"That\")\n",
    "\n",
    "print(ord('T'))\n",
    "print(ord('h'))\n",
    "print(ord('i'))\n",
    "print(ord('a'))\n",
    "print(ord('s'))\n",
    "print(ord('t'))"
   ]
  },
  {
   "cell_type": "code",
   "execution_count": 9,
   "id": "2433ff6d",
   "metadata": {},
   "outputs": [
    {
     "name": "stdout",
     "output_type": "stream",
     "text": [
      "True\n",
      "dict_1: {'key_A': 5} und dict_2: {'key_A': 5}\n",
      "True\n"
     ]
    }
   ],
   "source": [
    "dict_1 = {\"key_A\" : 1}\n",
    "dict_2 = dict_1\n",
    "\n",
    "print(dict_1 == dict_2)     # ja\n",
    "\n",
    "dict_1[\"key_A\"] = 5\n",
    "print(\"dict_1:\",dict_1, \"und dict_2:\",dict_2)\n",
    "print(dict_1 == dict_2)\n"
   ]
  },
  {
   "cell_type": "code",
   "execution_count": 10,
   "id": "e8de7ca1",
   "metadata": {},
   "outputs": [
    {
     "name": "stdout",
     "output_type": "stream",
     "text": [
      "True\n"
     ]
    }
   ],
   "source": [
    "print(\"Hallo\".upper() == \"HALLO\")"
   ]
  },
  {
   "cell_type": "code",
   "execution_count": 1,
   "id": "92477c88",
   "metadata": {},
   "outputs": [
    {
     "name": "stdout",
     "output_type": "stream",
     "text": [
      "True\n"
     ]
    }
   ],
   "source": [
    "print(3 == 3 or 5 > 8 or 2 == 78)"
   ]
  },
  {
   "cell_type": "code",
   "execution_count": 2,
   "id": "aff34e85",
   "metadata": {},
   "outputs": [
    {
     "data": {
      "text/plain": [
       "list"
      ]
     },
     "execution_count": 2,
     "metadata": {},
     "output_type": "execute_result"
    }
   ],
   "source": [
    "[1, 2, 3, 4]\n",
    "type([1, 2, 3, 4])"
   ]
  },
  {
   "cell_type": "code",
   "execution_count": null,
   "id": "7307f4a7",
   "metadata": {},
   "outputs": [],
   "source": []
  },
  {
   "cell_type": "code",
   "execution_count": null,
   "id": "e89b8e5c",
   "metadata": {},
   "outputs": [],
   "source": []
  },
  {
   "cell_type": "code",
   "execution_count": null,
   "id": "bb99bdfa",
   "metadata": {},
   "outputs": [],
   "source": []
  }
 ],
 "metadata": {
  "kernelspec": {
   "display_name": "Python 3 (ipykernel)",
   "language": "python",
   "name": "python3"
  },
  "language_info": {
   "codemirror_mode": {
    "name": "ipython",
    "version": 3
   },
   "file_extension": ".py",
   "mimetype": "text/x-python",
   "name": "python",
   "nbconvert_exporter": "python",
   "pygments_lexer": "ipython3",
   "version": "3.10.9"
  }
 },
 "nbformat": 4,
 "nbformat_minor": 5
}
