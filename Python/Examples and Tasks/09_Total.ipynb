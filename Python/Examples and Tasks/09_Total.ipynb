{
 "cells": [
  {
   "cell_type": "markdown",
   "id": "c8eacfcf",
   "metadata": {},
   "source": [
    "# Inhaltsverzeichnis \n",
    "\n",
    "- **Übungen Woche 9**\n",
    "    - **Aufgabe 1: Wörterbuch umdrehen**\n",
    "    - **Aufgabe 2: Summe fehlender Zahlen**\n",
    "    - **Aufgabe 3: Harshad-Zahl**\n",
    "    - **Aufgabe 4: Letzte Ziffer**\n",
    "    - **Aufgabe 5: Summe einer Reihe**\n",
    "    - **Aufgabe 6: Perfekte Zahl**\n"
   ]
  },
  {
   "cell_type": "markdown",
   "id": "24b2f24b",
   "metadata": {},
   "source": [
    "# Übungen Woche 9\n",
    "\n",
    "In diesem Übungsblatt befinden sich Aufgaben, welche die Konzepte der letzten Wochen wiederholen. "
   ]
  },
  {
   "cell_type": "markdown",
   "id": "190c581f",
   "metadata": {},
   "source": [
    "## Aufgabe 1: Wörterbuch umdrehen\n",
    "\n",
    "- Schreibe eine Funktion, die eine Wörterbuch als Argument erhält. Die Funktion soll die Schlüssel und Werte umtauschen und das neue Wörterbuch zurückgeben.\n",
    "\n",
    "**Beispiele:** \n",
    "\n",
    "\\begin{align}\n",
    "f(\\text{ \\{\"A\":\"a\",\"B\":\"b\" \\} }) &\\Longrightarrow \\text{ \\{\"a\":\"A\",\"b\":\"B\" \\} } \\\\\n",
    "f(\\text{ \\{\"A\":2,\"B\":\"a\" \\} }) &\\Longrightarrow \\text{ \\{2:\"A\",\"a\":\"B\" \\} } \\\\\n",
    "\\end{align}"
   ]
  },
  {
   "cell_type": "code",
   "execution_count": 15,
   "id": "6eeba654",
   "metadata": {},
   "outputs": [
    {
     "data": {
      "text/plain": [
       "{2: 'A', 'a': 'B'}"
      ]
     },
     "execution_count": 15,
     "metadata": {},
     "output_type": "execute_result"
    }
   ],
   "source": [
    "\n",
    "def dict_umdrehen(dict01):\n",
    "    \n",
    "    liste_keys = []\n",
    "    liste_values = []\n",
    "    \n",
    "    for k,v in dict01.items():\n",
    "        liste_values.append(k)\n",
    "        liste_keys.append(v)\n",
    "    \n",
    "    return dict(zip(liste_keys,liste_values)) \n",
    "\n",
    "dict_umdrehen({\"A\":2,\"B\":\"a\" })"
   ]
  },
  {
   "cell_type": "markdown",
   "id": "b3e0b80b",
   "metadata": {},
   "source": [
    "## Aufgabe 2: Summe fehlender Zahlen\n",
    "\n",
    "- Schreibe eine Funktion, welche eine Liste mit Zahlen bekommt. Die Funktion soll die Summe der Zahlen zurückgeben, die zwischen dem Maximalwert und dem Minimalwert **fehlen**, zurückliefern.\n",
    "\n",
    "**Beispiele:**\n",
    "\n",
    "\\begin{align}\n",
    "f([1,3,5]) &\\Longrightarrow 6    \\qquad ( = 4+ 2) \\\\\n",
    "f([1,2,3]) &\\Longrightarrow 0   \\\\\n",
    "f([1,4,3,7]) &\\Longrightarrow 13 \\qquad ( = 2 + 5 + 6 ) \\\\\n",
    "\\end{align}"
   ]
  },
  {
   "cell_type": "code",
   "execution_count": 44,
   "id": "914ef85d",
   "metadata": {},
   "outputs": [
    {
     "data": {
      "text/plain": [
       "10"
      ]
     },
     "execution_count": 44,
     "metadata": {},
     "output_type": "execute_result"
    }
   ],
   "source": [
    "\n",
    "def zahl_fehl(liste01):\n",
    "    \n",
    "    maxi = 0\n",
    "    mini = liste01[0]\n",
    "\n",
    "    for a in range(1,len(liste01)):\n",
    "        if liste01[a] > liste01[a - 1] and liste01[a] > maxi:\n",
    "            maxi = liste01[a]\n",
    "        elif liste01[a] < liste01[a - 1] and liste01[a] < mini:\n",
    "            mini = liste01[a]\n",
    "    \n",
    "    zahl = 0\n",
    "    \n",
    "    for i in range(mini,maxi):\n",
    "        if i not in liste01:\n",
    "            zahl += i\n",
    "            \n",
    "    return zahl\n",
    "\n",
    "zahl_fehl([3,7,5])      \n"
   ]
  },
  {
   "cell_type": "markdown",
   "id": "2d1af93f",
   "metadata": {},
   "source": [
    "## Aufgabe 3: Harshad-Zahl\n",
    "\n",
    "Eine [Harshad-Zahl](https://de.wikipedia.org/wiki/Harshad-Zahl) ist eine Zahl, die ohne Rest durch die Summe ihrer Ziffern teilbar ist. \n",
    "\n",
    "- Schreibe eine Funktion, die eine Zahl übergeben bekommt und überprüft, ob diese Zahl eine Harshad-Zahl ist.\n",
    "\n",
    "**Beispiele:** \n",
    "\n",
    "\\begin{align}\n",
    "f(10) &\\Longrightarrow \\text{True} \\\\\n",
    "f(12) &\\Longrightarrow \\text{True} \\\\ \n",
    "f(15) &\\Longrightarrow \\text{False} \\\\ \n",
    "f(49) &\\Longrightarrow \\text{False} \\\\\n",
    "f(777) &\\Longrightarrow \\text{True} \\\\\n",
    "\\end{align}"
   ]
  },
  {
   "cell_type": "code",
   "execution_count": 19,
   "id": "7b706921",
   "metadata": {},
   "outputs": [
    {
     "data": {
      "text/plain": [
       "True"
      ]
     },
     "execution_count": 19,
     "metadata": {},
     "output_type": "execute_result"
    }
   ],
   "source": [
    "\n",
    "def harshad(zahl):\n",
    "    \n",
    "    sum_ziff = 0    \n",
    "    for x in str(zahl):\n",
    "        sum_ziff += int(x)\n",
    "        \n",
    "    if zahl % sum_ziff == 0:\n",
    "        return True\n",
    "    \n",
    "    return False\n",
    "\n",
    "harshad(777)\n"
   ]
  },
  {
   "cell_type": "markdown",
   "id": "c01a8245",
   "metadata": {},
   "source": [
    "## Aufgabe 4: Letzte Ziffer\n",
    "\n",
    "- Schreibe eine Funktion die 3 Zahlen *x,y* und *z* übergeben bekommt. Die Funktion soll ` True` zurückgeben, wenn die letzte Ziffer von <br><br>\n",
    "\\begin{align}\n",
    "x \\cdot y\n",
    "\\end{align}\n",
    "der letzten Ziffer von $z$ enspricht.\n",
    "\n",
    "**Beispiele:**\n",
    "\n",
    "\\begin{align}\n",
    "f(5,5,105) &\\Longrightarrow \\text{True} \\\\\n",
    "f(1,1,12) &\\Longrightarrow \\text{False} \\\\\n",
    "f(15,12,100) &\\Longrightarrow \\text{True} \\\\\n",
    "\\end{align}"
   ]
  },
  {
   "cell_type": "code",
   "execution_count": 34,
   "id": "1db80fdb",
   "metadata": {},
   "outputs": [
    {
     "data": {
      "text/plain": [
       "True"
      ]
     },
     "execution_count": 34,
     "metadata": {},
     "output_type": "execute_result"
    }
   ],
   "source": [
    "\n",
    "def letzt_ziffer(x,y,z):\n",
    "    \n",
    "    le_zi_prod = x * y\n",
    "    \n",
    "    if str(z)[-1] == str(le_zi_prod)[-1]:\n",
    "        return True\n",
    "    return False\n",
    "\n",
    "letzt_ziffer(15,12,100)\n"
   ]
  },
  {
   "cell_type": "markdown",
   "id": "c6ae284b",
   "metadata": {},
   "source": [
    "## Aufgabe 5: Summe einer Reihe\n",
    "\n",
    "\n",
    "- Schreibe eine Funktion, die für ein übergebenes $n$ die Summe <br><br>\n",
    "\\begin{align}\n",
    "\\sum_{k=1}^n \\frac{1}{k^2}= \\frac{1}{1^2} + \\frac{1}{2^2} + ... + \\frac{1}{n^2}\n",
    "\\end{align} \n",
    "<br>\n",
    "berechnet. Lass dir das Ergebnis für unterschiedliche $n$ ausgeben. Was fällt auf?"
   ]
  },
  {
   "cell_type": "code",
   "execution_count": 14,
   "id": "27d46235",
   "metadata": {},
   "outputs": [
    {
     "data": {
      "text/plain": [
       "1.4636111111111112"
      ]
     },
     "execution_count": 14,
     "metadata": {},
     "output_type": "execute_result"
    }
   ],
   "source": [
    "\n",
    "def summe_n(n):\n",
    "    \n",
    "    if n == 0:\n",
    "        return 0        \n",
    "    \n",
    "    return 1/(n**2) + summe_n(n - 1)\n",
    "\n",
    "summe_n(5)\n"
   ]
  },
  {
   "cell_type": "markdown",
   "id": "01b9e9e8",
   "metadata": {},
   "source": [
    "## Aufgabe 6: Perfekte Zahl\n",
    "\n",
    "- Eine **perfekte Zahl** ist eine Zahl, bei der die Summe aller Teiler (außer sie selbst) wieder die Zahl ergibt. \n",
    "\n",
    "- Ein Beispiel für eine perfekte Zahl ist die Zahl $6$, denn ihre Teiler sind 1,2 und 3 und es gilt\n",
    "\n",
    "\\begin{align}\n",
    "1+2+3 =6\n",
    "\\end{align}.\n",
    "\n",
    "- Schreibe ein Programm, welches dir alle **perfekten Zahlen** zwischen 0 und 1000 ausgibt."
   ]
  },
  {
   "cell_type": "code",
   "execution_count": 29,
   "id": "86cfad13",
   "metadata": {},
   "outputs": [
    {
     "data": {
      "text/plain": [
       "[6, 28, 496]"
      ]
     },
     "execution_count": 29,
     "metadata": {},
     "output_type": "execute_result"
    }
   ],
   "source": [
    "\n",
    "def sum_all_teiler(n):\n",
    "    \n",
    "    liste_perf_zahl = []\n",
    "    \n",
    "    for y in range(1,n + 1):\n",
    "        summe = 0        \n",
    "        for z in range(1,y + 1):\n",
    "            if y % z == 0 and y != z:\n",
    "                summe += z\n",
    "            \n",
    "        if summe == y:\n",
    "            liste_perf_zahl.append(y)\n",
    "    \n",
    "    return liste_perf_zahl\n",
    "\n",
    "sum_all_teiler(1000)\n"
   ]
  },
  {
   "cell_type": "code",
   "execution_count": null,
   "id": "c6ce6fe8",
   "metadata": {},
   "outputs": [],
   "source": []
  }
 ],
 "metadata": {
  "kernelspec": {
   "display_name": "Python 3 (ipykernel)",
   "language": "python",
   "name": "python3"
  },
  "language_info": {
   "codemirror_mode": {
    "name": "ipython",
    "version": 3
   },
   "file_extension": ".py",
   "mimetype": "text/x-python",
   "name": "python",
   "nbconvert_exporter": "python",
   "pygments_lexer": "ipython3",
   "version": "3.10.9"
  },
  "vscode": {
   "interpreter": {
    "hash": "26de051ba29f2982a8de78e945f0abaf191376122a1563185a90213a26c5da77"
   }
  }
 },
 "nbformat": 4,
 "nbformat_minor": 5
}
