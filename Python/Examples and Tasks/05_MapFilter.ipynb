{
 "cells": [
  {
   "cell_type": "markdown",
   "id": "8af6adb2",
   "metadata": {},
   "source": [
    "# Inhaltsverzeichnis \n",
    "\n",
    "- **`Map`**\n",
    "    - **Aufgabe 1 - Runden**\n",
    "    - **Aufgabe 2 - Großschreibung**\n",
    "    - **Aufgabe 3 - Listen verbinden**\n",
    "- **`Filter`**\n",
    "    - **Aufgabe 1 - Zahlen**\n",
    "    - **Aufgabe 2 - Strings**\n",
    "    - **Aufgabe 3 - Palindrom**\n"
   ]
  },
  {
   "cell_type": "markdown",
   "id": "6c84a3ab",
   "metadata": {},
   "source": [
    "> <span style=\"color:red\"> **_WICHTIG:_** </span>  Die `map` und die `filter` Funktionen sind eine gute Möglichkeit, um in Python schnell eine kurze Funktion (am besten definiert durch `lambda`) auf eine Liste von Elementen anzuwenden. Beachte dabei, dass diese Funktionen *automatisch* durch die Liste iterieren. Aus diesem Grund muss **nie** `map` oder `filter` mit einer `for`-Schliefe angewandt werden. \n",
    "\n",
    "# `Map`\n",
    "\n",
    "> <span style=\"color:blue\"> **_INFO:_** </span> Bei den folgenden Aufgaben zu `map` sollst du jeweils *zwei* Funktionen implementieren. Eine Funktion, welche die Aufgabe mittels einer `for`-Schleife löst und eine Funktion, die dafür `map` verwendet. Dadurch soll erkannt werden, dass `map` deutlich weniger Schreibaufwand benötigt.\n",
    "\n",
    "## Aufgabe 1 - Runden\n",
    "\n",
    "- Gegeben ist eine Liste `floats` mti 10 Zahlen.\n",
    "- Schreibe eine Funktion, die eine Liste als Parameter erwartet, und mit einer `for`-Schleife alle Elemente auf 2 Nachkommastellen rundet.\n",
    "- Erstelle eine Funktion `floats_map`, mit der gleichen Funktionalität, aber **statt** einer `for`-Schleife soll jetzt `map` mit einem `lambda` benutzt werden (**keine `for`-Schleife!**)."
   ]
  },
  {
   "cell_type": "code",
   "execution_count": 5,
   "id": "e007a47b",
   "metadata": {},
   "outputs": [
    {
     "name": "stdout",
     "output_type": "stream",
     "text": [
      "<class 'list'>\n",
      "[26.83, 99.47, 9.41, 83.36, 67.67, 30.44, 33.39, 52.67, 83.22, 53.44]\n",
      "[26.83, 99.47, 9.41, 83.36, 67.67, 30.44, 33.39, 52.67, 83.22, 53.44]\n",
      "Lösung mit einer for-Schleife:\n",
      "[26.83, 99.47, 9.41, 83.36, 67.67, 30.44, 33.39, 52.67, 83.22, 53.44]\n",
      "Lösung mit der map-Funktion:\n",
      "[26.83, 99.47, 9.41, 83.36, 67.67, 30.44, 33.39, 52.67, 83.22, 53.44]\n"
     ]
    }
   ],
   "source": [
    "import random\n",
    "\n",
    "floats = [random.random()*100 for i in range(10)]\n",
    "print(type(floats))\n",
    "\n",
    "def zwei_nachkomma(liste):\n",
    "    gerundete_liste = []\n",
    "    for i in liste:\n",
    "        \n",
    "        z = int(i * 100 + 0.5) / 100\n",
    "        gerundete_liste.append(z)\n",
    "    return gerundete_liste\n",
    "\n",
    "print(zwei_nachkomma(floats))\n",
    "\n",
    "# Lösung mit einer for-Schleife\n",
    "#--------------------------------\n",
    "\n",
    "zwei_nachkomma_map = list(map(lambda x: int(x * 100 + 0.5) / 100,floats))\n",
    "print(zwei_nachkomma_map)\n",
    "\n",
    "# Lösung mit der map-Funktion\n",
    "#--------------------------------\n",
    "\n",
    "\n",
    "# Schreibe deinen Code hier\n",
    "\n",
    "print(f\"Lösung mit einer for-Schleife:\\n{zwei_nachkomma(floats)}\")\n",
    "\n",
    "print(f\"Lösung mit der map-Funktion:\\n{zwei_nachkomma_map}\")"
   ]
  },
  {
   "cell_type": "markdown",
   "id": "4cade190",
   "metadata": {},
   "source": [
    "## Aufgabe 2 - Großschreibung\n",
    "\n",
    "- Gegeben ist eine Liste `words` mit Wörtern..\n",
    "- Erstelle eine Funktion `upper_for`, die mit einer `for`-Schleife durch alle Wörter iteriert und eine neue Liste zurückliefert, in der alle Elemente (Wörter) in Großbuchstaben sind.\n",
    "- Erstelle eine Funktion `upper_map` mit der gleichen Funktionalität, aber diesmal unter Gebrauch der `map`-Funktion mit `str.upper` (**keine `for`-Schleife!**)."
   ]
  },
  {
   "cell_type": "code",
   "execution_count": 45,
   "id": "f4fe4f73",
   "metadata": {},
   "outputs": [
    {
     "name": "stdout",
     "output_type": "stream",
     "text": [
      "['PyThOn', 'iS', 'AN', 'INTERpreTeD', 'HiGH-Level', 'genEral-PuRPOSE', 'PRogramMIng', 'LAnGuaGE.']\n",
      "['PYTHON', 'IS', 'AN', 'INTERPRETED', 'HIGH-LEVEL', 'GENERAL-PURPOSE', 'PROGRAMMING', 'LANGUAGE.'] -----meines\n",
      "['PYTHON', 'IS', 'AN', 'INTERPRETED', 'HIGH-LEVEL', 'GENERAL-PURPOSE', 'PROGRAMMING', 'LANGUAGE.'] ----meines\n",
      "Lösung mit einer for-Schleife:\n",
      "['PYTHON', 'IS', 'AN', 'INTERPRETED', 'HIGH-LEVEL', 'GENERAL-PURPOSE', 'PROGRAMMING', 'LANGUAGE.', 'PYTHON', 'IS', 'AN', 'INTERPRETED', 'HIGH-LEVEL', 'GENERAL-PURPOSE', 'PROGRAMMING', 'LANGUAGE.']\n",
      "Lösung mit der map-Funktion:\n",
      "['PYTHON', 'IS', 'AN', 'INTERPRETED', 'HIGH-LEVEL', 'GENERAL-PURPOSE', 'PROGRAMMING', 'LANGUAGE.']\n"
     ]
    }
   ],
   "source": [
    "words = \"PyThOn iS AN INTERpreTeD HiGH-Level genEral-PuRPOSE PRogramMIng LAnGuaGE.\".split(' ')\n",
    "\n",
    "print(words)\n",
    "\n",
    "upper_words = []\n",
    "\n",
    "def upper_for(worte):    \n",
    "    \n",
    "    for a in worte:\n",
    "        upper_words.append(a.upper())\n",
    "        \n",
    "    return upper_words\n",
    "\n",
    "print(upper_for(words),\"-----meines\")\n",
    "\n",
    "# Lösung mit einer for-Schleife\n",
    "#--------------------------------\n",
    "\n",
    "#upper_map = []\n",
    "upper_map = list(map(lambda b: b.upper(),words))\n",
    "print(upper_map, \"----meines\")\n",
    "\n",
    "# Lösung mit der map-Funktion\n",
    "#--------------------------------\n",
    "\n",
    "\n",
    "# Schreibe deinen Code hier\n",
    "\n",
    "print(f\"Lösung mit einer for-Schleife:\\n{upper_for(words)}\")\n",
    "      \n",
    "print(f\"Lösung mit der map-Funktion:\\n{upper_map}\")"
   ]
  },
  {
   "cell_type": "markdown",
   "id": "b20882c4",
   "metadata": {},
   "source": [
    "## Aufgabe 3 - Listen verbinden\n",
    "\n",
    "- Gegeben sein zwei Listen `list_1` und `list_2` mit der gleichen Zahl an Elementen. Aus diesen zwei Listen soll eine neue Liste erzeugt werden, wo die Elemente Tupel sind mit den Werten aus Liste 1 und Liste 2.\n",
    "\n",
    "**Beispiel:**\n",
    "\n",
    "\\begin{align}\n",
    "&\\text{list_1} = [1,2,3,4] , \\qquad \\text{list_2} = [\\text{'A'},\\text{'B'},\\text{'C'},\\text{'D'}] \\\\\n",
    "&\\Longrightarrow [(1,\\text{'A'}),(2,\\text{'B'}),(3,\\text{'C'}),(4,\\text{'D'})]\n",
    "\\end{align}\n",
    "\n",
    "- Erstelle eine Funktion `zip_for`, die die zwei Listen als Parameter annimmt und den gewünschten Output produziert.\n",
    "Hierbei soll eine `for`-Schleife verwendet werden. Die Verwendung der Pythonfunktion `zip`  ist **nicht** erlaubt!\n",
    "- Erstelle eine Funktion `zip_map`, die die zwei Listen als Parameter annimmt und den gewünschten Output produziert. Hierbei soll `map` verwendet werden."
   ]
  },
  {
   "cell_type": "code",
   "execution_count": 56,
   "id": "fb1234ea",
   "metadata": {},
   "outputs": [
    {
     "name": "stdout",
     "output_type": "stream",
     "text": [
      "For:\n",
      " [(1, 'A'), (2, 'B'), (3, 'C'), (4, 'D')]\n",
      "Map:\n",
      " [(1, 'A'), (2, 'B'), (3, 'C'), (4, 'D')]\n"
     ]
    }
   ],
   "source": [
    "list_1 = [1, 2, 3, 4]\n",
    "list_2 = [\"A\", \"B\", \"C\", \"D\"]\n",
    "\n",
    "def zip_for(liste_a,liste_b):\n",
    "    liste_neu = []\n",
    "    for c in range(len(liste_a)):\n",
    "        liste_neu.append((liste_a[c],liste_b[c]))\n",
    "    return liste_neu\n",
    "\n",
    "# Lösung mit einer for-Schleife\n",
    "#--------------------------------\n",
    "\n",
    "    \n",
    "# Lösung mit der map-Funktion\n",
    "#--------------------------------\n",
    "\n",
    "zip_map = list(map(lambda x,y: (x,y),list_1,list_2))\n",
    "\n",
    "\n",
    "print(\"For:\\n\",zip_for(list_1, list_2))\n",
    "\n",
    "print(\"Map:\\n\",zip_map)\n"
   ]
  },
  {
   "cell_type": "markdown",
   "id": "795d41fe",
   "metadata": {},
   "source": [
    "# `Filter`\n",
    "\n",
    "> <span style=\"color:red\"> **_WICHTIG:_** </span> Verwende für folgende Aufgaben `filter` **nur** in Kombination mit `lambda` Funktionen. \n",
    "\n",
    "## Aufgabe 1 - Zahlen\n",
    "\n",
    "- Gegeben ist eine Liste `ints` mit 100 Ganzzahlen.\n",
    "- Welche Zahlen sind größer als `90`? Speichere sie in einer Liste.\n",
    "- Welche Zahlen sind durch `11` teilbar? Speichere sie in einer Liste.\n",
    "- Welche Zahlen enden auf eine `'7'`? Speichere sie in einer Liste."
   ]
  },
  {
   "cell_type": "code",
   "execution_count": 61,
   "id": "380d797c",
   "metadata": {},
   "outputs": [
    {
     "name": "stdout",
     "output_type": "stream",
     "text": [
      "[96, 91, 94, 97, 98, 96, 97, 97]\n",
      "[22, 77, 22, 11, 44, 22, 77, 22]\n",
      "[77, 57, 97, 17, 57, 37, 67, 97, 77, 97, 47, 67, 17, 27, 57]\n"
     ]
    }
   ],
   "source": [
    "ints = [random.randint(0,100) for i in range(100)]\n",
    "\n",
    "größer_als_90 = list(filter(lambda x: x > 90,ints))\n",
    "print(größer_als_90)\n",
    "durch_11_teilbar = list(filter(lambda y: y % 11 == 0,ints))\n",
    "print(durch_11_teilbar)\n",
    "enden_auf_7 = list(filter(lambda z: str(z)[-1] == \"7\",ints))\n",
    "print(enden_auf_7)\n",
    "\n",
    "   \n",
    "# Schreibe deinen Code hier"
   ]
  },
  {
   "cell_type": "code",
   "execution_count": 62,
   "id": "35ab6d00",
   "metadata": {},
   "outputs": [
    {
     "name": "stdout",
     "output_type": "stream",
     "text": [
      "[100, 94, 100, 95, 94, 91, 94]\n"
     ]
    }
   ],
   "source": [
    "ints = [random.randint(0,100) for i in range(100)]\n",
    "\n",
    "def größer(x):\n",
    "    return x > 90\n",
    "\n",
    "größer_als = list(filter(größer,ints))          \n",
    "print(größer_als)"
   ]
  },
  {
   "cell_type": "markdown",
   "id": "27746ef7",
   "metadata": {},
   "source": [
    "## Aufgabe 2 - Strings\n",
    "\n",
    "- Gegeben ist eine kleingeschriebene Liste von Wörtern `words`.\n",
    "- Welche davon haben ein `'p'` **und** ein `'r'`? Speichere sie in einer Liste.\n",
    "- Welche davon enden in ein `'n'`? Speichere sie in einer Liste."
   ]
  },
  {
   "cell_type": "code",
   "execution_count": 66,
   "id": "d4c8d89b",
   "metadata": {},
   "outputs": [
    {
     "name": "stdout",
     "output_type": "stream",
     "text": [
      "['interpreted', 'general-purpose', 'programming']\n",
      "['python', 'an']\n"
     ]
    }
   ],
   "source": [
    "words = \"PyThOn iS AN INTERpreTeD HiGH-Level genEral-PuRPOSE PRogramMIng LAnGuaGE.\".lower().split()\n",
    "\n",
    "worte_p_und_r = list(filter(lambda d: \"p\" in d and \"r\" in d,words))\n",
    "print(worte_p_und_r)\n",
    "worte_enden_n = list(filter(lambda e: e[-1] == \"n\",words))\n",
    "print(worte_enden_n)\n",
    "\n",
    "\n",
    "# Schreibe deinen Code hier"
   ]
  },
  {
   "cell_type": "markdown",
   "id": "31ca4308",
   "metadata": {},
   "source": [
    "## Aufgabe 3 - Palindrom\n",
    "\n",
    "- Welche der Wörter in der Liste `dromes` sind [Palindrome](https://de.wikipedia.org/wiki/Palindrom)?\n",
    "\n",
    "> <span style=\"color:blue\"> **_INFO:_** </span> Palindrome sind Wörter, die sich rückwärts gleich schreiben wie vorwärts, z.b. \"anna\"."
   ]
  },
  {
   "cell_type": "code",
   "execution_count": 65,
   "id": "702f0470",
   "metadata": {},
   "outputs": [
    {
     "name": "stdout",
     "output_type": "stream",
     "text": [
      "['anna', 'madam', 'tenet']\n"
     ]
    }
   ],
   "source": [
    "dromes = (\"demigod\", 'anna', \"rewire\", \"madam\", \"freer\", \"tenet\", \"kiosk\")\n",
    "\n",
    "palindrom_worte = list(filter(lambda e: e[::-1] == e,dromes))\n",
    "print(palindrom_worte)\n",
    "\n",
    "\n",
    "# Schreibe deinen Code hier"
   ]
  },
  {
   "cell_type": "code",
   "execution_count": null,
   "id": "197cf816",
   "metadata": {},
   "outputs": [],
   "source": []
  }
 ],
 "metadata": {
  "kernelspec": {
   "display_name": "Python 3 (ipykernel)",
   "language": "python",
   "name": "python3"
  },
  "language_info": {
   "codemirror_mode": {
    "name": "ipython",
    "version": 3
   },
   "file_extension": ".py",
   "mimetype": "text/x-python",
   "name": "python",
   "nbconvert_exporter": "python",
   "pygments_lexer": "ipython3",
   "version": "3.10.9"
  }
 },
 "nbformat": 4,
 "nbformat_minor": 5
}
