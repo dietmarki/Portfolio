{
 "cells": [
  {
   "cell_type": "markdown",
   "id": "cbae94a0",
   "metadata": {},
   "source": [
    "# Inhaltsverzeichnis \n",
    "\n",
    "- **Übungen**\n",
    "    - **Aufgabe 1 - Länge eines Strings**\n",
    "    - **Aufgabe 2 - String erzeugen**\n",
    "    - **Aufgabe 3 - Wörter zählen**\n",
    "    - **Aufgabe 4 - Slicing**\n",
    "    - **Aufgabe 5 - Verketten**\n"
   ]
  },
  {
   "cell_type": "markdown",
   "id": "7670e5c7",
   "metadata": {},
   "source": [
    "# Übungen\n",
    "\n",
    "## Aufgabe 1 - Länge eines Strings\n",
    "\n",
    "- Was ist die Länge des folgenden Strings? Verwende die Funktion `len()`. Lass dir die Länge des Strings mittels `print()` ausgeben."
   ]
  },
  {
   "cell_type": "code",
   "execution_count": 1,
   "id": "bafa3bce",
   "metadata": {},
   "outputs": [
    {
     "name": "stdout",
     "output_type": "stream",
     "text": [
      "11\n"
     ]
    }
   ],
   "source": [
    "my_string = \"Hallo Welt!\"\n",
    "\n",
    "print(len(my_string)) # Schreibe dein Code hier\n",
    "\n",
    "# Schreibe dein Code hier"
   ]
  },
  {
   "cell_type": "markdown",
   "id": "87c146aa",
   "metadata": {},
   "source": [
    "\n",
    "\n",
    "## Aufgabe 2 - String erzeugen\n",
    "\n",
    "- Erzeuge den String `\"AAAAAAAAAAAAAAAAAAAABBBBBBBBBBBBBBBBBBBB\"` (20 \"A\"s und 20 \"B\"s). \n",
    "- Wie können wir den String mit möglichst wenig Tipparbeit erzeugen?"
   ]
  },
  {
   "cell_type": "code",
   "execution_count": 2,
   "id": "49f9e8cd",
   "metadata": {},
   "outputs": [
    {
     "name": "stdout",
     "output_type": "stream",
     "text": [
      "AAAAAAAAAAAAAAAAAAAABBBBBBBBBBBBBBBBBBBB\n"
     ]
    }
   ],
   "source": [
    "string_AB = \"A\"* 20 + \"B\" * 20  # Schreibe dein Code hier\n",
    "\n",
    "print(string_AB)  # Schreibe dein Code hier"
   ]
  },
  {
   "cell_type": "markdown",
   "id": "9f5e5825",
   "metadata": {},
   "source": [
    "## Aufgabe 3 - Wörter zählen\n",
    "\n",
    "- Sei `sentence` ein Satz. Wie erhalten wir die Anzahl der Wörter in `sentence`? Verwende dazu die Funktionen `split()` und `len()`."
   ]
  },
  {
   "cell_type": "code",
   "execution_count": 9,
   "id": "af77bf97",
   "metadata": {},
   "outputs": [
    {
     "name": "stdout",
     "output_type": "stream",
     "text": [
      "4\n"
     ]
    }
   ],
   "source": [
    "sentence = \"Das ist ein Satz.\"\n",
    "\n",
    "print(len(sentence.split(\" \")))  # Schreibe dein Code hier\n",
    "\n",
    "  # Schreibe dein Code hier"
   ]
  },
  {
   "cell_type": "markdown",
   "id": "38c4a912",
   "metadata": {},
   "source": [
    "## Aufgabe 4 - Slicing\n",
    "\n",
    "- Lasse dir im folgenden String die **ersten** 3 Buchstaben anzeigen.\n",
    "- Lasse dir im folgenden String die **letzten** 3 Buchstaben anzeigen.\n",
    "- Lasse dir im folgenden String **jeden 3ten** Buchstaben anzeigen (angefangen vom ersten Buchstaben)."
   ]
  },
  {
   "cell_type": "code",
   "execution_count": 12,
   "id": "58b19061",
   "metadata": {},
   "outputs": [
    {
     "name": "stdout",
     "output_type": "stream",
     "text": [
      "Sad\n",
      " 3!\n",
      "Super!\n"
     ]
    }
   ],
   "source": [
    "my_string = \"Saduhhpadejjr 3!\"\n",
    "\n",
    "print(my_string[:3])  # Schreibe dein Code hier\n",
    "\n",
    "print(my_string[-3:])   # Schreibe dein Code hier\n",
    "\n",
    "print(my_string[::3])  # nur jeder 3. buchstabe\n"
   ]
  },
  {
   "cell_type": "markdown",
   "id": "6633f0f5",
   "metadata": {},
   "source": [
    "## Aufgabe 5 - Verketten\n",
    "\n",
    "- Erstelle zwei Strings.\n",
    "- Erstelle einen neuen String, der die zwei Strings verkettet.\n",
    "- Erstelle einen neuen String, der die zwei Strings verkettet, getrennt mit `_und_`.\n",
    "- Erstelle einen neuen String, der das erste und letzte Zeichen aus jedem String verkettet.\n"
   ]
  },
  {
   "cell_type": "code",
   "execution_count": 15,
   "id": "6d02bf98",
   "metadata": {},
   "outputs": [
    {
     "name": "stdout",
     "output_type": "stream",
     "text": [
      "Das ist eine Verkettung daher ein gesamtes Werk!\n",
      "Das ist eine Verkettung und daher ein gesamtes Werk!\n",
      "Dg !\n"
     ]
    }
   ],
   "source": [
    "string01 = \"Das ist eine Verkettung\"  # Schreibe dein Code hier\n",
    "\n",
    "string02 = \" daher ein gesamtes Werk!\"  # Schreibe dein Code hier\n",
    "\n",
    "string03 = string01 + string02\n",
    "print(string03)\n",
    "\n",
    "stringVerkettet = string01 + \" und\" + string02\n",
    "\n",
    "print(stringVerkettet)\n",
    "print(string01[:1] + string01[-1:] + string02[:1] + string02[-1:])"
   ]
  },
  {
   "cell_type": "code",
   "execution_count": null,
   "id": "793984f1",
   "metadata": {},
   "outputs": [],
   "source": []
  }
 ],
 "metadata": {
  "kernelspec": {
   "display_name": "Python 3 (ipykernel)",
   "language": "python",
   "name": "python3"
  },
  "language_info": {
   "codemirror_mode": {
    "name": "ipython",
    "version": 3
   },
   "file_extension": ".py",
   "mimetype": "text/x-python",
   "name": "python",
   "nbconvert_exporter": "python",
   "pygments_lexer": "ipython3",
   "version": "3.10.9"
  }
 },
 "nbformat": 4,
 "nbformat_minor": 5
}
