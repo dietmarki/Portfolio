{
 "cells": [
  {
   "cell_type": "code",
   "execution_count": null,
   "id": "856ab550",
   "metadata": {},
   "outputs": [],
   "source": [
    "![image info](https://drive.google.com/uc?id=1AerT9299ijreLjEeIoGLv6SoT-SFC6-m)"
   ]
  },
  {
   "cell_type": "markdown",
   "id": "f030c202",
   "metadata": {},
   "source": [
    "# Inhaltsverzeichnis \n",
    "\n",
    "- **Übungen zu Listen**\n",
    "    - **Aufgabe 1 - Länge einer Liste**\n",
    "    - **Aufgabe 2 - Liste erzeugen**\n",
    "    - **Aufgabe 3 - Liste erzeugen**\n",
    "    - **Aufgabe 4 - Liste erzeugen**\n",
    "    - **Aufgabe 5 - Liste erzeugen**\n",
    "    - **Aufgabe 6 - Slicing**\n",
    "    - **Aufgabe 7 - Listen zusammenfügen**\n",
    "    - **Aufgabe 8 - Element abfragen**\n",
    "    - **Aufgabe 9 - Element ändern**\n",
    "    - **Aufgabe 10 - Element entfernen**\n",
    "    - **Aufgabe 11 - Liste umdrehen**\n"
   ]
  },
  {
   "cell_type": "markdown",
   "id": "a69e4a25",
   "metadata": {},
   "source": [
    "# Übungen zu Listen\n",
    "\n",
    "## Aufgabe 1 - Länge einer Liste\n",
    "\n",
    "Lass dir von den folgenden Listen die Länge ausgeben. Nutzt dafür den `len`-Befehl."
   ]
  },
  {
   "cell_type": "code",
   "execution_count": 1,
   "id": "01cc87f4",
   "metadata": {},
   "outputs": [
    {
     "name": "stdout",
     "output_type": "stream",
     "text": [
      "5\n",
      "0\n",
      "4\n",
      "2\n"
     ]
    }
   ],
   "source": [
    "list1 = [1, 2, 3, 4, 5]\n",
    "list2 = []\n",
    "list3 = [1, 2, \"A\", \"B\"]\n",
    "list4 = [1, [2, 3]]\n",
    "\n",
    "# Schreibe dein Code hier\n",
    "print(len(list1))\n",
    "print(len(list2))\n",
    "print(len(list3))\n",
    "print(len(list4))\n",
    "# Schreibe dein Code hier"
   ]
  },
  {
   "cell_type": "markdown",
   "id": "6cf6f8c0",
   "metadata": {},
   "source": [
    "## Aufgabe 2 - Liste erzeugen\n",
    "\n",
    "- Erzeuge eine Liste `[0,1,2,3,4,5,6,7,8,9,10,11]`. Nutze hierfür die `range()`-Funktion.\n"
   ]
  },
  {
   "cell_type": "code",
   "execution_count": 2,
   "id": "5f9d6616",
   "metadata": {},
   "outputs": [
    {
     "name": "stdout",
     "output_type": "stream",
     "text": [
      "[0, 1, 2, 3, 4, 5, 6, 7, 8, 9, 10, 11]\n"
     ]
    }
   ],
   "source": [
    "# Schreibe dein Code hier\n",
    "print(list(range(12)))"
   ]
  },
  {
   "cell_type": "code",
   "execution_count": 3,
   "id": "6e764ebc",
   "metadata": {},
   "outputs": [
    {
     "name": "stdout",
     "output_type": "stream",
     "text": [
      "[0, 2, 4, 6, 8, 10]\n"
     ]
    }
   ],
   "source": [
    "## Aufgabe 3 - Liste erzeugen\n",
    "\n",
    "#- Erzeuge eine Liste `[0,2,4,6,8,10]`. Nutze hierfür die `range()`-Funktion.\n",
    "x = range(0, 11, 2)\n",
    "print(list(x))"
   ]
  },
  {
   "cell_type": "markdown",
   "id": "fe7c31e6",
   "metadata": {},
   "source": [
    "## Aufgabe 4 - Liste erzeugen\n",
    "\n",
    "- Erzeuge eine Liste `[1,3,5,7,9]`. Nutze hierfür die `range()`-Funktion."
   ]
  },
  {
   "cell_type": "code",
   "execution_count": 4,
   "id": "89bcb64c",
   "metadata": {},
   "outputs": [
    {
     "name": "stdout",
     "output_type": "stream",
     "text": [
      "[1, 3, 5, 7, 9]\n"
     ]
    }
   ],
   "source": [
    "list01 = list(range(10))\n",
    "print(list01[1:10:2])\n",
    "\n",
    "# Schreibe dein Code hier\n",
    "\n",
    "# Schreibe dein Code hier"
   ]
  },
  {
   "cell_type": "markdown",
   "id": "fe334efa",
   "metadata": {},
   "source": [
    "## Aufgabe 5 - Liste erzeugen\n",
    "\n",
    "- Erzeuge eine Liste mit 50 Nullen, `[0,0,0,0,0,...,0]`. Stelle durch die Funktion `count` sicher, dass die Liste *wirklich* 50 Nullen enthält.\n",
    "\n"
   ]
  },
  {
   "cell_type": "code",
   "execution_count": 5,
   "id": "dbe2a588",
   "metadata": {},
   "outputs": [
    {
     "name": "stdout",
     "output_type": "stream",
     "text": [
      "[0, 0, 0, 0, 0, 0, 0, 0, 0, 0, 0, 0, 0, 0, 0, 0, 0, 0, 0, 0, 0, 0, 0, 0, 0, 0, 0, 0, 0, 0, 0, 0, 0, 0, 0, 0, 0, 0, 0, 0, 0, 0, 0, 0, 0, 0, 0, 0, 0, 0]\n",
      "Die Liste enthält 50 Nullen.\n"
     ]
    }
   ],
   "source": [
    "list02 = [0]\n",
    "list03 = list02 * 50\n",
    "print(list03)\n",
    "print(\"Die Liste enthält\" , list03.count(0) , \"Nullen.\")\n",
    "\n",
    "# Schreibe dein Code hier\n",
    "\n",
    "# Schreibe dein Code hier"
   ]
  },
  {
   "cell_type": "markdown",
   "id": "25b8938d",
   "metadata": {},
   "source": [
    "## Aufgabe 6 - Slicing \n",
    "\n",
    "- Lass dir aus der folgenden Liste mittels Slicing nur die **geraden** Elemente anzeigen. <br>\n",
    "- Lass dir aus der folgenden Liste mittels Slicing nur die **ungeraden** Elemente anzeigen.\n"
   ]
  },
  {
   "cell_type": "code",
   "execution_count": 6,
   "id": "f8d31dcd",
   "metadata": {},
   "outputs": [
    {
     "name": "stdout",
     "output_type": "stream",
     "text": [
      "[2, 4, 6, 8, 10]\n",
      "[1, 3, 5, 7, 9]\n"
     ]
    }
   ],
   "source": [
    "my_list = [1, 2, 3, 4, 5, 6, 7, 8, 9, 10]\n",
    "\n",
    "print(my_list[1:10:2])\n",
    "print(my_list[0:9:2])\n",
    "\n",
    "# Schreibe dein Code hier\n",
    "\n",
    "# Schreibe dein Code hier"
   ]
  },
  {
   "cell_type": "markdown",
   "id": "ea6ebe1b",
   "metadata": {},
   "source": [
    "## Aufgabe 7 - Listen zusammenfügen\n",
    "\n",
    "- Füge die folgenden zwei Listen zusammen und speichere die resultierende Liste in einer neuen Variable `list3`."
   ]
  },
  {
   "cell_type": "code",
   "execution_count": 7,
   "id": "562d9f0f",
   "metadata": {},
   "outputs": [
    {
     "name": "stdout",
     "output_type": "stream",
     "text": [
      "[1, 2, 3, 4, 5, 6]\n"
     ]
    }
   ],
   "source": [
    "list1 = [1, 2, 3]\n",
    "list2 = [4, 5, 6]\n",
    "\n",
    "list3 = list1 + list2\n",
    "print(list3)\n",
    "\n",
    "# Schreibe dein Code hier\n",
    "\n",
    "# Schreibe dein Code hier"
   ]
  },
  {
   "cell_type": "markdown",
   "id": "f5abbf6a",
   "metadata": {},
   "source": [
    "## Aufgabe 8 - Element abfragen\n",
    "\n",
    "Wie können wir in der folgenden Liste auf das Element `\"A\"` zugreifen und über `print()` ausgeben? Beachte, dass wir es mit verschachtelten Listen zu tun haben. Wir müssen mehrere Indizes angeben."
   ]
  },
  {
   "cell_type": "code",
   "execution_count": 8,
   "id": "a9cb574d",
   "metadata": {},
   "outputs": [
    {
     "name": "stdout",
     "output_type": "stream",
     "text": [
      "A\n"
     ]
    }
   ],
   "source": [
    "my_list = [1, 2, 3, [\"B\", [3, [\"C\", \"A\"]]]]\n",
    "\n",
    "print(my_list[3][1][1][1])\n",
    "\n",
    "# Schreibe dein Code hier\n",
    "\n",
    "# Schreibe dein Code hier"
   ]
  },
  {
   "cell_type": "markdown",
   "id": "e6239ccb",
   "metadata": {},
   "source": [
    "## Aufgabe 9 - Element ändern \n",
    "\n",
    "- Ändere in der Liste `my_list` das Element \"A\" in 4 um."
   ]
  },
  {
   "cell_type": "code",
   "execution_count": 9,
   "id": "f1635397",
   "metadata": {},
   "outputs": [
    {
     "name": "stdout",
     "output_type": "stream",
     "text": [
      "[1, 2, 3, 4, 5]\n"
     ]
    }
   ],
   "source": [
    "my_list = [1, 2, 3, \"A\", 5]\n",
    "my_list[3] = 4\n",
    "\n",
    "print(my_list)\n",
    "\n",
    "# Schreibe dein Code hier\n",
    "\n",
    "# Schreibe dein Code hier"
   ]
  },
  {
   "cell_type": "markdown",
   "id": "0d6c46fa",
   "metadata": {},
   "source": [
    "## Aufgabe 10 - Element entfernen\n",
    "\n",
    "- Entferne aus der folgenden Liste, das Element \"A\"."
   ]
  },
  {
   "cell_type": "code",
   "execution_count": 10,
   "id": "7eef8ad6",
   "metadata": {},
   "outputs": [
    {
     "name": "stdout",
     "output_type": "stream",
     "text": [
      "[1, 2, 3, 4, 5, 6]\n"
     ]
    }
   ],
   "source": [
    "my_list = [1, 2, 3, 4, \"A\", 5, 6]\n",
    "\n",
    "my_list.pop(4)\n",
    "print(my_list)\n",
    "\n",
    "# Schreibe dein Code hier\n",
    "\n",
    "# Schreibe dein Code hier"
   ]
  },
  {
   "cell_type": "markdown",
   "id": "a3e86f9f",
   "metadata": {},
   "source": [
    "## Aufgabe 11 - Liste umdrehen \n",
    "\n",
    "- Drehe die folgende List um, d.h. aus `[1, 2, 3]` soll `[3, 2, 1]` werden. \n",
    "- Gibt es noch eine andere Möglichkeit als `reverse()` zu verwenden?"
   ]
  },
  {
   "cell_type": "code",
   "execution_count": 12,
   "id": "4740fe57",
   "metadata": {},
   "outputs": [
    {
     "name": "stdout",
     "output_type": "stream",
     "text": [
      "[1, 2, 3]\n",
      "[3, 2, 1]\n",
      "[3, 2, 1]\n"
     ]
    }
   ],
   "source": [
    "list = [1,2,3]\n",
    "\n",
    "list.sort(reverse=False)\n",
    "print(list)\n",
    "\n",
    "list.sort(reverse=True)\n",
    "print(list)\n",
    "\n",
    "list[-1]\n",
    "print(list)\n",
    "\n",
    "# Schreibe dein Code hier\n",
    "\n",
    "# Schreibe dein Code hier"
   ]
  },
  {
   "cell_type": "code",
   "execution_count": null,
   "id": "11c53a26",
   "metadata": {},
   "outputs": [],
   "source": []
  },
  {
   "cell_type": "code",
   "execution_count": null,
   "id": "46e481d7",
   "metadata": {},
   "outputs": [],
   "source": []
  }
 ],
 "metadata": {
  "kernelspec": {
   "display_name": "Python 3 (ipykernel)",
   "language": "python",
   "name": "python3"
  },
  "language_info": {
   "codemirror_mode": {
    "name": "ipython",
    "version": 3
   },
   "file_extension": ".py",
   "mimetype": "text/x-python",
   "name": "python",
   "nbconvert_exporter": "python",
   "pygments_lexer": "ipython3",
   "version": "3.10.9"
  }
 },
 "nbformat": 4,
 "nbformat_minor": 5
}
