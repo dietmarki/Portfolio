{
 "cells": [
  {
   "cell_type": "markdown",
   "id": "d613f9eb",
   "metadata": {},
   "source": [
    "# Inhaltsverzeichnis \n",
    "\n",
    "- **Übungen Woche 5**\n",
    "    - **Aufgabe 1: Zahlenfolge erzeugen**\n",
    "    - **Aufgabe 2: Fehlende Ziffern**\n",
    "    - **Aufgabe 3: Zinseszins**\n",
    "    - **Aufgabe 4: Passwort**\n",
    "    - **Aufgabe 5: Doppelte Elemente**\n",
    "    - **Aufgabe 6: Zufälliges Element aus Liste wählen**\n",
    "    - **Aufgabe 7: Primzahl**\n",
    "    - **Aufgabe 8: Dateiformat**\n"
   ]
  },
  {
   "cell_type": "markdown",
   "id": "74104f26",
   "metadata": {},
   "source": [
    "# Übungen Woche 5\n",
    "\n",
    "In diesem Übungsblatt befinden sich Aufgaben, welche die Konzepte der letzten Wochen wiederholen. "
   ]
  },
  {
   "cell_type": "markdown",
   "id": "82e54450",
   "metadata": {},
   "source": [
    "## Aufgabe 1: Zahlenfolge erzeugen\n",
    "\n",
    "- Wir wollen eine Folge von Zahlen ausgehend von einer Zahl $n$ erschaffen. Es gibt folgende Regeln: \n",
    "\n",
    "    - Wenn $n$ durch 3 teilbar ist, wird $n$ um 4 erhöht.\n",
    "    - Wenn $n$ **nicht** durch 3 teilbar ist aber $n$ durch 4 teilbar ist, wird $n$ halbiert.\n",
    "    - Wenn $n$ weder durch 3 teilbar noch durch 4 teilbar ist, wird $n$ um 1 verkleinert.\n",
    "\n",
    "Die obigen Regeln sollen angewandt werden, bis $n=0$ ist. \n",
    "\n",
    "- Schreibe eine Funktion, die eine Zahl als Argument übergeben bekommt und danach eine Liste mit der Zahlenfolge erzeugt, z.b.\n",
    "\n",
    "\\begin{align}\n",
    "f(7) &\\Longrightarrow [7,6,10,9,13,12,16,8,4,2,1,0] \\\\\n",
    "f(24) &\\Longrightarrow [24,28,14,13,12,16,8,4,2,1,0]\n",
    "\\end{align}\n",
    "\n",
    "- Für welchen Wert von $n$ zwischen $0$ und $100$ dauert es am längsten, bis die Folge die Zahl $0$ erreicht?"
   ]
  },
  {
   "cell_type": "code",
   "execution_count": 34,
   "id": "b7c67f2e",
   "metadata": {},
   "outputs": [
    {
     "data": {
      "text/plain": [
       "87"
      ]
     },
     "execution_count": 34,
     "metadata": {},
     "output_type": "execute_result"
    }
   ],
   "source": [
    "\n",
    "def zahlenfolge(n):\n",
    "    liste = [n]\n",
    "    aktive = True\n",
    "    while aktive:\n",
    "        if n % 3 == 0:\n",
    "            n = n + 4\n",
    "            liste.append(n)\n",
    "        if not n % 3 == 0 and n % 4 == 0:\n",
    "            n = int(n / 2)\n",
    "            liste.append(n)\n",
    "        if n % 3 != 0 and n % 4 != 0:\n",
    "            n = n - 1\n",
    "            liste.append(n)\n",
    "        if n == 0:\n",
    "            aktive = False\n",
    "    return liste\n",
    "\n",
    "def längste_zahlenfolge(zahl):\n",
    "    \n",
    "    liste_zahl= []\n",
    "    liste_länge = []\n",
    "    for f in range(zahl + 1):\n",
    "        liste_zahl.append(zahlenfolge(f))\n",
    "        liste_länge.append(len(zahlenfolge(f)))\n",
    "    \n",
    "    länger = liste_länge[0]\n",
    "    for e in liste_länge:\n",
    "        if e < länger:\n",
    "            continue\n",
    "        else:\n",
    "            länger = e\n",
    "            \n",
    "    index_zahl = liste_länge.index(länger)\n",
    "    \n",
    "    return liste_zahl[index_zahl][0]\n",
    "                \n",
    "längste_zahlenfolge(100)\n",
    "\n",
    "# Schreibe deinen Code hier"
   ]
  },
  {
   "cell_type": "markdown",
   "id": "95c7ea64",
   "metadata": {},
   "source": [
    "## Aufgabe 2: Fehlende Ziffern\n",
    "\n",
    "- Schreibe eine Funktion, die die *fehlenden* Ziffern in einer Zahl als Liste zurückgibt.\n",
    "\n",
    "**Beispiele:**\n",
    "\n",
    "\\begin{align}\n",
    "f(123456) &\\Longrightarrow [0,7,8,9] \\\\\n",
    "f(864) &\\Longrightarrow [0,1,2,3,5,7,9] \\\\\n",
    "\\end{align}"
   ]
  },
  {
   "cell_type": "code",
   "execution_count": 20,
   "id": "2eb22415",
   "metadata": {},
   "outputs": [
    {
     "data": {
      "text/plain": [
       "([0, 7, 8, 9], [1, 2, 3, 4, 5, 6])"
      ]
     },
     "execution_count": 20,
     "metadata": {},
     "output_type": "execute_result"
    }
   ],
   "source": [
    "\n",
    "def fehlende_ziffern(zahl):\n",
    "    string = str(zahl)\n",
    "    liste01 = []\n",
    "    liste02 = []\n",
    "    for a in range(len(string)):\n",
    "        liste01.append(int(string[a]))\n",
    "    for b in range(10):\n",
    "        if not b in liste01:\n",
    "            liste02.append(b)\n",
    "    \n",
    "    return liste02,liste01\n",
    "        \n",
    "fehlende_ziffern(123456)\n",
    "# Schreibe deinen Code hier"
   ]
  },
  {
   "cell_type": "markdown",
   "id": "7ba540a2",
   "metadata": {},
   "source": [
    "## Aufgabe 3: Zinseszins\n",
    "\n",
    "- Wenn wir 1 € bei einem jährlichen Zins von 1% anlegen, wieviel Euro stehen uns nach 1000 Jahren zur Verfügung ? (Wir gehen davon aus, dass wir unseren Zins auf dem Konto lassen.) Bei dieser Aufgabe **nicht** runden.\n",
    "\n",
    "**Hilfestellung**:\n",
    "Nach einem Jahr besitzen wir\n",
    "\n",
    "\\begin{align}\n",
    "1€ \\cdot 1,01 = 1,01€\n",
    "\\end{align}\n",
    "\n",
    "Nach zwei Jahren \n",
    "\n",
    "\\begin{align}\n",
    "1,01€ \\cdot 1,01  = 1,0201 €\n",
    "\\end{align}\n",
    "\n",
    "Nach drei Jahren\n",
    "\n",
    "\\begin{align}\n",
    "1,0201€ \\cdot 1.01 = 1,030301€\n",
    "\\end{align}\n",
    "\n",
    "usw..."
   ]
  },
  {
   "cell_type": "code",
   "execution_count": 31,
   "id": "956f0347",
   "metadata": {},
   "outputs": [
    {
     "name": "stdout",
     "output_type": "stream",
     "text": [
      "Es sind 20959.155637813827 €.\n"
     ]
    }
   ],
   "source": [
    "\n",
    "def zinses_zins(jahre):\n",
    "    \n",
    "    euro = 1\n",
    "    for z in range(jahre):\n",
    "        euro *= 1.01\n",
    "        \n",
    "    print(f\"Es sind {euro} €.\")\n",
    "    \n",
    "zinses_zins(1000)\n",
    "# Schreibe deinen Code hier"
   ]
  },
  {
   "cell_type": "markdown",
   "id": "fd4898e9",
   "metadata": {},
   "source": [
    "## Aufgabe 4: Passwort \n",
    "\n",
    "- Schreibe eine Funktion welche einen String erwartet und die ersten 7 Ziffern in ein Stern (\\*) umwandelt. Wenn das Wort weniger als 7 Zeichen hat, soll jedes Zeichen in einen Stern umgewandelt werden.\n",
    "\n",
    "**Beispiele:**\n",
    "\n",
    "\\begin{align}\n",
    "f(\\text{\"MeinPasswort\"}) &\\Longrightarrow \\text{\"*******swort\"} \\\\ \n",
    "f(\\text{\"Baum\"}) &\\Longrightarrow \\text{\"****\"}\n",
    "\\end{align}"
   ]
  },
  {
   "cell_type": "code",
   "execution_count": 5,
   "id": "8ffa5bf6",
   "metadata": {},
   "outputs": [
    {
     "data": {
      "text/plain": [
       "'****'"
      ]
     },
     "execution_count": 5,
     "metadata": {},
     "output_type": "execute_result"
    }
   ],
   "source": [
    "\n",
    "def stern_string(wort):\n",
    "    string01 = \"\"\n",
    "    for a in range(len(wort)):\n",
    "        if a < 7:\n",
    "            string01 += \"*\"\n",
    "        else:\n",
    "            string01 += wort[a]\n",
    "    return string01\n",
    "    \n",
    "stern_string(\"Baum\")\n",
    "# Schreibe deinen Code hier"
   ]
  },
  {
   "cell_type": "markdown",
   "id": "2d5bda17",
   "metadata": {},
   "source": [
    "## Aufgabe 5: Doppelte Elemente\n",
    "\n",
    "- Schreibe eine Funktion, welche alle Duplikate aus einer Liste entfernt und die neue Liste zurückgibt.\n",
    "\n",
    "**Beispiele:**\n",
    "\n",
    "\\begin{align}\n",
    "f([1,1,3,4,1]) &\\Longrightarrow [1,3,4] \\\\\n",
    "f([2,4,6,2]) &\\Longrightarrow [2,4,6] \\\\\n",
    "f([1,2,3]) &\\Longrightarrow [1,2,3] \\\\\n",
    "\\end{align}"
   ]
  },
  {
   "cell_type": "code",
   "execution_count": 3,
   "id": "d8872acf",
   "metadata": {},
   "outputs": [
    {
     "data": {
      "text/plain": [
       "[1, 2, 3]"
      ]
     },
     "execution_count": 3,
     "metadata": {},
     "output_type": "execute_result"
    }
   ],
   "source": [
    "\n",
    "def duplikate_bereinigen(liste):\n",
    "    \n",
    "    liste_bereinigt = []\n",
    "    for e in liste:\n",
    "        if e in liste_bereinigt:\n",
    "            continue\n",
    "        else:\n",
    "            liste_bereinigt.append(e)\n",
    "            \n",
    "    return liste_bereinigt\n",
    "            \n",
    "duplikate_bereinigen([1,2,3])\n",
    "# Schreibe deinen Code hier"
   ]
  },
  {
   "cell_type": "code",
   "execution_count": 7,
   "id": "d9a7ca98",
   "metadata": {},
   "outputs": [
    {
     "name": "stdout",
     "output_type": "stream",
     "text": [
      "[1, 3, 4]\n"
     ]
    }
   ],
   "source": [
    "liste = [1,1,3,4,1]\n",
    "liste_bereinigt = []\n",
    "results = [liste_bereinigt.append(e) for e in liste if not e in liste_bereinigt]\n",
    "print(liste_bereinigt)"
   ]
  },
  {
   "cell_type": "markdown",
   "id": "147b9b46",
   "metadata": {},
   "source": [
    "## Aufgabe 6: Zufälliges Element aus Liste wählen \n",
    "\n",
    "- Schreibe eine Funktion, die eine Liste als Argument übergeben bekommt und ein *zufälliges* Element aus dieser Liste zurückgibt. Du darfst für diese Aufgabe die Funktion `randint` aus dem Modul `random` verwenden."
   ]
  },
  {
   "cell_type": "code",
   "execution_count": 21,
   "id": "aeaf9264",
   "metadata": {},
   "outputs": [
    {
     "name": "stdout",
     "output_type": "stream",
     "text": [
      "97\n"
     ]
    }
   ],
   "source": [
    "from random import randint\n",
    "\n",
    "liste = [1,3,7,9,34,56,97]\n",
    "\n",
    "result_index = randint(0,len(liste))\n",
    "zufälliges_element = liste[result_index]\n",
    "\n",
    "print(zufälliges_element)\n",
    "\n",
    "# Schreibe deinen Code hier"
   ]
  },
  {
   "cell_type": "markdown",
   "id": "32db6b67",
   "metadata": {},
   "source": [
    "## Aufgabe 7: Primzahl\n",
    "\n",
    "- Schreibe ein Funktion die eine Zahl $n$ bekommt und überprüft ob $n$ eine [Primzahl](https://de.wikipedia.org/wiki/Primzahl) ist. Die Funktion soll je nach Ergebnis ein Boolean zurückliefern.\n",
    "- Eine Primzahl ist eine Zahl, welche nur durch sich selbst und 1 teilbar ohne Rest ist. Die ersten Primzahlen sind $2,3,5,7,11,13,...$.  \n",
    "\n",
    "**Beispiele:** \n",
    "\\begin{align}\n",
    "f(3) &\\Longrightarrow \\text{True} \\\\\n",
    "f(6) &\\Longrightarrow \\text{False} \\\\\n",
    "f(13) &\\Longrightarrow \\text{True} \\\\\n",
    "\\end{align}\n",
    "\n",
    "- Lass dir alle Primzahlen zwischen $2$ und $100$ ausgeben."
   ]
  },
  {
   "cell_type": "code",
   "execution_count": 15,
   "id": "8fce3097",
   "metadata": {},
   "outputs": [
    {
     "name": "stdout",
     "output_type": "stream",
     "text": [
      "[2, 3, 5, 7, 11, 13, 17, 19, 23, 29, 31, 37, 41, 43, 47, 53, 59, 61, 67, 71, 73, 79, 83, 89, 97]\n"
     ]
    }
   ],
   "source": [
    "def prim(n):\n",
    "    for x in range(2,(n)):\n",
    "        if n%x == 0:\n",
    "            return False\n",
    "    return True\n",
    "\n",
    "results = list(filter(prim,range(2,101)))\n",
    "\n",
    "print(results)\n",
    "# Schreibe deinen Code hier"
   ]
  },
  {
   "cell_type": "markdown",
   "id": "412a3d9a",
   "metadata": {},
   "source": [
    "## Aufgabe 8: Dateiformat \n",
    "\n",
    "- Schreibe ein Programm, welches den User einen Namen einer Datei mit Dateiendung eingeben lässt, z.b. \n",
    "    - my_text.txt \n",
    "    - abc.java \n",
    "    - main.py \n",
    "    - meinnotebook.ipynb\n",
    "    \n",
    "Daraufhin soll ihm die Dateiendung mitgeteilt werden (die Buchstaben nach dem Punkt).\n",
    "\n",
    "    - txt\n",
    "    - java\n",
    "    - py\n",
    "    - ipynb"
   ]
  },
  {
   "cell_type": "code",
   "execution_count": 4,
   "id": "a514962e",
   "metadata": {},
   "outputs": [
    {
     "name": "stdout",
     "output_type": "stream",
     "text": [
      "Gebe den Namen einer Datei mit der Dateiendung ein!main.py\n"
     ]
    },
    {
     "data": {
      "text/plain": [
       "'py'"
      ]
     },
     "execution_count": 4,
     "metadata": {},
     "output_type": "execute_result"
    }
   ],
   "source": [
    "nutzereingabe = input(\"Gebe den Namen einer Datei mit der Dateiendung ein!\")\n",
    "\n",
    "def dateiformat(nutzereingabe):\n",
    "    string = nutzereingabe.split(\".\")\n",
    "    return string[-1]\n",
    "\n",
    "dateiformat(nutzereingabe)\n",
    "\n",
    "# Schreibe deinen Code hier"
   ]
  },
  {
   "cell_type": "code",
   "execution_count": null,
   "id": "fc9e4951",
   "metadata": {},
   "outputs": [],
   "source": []
  }
 ],
 "metadata": {
  "kernelspec": {
   "display_name": "Python 3 (ipykernel)",
   "language": "python",
   "name": "python3"
  },
  "language_info": {
   "codemirror_mode": {
    "name": "ipython",
    "version": 3
   },
   "file_extension": ".py",
   "mimetype": "text/x-python",
   "name": "python",
   "nbconvert_exporter": "python",
   "pygments_lexer": "ipython3",
   "version": "3.10.9"
  }
 },
 "nbformat": 4,
 "nbformat_minor": 5
}
