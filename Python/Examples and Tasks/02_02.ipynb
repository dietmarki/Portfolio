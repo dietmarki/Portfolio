{
 "cells": [
  {
   "cell_type": "markdown",
   "id": "915f2a9a",
   "metadata": {},
   "source": [
    "![image info](https://drive.google.com/uc?id=1AerT9299ijreLjEeIoGLv6SoT-SFC6-m)"
   ]
  },
  {
   "cell_type": "markdown",
   "id": "56a6ff6b",
   "metadata": {},
   "source": [
    "# Inhaltsverzeichnis \n",
    "\n",
    "- **Übungen Woche 2**\n",
    "    - **Aufgabe 1: Teil des String**\n",
    "    - **Aufgabe 2: Zahl in Intervall**\n",
    "    - **Aufgabe 3: Elemente inkrementieren**\n",
    "    - **Aufgabe 4: Summe einer Liste**\n",
    "    - **Aufgabe 5: Limit setzten**\n",
    "    - **Aufgabe 6: Liste**\n",
    "    - **Aufgabe 7: Fakultät**\n",
    "    - **Aufgabe 8: Vokale**\n"
   ]
  },
  {
   "cell_type": "markdown",
   "id": "8b80e59e",
   "metadata": {},
   "source": [
    "# Übungen Woche 2\n",
    "\n",
    "In diesem Übungsblatt befinden sich Aufgaben, welche die Konzepte der letzten Woche wiederholen. "
   ]
  },
  {
   "cell_type": "markdown",
   "id": "08178481",
   "metadata": {},
   "source": [
    "## Aufgabe 1: Teil des String\n",
    "\n",
    "- Frag den\\*die User\\*in, was sein\\*ihr Lieblingsfilm ist. Hierbei darf die Antwort auch aus mehreren Wörtern/Sätzen bestehen. Liefere die Antwort `\"Meiner auch!\"`, wenn sich im String das Wort `Matrix` befindet. "
   ]
  },
  {
   "cell_type": "code",
   "execution_count": null,
   "id": "398da1fb",
   "metadata": {},
   "outputs": [],
   "source": [
    "nutzerFilm = input(\"Was ist dein Lieblingsfilm? \")\n",
    "meinFilm = \"Matrix\"\n",
    "\n",
    "if nutzerFilm == meinFilm:\n",
    "    print(\"Meiner auch!\")\n",
    "else:\n",
    "    print(\"Meiner nicht, das ist 'Matrix'.\")\n",
    "\n",
    "# Schreibe deinen Code hier\n",
    "\n",
    "# Schreibe deinen Code hier"
   ]
  },
  {
   "cell_type": "markdown",
   "id": "d9fb0402",
   "metadata": {},
   "source": [
    "## Aufgabe 2: Zahl in Intervall\n",
    "\n",
    "- Schreibe ein Programm, welches den/die Nutzer\\*in bittet eine Zahl zwischen $1$ und $6$ einzugeben. Gibt eine Meldung aus, wenn die eingegebene Zahl _nicht_ in diesem Intervall liegt. \n"
   ]
  },
  {
   "cell_type": "code",
   "execution_count": 4,
   "id": "a4f5f255",
   "metadata": {},
   "outputs": [
    {
     "name": "stdout",
     "output_type": "stream",
     "text": [
      "Gib eine ganze Zahl zwischen 1 und 6 ein! 5\n",
      "Bravo, deine Zahl liegt zwischen 1 und 6!\n"
     ]
    }
   ],
   "source": [
    "zahl = input(\"Gib eine ganze Zahl zwischen 1 und 6 ein! \")\n",
    "\n",
    "if int(zahl) < 1 or int(zahl) > 6:\n",
    "    print(\"Deine Zahl liegt nicht zwischen 1 und 6, versuche es nochmal!\")\n",
    "else:\n",
    "    print(\"Bravo, deine Zahl liegt zwischen 1 und 6!\")\n",
    "\n",
    "\n",
    "# Schreibe deinen Code hier\n",
    "\n",
    "# Schreibe deinen Code hier"
   ]
  },
  {
   "cell_type": "markdown",
   "id": "053b3f24",
   "metadata": {},
   "source": [
    "## Aufgabe 3: Elemente inkrementieren\n",
    "\n",
    "- Erzeuge eine neue Liste namens `new_list`, welche die Zahlen von `my_list` um 10 erhöht enthält.\n",
    "- Dabei musst du durch die Liste `my_list` iterieren (`for-Schleife`!) und die neue Elemente in der neuen Liste hinzufügen."
   ]
  },
  {
   "cell_type": "code",
   "execution_count": null,
   "id": "7007265d",
   "metadata": {},
   "outputs": [],
   "source": [
    "my_list = [1, 2, 3, 4]\n",
    "new_list = []\n",
    "\n",
    "for x in my_list:\n",
    "    new_list.append(x)\n",
    "\n",
    "# Schreibe deinen Code hier\n",
    "\n",
    "# Schreibe deinen Code hier\n",
    "\n",
    "print(new_list)    # [11,12,13,14]"
   ]
  },
  {
   "cell_type": "markdown",
   "id": "c9c20c2e",
   "metadata": {},
   "source": [
    "## Aufgabe 4: Summe einer Liste\n",
    "\n",
    "- Addiere alle Elemente in der folgenden Liste `my_list` und speichere das Resultat.\n",
    "- Die Pythonfunktion `sum` ist in diesem Fall **nicht** erlaubt!"
   ]
  },
  {
   "cell_type": "code",
   "execution_count": 5,
   "id": "87aeb15c",
   "metadata": {},
   "outputs": [
    {
     "name": "stdout",
     "output_type": "stream",
     "text": [
      "Die Summe aller Elemente ist 55\n"
     ]
    }
   ],
   "source": [
    "my_list = [1, 2, 3, 4, 5, 6, 7, 8, 9, 10]\n",
    "result = 0\n",
    "\n",
    "for y in my_list:\n",
    "    result += y\n",
    "\n",
    "# Schreibe deinen Code hier\n",
    "\n",
    "# Schreibe deinen Code hier\n",
    "print(\"Die Summe aller Elemente ist\", result)"
   ]
  },
  {
   "cell_type": "markdown",
   "id": "61bf5e46",
   "metadata": {},
   "source": [
    "## Aufgabe 5: Limit setzten\n",
    "\n",
    "- Gegeben ist ein Dictionary mit den Preisen von Produkten. Der\\*Die User*in soll eine ganze Zahl (Integer) als Preislimit setzten. Daraufhin sollen nur die Produkte auf der Konsole ausgegeben werden, die er/sie sich leisten kann.\n",
    "\n",
    "> <span style=\"color:green\"> **_ERINNERUNG:_** </span> Der Wert aus der Funktion `input()` ist immer eine **String** und soll zu einem Integer gecastet werden."
   ]
  },
  {
   "cell_type": "code",
   "execution_count": 10,
   "id": "29a09fac",
   "metadata": {},
   "outputs": [
    {
     "name": "stdout",
     "output_type": "stream",
     "text": [
      "Gib eine ganze Zahl als Preislimit ein! 400\n",
      "Dieses Produkt ist für dich bezahlbar:  TV\n",
      "Dieses Produkt ist für dich bezahlbar:  Monitor\n"
     ]
    }
   ],
   "source": [
    "products = {\"TV\" : 400, \"Laptop\" : 800, \"Monitor\" : 300, \"Phone\" : 500}\n",
    "limit = input(\"Gib eine ganze Zahl als Preislimit ein! \")\n",
    "\n",
    "for k,v in products.items():\n",
    "    \n",
    "    if v > int(limit):\n",
    "        continue\n",
    "        \n",
    "    else:\n",
    "        print(\"Dieses Produkt ist für dich bezahlbar: \",k)\n",
    "\n",
    "\n",
    "# Schreibe deinen Code hier\n",
    "\n",
    "# Schreibe deinen Code hier"
   ]
  },
  {
   "cell_type": "markdown",
   "id": "8df9ddc5",
   "metadata": {},
   "source": [
    "\n"
   ]
  },
  {
   "cell_type": "markdown",
   "id": "ee4cd487",
   "metadata": {},
   "source": [
    "## Aufgabe 6: Liste\n",
    "\n",
    "- Schreibe ein Programm, welches in einer Liste den ersten mit dem letzten Element austauscht. \n",
    "\n",
    "**Beispiele:**\n",
    "\\begin{align}\n",
    "[1,2,3]  &\\Longrightarrow [3,2,1] \\\\\n",
    "[1,2,3,4,5] &\\Longrightarrow [5,2,3,4,1] \n",
    "\\end{align}"
   ]
  },
  {
   "cell_type": "code",
   "execution_count": 12,
   "id": "1e66b8e2",
   "metadata": {},
   "outputs": [
    {
     "name": "stdout",
     "output_type": "stream",
     "text": [
      "[5, 2, 3, 4, 1]\n"
     ]
    }
   ],
   "source": [
    "l = [1,2,3,4,5]\n",
    "\n",
    "l[0],l[-1] = l[-1],l[0]\n",
    "\n",
    "print(l)\n",
    "\n",
    "# Schreibe deinen Code hier\n",
    "\n",
    "# Schreibe deinen Code hier"
   ]
  },
  {
   "cell_type": "markdown",
   "id": "a26b8765",
   "metadata": {},
   "source": [
    "## Aufgabe 7: Fakultät\n",
    "\n",
    "- Schreibe ein Programm welches die Fakultät von $10$ berechnet. Das ist die Zahl\n",
    "\n",
    "\\begin{align}\n",
    "1\\cdot2\\cdot3\\cdot...\\cdot10\n",
    "\\end{align}\n",
    "- Dies kann man in der Mathematik auch abgekürzt schreiben als \n",
    "\n",
    "\\begin{align}\n",
    "10!\n",
    "\\end{align}\n",
    "\n",
    "- Benutze eine `for`-Schleife und die Funktion `range()`."
   ]
  },
  {
   "cell_type": "code",
   "execution_count": 14,
   "id": "769cee2e",
   "metadata": {},
   "outputs": [
    {
     "name": "stdout",
     "output_type": "stream",
     "text": [
      "3628800\n"
     ]
    }
   ],
   "source": [
    "multi = 1\n",
    "\n",
    "for i in range(1,11):\n",
    "    multi *= i\n",
    "    \n",
    "print(multi)\n",
    "\n",
    "# Schreibe deinen Code hier\n",
    "\n",
    "# Schreibe deinen Code hier"
   ]
  },
  {
   "cell_type": "markdown",
   "id": "d78b6bfa",
   "metadata": {},
   "source": [
    "## Aufgabe 8: Vokale\n",
    "\n",
    "- Lass den\\*die Nutzer\\*in 2 Eingaben tätigen. Teile ihm\\*ihr mit, in welcher Eingabe sich mehr Vokale befinden.\n",
    "- Die Funktion `count(v)` eines Strings kann bei dieser Aufgabe nützlich sein. Sie zählt wie oft ein Buchstabe `v` in einem String vorkommt. Z.b. liefert \n",
    "\n",
    "`\"hausaufgaben\".count(\"a\")`\n",
    "\n",
    "das Ergebnis 3. "
   ]
  },
  {
   "cell_type": "code",
   "execution_count": null,
   "id": "db4da03b",
   "metadata": {},
   "outputs": [],
   "source": [
    "vokale = ['a','o','e','i','u']\n",
    "\n",
    "# Schreibe deinen Code hier\n",
    "\n",
    "# Schreibe deinen Code hier"
   ]
  },
  {
   "cell_type": "code",
   "execution_count": null,
   "id": "b8a6e516",
   "metadata": {},
   "outputs": [],
   "source": []
  }
 ],
 "metadata": {
  "kernelspec": {
   "display_name": "Python 3 (ipykernel)",
   "language": "python",
   "name": "python3"
  },
  "language_info": {
   "codemirror_mode": {
    "name": "ipython",
    "version": 3
   },
   "file_extension": ".py",
   "mimetype": "text/x-python",
   "name": "python",
   "nbconvert_exporter": "python",
   "pygments_lexer": "ipython3",
   "version": "3.10.9"
  }
 },
 "nbformat": 4,
 "nbformat_minor": 5
}
