{
 "cells": [
  {
   "cell_type": "code",
   "execution_count": 5,
   "id": "c2c17eee",
   "metadata": {},
   "outputs": [
    {
     "name": "stdout",
     "output_type": "stream",
     "text": [
      "Welches Wort soll der Datenbank hinzugefügt werden: (oder EXIT)\n",
      "brot\n",
      "Das Wort BROT befindet sich schon in der Datenbank!\n",
      "Welches Wort soll der Datenbank hinzugefügt werden: (oder EXIT)\n",
      "exit\n",
      "Die aktuelle Datenbank lautet:\n",
      "BAUM\n",
      "HAUS\n",
      "KATZE\n",
      "JAHR\n",
      "UHR\n",
      "EURO\n",
      "PROZENT\n",
      "MENSCH\n",
      "TAG\n",
      "ZEIT\n",
      "DEUTSCHLAND\n",
      "KIND\n",
      "LAND\n",
      "EXIT\n",
      "AROMA\n",
      "STADT\n",
      "BROT\n",
      "ITALIEN\n",
      "Die Datenbank wird nun geschlossen!\n"
     ]
    }
   ],
   "source": [
    "import sqlite3\n",
    "connection = sqlite3.connect(\"hangman_database.db\")\n",
    "cur = connection.cursor()\n",
    "\n",
    "aktiv = True\n",
    "\n",
    "while aktiv:\n",
    "    \n",
    "    user_eingabe = input(\"Welches Wort soll der Datenbank hinzugefügt werden: (oder EXIT)\\n\")\n",
    "    wort = user_eingabe.upper()\n",
    "    länge_wort = len(user_eingabe)\n",
    "    user_tupel = (wort,länge_wort)\n",
    "    \n",
    "    if wort == \"EXIT\":\n",
    "        print(\"Die aktuelle Datenbank lautet:\")\n",
    "        for db in cur.execute(\"SELECT * FROM words\"):\n",
    "            print(db[0])\n",
    "        print(\"Die Datenbank wird nun geschlossen!\")\n",
    "        connection.close()\n",
    "        break\n",
    "        \n",
    "    elif not user_tupel in cur.execute(\"SELECT * FROM words\"):\n",
    "        cur.execute(\"INSERT INTO words VALUES(?,?)\", (wort, länge_wort))\n",
    "        connection.commit()\n",
    "        print(f\"Das Wort {wort} wurde in der Datenbank abgespeichert!\")\n",
    "            \n",
    "    else:\n",
    "        print(f\"Das Wort {wort} befindet sich schon in der Datenbank!\")        \n",
    "        "
   ]
  },
  {
   "cell_type": "code",
   "execution_count": null,
   "id": "ddbc8499",
   "metadata": {},
   "outputs": [],
   "source": []
  },
  {
   "cell_type": "code",
   "execution_count": null,
   "id": "9a989751",
   "metadata": {},
   "outputs": [],
   "source": []
  },
  {
   "cell_type": "code",
   "execution_count": null,
   "id": "866aff77",
   "metadata": {},
   "outputs": [],
   "source": []
  },
  {
   "cell_type": "code",
   "execution_count": null,
   "id": "a8821e37",
   "metadata": {},
   "outputs": [],
   "source": []
  },
  {
   "cell_type": "code",
   "execution_count": null,
   "id": "bb84ce09",
   "metadata": {},
   "outputs": [],
   "source": []
  },
  {
   "cell_type": "code",
   "execution_count": null,
   "id": "6ef33f85",
   "metadata": {},
   "outputs": [],
   "source": []
  }
 ],
 "metadata": {
  "kernelspec": {
   "display_name": "Python 3 (ipykernel)",
   "language": "python",
   "name": "python3"
  },
  "language_info": {
   "codemirror_mode": {
    "name": "ipython",
    "version": 3
   },
   "file_extension": ".py",
   "mimetype": "text/x-python",
   "name": "python",
   "nbconvert_exporter": "python",
   "pygments_lexer": "ipython3",
   "version": "3.10.9"
  }
 },
 "nbformat": 4,
 "nbformat_minor": 5
}
