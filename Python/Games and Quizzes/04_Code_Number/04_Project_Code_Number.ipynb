{
 "cells": [
  {
   "cell_type": "code",
   "execution_count": 1,
   "id": "7c25ee98",
   "metadata": {},
   "outputs": [
    {
     "name": "stdout",
     "output_type": "stream",
     "text": [
      "Bitte Text eingeben (oder quit): du DU???\n",
      "Um wieviel Zeichen soll der Text veschlüsselt werden? 2\n",
      "Text verschlüsselt:  fw fw???\n",
      "Bitte Text eingeben (oder quit): quit\n",
      "Das Verschlüsseln ist beendet!\n"
     ]
    }
   ],
   "source": [
    "\n",
    "def text_eingabe():\n",
    "    user_text = input(\"Bitte Text eingeben (oder quit): \").lower()\n",
    "    return user_text\n",
    "\n",
    "def zahl_eingabe():\n",
    "    user_zahl = int(input(\"Um wieviel Zeichen soll der Text veschlüsselt werden? \"))\n",
    "    return user_zahl\n",
    "\n",
    "def buchstaben_klein():\n",
    "    \n",
    "    buchstaben_kl = \"\"\n",
    "    for b in range(97,123):\n",
    "        buchstaben_kl += chr(b)\n",
    "    return buchstaben_kl\n",
    "    \n",
    "aktive = True\n",
    "\n",
    "while aktive:\n",
    "    \n",
    "    user_text = text_eingabe()\n",
    "    if user_text == \"quit\":\n",
    "        print(\"Das Verschlüsseln ist beendet!\")\n",
    "        break\n",
    "    user_zahl = zahl_eingabe()\n",
    "    buchstaben_kl = buchstaben_klein()\n",
    "    no_text = \"\"\n",
    "    \n",
    "    for a in user_text:\n",
    "        if a == \" \":\n",
    "            no_text += \" \"\n",
    "            continue\n",
    "        if a not in buchstaben_kl:\n",
    "            no_text += a\n",
    "            continue\n",
    "            \n",
    "        for c in range(len(buchstaben_kl)):\n",
    "            if a == buchstaben_kl[c]:\n",
    "                if c + user_zahl >= len(buchstaben_kl):\n",
    "                    no_text += buchstaben_kl[c + user_zahl - len(buchstaben_kl)]\n",
    "                else:\n",
    "                    no_text += buchstaben_kl[c + user_zahl]\n",
    "                    \n",
    "    print(\"Text verschlüsselt: \",no_text)\n",
    "    "
   ]
  },
  {
   "cell_type": "code",
   "execution_count": null,
   "id": "1abf6696",
   "metadata": {},
   "outputs": [],
   "source": []
  },
  {
   "cell_type": "code",
   "execution_count": null,
   "id": "32dec919",
   "metadata": {},
   "outputs": [],
   "source": []
  },
  {
   "cell_type": "code",
   "execution_count": null,
   "id": "4f21d31b",
   "metadata": {},
   "outputs": [],
   "source": []
  },
  {
   "cell_type": "code",
   "execution_count": null,
   "id": "4c3812b5",
   "metadata": {},
   "outputs": [],
   "source": []
  }
 ],
 "metadata": {
  "kernelspec": {
   "display_name": "Python 3 (ipykernel)",
   "language": "python",
   "name": "python3"
  },
  "language_info": {
   "codemirror_mode": {
    "name": "ipython",
    "version": 3
   },
   "file_extension": ".py",
   "mimetype": "text/x-python",
   "name": "python",
   "nbconvert_exporter": "python",
   "pygments_lexer": "ipython3",
   "version": "3.10.9"
  }
 },
 "nbformat": 4,
 "nbformat_minor": 5
}
