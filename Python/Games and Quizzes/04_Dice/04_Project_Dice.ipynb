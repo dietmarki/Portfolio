{
 "cells": [
  {
   "cell_type": "code",
   "execution_count": 17,
   "id": "a60f6f68",
   "metadata": {},
   "outputs": [
    {
     "name": "stdout",
     "output_type": "stream",
     "text": [
      "Wie viele Würfe sollen simuliert werden? 56\n",
      "Simuliere  56  Würfe....\n",
      "Der Mittelwert der Würfe ist  3.5535714285714284 \n",
      "Der theoretische Wert ist 3.5\n",
      "Für beenden (quit), sonst irgendwas!\n",
      "Wie viele Würfe sollen simuliert werden? 7900000\n",
      "Simuliere  7900000  Würfe....\n",
      "Der Mittelwert der Würfe ist  3.4998455696202533 \n",
      "Der theoretische Wert ist 3.5\n",
      "Für beenden (quit), sonst irgendwas!quit\n",
      "Berechnung ist beendet.\n"
     ]
    }
   ],
   "source": [
    "#Simuliere N Würfe eines (fairen) Würfels\n",
    "\n",
    "#Speichere diese Würfe in einer geeigneten Datenstruktur ( eine Liste bietet sich an)\n",
    "\n",
    "# Berechne den Mittelwert dieser Würfe\n",
    "\n",
    "#Wie nahe sind wir am theoretischen Erwarungswert von 3.5?\n",
    "\n",
    "#Was ändert sich wenn wir N groß bzw. klein wählen?\n",
    "  \n",
    "from random import randint\n",
    "\n",
    "def wurfliste():\n",
    "    \n",
    "    n_würfe = int(input(\"Wie viele Würfe sollen simuliert werden? \"))\n",
    "    print(\"Simuliere \",n_würfe, \" Würfe....\")\n",
    "    liste = []\n",
    "    for i in range(1,(n_würfe + 1)):\n",
    "        liste.append(randint(1,6))\n",
    "        \n",
    "    return liste\n",
    "\n",
    "def mittelwert():\n",
    "    \n",
    "    liste = wurfliste()\n",
    "    summe = 0\n",
    "    for a in liste:\n",
    "        summe += a\n",
    "        \n",
    "    m_wert = summe / len(liste)\n",
    "    \n",
    "    print(\"Der Mittelwert der Würfe ist \", m_wert, \"\\nDer theoretische Wert ist 3.5\")\n",
    "        \n",
    "aktive = True\n",
    "\n",
    "while aktive:\n",
    "    \n",
    "    mittelwert()\n",
    "    beenden = input(\"Für beenden (quit), sonst irgendwas!\")\n",
    "    if beenden == \"quit\":\n",
    "        print(\"Berechnung ist beendet.\")\n",
    "        break\n",
    "    \n"
   ]
  },
  {
   "cell_type": "code",
   "execution_count": null,
   "id": "926c7f35",
   "metadata": {},
   "outputs": [],
   "source": []
  },
  {
   "cell_type": "code",
   "execution_count": null,
   "id": "9a5f8399",
   "metadata": {},
   "outputs": [],
   "source": []
  },
  {
   "cell_type": "code",
   "execution_count": null,
   "id": "d6972cd5",
   "metadata": {},
   "outputs": [],
   "source": []
  },
  {
   "cell_type": "code",
   "execution_count": null,
   "id": "93f1ed87",
   "metadata": {},
   "outputs": [],
   "source": []
  }
 ],
 "metadata": {
  "kernelspec": {
   "display_name": "Python 3 (ipykernel)",
   "language": "python",
   "name": "python3"
  },
  "language_info": {
   "codemirror_mode": {
    "name": "ipython",
    "version": 3
   },
   "file_extension": ".py",
   "mimetype": "text/x-python",
   "name": "python",
   "nbconvert_exporter": "python",
   "pygments_lexer": "ipython3",
   "version": "3.10.9"
  }
 },
 "nbformat": 4,
 "nbformat_minor": 5
}
