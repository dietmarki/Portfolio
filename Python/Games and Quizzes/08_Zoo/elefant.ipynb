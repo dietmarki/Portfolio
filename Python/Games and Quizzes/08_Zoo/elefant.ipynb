{
 "cells": [
  {
   "cell_type": "code",
   "execution_count": 1,
   "id": "257cac4c",
   "metadata": {},
   "outputs": [],
   "source": [
    "from tier import Tier"
   ]
  },
  {
   "cell_type": "code",
   "execution_count": null,
   "id": "2fccc787",
   "metadata": {},
   "outputs": [],
   "source": [
    "class Elefant(Tier):  \n",
    "\n",
    "    def __init__(self, name, sex, age, is_cold_blooded, is_mammal, num_foots = 4):\n",
    "        super().__init__(name, sex, age)\n",
    "        self.is_cold_blooded = is_cold_blooded\n",
    "        self.is_mammal = is_mammal\n",
    "        self.num_foots = num_foots\n",
    "        \n",
    "    def eat(self):\n",
    "        print(f\"Elefant {self.name} ist ein Pflanzenfresser.\")\n",
    "    \n",
    "    def sleep(self):\n",
    "        print(f\"Elefant {self.name} schläft.\")\n",
    "        \n",
    "    def grow(self,years):\n",
    "        self.age += years\n",
    "        print(f\"Elefant {self.name} wurde {years} Jahre älter und ist jetzt {self.age} Jahre alt.\")\n",
    "        \n",
    "    def typ(self):\n",
    "        print(f\"Der Elefant hat einen langen Rüssel und ein sehr gutes Gedächtnis.\")\n",
    "    "
   ]
  }
 ],
 "metadata": {
  "kernelspec": {
   "display_name": "Python 3 (ipykernel)",
   "language": "python",
   "name": "python3"
  },
  "language_info": {
   "codemirror_mode": {
    "name": "ipython",
    "version": 3
   },
   "file_extension": ".py",
   "mimetype": "text/x-python",
   "name": "python",
   "nbconvert_exporter": "python",
   "pygments_lexer": "ipython3",
   "version": "3.10.9"
  }
 },
 "nbformat": 4,
 "nbformat_minor": 5
}
