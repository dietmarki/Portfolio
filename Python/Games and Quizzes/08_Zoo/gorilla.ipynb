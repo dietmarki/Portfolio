{
 "cells": [
  {
   "cell_type": "code",
   "execution_count": 1,
   "id": "ea49f5b5",
   "metadata": {},
   "outputs": [],
   "source": [
    "from tier import Tier"
   ]
  },
  {
   "cell_type": "code",
   "execution_count": null,
   "id": "6a35ae95",
   "metadata": {},
   "outputs": [],
   "source": [
    "class Gorilla(Tier):  \n",
    "\n",
    "    def __init__(self, name, sex, age, is_cold_blooded, is_mammal, num_foots = 4):\n",
    "        super().__init__(name, sex, age)\n",
    "        self.is_cold_blooded = is_cold_blooded\n",
    "        self.is_mammal = is_mammal\n",
    "        self.num_foots = num_foots\n",
    "        \n",
    "    def eat(self):\n",
    "        print(f\"Gorilla {self.name} ernährt sich von Früchten.\")\n",
    "    \n",
    "    def sleep(self):\n",
    "        print(f\"Gorilla {self.name} schläft.\")\n",
    "        \n",
    "    def grow(self,years):\n",
    "        self.age += years\n",
    "        print(f\"Gorilla {self.name} wurde {years} Jahre älter und ist jetzt {self.age} Jahre alt.\")\n",
    "        \n",
    "    def klettern(self):\n",
    "        print(f\"Gorilla {self.name} klettert auf Bäume, um Früchte zu sammeln.\")\n",
    "    \n"
   ]
  }
 ],
 "metadata": {
  "kernelspec": {
   "display_name": "Python 3 (ipykernel)",
   "language": "python",
   "name": "python3"
  },
  "language_info": {
   "codemirror_mode": {
    "name": "ipython",
    "version": 3
   },
   "file_extension": ".py",
   "mimetype": "text/x-python",
   "name": "python",
   "nbconvert_exporter": "python",
   "pygments_lexer": "ipython3",
   "version": "3.10.9"
  }
 },
 "nbformat": 4,
 "nbformat_minor": 5
}
