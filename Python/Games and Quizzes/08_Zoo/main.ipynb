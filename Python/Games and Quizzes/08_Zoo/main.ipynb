{
 "cells": [
  {
   "cell_type": "code",
   "execution_count": 1,
   "id": "49c749d6",
   "metadata": {},
   "outputs": [],
   "source": [
    "from tier import Tier"
   ]
  },
  {
   "cell_type": "code",
   "execution_count": 2,
   "id": "75b56f5c",
   "metadata": {},
   "outputs": [],
   "source": [
    "from tiger import Tiger"
   ]
  },
  {
   "cell_type": "code",
   "execution_count": 3,
   "id": "a5772ef5",
   "metadata": {},
   "outputs": [],
   "source": [
    "tigerlein = Tiger(\"Tigerlein\", \"männlich\", 12, \"Ja\", \"Säugetier\")"
   ]
  },
  {
   "cell_type": "code",
   "execution_count": 4,
   "id": "618b34aa",
   "metadata": {},
   "outputs": [
    {
     "name": "stdout",
     "output_type": "stream",
     "text": [
      "Der Tiger zählt zu den gefährlichsten Raubtieren der Welt.\n"
     ]
    }
   ],
   "source": [
    "tigerlein.typ()"
   ]
  },
  {
   "cell_type": "code",
   "execution_count": 5,
   "id": "7a95ecf9",
   "metadata": {},
   "outputs": [],
   "source": [
    "from gorilla import Gorilla"
   ]
  },
  {
   "cell_type": "code",
   "execution_count": 6,
   "id": "9263b7b3",
   "metadata": {},
   "outputs": [],
   "source": [
    "cheetah = Gorilla(\"Cheetah\", \"männlich\", 12, \"Ja\", \"Säugetier\")"
   ]
  },
  {
   "cell_type": "code",
   "execution_count": 7,
   "id": "75969db6",
   "metadata": {},
   "outputs": [
    {
     "name": "stdout",
     "output_type": "stream",
     "text": [
      "Gorilla Cheetah klettert auf Bäume, um Früchte zu sammeln.\n"
     ]
    }
   ],
   "source": [
    "cheetah.klettern()"
   ]
  },
  {
   "cell_type": "code",
   "execution_count": 8,
   "id": "e5bd8db4",
   "metadata": {},
   "outputs": [],
   "source": [
    "from elefant import Elefant"
   ]
  },
  {
   "cell_type": "code",
   "execution_count": 9,
   "id": "4ee8bb4f",
   "metadata": {},
   "outputs": [],
   "source": [
    "dumbo = Elefant(\"Dumbo\", \"weiblich\", 43, \"Ja\", \"Säugetier\")"
   ]
  },
  {
   "cell_type": "code",
   "execution_count": 10,
   "id": "03ce6938",
   "metadata": {},
   "outputs": [
    {
     "name": "stdout",
     "output_type": "stream",
     "text": [
      "Der Elefant hat einen langen Rüssel und ein sehr gutes Gedächtnis.\n"
     ]
    }
   ],
   "source": [
    "dumbo.typ()"
   ]
  },
  {
   "cell_type": "code",
   "execution_count": 11,
   "id": "ae98a564",
   "metadata": {},
   "outputs": [],
   "source": [
    "from adler import Adler"
   ]
  },
  {
   "cell_type": "code",
   "execution_count": 12,
   "id": "f2a39d40",
   "metadata": {},
   "outputs": [],
   "source": [
    "woopi = Adler(\"Woopi\", \"weiblich\", 7, \"Ja\", \"kein Säugetier\")"
   ]
  },
  {
   "cell_type": "code",
   "execution_count": 13,
   "id": "762142de",
   "metadata": {},
   "outputs": [
    {
     "name": "stdout",
     "output_type": "stream",
     "text": [
      "Adler Woopi wurde 3 Jahre älter und ist jetzt 10 Jahre alt.\n"
     ]
    }
   ],
   "source": [
    "woopi.grow(3)"
   ]
  },
  {
   "cell_type": "code",
   "execution_count": null,
   "id": "63583548",
   "metadata": {},
   "outputs": [],
   "source": []
  }
 ],
 "metadata": {
  "kernelspec": {
   "display_name": "Python 3 (ipykernel)",
   "language": "python",
   "name": "python3"
  },
  "language_info": {
   "codemirror_mode": {
    "name": "ipython",
    "version": 3
   },
   "file_extension": ".py",
   "mimetype": "text/x-python",
   "name": "python",
   "nbconvert_exporter": "python",
   "pygments_lexer": "ipython3",
   "version": "3.10.9"
  }
 },
 "nbformat": 4,
 "nbformat_minor": 5
}
