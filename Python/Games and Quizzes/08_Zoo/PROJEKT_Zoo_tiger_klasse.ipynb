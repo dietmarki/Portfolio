{
 "cells": [
  {
   "cell_type": "code",
   "execution_count": 1,
   "id": "ba2ca9c5",
   "metadata": {},
   "outputs": [],
   "source": [
    "\n",
    "class Tier:\n",
    "    \n",
    "    def __init__(self, name, sex, age):\n",
    "        self.name = name\n",
    "        self.sex  = sex\n",
    "        self.age  = age\n",
    "\n",
    "    def eat(self):\n",
    "        print(f\"{self.name} isst.\")\n",
    "    \n",
    "    def sleep(self):\n",
    "        print(f\"{self.name} schläft.\")\n",
    "        \n",
    "    def grow(self,years):\n",
    "        self.age += years\n",
    "        print(f\"{self.name} wurde {years} Jahre älter und ist jetzt {self.age} Jahre alt.\")\n",
    "        "
   ]
  },
  {
   "cell_type": "code",
   "execution_count": 2,
   "id": "a6e57cd5",
   "metadata": {},
   "outputs": [],
   "source": [
    "\n",
    "class Tiger(Tier):  \n",
    "\n",
    "    def __init__(self, name, sex, age, is_cold_blooded, is_mammal, num_foots = 4):\n",
    "        super().__init__(name, sex, age)\n",
    "        self.is_cold_blooded = is_cold_blooded\n",
    "        self.is_mammal = is_mammal\n",
    "        self.num_foots = num_foots\n",
    "        \n",
    "    def eat(self):\n",
    "        print(f\"Tiger {self.name} ist ein Fleischfresser.\")\n",
    "    \n",
    "    def sleep(self):\n",
    "        print(f\"Tiger {self.name} schläft.\")\n",
    "        \n",
    "    def grow(self,years):\n",
    "        self.age += years\n",
    "        print(f\"Tiger {self.name} wurde {years} Jahre älter und ist jetzt {self.age} Jahre alt.\")\n",
    "        \n",
    "    def typ(self):\n",
    "        print(f\"Der Tiger zählt zu den gefährlichsten Raubtieren der Welt.\")\n",
    "    \n"
   ]
  },
  {
   "cell_type": "code",
   "execution_count": 3,
   "id": "dbd3356c",
   "metadata": {},
   "outputs": [],
   "source": [
    "\n",
    "woopi = Tiger(\"Woopi\",0,23,\"Ja\",\"Ja\")\n"
   ]
  },
  {
   "cell_type": "code",
   "execution_count": 4,
   "id": "01c4ccae",
   "metadata": {},
   "outputs": [
    {
     "name": "stdout",
     "output_type": "stream",
     "text": [
      "Tiger Woopi wurde 6 Jahre älter und ist jetzt 29 Jahre alt.\n"
     ]
    }
   ],
   "source": [
    "woopi.grow(6)"
   ]
  },
  {
   "cell_type": "code",
   "execution_count": 5,
   "id": "55264e39",
   "metadata": {},
   "outputs": [],
   "source": [
    "class Gorilla(Tier):  \n",
    "\n",
    "    def __init__(self, name, sex, age, is_cold_blooded, is_mammal, num_foots = 4):\n",
    "        super().__init__(name, sex, age)\n",
    "        self.is_cold_blooded = is_cold_blooded\n",
    "        self.is_mammal = is_mammal\n",
    "        self.num_foots = num_foots\n",
    "        \n",
    "    def eat(self):\n",
    "        print(f\"Gorilla {self.name} ernährt sich von Früchten.\")\n",
    "    \n",
    "    def sleep(self):\n",
    "        print(f\"Gorilla {self.name} schläft.\")\n",
    "        \n",
    "    def grow(self,years):\n",
    "        self.age += years\n",
    "        print(f\"Gorilla {self.name} wurde {years} Jahre älter und ist jetzt {self.age} Jahre alt.\")\n",
    "        \n",
    "    def klettern(self):\n",
    "        print(f\"Gorilla {self.name} klettert auf Bäume, um Früchte zu sammeln.\")\n",
    "    \n"
   ]
  },
  {
   "cell_type": "code",
   "execution_count": 6,
   "id": "065e645a",
   "metadata": {},
   "outputs": [],
   "source": [
    "\n",
    "cheetah = Gorilla(\"Cheetah\", \"männlich\", 4, \"Ja\", \"Säugetier\")\n"
   ]
  },
  {
   "cell_type": "code",
   "execution_count": 7,
   "id": "57db6150",
   "metadata": {},
   "outputs": [
    {
     "name": "stdout",
     "output_type": "stream",
     "text": [
      "Gorilla Cheetah wurde 7 Jahre älter und ist jetzt 11 Jahre alt.\n"
     ]
    }
   ],
   "source": [
    "cheetah.grow(7)"
   ]
  },
  {
   "cell_type": "code",
   "execution_count": null,
   "id": "ddc1248a",
   "metadata": {},
   "outputs": [],
   "source": [
    "class Elefant(Tier):  \n",
    "\n",
    "    def __init__(self, name, sex, age, is_cold_blooded, is_mammal, num_foots = 4):\n",
    "        super().__init__(name, sex, age)\n",
    "        self.is_cold_blooded = is_cold_blooded\n",
    "        self.is_mammal = is_mammal\n",
    "        self.num_foots = num_foots\n",
    "        \n",
    "    def eat(self):\n",
    "        print(f\"Elefant {self.name} ist ein Pflanzenfresser.\")\n",
    "    \n",
    "    def sleep(self):\n",
    "        print(f\"Elefant {self.name} schläft.\")\n",
    "        \n",
    "    def grow(self,years):\n",
    "        self.age += years\n",
    "        print(f\"Elefant {self.name} wurde {years} Jahre älter und ist jetzt {self.age} Jahre alt.\")\n",
    "        \n",
    "    def typ(self):\n",
    "        print(f\"Der Elefant hat einen langen Rüssel und ein sehr gutes Gedächtnis.\")\n",
    "    \n"
   ]
  },
  {
   "cell_type": "code",
   "execution_count": null,
   "id": "fc56b174",
   "metadata": {},
   "outputs": [],
   "source": [
    "class Adler(Tier):  \n",
    "\n",
    "    def __init__(self, name, sex, age, is_cold_blooded, is_mammal, num_foots = 2):\n",
    "        super().__init__(name, sex, age)\n",
    "        self.is_cold_blooded = is_cold_blooded\n",
    "        self.is_mammal = is_mammal\n",
    "        self.num_foots = num_foots\n",
    "        \n",
    "    def eat(self):\n",
    "        print(f\"Adler {self.name} ist ein Fleischfresser.\")\n",
    "    \n",
    "    def sleep(self):\n",
    "        print(f\"Adler {self.name} schläft.\")\n",
    "        \n",
    "    def grow(self,years):\n",
    "        self.age += years\n",
    "        print(f\"Adler {self.name} wurde {years} Jahre älter und ist jetzt {self.age} Jahre alt.\")\n",
    "        \n",
    "    def typ(self):\n",
    "        print(f\"Der Adler kann fliegen und ist kein Säugetier.\")"
   ]
  },
  {
   "cell_type": "code",
   "execution_count": null,
   "id": "1420213e",
   "metadata": {},
   "outputs": [],
   "source": []
  },
  {
   "cell_type": "code",
   "execution_count": null,
   "id": "28da29fb",
   "metadata": {},
   "outputs": [],
   "source": []
  }
 ],
 "metadata": {
  "kernelspec": {
   "display_name": "Python 3 (ipykernel)",
   "language": "python",
   "name": "python3"
  },
  "language_info": {
   "codemirror_mode": {
    "name": "ipython",
    "version": 3
   },
   "file_extension": ".py",
   "mimetype": "text/x-python",
   "name": "python",
   "nbconvert_exporter": "python",
   "pygments_lexer": "ipython3",
   "version": "3.10.9"
  }
 },
 "nbformat": 4,
 "nbformat_minor": 5
}
