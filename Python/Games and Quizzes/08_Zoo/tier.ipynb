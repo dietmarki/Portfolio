{
 "cells": [
  {
   "cell_type": "code",
   "execution_count": null,
   "id": "ef59389d",
   "metadata": {},
   "outputs": [],
   "source": [
    "class Tier:\n",
    "    \n",
    "    def __init__(self, name, sex, age):\n",
    "        self.name = name\n",
    "        self.sex  = sex\n",
    "        self.age  = age\n",
    "\n",
    "    def eat(self):\n",
    "        print(f\"{self.name} isst.\")\n",
    "    \n",
    "    def sleep(self):\n",
    "        print(f\"{self.name} schläft.\")\n",
    "        \n",
    "    def grow(self,years):\n",
    "        self.age += years\n",
    "        print(f\"{self.name} wurde {years} Jahre älter und ist jetzt {self.age} Jahre alt.\")"
   ]
  }
 ],
 "metadata": {
  "kernelspec": {
   "display_name": "Python 3 (ipykernel)",
   "language": "python",
   "name": "python3"
  },
  "language_info": {
   "codemirror_mode": {
    "name": "ipython",
    "version": 3
   },
   "file_extension": ".py",
   "mimetype": "text/x-python",
   "name": "python",
   "nbconvert_exporter": "python",
   "pygments_lexer": "ipython3",
   "version": "3.10.9"
  }
 },
 "nbformat": 4,
 "nbformat_minor": 5
}
