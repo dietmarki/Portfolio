{
 "cells": [
  {
   "cell_type": "code",
   "execution_count": 29,
   "id": "ba2ca9c5",
   "metadata": {},
   "outputs": [],
   "source": [
    "\n",
    "class Tier:\n",
    "    \n",
    "    def __init__(self, name, sex, age):\n",
    "        self.name = name\n",
    "        self.sex  = sex\n",
    "        self.age  = age\n",
    "\n",
    "    def eat(self):\n",
    "        print(f\"{self.name} isst.\")\n",
    "    \n",
    "    def sleep(self):\n",
    "        print(f\"{self.name} schläft.\")\n",
    "        \n",
    "    def grow(self,years):\n",
    "        print(f\"{self.name} wurde {years} Jahre älter und ist jetzt {self.age + years} Jahre alt.\")\n",
    "        "
   ]
  },
  {
   "cell_type": "code",
   "execution_count": 30,
   "id": "bb9ff926",
   "metadata": {},
   "outputs": [],
   "source": [
    "gorilla = Tier(\"Gorilla\", \"0\", 12)\n"
   ]
  },
  {
   "cell_type": "code",
   "execution_count": 31,
   "id": "f126cfee",
   "metadata": {},
   "outputs": [
    {
     "data": {
      "text/plain": [
       "'Gorilla ist eine Tierart.'"
      ]
     },
     "execution_count": 31,
     "metadata": {},
     "output_type": "execute_result"
    }
   ],
   "source": [
    "gorilla.info()"
   ]
  },
  {
   "cell_type": "code",
   "execution_count": 32,
   "id": "eb1d0418",
   "metadata": {},
   "outputs": [
    {
     "name": "stdout",
     "output_type": "stream",
     "text": [
      "Gorilla schläft.\n"
     ]
    }
   ],
   "source": [
    "gorilla.sleep()"
   ]
  },
  {
   "cell_type": "code",
   "execution_count": 33,
   "id": "56e2e666",
   "metadata": {},
   "outputs": [
    {
     "name": "stdout",
     "output_type": "stream",
     "text": [
      "Gorilla wurde 5 Jahre älter und ist jetzt 17 Jahre alt.\n"
     ]
    }
   ],
   "source": [
    "gorilla.grow(5)"
   ]
  },
  {
   "cell_type": "code",
   "execution_count": null,
   "id": "e29bd9b6",
   "metadata": {},
   "outputs": [],
   "source": []
  }
 ],
 "metadata": {
  "kernelspec": {
   "display_name": "Python 3 (ipykernel)",
   "language": "python",
   "name": "python3"
  },
  "language_info": {
   "codemirror_mode": {
    "name": "ipython",
    "version": 3
   },
   "file_extension": ".py",
   "mimetype": "text/x-python",
   "name": "python",
   "nbconvert_exporter": "python",
   "pygments_lexer": "ipython3",
   "version": "3.10.9"
  }
 },
 "nbformat": 4,
 "nbformat_minor": 5
}
