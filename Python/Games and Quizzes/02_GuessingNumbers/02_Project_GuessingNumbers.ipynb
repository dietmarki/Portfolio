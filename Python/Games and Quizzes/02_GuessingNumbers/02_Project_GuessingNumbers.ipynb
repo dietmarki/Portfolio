{
 "cells": [
  {
   "cell_type": "code",
   "execution_count": 1,
   "id": "a801b0f3",
   "metadata": {},
   "outputs": [
    {
     "name": "stdout",
     "output_type": "stream",
     "text": [
      "Errate die richtige Zahl des Computers zwischen 1 und 100! 4\n",
      "Zahl zu niedrig!\n",
      "Rate nochmal!60\n",
      "Zahl zu niedrig!\n",
      "Rate nochmal!80\n",
      "Zahl zu niedrig!\n",
      "Rate nochmal!90\n",
      "Zahl zu niedrig!\n",
      "Rate nochmal!96\n",
      "Zahl zu hoch!\n",
      "Rate nochmal!95\n",
      "Richtig gerraten! Du hast  6 Versuche benötigt!\n",
      "Ein weiteres Spiel? [y/n] n\n",
      "Das Spiel ist beendet.\n"
     ]
    }
   ],
   "source": [
    "from random import randint\n",
    "a = randint(1,100)\n",
    "\n",
    "gamer = input(\"Errate die richtige Zahl des Computers zwischen 1 und 100! \")\n",
    "\n",
    "aktiv = True\n",
    "durchgang = 0\n",
    "\n",
    "while aktiv:\n",
    "    \n",
    "    durchgang += 1\n",
    "    \n",
    "    if int(gamer) < a:\n",
    "        print(\"Zahl zu niedrig!\")\n",
    "        gamer = input(\"Rate nochmal!\")        \n",
    "    elif int(gamer) > a:\n",
    "        print(\"Zahl zu hoch!\")\n",
    "        gamer = input(\"Rate nochmal!\")\n",
    "    else:\n",
    "        print(\"Richtig gerraten! Du hast \",durchgang, \"Versuche benötigt!\")\n",
    "        nächstesSpiel = input(\"Ein weiteres Spiel? [y/n] \")\n",
    "        \n",
    "        if nächstesSpiel == \"n\":\n",
    "            aktiv = False\n",
    "            print(\"Das Spiel ist beendet.\")\n",
    "            \n",
    "        else:\n",
    "            gamer = input(\"Neues Spiel, gib eine Zahl ein! \")\n",
    "            durchgang = 0\n",
    "            a = randint(1,100)        \n",
    "\n"
   ]
  },
  {
   "cell_type": "markdown",
   "id": "2b52b146",
   "metadata": {},
   "source": [
    "##### "
   ]
  },
  {
   "cell_type": "code",
   "execution_count": null,
   "id": "f4f52ce5",
   "metadata": {},
   "outputs": [],
   "source": []
  },
  {
   "cell_type": "code",
   "execution_count": null,
   "id": "b26f5d4d",
   "metadata": {},
   "outputs": [],
   "source": []
  },
  {
   "cell_type": "code",
   "execution_count": null,
   "id": "f2568c38",
   "metadata": {},
   "outputs": [],
   "source": []
  },
  {
   "cell_type": "code",
   "execution_count": null,
   "id": "78ec966a",
   "metadata": {},
   "outputs": [],
   "source": []
  }
 ],
 "metadata": {
  "kernelspec": {
   "display_name": "Python 3 (ipykernel)",
   "language": "python",
   "name": "python3"
  },
  "language_info": {
   "codemirror_mode": {
    "name": "ipython",
    "version": 3
   },
   "file_extension": ".py",
   "mimetype": "text/x-python",
   "name": "python",
   "nbconvert_exporter": "python",
   "pygments_lexer": "ipython3",
   "version": "3.10.9"
  }
 },
 "nbformat": 4,
 "nbformat_minor": 5
}
