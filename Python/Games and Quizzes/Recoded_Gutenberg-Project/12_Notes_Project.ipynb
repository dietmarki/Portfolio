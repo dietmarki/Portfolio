{
 "cells": [
  {
   "cell_type": "markdown",
   "id": "1ffbfa2e",
   "metadata": {},
   "source": [
    "\n",
    "# projektmanagement (struktur)\n"
   ]
  },
  {
   "cell_type": "markdown",
   "id": "395682d7",
   "metadata": {},
   "source": [
    "# 1.\"business understanding\"\n"
   ]
  },
  {
   "cell_type": "code",
   "execution_count": null,
   "id": "c6d79503",
   "metadata": {},
   "outputs": [],
   "source": [
    "# thematik"
   ]
  },
  {
   "cell_type": "code",
   "execution_count": null,
   "id": "26d40a21",
   "metadata": {},
   "outputs": [],
   "source": [
    "# gutenberg projekt:\n",
    "# --> https://www.projekt-gutenberg.org/autoren/info/autor-az.html"
   ]
  },
  {
   "cell_type": "markdown",
   "id": "f529fcc8",
   "metadata": {},
   "source": [
    "# 2.\"data understanding\""
   ]
  },
  {
   "cell_type": "code",
   "execution_count": null,
   "id": "e21a4c2e",
   "metadata": {},
   "outputs": [],
   "source": [
    "# daten, welche werden benötigt"
   ]
  },
  {
   "cell_type": "code",
   "execution_count": null,
   "id": "f892f65b",
   "metadata": {},
   "outputs": [],
   "source": [
    "# --> daten von der seite direkt scrapen: sätze,bilder,etc."
   ]
  },
  {
   "cell_type": "markdown",
   "id": "4d74d785",
   "metadata": {},
   "source": [
    "# 3.\"data preparation\""
   ]
  },
  {
   "cell_type": "code",
   "execution_count": null,
   "id": "4234af6d",
   "metadata": {},
   "outputs": [],
   "source": [
    "# daten bereinigen, aufbereiten oder weitere besorgen"
   ]
  },
  {
   "cell_type": "code",
   "execution_count": null,
   "id": "2e7089c2",
   "metadata": {},
   "outputs": [],
   "source": []
  },
  {
   "cell_type": "markdown",
   "id": "37faa14b",
   "metadata": {},
   "source": [
    "# 4.\"modelling\""
   ]
  },
  {
   "cell_type": "code",
   "execution_count": null,
   "id": "f4dd29dd",
   "metadata": {},
   "outputs": [],
   "source": [
    "# machine learning model --> welcher algorithmus"
   ]
  },
  {
   "cell_type": "code",
   "execution_count": null,
   "id": "b16f65de",
   "metadata": {},
   "outputs": [],
   "source": []
  },
  {
   "cell_type": "markdown",
   "id": "8112154b",
   "metadata": {},
   "source": [
    "# 5.\"evaluation\""
   ]
  },
  {
   "cell_type": "code",
   "execution_count": null,
   "id": "577b3061",
   "metadata": {},
   "outputs": [],
   "source": [
    "# accuracy, classification-report, confusion-matrix"
   ]
  },
  {
   "cell_type": "code",
   "execution_count": null,
   "id": "3e33c004",
   "metadata": {},
   "outputs": [],
   "source": []
  },
  {
   "cell_type": "markdown",
   "id": "a5564d65",
   "metadata": {},
   "source": [
    "# 6.\"deployment\""
   ]
  },
  {
   "cell_type": "code",
   "execution_count": null,
   "id": "ffffb091",
   "metadata": {},
   "outputs": [],
   "source": [
    "# z.b. streamlit,..."
   ]
  },
  {
   "cell_type": "code",
   "execution_count": null,
   "id": "34d396b5",
   "metadata": {},
   "outputs": [],
   "source": []
  }
 ],
 "metadata": {
  "kernelspec": {
   "display_name": "Python 3 (ipykernel)",
   "language": "python",
   "name": "python3"
  },
  "language_info": {
   "codemirror_mode": {
    "name": "ipython",
    "version": 3
   },
   "file_extension": ".py",
   "mimetype": "text/x-python",
   "name": "python",
   "nbconvert_exporter": "python",
   "pygments_lexer": "ipython3",
   "version": "3.10.9"
  }
 },
 "nbformat": 4,
 "nbformat_minor": 5
}
