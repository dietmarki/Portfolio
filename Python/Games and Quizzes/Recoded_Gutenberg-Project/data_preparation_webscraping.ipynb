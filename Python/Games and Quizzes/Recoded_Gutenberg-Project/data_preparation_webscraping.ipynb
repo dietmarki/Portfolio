{
 "cells": [
  {
   "cell_type": "code",
   "execution_count": 1,
   "id": "52fc97f7",
   "metadata": {},
   "outputs": [],
   "source": [
    "\n",
    "# bibliotheken importieren\n",
    "import streamlit as st\n",
    "import pandas as pd\n",
    "import requests\n",
    "from bs4 import BeautifulSoup\n",
    "# html code richtig zu encoden:\n",
    "from bs4.dammit import EncodingDetector \n"
   ]
  },
  {
   "cell_type": "code",
   "execution_count": 2,
   "id": "06e53ee7",
   "metadata": {},
   "outputs": [],
   "source": [
    "\n",
    "# hauptfunktion ruft die autoren auf,\n",
    "# weitere funktionen sind dann darin\n",
    "BASE_URL = \"https://www.projekt-gutenberg.org/\"\n"
   ]
  },
  {
   "cell_type": "code",
   "execution_count": 3,
   "id": "d04e6fab",
   "metadata": {},
   "outputs": [
    {
     "data": {
      "text/plain": [
       "<function streamlit.runtime.caching.cache_data_api.CacheDataAPI._decorator.<locals>.wrapper(f)>"
      ]
     },
     "execution_count": 3,
     "metadata": {},
     "output_type": "execute_result"
    }
   ],
   "source": [
    "\n",
    "# fehlermeldungen sollen unterdrückt werden:\n",
    "st.cache_data()\n"
   ]
  },
  {
   "cell_type": "code",
   "execution_count": 4,
   "id": "457cb3f1",
   "metadata": {},
   "outputs": [],
   "source": [
    "\n",
    "# liste an buchtitel und url scrapen\n",
    "def _find_books(books):\n",
    "    \n",
    "    tag = books.find(\"div\",{\"class\":\"archived\"})\n",
    "    if tag == None:\n",
    "        return []\n",
    "    \n",
    "    book_url = []\n",
    "    \n",
    "    for l in tag.find_all(\"li\"):\n",
    "        tag = l.find(\"a\",href=True)\n",
    "        book_title = tag.string\n",
    "        # tag um 6 zeichen kürzen (\"../../kant/naturg/naturg.html\"):\n",
    "        url = f\"{BASE_URL}/{tag['href'][6:]}\"\n",
    "        # url nur bis zum letzten \"/\", weil titel sonst doppelt!\n",
    "        # führt so zum inhaltsverzeichnis:\n",
    "        url = url[:url.rfind(\"/\")]\n",
    "        \n",
    "        book_url.append((book_title,url))\n",
    "\n",
    "    return book_url\n",
    "        "
   ]
  },
  {
   "cell_type": "code",
   "execution_count": 5,
   "id": "eff06c41",
   "metadata": {},
   "outputs": [],
   "source": [
    "\n",
    "# funktion zum abrufen der biographie:\n",
    "def _find_info_bio(author_site):\n",
    "    \n",
    "    try:\n",
    "        # find_all liefert ein \"resultset\" (=liste mit unterschiedlichen elementen,text,p,a,...)\n",
    "        s = author_site.find_all(\"p\")[1].text\n",
    "        return s\n",
    "\n",
    "    except:\n",
    "        return None\n"
   ]
  },
  {
   "cell_type": "code",
   "execution_count": 6,
   "id": "603d5ffb",
   "metadata": {},
   "outputs": [],
   "source": [
    "\n",
    "def _find_image_url(author_site):\n",
    "    \n",
    "    try:\n",
    "        return f\"{BASE_URL}autoren/{author_site.find('img',src=True,title=True)['src'][3:]}\"\n",
    "\n",
    "    except:\n",
    "        return None\n"
   ]
  },
  {
   "cell_type": "code",
   "execution_count": null,
   "metadata": {},
   "outputs": [],
   "source": [
    "\n",
    "# text der untertitel scrapen --> _find_text:\n",
    "def _find_text(books):\n",
    "    \n",
    "    text = \"\"\n",
    "    \n",
    "    for paragr in books.find_all(\"p\"):\n",
    "        if paragr.string:\n",
    "            text = text + paragr.text\n",
    "            \n",
    "    return text\n"
   ]
  },
  {
   "cell_type": "code",
   "execution_count": null,
   "metadata": {},
   "outputs": [],
   "source": [
    "\n",
    "def _correction(string):\n",
    "    \n",
    "    if len(string) < 4:\n",
    "        return None\n",
    "    else:\n",
    "        return string        \n"
   ]
  },
  {
   "cell_type": "code",
   "execution_count": 7,
   "id": "50b38cc9",
   "metadata": {},
   "outputs": [],
   "source": [
    "\n",
    "# liste an untertiteln scrapen (_scrape_book und _correction):\n",
    "def _scrape_book(url):\n",
    "    \n",
    "    res = requests.get(url)\n",
    "    book_site = BeautifulSoup(res.content,\"lxml\",from_encoding=EncodingDetector.find_declared_encoding(res.content,is_html=False))\n",
    "    \n",
    "    # unterkapitel über die \"li\" im html-quellcode:\n",
    "    subchapters = book_site.find_all(\"li\")\n",
    "\n",
    "    # in den link hineingehen, wo texte sich befinden:\n",
    "    subchapters_links = []\n",
    "    for sub in subchapters:\n",
    "        subchapters_links.append(url + sub.find(\"a\", href=True)['href'])\n",
    "    print(subchapters_links)\n",
    "    \n",
    "    # dataframe erstellen --> struktur für die einzelnen sätze:\n",
    "    df = pd.DataFrame(columns=[\"Satz\"])\n",
    "    \n",
    "    # progressbar erstellen (scraping-prozess-fortschritt anzeigen), startet bei 0:\n",
    "    progressbar = st.progress(0)\n",
    "    \n",
    "    for index,temp_url in enumerate(subchapters_links):\n",
    "        progressbar.progress((index + 1) / len(subchapters_links))\n",
    "        # neues zuweisen der aktuellen url:\n",
    "        res = requests.get(temp_url)\n",
    "        books = BeautifulSoup(res.content,\"lxml\",from_encoding=EncodingDetector.find_declared_encoding(res.content,is_html=False))\n",
    "        data = _find_text(books)\n",
    "        \n",
    "        #einzelne sätze:\n",
    "        for satz in data.split(\".\"):\n",
    "            # loc --> jede zeile einfügen (iloc--> jede spalte!)\n",
    "            df.loc[len(df)] = satz\n",
    "            \n",
    "    #progressbar schliessen:\n",
    "    progressbar.empty()\n",
    "    \n",
    "    # correction anwenden, nullwerte löschen:\n",
    "    df[\"Satz\"] = df[\"Satz\"].map(_correction).dropna()\n",
    "    \n",
    "    return df    \n"
   ]
  },
  {
   "cell_type": "code",
   "execution_count": 10,
   "id": "eb3f61bf",
   "metadata": {},
   "outputs": [],
   "source": [
    "\n",
    "# funktion autor scrapen:\n",
    "def scrape_author(author):\n",
    "    \n",
    "    # seite nach autor aufrufen:\n",
    "    url = f\"{BASE_URL}autoren/namen/{author.lower()}.html\"\n",
    "    print(f\"Scrape den Autor: {author.upper()}\\n Link: {url}\")\n",
    "    \n",
    "    # html-sript von einem autor:\n",
    "    res = requests.get(url)\n",
    "    \n",
    "    # fehler bei seite aufrufen --> abfangen:\n",
    "    if res.status_code != 200:\n",
    "        print(f\"Autor {author} wurde nicht gefunden!\")\n",
    "        return None\n",
    "    \n",
    "    try:\n",
    "        print(f\"Autor {author} wurde gefunden!\")\n",
    "        # html-script mit bs4 --> übersichtlicher (\"lxml\" = encoder) und bs4_encoder (\"from_encoding=\"):\n",
    "        author_site = BeautifulSoup(res.content,\"lxml\",from_encoding=EncodingDetector.find_declared_encoding(res.content,is_html=False))\n",
    "    \n",
    "    except:\n",
    "        print(\"Error während dem Decoden\")\n",
    "        return None\n",
    "    \n",
    "    # dict mit allen infos über autor, funktionen (privat: \"_..._\"):\n",
    "    infos = {\"data\"     : None,\n",
    "             \"books\"    : _find_books(author_site),\n",
    "             \"info_bio\" : _find_info_bio(author_site),\n",
    "             \"image_url\": _find_image_url(author_site)\n",
    "            }\n",
    "    \n",
    "    # dataframe von allem erstellen:\n",
    "    df_all = pd.DataFrame()\n",
    "    \n",
    "    for title,url in infos[\"books\"]:\n",
    "        # hervorheben mit markdown (variable --> [{..}], url --> ({..})):\n",
    "        st.markdown(f\"[{title}]({url})\")\n",
    "        print(f\"Scrape Buch: '{title}' [{url}]\")\n",
    "        \n",
    "        # aktuellen dataframe:\n",
    "        df_temp = _scrape_book(url)\n",
    "        \n",
    "        # aktuellen dataframe gesamt mit durchgehenden index:\n",
    "        df_all = pd.concat([df_all,df_temp],ignore_index=True)\n",
    "        \n",
    "    # autor-spalte erstellen:\n",
    "    df_all[\"Autor\"] = author.upper()\n",
    "    \n",
    "    # daten in das dict einfügen:\n",
    "    infos[data] = df_all\n",
    "    \n",
    "    print(f\"Gefundene Sätze: {df_all.shape}\")\n",
    "    \n",
    "    return infos\n"
   ]
  },
  {
   "cell_type": "code",
   "execution_count": null,
   "id": "39c76946",
   "metadata": {},
   "outputs": [],
   "source": []
  },
  {
   "cell_type": "code",
   "execution_count": null,
   "id": "a2bcfa00",
   "metadata": {},
   "outputs": [],
   "source": []
  },
  {
   "cell_type": "code",
   "execution_count": null,
   "id": "f4d0d039",
   "metadata": {},
   "outputs": [],
   "source": []
  },
  {
   "cell_type": "code",
   "execution_count": null,
   "id": "2dc2615e",
   "metadata": {},
   "outputs": [],
   "source": []
  },
  {
   "cell_type": "code",
   "execution_count": null,
   "id": "4d2def5b",
   "metadata": {},
   "outputs": [],
   "source": []
  },
  {
   "cell_type": "code",
   "execution_count": null,
   "id": "c80502dd",
   "metadata": {},
   "outputs": [],
   "source": []
  },
  {
   "cell_type": "code",
   "execution_count": null,
   "id": "ca2e2d26",
   "metadata": {},
   "outputs": [],
   "source": []
  }
 ],
 "metadata": {
  "kernelspec": {
   "display_name": "Python 3 (ipykernel)",
   "language": "python",
   "name": "python3"
  },
  "language_info": {
   "codemirror_mode": {
    "name": "ipython",
    "version": 3
   },
   "file_extension": ".py",
   "mimetype": "text/x-python",
   "name": "python",
   "nbconvert_exporter": "python",
   "pygments_lexer": "ipython3",
   "version": "3.10.9"
  }
 },
 "nbformat": 4,
 "nbformat_minor": 5
}
