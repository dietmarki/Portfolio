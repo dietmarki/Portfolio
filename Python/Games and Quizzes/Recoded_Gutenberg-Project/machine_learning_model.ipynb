{
 "cells": [
  {
   "cell_type": "code",
   "execution_count": 1,
   "id": "59db4ab1",
   "metadata": {},
   "outputs": [],
   "source": [
    "\n",
    "# bibliotheken importieren\n",
    "import streamlit as st\n",
    "import pandas as pd\n",
    "\n",
    "# vektorisierung des textes --> numerische werte\n",
    "from sklearn.feature_extraction.text import CountVectorizer\n",
    "from sklearn.model_selection import train_test_split\n",
    "# text_klassifzierung\n",
    "from sklearn.naive_bayes import MultinomialNB\n"
   ]
  },
  {
   "cell_type": "code",
   "execution_count": 3,
   "id": "3abcfe86",
   "metadata": {},
   "outputs": [],
   "source": [
    "\n",
    "# daten auswerten:\n",
    "def analyse(data):\n",
    "    \n",
    "    df = pd.DataFrame()\n",
    "    \n",
    "    for i in data.values():\n",
    "        df = pd.concat([df,i[\"data\"]],ignore_index=True)\n",
    "        \n",
    "    # nullwerte löschen:    \n",
    "    df = df.dropna()\n",
    "    \n",
    "    # modell initialisieren:\n",
    "    vect = CountVectorizer()\n",
    "    \n",
    "    # so wie die features: X\n",
    "    wordsCountArrray = vect.fit_transform(df[\"Satz\"])\n",
    "    \n",
    "    # df[\"Autor\"] so wie die labels: y\n",
    "    X_train, X_test, y_train, y_test = train_test_split(wordsCountArrray, df[\"Autor\"], test_size=0.2, random_state=0)\n",
    "    \n",
    "    # algorithmus initialisieren:\n",
    "    model = MultinomialNB()\n",
    "    \n",
    "    # modell trainieren:\n",
    "    model.fit(X_train,y_train)\n",
    "    \n",
    "    # verwendete autoren:\n",
    "    autoren = data.keys()\n",
    "    \n",
    "    s = f\"Modell trainiert für Autoren:\\n\\n\"\n",
    "    \n",
    "    for j in autoren:\n",
    "        s += f\"\\t{j}\\n\"\n",
    "        \n",
    "    # ausgabe sätze insgesamt:\n",
    "    s += f\"Mit {X_train.shape[0]} Sätzen.\\n\\n\"\n",
    "    # modellgenauigkeit:\n",
    "    s += f\"Modellgenauigkeit: {model.score(X_test,y_test) *100:.2f}%\"\n",
    "    \n",
    "    # langen string s in streamlit einbauen:\n",
    "    st.markdown(s)\n",
    "    \n",
    "    return model,vect\n"
   ]
  },
  {
   "cell_type": "code",
   "execution_count": null,
   "id": "ebbfc366",
   "metadata": {},
   "outputs": [],
   "source": []
  },
  {
   "cell_type": "code",
   "execution_count": null,
   "id": "96586b33",
   "metadata": {},
   "outputs": [],
   "source": []
  },
  {
   "cell_type": "code",
   "execution_count": null,
   "id": "59655b6d",
   "metadata": {},
   "outputs": [],
   "source": []
  },
  {
   "cell_type": "code",
   "execution_count": null,
   "id": "2bc840fb",
   "metadata": {},
   "outputs": [],
   "source": []
  },
  {
   "cell_type": "code",
   "execution_count": null,
   "id": "6de210f0",
   "metadata": {},
   "outputs": [],
   "source": []
  },
  {
   "cell_type": "code",
   "execution_count": null,
   "id": "7222caa1",
   "metadata": {},
   "outputs": [],
   "source": []
  },
  {
   "cell_type": "code",
   "execution_count": null,
   "id": "2b8059ac",
   "metadata": {},
   "outputs": [],
   "source": []
  },
  {
   "cell_type": "code",
   "execution_count": null,
   "id": "e92370b3",
   "metadata": {},
   "outputs": [],
   "source": []
  },
  {
   "cell_type": "code",
   "execution_count": null,
   "id": "a195ab4a",
   "metadata": {},
   "outputs": [],
   "source": []
  },
  {
   "cell_type": "code",
   "execution_count": null,
   "id": "51d9dcde",
   "metadata": {},
   "outputs": [],
   "source": []
  }
 ],
 "metadata": {
  "kernelspec": {
   "display_name": "Python 3 (ipykernel)",
   "language": "python",
   "name": "python3"
  },
  "language_info": {
   "codemirror_mode": {
    "name": "ipython",
    "version": 3
   },
   "file_extension": ".py",
   "mimetype": "text/x-python",
   "name": "python",
   "nbconvert_exporter": "python",
   "pygments_lexer": "ipython3",
   "version": "3.10.9"
  }
 },
 "nbformat": 4,
 "nbformat_minor": 5
}
