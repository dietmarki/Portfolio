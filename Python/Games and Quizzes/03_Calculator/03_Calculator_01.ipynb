{
 "cells": [
  {
   "cell_type": "code",
   "execution_count": 5,
   "id": "2f255d7d",
   "metadata": {},
   "outputs": [
    {
     "name": "stdout",
     "output_type": "stream",
     "text": [
      "Guten Tag!\n",
      "Ich bin der beste Taschenrechner!\n",
      "Ich kann +,-,*,/,// und % berechnen!\n",
      "\n",
      "Tippe eine Zahl ein...4\n",
      "Was willst du mit dieser Zahl tun? %\n",
      "Tippe eine zweite Zahl ein...3\n",
      "Das Ergebnis von Modulo von  4  %  3  lautet:  1\n",
      "Willst du weitermachen? (['y'/'n']Ja/Nein) n\n",
      "Das Rechnen wird beendet. Auf Wiedersehen!\n"
     ]
    }
   ],
   "source": [
    "# 1. rechenergebnisse als return ausgeben, z.b. 'return x + y'\n",
    "#    ----> nur so weiteres verschachteln von funktionen möglich!!!!\n",
    "\n",
    "\n",
    "def weitermachen():\n",
    "    weitermachen = input(\"Willst du weitermachen? (['y'/'n']Ja/Nein) \")\n",
    "    if weitermachen == \"y\":\n",
    "        return taschenrechner()\n",
    "    else:\n",
    "        print(\"Das Rechnen wird beendet. Auf Wiedersehen!\")\n",
    "        \n",
    "def begrüßen():\n",
    "    print(\"Guten Tag!\\nIch bin der beste Taschenrechner!\\nIch kann +,-,*,/,// und % berechnen!\\n\")\n",
    "\n",
    "def addition(x,y):\n",
    "    print(\"Das Ergebnis der Addition von \",x,\" + \",y,\" lautet: \",x + y)\n",
    "    return x + y\n",
    "\n",
    "def subtraktion(x,y):\n",
    "    print(\"Das Ergebnis der Subtraktion von \",x,\" - \",y,\" lautet: \",x - y)\n",
    "    return x - y\n",
    "\n",
    "def multiplikation(x,y):\n",
    "    print(\"Das Ergebnis der Multiplikation von \",x,\" * \",y,\" lautet: \",x * y)\n",
    "    return x * y\n",
    "\n",
    "def division(x,y):\n",
    "    print(\"Das Ergebnis der Division von \",x,\" / \",y,\" lautet: \",x / y)\n",
    "    return x / y\n",
    "\n",
    "def division_ganz(x,y):\n",
    "    print(\"Das Ergebnis der Division-Ganz von \",x,\" // \",y,\" lautet: \",x // y)\n",
    "    return x // y\n",
    "\n",
    "def modulo(x,y):\n",
    "    print(\"Das Ergebnis von Modulo von \",x,\" % \",y,\" lautet: \",x % y)\n",
    "    return x % y\n",
    "\n",
    "def taschenrechner():\n",
    "    \n",
    "    zahl01 = input(\"Tippe eine Zahl ein...\")\n",
    "    x = int(zahl01)\n",
    "    nutzer_operator = input(\"Was willst du mit dieser Zahl tun? \")\n",
    "    zahl02 = input(\"Tippe eine zweite Zahl ein...\")\n",
    "    y = int(zahl02)\n",
    "    \n",
    "    if nutzer_operator == \"+\":\n",
    "        addition(x,y)\n",
    "        weitermachen()\n",
    "\n",
    "    elif nutzer_operator == \"-\":\n",
    "        subtraktion(x,y)\n",
    "        weitermachen()\n",
    "            \n",
    "    elif nutzer_operator == \"*\":\n",
    "        multiplikation(x,y)\n",
    "        weitermachen()\n",
    "            \n",
    "    elif nutzer_operator == \"/\":\n",
    "        division(x,y)\n",
    "        weitermachen()\n",
    "\n",
    "    elif nutzer_operator == \"//\":\n",
    "        division_ganz(x,y)\n",
    "        weitermachen()\n",
    "            \n",
    "    elif nutzer_operator == \"%\":\n",
    "        modulo(x,y)\n",
    "        weitermachen()\n",
    "\n",
    "begrüßen()\n",
    "taschenrechner()\n"
   ]
  },
  {
   "cell_type": "code",
   "execution_count": null,
   "id": "e48168d4",
   "metadata": {},
   "outputs": [],
   "source": []
  },
  {
   "cell_type": "code",
   "execution_count": null,
   "id": "b7d2674a",
   "metadata": {},
   "outputs": [],
   "source": []
  },
  {
   "cell_type": "code",
   "execution_count": null,
   "id": "d200a8c0",
   "metadata": {},
   "outputs": [],
   "source": []
  },
  {
   "cell_type": "code",
   "execution_count": null,
   "id": "bd3302f9",
   "metadata": {},
   "outputs": [],
   "source": []
  },
  {
   "cell_type": "code",
   "execution_count": null,
   "id": "486d7ebc",
   "metadata": {},
   "outputs": [],
   "source": []
  },
  {
   "cell_type": "code",
   "execution_count": null,
   "id": "88301507",
   "metadata": {},
   "outputs": [],
   "source": []
  }
 ],
 "metadata": {
  "kernelspec": {
   "display_name": "Python 3 (ipykernel)",
   "language": "python",
   "name": "python3"
  },
  "language_info": {
   "codemirror_mode": {
    "name": "ipython",
    "version": 3
   },
   "file_extension": ".py",
   "mimetype": "text/x-python",
   "name": "python",
   "nbconvert_exporter": "python",
   "pygments_lexer": "ipython3",
   "version": "3.10.9"
  }
 },
 "nbformat": 4,
 "nbformat_minor": 5
}
