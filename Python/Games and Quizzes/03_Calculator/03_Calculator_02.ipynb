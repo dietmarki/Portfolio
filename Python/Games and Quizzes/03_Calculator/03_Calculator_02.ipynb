{
 "cells": [
  {
   "cell_type": "code",
   "execution_count": 1,
   "id": "2f255d7d",
   "metadata": {},
   "outputs": [
    {
     "name": "stdout",
     "output_type": "stream",
     "text": [
      "Guten Tag!\n",
      "Ich bin der beste Taschenrechner!\n",
      "Ich kann +,-,*,/,// und % berechnen!\n",
      "\n",
      "Tippe eine Zahl ein...5\n",
      "Was willst du mit dieser Zahl tun? %\n",
      "Tippe eine zweite Zahl ein...3\n",
      "Das Ergebnis von Modulo von  5  %  3  lautet:  2\n",
      "Willst du weitermachen? (['y'/'n']Ja/Nein) n\n"
     ]
    }
   ],
   "source": [
    "\n",
    "def weitermachen():\n",
    "    weitermachen = input(\"Willst du weitermachen? (['y'/'n']Ja/Nein) \")\n",
    "    if weitermachen == \"y\":\n",
    "        return taschenrechner()\n",
    "        \n",
    "begrüßen = lambda: print(\"Guten Tag!\\nIch bin der beste Taschenrechner!\\nIch kann +,-,*,/,// und % berechnen!\\n\")\n",
    "\n",
    "addition = lambda x,y: print(\"Das Ergebnis der Addition von \",x,\" + \",y,\" lautet: \",x + y)\n",
    "\n",
    "subtraktion = lambda x,y: print(\"Das Ergebnis der Subtraktion von \",x,\" - \",y,\" lautet: \",x - y)\n",
    "\n",
    "multiplikation = lambda x,y: print(\"Das Ergebnis der Multiplikation von \",x,\" * \",y,\" lautet: \",x * y)\n",
    "\n",
    "division = lambda x,y: print(\"Das Ergebnis der Division von \",x,\" / \",y,\" lautet: \",x / y)\n",
    "\n",
    "division_ganz = lambda x,y: print(\"Das Ergebnis der Division-Ganz von \",x,\" // \",y,\" lautet: \",x // y)\n",
    "\n",
    "modulo = lambda x,y: print(\"Das Ergebnis von Modulo von \",x,\" % \",y,\" lautet: \",x % y)\n",
    "\n",
    "def taschenrechner():\n",
    "    \n",
    "    zahl01 = input(\"Tippe eine Zahl ein...\")\n",
    "    x = int(zahl01)\n",
    "    nutzer_operator = input(\"Was willst du mit dieser Zahl tun? \")\n",
    "    zahl02 = input(\"Tippe eine zweite Zahl ein...\")\n",
    "    y = int(zahl02)\n",
    "    \n",
    "    if nutzer_operator == \"+\":\n",
    "        addition(x,y)\n",
    "        weitermachen()\n",
    "\n",
    "    elif nutzer_operator == \"-\":\n",
    "        subtraktion(x,y)\n",
    "        weitermachen()\n",
    "            \n",
    "    elif nutzer_operator == \"*\":\n",
    "        multiplikation(x,y)\n",
    "        weitermachen()\n",
    "            \n",
    "    elif nutzer_operator == \"/\":\n",
    "        division(x,y)\n",
    "        weitermachen()\n",
    "\n",
    "    elif nutzer_operator == \"//\":\n",
    "        division_ganz(x,y)\n",
    "        weitermachen()\n",
    "            \n",
    "    elif nutzer_operator == \"%\":\n",
    "        modulo(x,y)\n",
    "        weitermachen()\n",
    "\n",
    "begrüßen()\n",
    "taschenrechner()\n"
   ]
  },
  {
   "cell_type": "code",
   "execution_count": null,
   "id": "e48168d4",
   "metadata": {},
   "outputs": [],
   "source": []
  },
  {
   "cell_type": "code",
   "execution_count": null,
   "id": "b7d2674a",
   "metadata": {},
   "outputs": [],
   "source": []
  },
  {
   "cell_type": "code",
   "execution_count": null,
   "id": "d200a8c0",
   "metadata": {},
   "outputs": [],
   "source": []
  },
  {
   "cell_type": "code",
   "execution_count": null,
   "id": "bd3302f9",
   "metadata": {},
   "outputs": [],
   "source": []
  },
  {
   "cell_type": "code",
   "execution_count": null,
   "id": "486d7ebc",
   "metadata": {},
   "outputs": [],
   "source": []
  },
  {
   "cell_type": "code",
   "execution_count": null,
   "id": "88301507",
   "metadata": {},
   "outputs": [],
   "source": []
  }
 ],
 "metadata": {
  "kernelspec": {
   "display_name": "Python 3 (ipykernel)",
   "language": "python",
   "name": "python3"
  },
  "language_info": {
   "codemirror_mode": {
    "name": "ipython",
    "version": 3
   },
   "file_extension": ".py",
   "mimetype": "text/x-python",
   "name": "python",
   "nbconvert_exporter": "python",
   "pygments_lexer": "ipython3",
   "version": "3.10.9"
  }
 },
 "nbformat": 4,
 "nbformat_minor": 5
}
