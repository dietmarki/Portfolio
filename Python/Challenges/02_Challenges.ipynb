{
 "cells": [
  {
   "cell_type": "markdown",
   "id": "11c1f131",
   "metadata": {},
   "source": [
    "![image info](https://drive.google.com/uc?id=1AerT9299ijreLjEeIoGLv6SoT-SFC6-m)"
   ]
  },
  {
   "cell_type": "markdown",
   "id": "2f435de9",
   "metadata": {},
   "source": [
    "# Inhaltsverzeichnis \n",
    "\n",
    "- **Challenges**\n",
    "- **Challenge 1: Summe**\n",
    "- **Challenge 2: Paare**\n"
   ]
  },
  {
   "cell_type": "markdown",
   "id": "a0e29b86",
   "metadata": {},
   "source": [
    "# Challenges\n",
    "\n",
    "Einige knifflige Aufgaben zum Knobeln und ausprobieren! \n",
    "\n",
    "# Challenge 1: Summe\n",
    "\n",
    "Was ist die Summe aller Zahlen zwischen $0$ und $1000$, die durch 7 teilbar sind. Also <br><br>\n",
    "\\begin{align}\n",
    "7+14+21+28+...\n",
    "\\end{align}"
   ]
  },
  {
   "cell_type": "code",
   "execution_count": 1,
   "id": "27b23c1b",
   "metadata": {},
   "outputs": [
    {
     "name": "stdout",
     "output_type": "stream",
     "text": [
      "71071\n"
     ]
    }
   ],
   "source": [
    "summe = 0\n",
    "\n",
    "for a in range(1,1001,1):\n",
    "    \n",
    "    if a % 7 != 0:\n",
    "        continue\n",
    "    else:\n",
    "        summe += a\n",
    "        \n",
    "print(summe)\n",
    "    "
   ]
  },
  {
   "cell_type": "markdown",
   "id": "ef53acc2",
   "metadata": {},
   "source": [
    "\n",
    "# Challenge 2: Paare\n",
    "\n",
    "Lasse dir alle Paare $(i,j)$  ausgeben, für die gilt \n",
    "\\begin{align}\n",
    "1 \\leq i < j \\leq 10\n",
    "\\end{align}.\n",
    "\n",
    "D.h. \n",
    "\\begin{align}\n",
    "(1,2) \\\\\n",
    "(1,3) \\\\\n",
    "(1,4) \\\\\n",
    "... \\\\ \n",
    "(8,10) \\\\\n",
    "(9,10)\n",
    "\\end{align}"
   ]
  },
  {
   "cell_type": "code",
   "execution_count": 12,
   "id": "b5669786",
   "metadata": {},
   "outputs": [
    {
     "name": "stdout",
     "output_type": "stream",
     "text": [
      "(1, 2)\n",
      "(1, 3)\n",
      "(1, 4)\n",
      "(1, 5)\n",
      "(1, 6)\n",
      "(1, 7)\n",
      "(1, 8)\n",
      "(1, 9)\n",
      "(1, 10)\n",
      "(2, 3)\n",
      "(2, 4)\n",
      "(2, 5)\n",
      "(2, 6)\n",
      "(2, 7)\n",
      "(2, 8)\n",
      "(2, 9)\n",
      "(2, 10)\n",
      "(3, 4)\n",
      "(3, 5)\n",
      "(3, 6)\n",
      "(3, 7)\n",
      "(3, 8)\n",
      "(3, 9)\n",
      "(3, 10)\n",
      "(4, 5)\n",
      "(4, 6)\n",
      "(4, 7)\n",
      "(4, 8)\n",
      "(4, 9)\n",
      "(4, 10)\n",
      "(5, 6)\n",
      "(5, 7)\n",
      "(5, 8)\n",
      "(5, 9)\n",
      "(5, 10)\n",
      "(6, 7)\n",
      "(6, 8)\n",
      "(6, 9)\n",
      "(6, 10)\n",
      "(7, 8)\n",
      "(7, 9)\n",
      "(7, 10)\n",
      "(8, 9)\n",
      "(8, 10)\n",
      "(9, 10)\n"
     ]
    }
   ],
   "source": [
    "\n",
    "for x in range(1,11):\n",
    "    \n",
    "    for y in range(2,11):\n",
    "        \n",
    "        if x < y:\n",
    "            tuple = (x,y)\n",
    "        else:\n",
    "            continue\n",
    "    \n",
    "        print(tuple)   "
   ]
  },
  {
   "cell_type": "code",
   "execution_count": null,
   "id": "e52556a7",
   "metadata": {},
   "outputs": [],
   "source": []
  },
  {
   "cell_type": "code",
   "execution_count": null,
   "id": "938665aa",
   "metadata": {},
   "outputs": [],
   "source": []
  },
  {
   "cell_type": "code",
   "execution_count": null,
   "id": "eb543272",
   "metadata": {},
   "outputs": [],
   "source": []
  },
  {
   "cell_type": "code",
   "execution_count": null,
   "id": "c3bc2ca3",
   "metadata": {},
   "outputs": [],
   "source": []
  }
 ],
 "metadata": {
  "kernelspec": {
   "display_name": "Python 3 (ipykernel)",
   "language": "python",
   "name": "python3"
  },
  "language_info": {
   "codemirror_mode": {
    "name": "ipython",
    "version": 3
   },
   "file_extension": ".py",
   "mimetype": "text/x-python",
   "name": "python",
   "nbconvert_exporter": "python",
   "pygments_lexer": "ipython3",
   "version": "3.10.9"
  }
 },
 "nbformat": 4,
 "nbformat_minor": 5
}
