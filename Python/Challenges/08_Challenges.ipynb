{
 "cells": [
  {
   "cell_type": "markdown",
   "id": "5f0eab61",
   "metadata": {},
   "source": [
    "# Inhaltsverzeichnis \n",
    "\n",
    "- **Challenges**\n",
    "    - **Challenge 1:  Substrings**\n",
    "    - **Challenge 2: String umwandeln**\n"
   ]
  },
  {
   "cell_type": "markdown",
   "id": "7369bf59",
   "metadata": {},
   "source": [
    "# Challenges\n",
    "\n",
    "Einige knifflige Aufgaben zum Knobeln und ausprobieren! \n",
    "___\n",
    "\n",
    "## Challenge 1:  Substrings\n",
    "\n",
    "Schreibe eine Funktion, die für einen String $s$ den längsten Teilstring findet, der _mindestens_ 2-mal vorkommt.\n",
    "\n",
    "**Beispiele:**\n",
    "\n",
    "\\begin{align}\n",
    "    f(\\text{\"abcabc\"}) &\\Longrightarrow \\text{\"abc\"} \\\\\n",
    "    f(\\text{\"abcdabcdawdaabc\"}) &\\Longrightarrow \\text{\"abcd\"} \\\\\n",
    "\\end{align}"
   ]
  },
  {
   "cell_type": "code",
   "execution_count": 2,
   "id": "7e6c503e",
   "metadata": {},
   "outputs": [
    {
     "data": {
      "text/plain": [
       "'abcd'"
      ]
     },
     "execution_count": 2,
     "metadata": {},
     "output_type": "execute_result"
    }
   ],
   "source": [
    "def teil_string(string01):\n",
    "    \n",
    "    t_string = \"\"\n",
    "    \n",
    "    for t_s in range(len(string01)):\n",
    "        \n",
    "        t_string += string01[t_s]\n",
    "        \n",
    "        if t_string in string01[(len(t_string)) + 1:]:\n",
    "            continue\n",
    "            \n",
    "        return t_string\n",
    "        \n",
    "teil_string(\"abcdabcdawdaabc\")"
   ]
  },
  {
   "cell_type": "markdown",
   "id": "15b69bdb",
   "metadata": {},
   "source": [
    "## Challenge 2: String umwandeln\n",
    "\n",
    "- Schreibe eine Funktion, welche einen String umwandelt und die Anzahl der Buchstaben angibt.\n",
    "\n",
    "**Beispiele:**\n",
    "\n",
    "\\begin{align}\n",
    "f(\\text{\"A\"}) &\\Longrightarrow  \\text{\"1A\"} \\\\\n",
    "f(\\text{\"ABA\"}) &\\Longrightarrow \\text{\"1A1B1A\"} \\\\\n",
    "f(\\text{\"AAAABBCD\"}) &\\Longrightarrow \\text{\"4A2B1C1D\"} \\\\\n",
    "f(\\text{\"DDAAC\"}) &\\Longrightarrow \\text{\"2D2A1C\"} \\\\\n",
    "f(\\text{\"AABBA\"}) &\\Longrightarrow \\text{\"2A2B1A\"} \\\\\n",
    "\\end{align}"
   ]
  },
  {
   "cell_type": "code",
   "execution_count": 1,
   "id": "cfe4ff1e",
   "metadata": {},
   "outputs": [],
   "source": [
    "def anz_buch(string_03):\n",
    "    \n",
    "    liste = []\n",
    "    string_anz_buch = \"\"\n",
    "    anzahl = 1\n",
    "    \n",
    "    for b in range(1,len(string_03)):\n",
    "\n",
    "        print(liste,\"for-beginn\",string_03[b])\n",
    "        \n",
    "        if string_03[b] == string_03[b - 1]:\n",
    "            anzahl += 1\n",
    "            print(anzahl,\"if\",string_03[b])\n",
    "            string_anz_buch += (str(anzahl) + string_03[b - 1])\n",
    "            \n",
    "            # 1. anz./str. dürfen nicht schon in liste; anz1/buch oder als letztes --> liste;\n",
    "            if string_03[b] != string_03[b + 1]:\n",
    "                liste.append(str(anzahl))\n",
    "                liste.append(string_03[b])\n",
    "                anzahl = 1\n",
    "                string_anz_buch = \"\"\n",
    "                print(liste,\"if_2\",string_03[b])\n",
    "                continue\n",
    "        \n",
    "        for i in liste:\n",
    "            string_anz_buch += i\n",
    "            #print(string_anz_buch,\"else\",string_03[b])\n",
    "            \n",
    "        string_anz_buch += (str(anzahl) + string_03[b])\n",
    "        print(string_anz_buch,\"else\",string_03[b])\n",
    "            \n",
    "    return string_anz_buch\n",
    "\n",
    "#anz_buch(\"A\")\n",
    "#anz_buch(\"ABA\")\n",
    "#anz_buch(\"DDAAC\")\n",
    "#anz_buch(\"AABBA\") \n",
    "#anz_buch(\"AAAABBCD\")"
   ]
  },
  {
   "cell_type": "code",
   "execution_count": 43,
   "id": "a3b5a72d",
   "metadata": {},
   "outputs": [
    {
     "data": {
      "text/plain": [
       "'1A'"
      ]
     },
     "execution_count": 43,
     "metadata": {},
     "output_type": "execute_result"
    }
   ],
   "source": [
    "\n",
    "def str_um(text):\n",
    "    new_string = \"\"\n",
    "    if len(text) == 1:\n",
    "        return str(1) + text\n",
    "    index = 0\n",
    "    while index < len(text)-1:\n",
    "        counter = 1\n",
    "        next_idx = index + 1         \n",
    "        while text[index] == text[next_idx]:\n",
    "            counter += 1\n",
    "            next_idx += 1\n",
    "        new_string += str(counter) + text[index]\n",
    "        index += counter\n",
    "    if text[-1] != text[-2]:\n",
    "        new_string += str(1) + text[-1]\n",
    "    return new_string\n",
    "            \n",
    "str_um(\"A\")\n",
    "#str_um(\"ABA\")\n",
    "#str_um(\"DDAAC\")\n",
    "#str_um(\"AABBA\") \n",
    "#str_um(\"AAAABBCD\")\n"
   ]
  },
  {
   "cell_type": "code",
   "execution_count": null,
   "id": "59ddc34e",
   "metadata": {},
   "outputs": [],
   "source": []
  },
  {
   "cell_type": "code",
   "execution_count": null,
   "id": "4c900156",
   "metadata": {},
   "outputs": [],
   "source": []
  },
  {
   "cell_type": "code",
   "execution_count": null,
   "id": "9b7b58c0",
   "metadata": {},
   "outputs": [],
   "source": []
  },
  {
   "cell_type": "code",
   "execution_count": null,
   "id": "aba9d5f9",
   "metadata": {},
   "outputs": [],
   "source": []
  },
  {
   "cell_type": "code",
   "execution_count": null,
   "id": "275c7241",
   "metadata": {},
   "outputs": [],
   "source": []
  }
 ],
 "metadata": {
  "kernelspec": {
   "display_name": "Python 3 (ipykernel)",
   "language": "python",
   "name": "python3"
  },
  "language_info": {
   "codemirror_mode": {
    "name": "ipython",
    "version": 3
   },
   "file_extension": ".py",
   "mimetype": "text/x-python",
   "name": "python",
   "nbconvert_exporter": "python",
   "pygments_lexer": "ipython3",
   "version": "3.10.9"
  }
 },
 "nbformat": 4,
 "nbformat_minor": 5
}
