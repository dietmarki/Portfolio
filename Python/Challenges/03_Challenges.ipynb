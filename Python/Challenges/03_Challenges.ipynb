{
 "cells": [
  {
   "cell_type": "markdown",
   "id": "e7cc9951",
   "metadata": {},
   "source": [
    "# Inhaltsverzeichnis \n",
    "\n",
    "- **Challenges**\n",
    "    - **Challenge 1: Narzisstische Zahl**\n",
    "    - **Challenge 2: Palindrom**\n"
   ]
  },
  {
   "cell_type": "markdown",
   "id": "8590dee4",
   "metadata": {},
   "source": [
    "# Challenges\n",
    "\n",
    "Einige knifflige Aufgaben zum Knobeln und ausprobieren! \n",
    "\n",
    "## Challenge 1: Narzisstische Zahl\n",
    "\n",
    "Eine **3-stellige narzisstische Zahl** ist eine Zahl, deren Ziffern mit 3 potenziert wieder die Zahl ergeben.\n",
    "Ein Beispiel ist:\n",
    "\n",
    "\\begin{align}\n",
    "153 &= 1^3 + 5^3 + 3^3 \\\\\n",
    "    &= 1+125+27 \\\\\n",
    "    &= 153\n",
    "\\end{align}\n",
    "\n",
    "Wie viele **3-stellige narzisstische Zahlen** gibt es?"
   ]
  },
  {
   "cell_type": "markdown",
   "id": "4fec324b",
   "metadata": {},
   "source": [
    "## Challenge 2: Palindrom\n",
    "\n",
    "Wie viele Zahlen zwischen $100$ und $10000$ lesen sich vorwärts wie rückwärts gleich?"
   ]
  },
  {
   "cell_type": "code",
   "execution_count": 5,
   "id": "34e0d7e2",
   "metadata": {},
   "outputs": [
    {
     "name": "stdout",
     "output_type": "stream",
     "text": [
      "153\n",
      "370\n",
      "371\n",
      "407\n"
     ]
    }
   ],
   "source": [
    "\n",
    "for n in range(100,1000):\n",
    "    \n",
    "    a = n // 100\n",
    "    b = n // 10 % 10\n",
    "    c = n % 10\n",
    "    \n",
    "    if n == a**3 + b**3 + c**3:\n",
    "        print(n)\n"
   ]
  },
  {
   "cell_type": "code",
   "execution_count": 12,
   "id": "e813ed4e",
   "metadata": {},
   "outputs": [
    {
     "name": "stdout",
     "output_type": "stream",
     "text": [
      "180 Zahlen zwischen 100 und 10000 lesen sich vorwärts wie rückwärts gleich.\n"
     ]
    }
   ],
   "source": [
    "anzahl = 0\n",
    "\n",
    "for zahl in range(100,10001):\n",
    "    \n",
    "    if str(zahl)[::-1] == str(zahl):\n",
    "        anzahl += 1\n",
    "        \n",
    "print(anzahl, \"Zahlen zwischen 100 und 10000 lesen sich vorwärts wie rückwärts gleich.\")\n"
   ]
  },
  {
   "cell_type": "code",
   "execution_count": null,
   "id": "469e3e5b",
   "metadata": {},
   "outputs": [],
   "source": []
  }
 ],
 "metadata": {
  "kernelspec": {
   "display_name": "Python 3 (ipykernel)",
   "language": "python",
   "name": "python3"
  },
  "language_info": {
   "codemirror_mode": {
    "name": "ipython",
    "version": 3
   },
   "file_extension": ".py",
   "mimetype": "text/x-python",
   "name": "python",
   "nbconvert_exporter": "python",
   "pygments_lexer": "ipython3",
   "version": "3.10.9"
  }
 },
 "nbformat": 4,
 "nbformat_minor": 5
}
