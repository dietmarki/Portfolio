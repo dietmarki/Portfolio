{
 "cells": [
  {
   "cell_type": "markdown",
   "id": "ec676a86",
   "metadata": {},
   "source": [
    "# Inhaltsverzeichnis \n",
    "\n",
    "- **Challenges**\n",
    "    - **Challenge 1: Liste abflachen**\n",
    "        - **Beispiele:**\n"
   ]
  },
  {
   "cell_type": "markdown",
   "id": "42b35768",
   "metadata": {},
   "source": [
    "# Challenges\n",
    "\n",
    "Einige knifflige Aufgaben zum Knobeln und ausprobieren! \n",
    "\n",
    "## Challenge 1: Liste abflachen\n",
    "\n",
    "Schreibe eine Funktion, die eine beliebige Liste von Listen übergeben bekommt, und als Ergebnis die abgeflachte Liste zurückgibt. Die Liste kann beliebig tief verschachtelt sein.\n",
    "\n",
    "### Beispiele:\n",
    "\n",
    "\\begin{align}\n",
    "f(\\text{[1,2,[1,2,[1,2,3]]])} &\\Longrightarrow [1, 2, 1, 2, 1, 2, 3] \\\\\n",
    "f([1,[1,2]]) &\\Longrightarrow [1,1,2] \\\\\n",
    "f([[[1,2]]]) &\\Longrightarrow [1,2] \\\\\n",
    "\\end{align}\n",
    "\n",
    "\n",
    "> <span style=\"color:blue\"> **_INFO:_** </span> Die Aufgabe lässt sich elegant mit Rekursion lösen."
   ]
  },
  {
   "cell_type": "code",
   "execution_count": 14,
   "id": "f8ee1014",
   "metadata": {},
   "outputs": [
    {
     "data": {
      "text/plain": [
       "[1, 1, 2]"
      ]
     },
     "execution_count": 14,
     "metadata": {},
     "output_type": "execute_result"
    }
   ],
   "source": [
    "\n",
    "liste_flach = []\n",
    "\n",
    "def abflachen(liste01):\n",
    "    \n",
    "    for i in range(len(liste01)):\n",
    "        if type(liste01[i]) == int:\n",
    "            liste_flach.append(liste01[i])\n",
    "        else:\n",
    "            abflachen(liste01[i])\n",
    "            \n",
    "        \n",
    "    return liste_flach\n",
    "                    \n",
    "abflachen([1,[1,2]])                \n",
    "        "
   ]
  },
  {
   "cell_type": "code",
   "execution_count": null,
   "id": "b55e332c",
   "metadata": {},
   "outputs": [],
   "source": []
  }
 ],
 "metadata": {
  "kernelspec": {
   "display_name": "Python 3 (ipykernel)",
   "language": "python",
   "name": "python3"
  },
  "language_info": {
   "codemirror_mode": {
    "name": "ipython",
    "version": 3
   },
   "file_extension": ".py",
   "mimetype": "text/x-python",
   "name": "python",
   "nbconvert_exporter": "python",
   "pygments_lexer": "ipython3",
   "version": "3.10.9"
  }
 },
 "nbformat": 4,
 "nbformat_minor": 5
}
