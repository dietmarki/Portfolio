{
 "cells": [
  {
   "cell_type": "markdown",
   "id": "00699ae9",
   "metadata": {},
   "source": [
    "# Inhaltsverzeichnis \n",
    "\n",
    "- **Challenges**\n",
    "    - **Challenge 1:  Potenzmenge**\n"
   ]
  },
  {
   "cell_type": "markdown",
   "id": "09c32c0f",
   "metadata": {},
   "source": [
    "# Challenges\n",
    "\n",
    "Einige knifflige Aufgaben zum Knobeln und ausprobieren! \n",
    "\n",
    "## Challenge 1:  Potenzmenge\n",
    "\n",
    "- Schreibe eine Funktion die aus einer Liste alle möglichen Teillisten erzeugt. Die leere Liste soll **immer** eine Teilliste sein! Zurückgegeben werden soll also eine Liste von Listen. Mathematisch wollen wir von einer Menge die  [Potenzmenge](https://de.wikipedia.org/wiki/Potenzmenge) bestimmen.\n",
    "\n",
    "**Beispiel**:\n",
    "\n",
    "\\begin{align}\n",
    "f([\\text{\"A\"}]) &\\Longrightarrow [[\\text{\"A\"}],[]] \\\\\n",
    "f([\\text{\"A\",\"B\"}] &\\Longrightarrow [[\\text{\"A\"}],[\\text{\"B\"}],[\\text{\"A\",\"B\"}],[]]\n",
    "\\end{align}\n",
    "\n",
    "**Möglichkeit eines Testes:** \n",
    "\n",
    "> Wenn die übergebene Liste $n$ Elemente hat, muss die neue Liste $2^n$ Elemente haben."
   ]
  },
  {
   "cell_type": "code",
   "execution_count": 16,
   "id": "8c01134e",
   "metadata": {},
   "outputs": [
    {
     "name": "stdout",
     "output_type": "stream",
     "text": [
      "liste initialisieren:  []\n",
      "liste initialisieren:  []\n",
      "if not..: \n",
      "liste auffüllen mit i:  []\n",
      "liste auffüllen mit i + [liste[0]]:  ['B']\n",
      "liste auffüllen mit i:  []\n",
      "liste auffüllen mit i + [liste[0]]:  ['A']\n",
      "liste auffüllen mit i:  ['B']\n",
      "liste auffüllen mit i + [liste[0]]:  ['A', 'B']\n"
     ]
    },
    {
     "data": {
      "text/plain": [
       "[[], ['A'], ['B'], ['A', 'B']]"
      ]
     },
     "execution_count": 16,
     "metadata": {},
     "output_type": "execute_result"
    }
   ],
   "source": [
    "def teil_listen(liste):\n",
    "    \n",
    "    if not liste:\n",
    "        print(\"if not..: \")\n",
    "        return [[]]\n",
    "    \n",
    "    teile_liste = []\n",
    "    print(\"liste initialisieren: \",teile_liste)\n",
    "    for i in teil_listen(liste[1:]):\n",
    "        teile_liste.append(i)\n",
    "        print(\"liste auffüllen mit i: \", i)\n",
    "        teile_liste.append([liste[0]] + i)\n",
    "        print(\"liste auffüllen mit i + [liste[0]]: \",[liste[0]] + i)    \n",
    "\n",
    "    return teile_liste\n",
    "\n",
    "teil_listen([\"A\",\"B\"])"
   ]
  },
  {
   "cell_type": "code",
   "execution_count": 7,
   "id": "1c33705f",
   "metadata": {},
   "outputs": [
    {
     "data": {
      "text/plain": [
       "[[], ['C'], ['B'], ['B', 'C'], ['A'], ['A', 'C'], ['A', 'B'], ['A', 'B', 'C']]"
      ]
     },
     "execution_count": 7,
     "metadata": {},
     "output_type": "execute_result"
    }
   ],
   "source": [
    "\n",
    "def potenzmenge(liste):\n",
    "    if not liste:\n",
    "        return [[]]                                 # beendet rekursiv-funktions-aufruf!\n",
    "    else:\n",
    "        p = potenzmenge(liste[1:])                  # rekursiv funktion aufrufen!\n",
    "        return p + [[liste[0]] + i for i in p]\n",
    "\n",
    "potenzmenge([\"A\",\"B\",\"C\"])\n"
   ]
  },
  {
   "cell_type": "code",
   "execution_count": null,
   "id": "6c0c1e2d",
   "metadata": {},
   "outputs": [],
   "source": []
  },
  {
   "cell_type": "code",
   "execution_count": null,
   "id": "34538866",
   "metadata": {},
   "outputs": [],
   "source": []
  },
  {
   "cell_type": "code",
   "execution_count": null,
   "id": "d0889953",
   "metadata": {},
   "outputs": [],
   "source": []
  },
  {
   "cell_type": "code",
   "execution_count": null,
   "id": "f7f71a60",
   "metadata": {},
   "outputs": [],
   "source": []
  },
  {
   "cell_type": "code",
   "execution_count": null,
   "id": "5f127efb",
   "metadata": {},
   "outputs": [],
   "source": []
  },
  {
   "cell_type": "code",
   "execution_count": null,
   "id": "20ae1e42",
   "metadata": {},
   "outputs": [],
   "source": []
  }
 ],
 "metadata": {
  "kernelspec": {
   "display_name": "Python 3 (ipykernel)",
   "language": "python",
   "name": "python3"
  },
  "language_info": {
   "codemirror_mode": {
    "name": "ipython",
    "version": 3
   },
   "file_extension": ".py",
   "mimetype": "text/x-python",
   "name": "python",
   "nbconvert_exporter": "python",
   "pygments_lexer": "ipython3",
   "version": "3.10.9"
  }
 },
 "nbformat": 4,
 "nbformat_minor": 5
}
